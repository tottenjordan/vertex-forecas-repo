{
 "cells": [
  {
   "cell_type": "markdown",
   "id": "ac4c9484-4eab-4b02-b0b9-4ca8cb3a8306",
   "metadata": {},
   "source": [
    "# Vertex Forecast - probabilistic inference with Quantiles"
   ]
  },
  {
   "cell_type": "code",
   "execution_count": 2,
   "id": "1c49dfd9-2926-4be2-ac62-caa0e06af145",
   "metadata": {},
   "outputs": [
    {
     "name": "stdout",
     "output_type": "stream",
     "text": [
      "PROJECT_ID: hybrid-vertex\n",
      "PROJECT_NUM: 934903580331\n",
      "LOCATION: us-central1\n"
     ]
    }
   ],
   "source": [
    "import os\n",
    "\n",
    "GCP_PROJECTS = !gcloud config get-value project\n",
    "PROJECT_ID = GCP_PROJECTS[0]\n",
    "PROJECT_NUM = !gcloud projects list --filter=\"$PROJECT_ID\" --format=\"value(PROJECT_NUMBER)\"\n",
    "PROJECT_NUM = PROJECT_NUM[0]\n",
    "LOCATION = 'us-central1'\n",
    "BQ_LOCATION='US'\n",
    "\n",
    "# TODO: Service Account address\n",
    "VERTEX_SA = '934903580331-compute@developer.gserviceaccount.com' \n",
    "\n",
    "print(f\"PROJECT_ID: {PROJECT_ID}\")\n",
    "print(f\"PROJECT_NUM: {PROJECT_NUM}\")\n",
    "print(f\"LOCATION: {LOCATION}\")"
   ]
  },
  {
   "cell_type": "code",
   "execution_count": 3,
   "id": "d9aec80d-bc23-410a-a618-df14d9bfdda2",
   "metadata": {},
   "outputs": [],
   "source": [
    "import google.cloud.aiplatform as vertex_ai\n",
    "from google.cloud import bigquery\n",
    "from google.cloud import storage\n",
    "\n",
    "import matplotlib.pyplot as plt\n",
    "import pandas as pd\n",
    "from datetime import datetime, timedelta"
   ]
  },
  {
   "cell_type": "markdown",
   "id": "833d2088-c740-4cc4-b2d8-965d1fef36a6",
   "metadata": {},
   "source": [
    "### Setup - init SDK clients and define vars"
   ]
  },
  {
   "cell_type": "code",
   "execution_count": 4,
   "id": "1c1f3704-dbcd-4a1f-81e0-489e56c38d6d",
   "metadata": {},
   "outputs": [],
   "source": [
    "bq_client = bigquery.Client(\n",
    "    project=PROJECT_ID, \n",
    "    location=BQ_LOCATION\n",
    ")\n",
    "\n",
    "storage_client = storage.Client(project=PROJECT_ID)\n",
    "\n",
    "vertex_ai.init(\n",
    "    project=PROJECT_ID,\n",
    "    location=LOCATION\n",
    ")"
   ]
  },
  {
   "cell_type": "code",
   "execution_count": 5,
   "id": "a474d545-caab-41df-85bc-2eb974ea65e1",
   "metadata": {},
   "outputs": [
    {
     "name": "stdout",
     "output_type": "stream",
     "text": [
      "EXPERIMENT_NAME: m5_nb5_v1\n"
     ]
    }
   ],
   "source": [
    "# previously defined\n",
    "BQ_DATASET=\"m5_us\"\n",
    "BQ_TABLE=\"sdk_train\"\n",
    "BQ_TABLE_PLAN=\"sdk_plan\"\n",
    "\n",
    "# new vars\n",
    "EXPERIMENT_tag=\"nb5\"\n",
    "VERSION='v1'\n",
    "\n",
    "EXPERIMENT_NAME = f\"m5_{EXPERIMENT_tag}_{VERSION}\"\n",
    "print(f'EXPERIMENT_NAME: {EXPERIMENT_NAME}')"
   ]
  },
  {
   "cell_type": "markdown",
   "id": "58892d57-9eb8-401f-a5f4-ad68f8fe0054",
   "metadata": {},
   "source": [
    "### get dataset"
   ]
  },
  {
   "cell_type": "code",
   "execution_count": 6,
   "id": "d1d7d4a0-ee17-4451-8ca7-cf060fe7d5cf",
   "metadata": {},
   "outputs": [],
   "source": [
    "dataset = vertex_ai.TimeSeriesDataset('projects/934903580331/locations/us-central1/datasets/462153324456574976')"
   ]
  },
  {
   "cell_type": "code",
   "execution_count": 7,
   "id": "716ef3cf-f783-478b-83a4-da8263685273",
   "metadata": {},
   "outputs": [],
   "source": [
    "# dataset.column_names"
   ]
  },
  {
   "cell_type": "markdown",
   "id": "304936a7-ff9a-4e57-8e4a-f00170f7b0f1",
   "metadata": {},
   "source": [
    "### define column specs"
   ]
  },
  {
   "cell_type": "code",
   "execution_count": 8,
   "id": "3056341e-8e86-4f2d-af89-b344d92c5272",
   "metadata": {},
   "outputs": [],
   "source": [
    "import pickle as pkl\n",
    "from pprint import pprint\n",
    "\n",
    "LOCAL_COL_FILE = 'column_specs.pkl'\n",
    "\n",
    "filehandler = open(LOCAL_COL_FILE, 'rb')\n",
    "COL_DICT_TEST = pkl.load(filehandler)\n",
    "filehandler.close()\n",
    "\n",
    "COL_TRANSFORMS = COL_DICT_TEST['column_specs']\n",
    "UNAVAILABLE_AT_FORECAST_COLS = COL_DICT_TEST['unavailable_at_forecast_columns']\n",
    "AVAILABLE_AT_FORECAST_COLS = COL_DICT_TEST['available_at_forecast_columns']\n",
    "SERIES_COLUMN = COL_DICT_TEST['time_series_identifier_column']\n",
    "TIME_COLUMN = COL_DICT_TEST['time_column']\n",
    "TARGET_COLUMN = COL_DICT_TEST['target_column']\n",
    "PREDEFINED_SPLIT_COL = COL_DICT_TEST['predefined_split_column_name']"
   ]
  },
  {
   "cell_type": "markdown",
   "id": "b5afb0e0-6e92-435e-896b-33f678929f56",
   "metadata": {},
   "source": [
    "## Model config"
   ]
  },
  {
   "cell_type": "markdown",
   "id": "3a84e25c-0fc1-41fc-a2e4-788f76d63587",
   "metadata": {},
   "source": [
    "Vertex Forecast now supports Probabilistic Inference, enabling users to simultaneously optimize an objective and provide quantiles (not supported by `minimize-quantile-loss` objective). The advantages of learning a predictive distribution also may yield improved performance for optimization objectives. It improves over `minimize-quantile-loss` (i.e. Pinball loss) through fidelity of fine grained quantiles with ordering guarantee, and combines predictions from ensemble members using mixtures to improve calibration."
   ]
  },
  {
   "cell_type": "code",
   "execution_count": 9,
   "id": "1bd38dc6-fa82-4b8f-9711-4eae33570162",
   "metadata": {},
   "outputs": [
    {
     "name": "stdout",
     "output_type": "stream",
     "text": [
      "EXPERIMENT_NAME: m5_nb5_v1\n",
      "VERSION: v1\n",
      "OPTIMIZATION_OBJECTIVE: ('minimize-rmse',)\n",
      "TARGET_COLUMN: gross_quantity\n",
      "TIME_COLUMN: date\n",
      "SERIES_COLUMN: timeseries_id\n",
      "AVAILABLE_AT_FORECAST_COLS: ['event_name_1', 'year', 'event_type_1', 'month', 'dept_id', 'event_type_2', 'wday', 'state_id', 'snap_WI', 'snap_CA', 'snap_TX', 'product_id', 'date', 'event_name_2', 'location_id', 'weekday', 'cat_id']\n",
      "PREDEFINED_SPLIT_COL: splits\n",
      "FORECAST_HORIZON: 14\n",
      "FORECAST_GRANULARITY: day\n",
      "CONTEXT_WINDOW: 14\n",
      "TARGET_COLUMN: gross_quantity\n",
      "QUANTILES: [0.1, 0.3, 0.5, 0.7, 0.9]\n",
      "ENABLE_PROBABILISTIC_INFER: enable_probabilistic_inference\n",
      "BQ_EVAL_DESTINATION: bq://hybrid-vertex:m5_us:sdk_train_automl_qs\n"
     ]
    }
   ],
   "source": [
    "# forecast spec\n",
    "FORECAST_GRANULARITY = 'DAY'\n",
    "DATA_GRANULARITY_COUNT=1\n",
    "FORECAST_HORIZON = 14\n",
    "CONTEXT_WINDOW = 14\n",
    "forecast_test_length = 14\n",
    "forecast_val_length = 14\n",
    "\n",
    "# model config\n",
    "# OPTIMIZATION_OBJECTIVE='minimize-quantile-loss'\n",
    "OPTIMIZATION_OBJECTIVE ='minimize-rmse',\n",
    "QUANTILES = [0.1, 0.3, 0.5, 0.7, 0.9]\n",
    "ENABLE_PROBABILISTIC_INFER=\"enable_probabilistic_inference\"\n",
    "\n",
    "# job spec\n",
    "MILLI_NODE_HRS=1000\n",
    "HOLIDAY_REGIONS=['GLOBAL', 'NA', 'US']\n",
    "\n",
    "# export eval set BQ destination\n",
    "BQ_EVAL_DESTINATION = f\"bq://{PROJECT_ID}:{BQ_DATASET}:{BQ_TABLE}_automl_qs\"\n",
    "\n",
    "print(f\"EXPERIMENT_NAME: {EXPERIMENT_NAME}\")\n",
    "print(f\"VERSION: {VERSION}\")\n",
    "print(f\"OPTIMIZATION_OBJECTIVE: {OPTIMIZATION_OBJECTIVE}\")\n",
    "print(f\"TARGET_COLUMN: {TARGET_COLUMN}\")\n",
    "print(f\"TIME_COLUMN: {TIME_COLUMN}\")\n",
    "print(f\"SERIES_COLUMN: {SERIES_COLUMN}\")\n",
    "print(f\"AVAILABLE_AT_FORECAST_COLS: {AVAILABLE_AT_FORECAST_COLS}\")\n",
    "print(f\"PREDEFINED_SPLIT_COL: {PREDEFINED_SPLIT_COL}\")\n",
    "print(f\"FORECAST_HORIZON: {FORECAST_HORIZON}\")\n",
    "print(f\"FORECAST_GRANULARITY: {FORECAST_GRANULARITY.lower()}\")\n",
    "print(f\"CONTEXT_WINDOW: {CONTEXT_WINDOW}\")\n",
    "print(f\"TARGET_COLUMN: {TARGET_COLUMN}\")\n",
    "print(f\"QUANTILES: {QUANTILES}\")\n",
    "print(f\"ENABLE_PROBABILISTIC_INFER: {ENABLE_PROBABILISTIC_INFER}\")\n",
    "print(f\"BQ_EVAL_DESTINATION: {BQ_EVAL_DESTINATION}\")"
   ]
  },
  {
   "cell_type": "markdown",
   "id": "0f8972cf-b617-4c36-8a72-99451035cfad",
   "metadata": {},
   "source": [
    "# Create and submit job"
   ]
  },
  {
   "cell_type": "code",
   "execution_count": 25,
   "id": "35aef7e6-ecac-473d-9d2e-7faabc8a5789",
   "metadata": {},
   "outputs": [],
   "source": [
    "forecast_job = vertex_ai.AutoMLForecastingTrainingJob(\n",
    "    display_name = f'{EXPERIMENT_NAME}_training',\n",
    "    optimization_objective=OPTIMIZATION_OBJECTIVE,\n",
    "    column_specs = COL_TRANSFORMS,\n",
    "    labels = {'experiment':f'{EXPERIMENT_NAME}'}\n",
    ")"
   ]
  },
  {
   "cell_type": "code",
   "execution_count": 26,
   "id": "aa54c370-8478-43a5-a5d2-5596255f422e",
   "metadata": {},
   "outputs": [
    {
     "name": "stdout",
     "output_type": "stream",
     "text": [
      "View Training:\n",
      "https://console.cloud.google.com/ai/platform/locations/us-central1/training/8325361720348377088?project=934903580331\n",
      "AutoMLForecastingTrainingJob projects/934903580331/locations/us-central1/trainingPipelines/8325361720348377088 current state:\n",
      "PipelineState.PIPELINE_STATE_RUNNING\n",
      "AutoMLForecastingTrainingJob projects/934903580331/locations/us-central1/trainingPipelines/8325361720348377088 current state:\n",
      "PipelineState.PIPELINE_STATE_RUNNING\n",
      "AutoMLForecastingTrainingJob projects/934903580331/locations/us-central1/trainingPipelines/8325361720348377088 current state:\n",
      "PipelineState.PIPELINE_STATE_RUNNING\n",
      "AutoMLForecastingTrainingJob projects/934903580331/locations/us-central1/trainingPipelines/8325361720348377088 current state:\n",
      "PipelineState.PIPELINE_STATE_RUNNING\n",
      "AutoMLForecastingTrainingJob projects/934903580331/locations/us-central1/trainingPipelines/8325361720348377088 current state:\n",
      "PipelineState.PIPELINE_STATE_RUNNING\n",
      "AutoMLForecastingTrainingJob projects/934903580331/locations/us-central1/trainingPipelines/8325361720348377088 current state:\n",
      "PipelineState.PIPELINE_STATE_RUNNING\n",
      "AutoMLForecastingTrainingJob projects/934903580331/locations/us-central1/trainingPipelines/8325361720348377088 current state:\n",
      "PipelineState.PIPELINE_STATE_RUNNING\n",
      "AutoMLForecastingTrainingJob projects/934903580331/locations/us-central1/trainingPipelines/8325361720348377088 current state:\n",
      "PipelineState.PIPELINE_STATE_RUNNING\n",
      "AutoMLForecastingTrainingJob projects/934903580331/locations/us-central1/trainingPipelines/8325361720348377088 current state:\n",
      "PipelineState.PIPELINE_STATE_RUNNING\n",
      "AutoMLForecastingTrainingJob projects/934903580331/locations/us-central1/trainingPipelines/8325361720348377088 current state:\n",
      "PipelineState.PIPELINE_STATE_RUNNING\n",
      "AutoMLForecastingTrainingJob projects/934903580331/locations/us-central1/trainingPipelines/8325361720348377088 current state:\n",
      "PipelineState.PIPELINE_STATE_RUNNING\n",
      "AutoMLForecastingTrainingJob projects/934903580331/locations/us-central1/trainingPipelines/8325361720348377088 current state:\n",
      "PipelineState.PIPELINE_STATE_RUNNING\n",
      "AutoMLForecastingTrainingJob projects/934903580331/locations/us-central1/trainingPipelines/8325361720348377088 current state:\n",
      "PipelineState.PIPELINE_STATE_RUNNING\n",
      "AutoMLForecastingTrainingJob projects/934903580331/locations/us-central1/trainingPipelines/8325361720348377088 current state:\n",
      "PipelineState.PIPELINE_STATE_RUNNING\n",
      "AutoMLForecastingTrainingJob projects/934903580331/locations/us-central1/trainingPipelines/8325361720348377088 current state:\n",
      "PipelineState.PIPELINE_STATE_RUNNING\n",
      "AutoMLForecastingTrainingJob projects/934903580331/locations/us-central1/trainingPipelines/8325361720348377088 current state:\n",
      "PipelineState.PIPELINE_STATE_RUNNING\n",
      "AutoMLForecastingTrainingJob projects/934903580331/locations/us-central1/trainingPipelines/8325361720348377088 current state:\n",
      "PipelineState.PIPELINE_STATE_RUNNING\n",
      "AutoMLForecastingTrainingJob projects/934903580331/locations/us-central1/trainingPipelines/8325361720348377088 current state:\n",
      "PipelineState.PIPELINE_STATE_RUNNING\n",
      "AutoMLForecastingTrainingJob projects/934903580331/locations/us-central1/trainingPipelines/8325361720348377088 current state:\n",
      "PipelineState.PIPELINE_STATE_RUNNING\n",
      "AutoMLForecastingTrainingJob projects/934903580331/locations/us-central1/trainingPipelines/8325361720348377088 current state:\n",
      "PipelineState.PIPELINE_STATE_RUNNING\n",
      "AutoMLForecastingTrainingJob projects/934903580331/locations/us-central1/trainingPipelines/8325361720348377088 current state:\n",
      "PipelineState.PIPELINE_STATE_RUNNING\n",
      "AutoMLForecastingTrainingJob projects/934903580331/locations/us-central1/trainingPipelines/8325361720348377088 current state:\n",
      "PipelineState.PIPELINE_STATE_RUNNING\n",
      "AutoMLForecastingTrainingJob projects/934903580331/locations/us-central1/trainingPipelines/8325361720348377088 current state:\n",
      "PipelineState.PIPELINE_STATE_RUNNING\n",
      "AutoMLForecastingTrainingJob projects/934903580331/locations/us-central1/trainingPipelines/8325361720348377088 current state:\n",
      "PipelineState.PIPELINE_STATE_RUNNING\n",
      "AutoMLForecastingTrainingJob projects/934903580331/locations/us-central1/trainingPipelines/8325361720348377088 current state:\n",
      "PipelineState.PIPELINE_STATE_RUNNING\n",
      "AutoMLForecastingTrainingJob projects/934903580331/locations/us-central1/trainingPipelines/8325361720348377088 current state:\n",
      "PipelineState.PIPELINE_STATE_RUNNING\n",
      "AutoMLForecastingTrainingJob projects/934903580331/locations/us-central1/trainingPipelines/8325361720348377088 current state:\n",
      "PipelineState.PIPELINE_STATE_RUNNING\n",
      "AutoMLForecastingTrainingJob projects/934903580331/locations/us-central1/trainingPipelines/8325361720348377088 current state:\n",
      "PipelineState.PIPELINE_STATE_RUNNING\n",
      "AutoMLForecastingTrainingJob projects/934903580331/locations/us-central1/trainingPipelines/8325361720348377088 current state:\n",
      "PipelineState.PIPELINE_STATE_RUNNING\n",
      "AutoMLForecastingTrainingJob projects/934903580331/locations/us-central1/trainingPipelines/8325361720348377088 current state:\n",
      "PipelineState.PIPELINE_STATE_RUNNING\n",
      "AutoMLForecastingTrainingJob projects/934903580331/locations/us-central1/trainingPipelines/8325361720348377088 current state:\n",
      "PipelineState.PIPELINE_STATE_RUNNING\n",
      "AutoMLForecastingTrainingJob projects/934903580331/locations/us-central1/trainingPipelines/8325361720348377088 current state:\n",
      "PipelineState.PIPELINE_STATE_RUNNING\n",
      "AutoMLForecastingTrainingJob projects/934903580331/locations/us-central1/trainingPipelines/8325361720348377088 current state:\n",
      "PipelineState.PIPELINE_STATE_RUNNING\n",
      "AutoMLForecastingTrainingJob projects/934903580331/locations/us-central1/trainingPipelines/8325361720348377088 current state:\n",
      "PipelineState.PIPELINE_STATE_RUNNING\n",
      "AutoMLForecastingTrainingJob projects/934903580331/locations/us-central1/trainingPipelines/8325361720348377088 current state:\n",
      "PipelineState.PIPELINE_STATE_RUNNING\n",
      "AutoMLForecastingTrainingJob projects/934903580331/locations/us-central1/trainingPipelines/8325361720348377088 current state:\n",
      "PipelineState.PIPELINE_STATE_RUNNING\n",
      "AutoMLForecastingTrainingJob projects/934903580331/locations/us-central1/trainingPipelines/8325361720348377088 current state:\n",
      "PipelineState.PIPELINE_STATE_RUNNING\n",
      "AutoMLForecastingTrainingJob projects/934903580331/locations/us-central1/trainingPipelines/8325361720348377088 current state:\n",
      "PipelineState.PIPELINE_STATE_RUNNING\n",
      "AutoMLForecastingTrainingJob projects/934903580331/locations/us-central1/trainingPipelines/8325361720348377088 current state:\n",
      "PipelineState.PIPELINE_STATE_RUNNING\n",
      "AutoMLForecastingTrainingJob projects/934903580331/locations/us-central1/trainingPipelines/8325361720348377088 current state:\n",
      "PipelineState.PIPELINE_STATE_RUNNING\n",
      "AutoMLForecastingTrainingJob projects/934903580331/locations/us-central1/trainingPipelines/8325361720348377088 current state:\n",
      "PipelineState.PIPELINE_STATE_RUNNING\n",
      "AutoMLForecastingTrainingJob projects/934903580331/locations/us-central1/trainingPipelines/8325361720348377088 current state:\n",
      "PipelineState.PIPELINE_STATE_RUNNING\n",
      "AutoMLForecastingTrainingJob projects/934903580331/locations/us-central1/trainingPipelines/8325361720348377088 current state:\n",
      "PipelineState.PIPELINE_STATE_RUNNING\n",
      "AutoMLForecastingTrainingJob projects/934903580331/locations/us-central1/trainingPipelines/8325361720348377088 current state:\n",
      "PipelineState.PIPELINE_STATE_RUNNING\n",
      "AutoMLForecastingTrainingJob projects/934903580331/locations/us-central1/trainingPipelines/8325361720348377088 current state:\n",
      "PipelineState.PIPELINE_STATE_RUNNING\n",
      "AutoMLForecastingTrainingJob projects/934903580331/locations/us-central1/trainingPipelines/8325361720348377088 current state:\n",
      "PipelineState.PIPELINE_STATE_RUNNING\n",
      "AutoMLForecastingTrainingJob projects/934903580331/locations/us-central1/trainingPipelines/8325361720348377088 current state:\n",
      "PipelineState.PIPELINE_STATE_RUNNING\n",
      "AutoMLForecastingTrainingJob run completed. Resource name: projects/934903580331/locations/us-central1/trainingPipelines/8325361720348377088\n",
      "Model available at projects/934903580331/locations/us-central1/models/9104011253566668800\n",
      "Exported examples available at:\n",
      "bq://hybrid-vertex.m5_us.sdk_train_automl_qs\n"
     ]
    }
   ],
   "source": [
    "forecast=forecast_job.run(\n",
    "    dataset=dataset,\n",
    "    target_column=TARGET_COLUMN,\n",
    "    time_column=TIME_COLUMN,\n",
    "    time_series_identifier_column=SERIES_COLUMN,\n",
    "    unavailable_at_forecast_columns=UNAVAILABLE_AT_FORECAST_COLS,\n",
    "    available_at_forecast_columns=AVAILABLE_AT_FORECAST_COLS,\n",
    "    forecast_horizon=FORECAST_HORIZON,\n",
    "    data_granularity_unit=FORECAST_GRANULARITY.lower(),\n",
    "    data_granularity_count=DATA_GRANULARITY_COUNT,\n",
    "    predefined_split_column_name=PREDEFINED_SPLIT_COL,\n",
    "    context_window = CONTEXT_WINDOW,\n",
    "    export_evaluated_data_items=True,\n",
    "    export_evaluated_data_items_bigquery_destination_uri=BQ_EVAL_DESTINATION,\n",
    "    validation_options=\"fail-pipeline\",\n",
    "    budget_milli_node_hours = MILLI_NODE_HRS,\n",
    "    model_display_name=f\"{EXPERIMENT_NAME}_{BQ_TABLE}\",\n",
    "    model_labels={'experiment':f'{EXPERIMENT_NAME}'},\n",
    "    holiday_regions=HOLIDAY_REGIONS,\n",
    "    quantiles=QUANTILES,\n",
    "    additional_experiments=[ENABLE_PROBABILISTIC_INFER],\n",
    "    sync=True\n",
    ")"
   ]
  },
  {
   "cell_type": "code",
   "execution_count": 10,
   "id": "9b1dfe66-7af3-40ec-ab71-5bfec4ae3b38",
   "metadata": {},
   "outputs": [
    {
     "name": "stdout",
     "output_type": "stream",
     "text": [
      "FORECAST_MODEL_RSC_NAME: projects/934903580331/locations/us-central1/models/9104011253566668800\n"
     ]
    }
   ],
   "source": [
    "# init trained model object from previous session\n",
    "MODEL_URI='projects/934903580331/locations/us-central1/models/9104011253566668800'\n",
    "forecast = vertex_ai.Model(MODEL_URI)\n",
    "\n",
    "FORECAST_MODEL_RSC_NAME = forecast.resource_name\n",
    "\n",
    "print(f\"FORECAST_MODEL_RSC_NAME: {FORECAST_MODEL_RSC_NAME}\")"
   ]
  },
  {
   "cell_type": "code",
   "execution_count": 31,
   "id": "9b82c1b7-446f-4c07-ba40-1e45ccc0b912",
   "metadata": {},
   "outputs": [
    {
     "name": "stdout",
     "output_type": "stream",
     "text": [
      "rootMeanSquaredError\n",
      "meanAbsolutePercentageError\n",
      "rSquared\n",
      "rootMeanSquaredPercentageError\n",
      "rootMeanSquaredLogError\n"
     ]
    },
    {
     "ename": "AttributeError",
     "evalue": "'RepeatedComposite' object has no attribute 'items'",
     "output_type": "error",
     "traceback": [
      "\u001b[0;31m---------------------------------------------------------------------------\u001b[0m",
      "\u001b[0;31mAttributeError\u001b[0m                            Traceback (most recent call last)",
      "\u001b[0;32m/var/tmp/ipykernel_4056/3282218899.py\u001b[0m in \u001b[0;36m<module>\u001b[0;34m\u001b[0m\n\u001b[1;32m      1\u001b[0m \u001b[0;32mfor\u001b[0m \u001b[0mthings\u001b[0m\u001b[0;34m,\u001b[0m \u001b[0mscore\u001b[0m \u001b[0;32min\u001b[0m \u001b[0mlist\u001b[0m\u001b[0;34m(\u001b[0m\u001b[0mforecast\u001b[0m\u001b[0;34m.\u001b[0m\u001b[0mlist_model_evaluations\u001b[0m\u001b[0;34m(\u001b[0m\u001b[0;34m)\u001b[0m\u001b[0;34m)\u001b[0m\u001b[0;34m[\u001b[0m\u001b[0;36m0\u001b[0m\u001b[0;34m]\u001b[0m\u001b[0;34m.\u001b[0m\u001b[0mmetrics\u001b[0m\u001b[0;34m.\u001b[0m\u001b[0mitems\u001b[0m\u001b[0;34m(\u001b[0m\u001b[0;34m)\u001b[0m\u001b[0;34m:\u001b[0m\u001b[0;34m\u001b[0m\u001b[0;34m\u001b[0m\u001b[0m\n\u001b[1;32m      2\u001b[0m     \u001b[0;32mif\u001b[0m \u001b[0mthings\u001b[0m\u001b[0;34m==\u001b[0m\u001b[0;34m'quantileMetrics'\u001b[0m\u001b[0;34m:\u001b[0m\u001b[0;34m\u001b[0m\u001b[0;34m\u001b[0m\u001b[0m\n\u001b[0;32m----> 3\u001b[0;31m         \u001b[0mprint\u001b[0m\u001b[0;34m(\u001b[0m\u001b[0mscore\u001b[0m\u001b[0;34m.\u001b[0m\u001b[0mitems\u001b[0m\u001b[0;34m(\u001b[0m\u001b[0;34m)\u001b[0m\u001b[0;34m)\u001b[0m\u001b[0;34m\u001b[0m\u001b[0;34m\u001b[0m\u001b[0m\n\u001b[0m\u001b[1;32m      4\u001b[0m \u001b[0;34m\u001b[0m\u001b[0m\n\u001b[1;32m      5\u001b[0m     \u001b[0mprint\u001b[0m\u001b[0;34m(\u001b[0m\u001b[0mthings\u001b[0m\u001b[0;34m)\u001b[0m\u001b[0;34m\u001b[0m\u001b[0;34m\u001b[0m\u001b[0m\n",
      "\u001b[0;31mAttributeError\u001b[0m: 'RepeatedComposite' object has no attribute 'items'"
     ]
    }
   ],
   "source": [
    "for things, score in list(forecast.list_model_evaluations())[0].metrics.items():\n",
    "    if things=='quantileMetrics':\n",
    "        print(score.items())\n",
    "        \n",
    "    print(things)\n",
    "    # print(score)"
   ]
  },
  {
   "cell_type": "markdown",
   "id": "00f61ccd-f739-4966-96fb-c60eb4319d34",
   "metadata": {},
   "source": [
    "## default Model Evaluation"
   ]
  },
  {
   "cell_type": "code",
   "execution_count": 17,
   "id": "df4a727a-7fef-4ea5-92ef-cbd7b811ad46",
   "metadata": {},
   "outputs": [
    {
     "name": "stdout",
     "output_type": "stream",
     "text": [
      "{'createTime': '2023-03-29T19:47:49.179227Z',\n",
      " 'metrics': {'meanAbsoluteError': 0.949059,\n",
      "             'meanAbsolutePercentageError': 143376300.0,\n",
      "             'quantileMetrics': [{'observedQuantile': 0.5373902450452139,\n",
      "                                  'quantile': 0.1,\n",
      "                                  'scaledPinballLoss': 0.1364691},\n",
      "                                 {'observedQuantile': 0.585822674100798,\n",
      "                                  'quantile': 0.3,\n",
      "                                  'scaledPinballLoss': 0.34715158},\n",
      "                                 {'observedQuantile': 0.6782685970419654,\n",
      "                                  'quantile': 0.5,\n",
      "                                  'scaledPinballLoss': 0.4745295},\n",
      "                                 {'observedQuantile': 0.8002998641240687,\n",
      "                                  'quantile': 0.7,\n",
      "                                  'scaledPinballLoss': 0.489436},\n",
      "                                 {'observedQuantile': 0.9353289915507036,\n",
      "                                  'quantile': 0.9,\n",
      "                                  'scaledPinballLoss': 0.3096573}],\n",
      "             'rSquared': 0.6876061,\n",
      "             'rootMeanSquaredError': 2.1252594,\n",
      "             'rootMeanSquaredLogError': 0.54234403,\n",
      "             'rootMeanSquaredPercentageError': 564754800.0,\n",
      "             'weightedAbsolutePercentageError': 63.48303},\n",
      " 'metricsSchemaUri': 'gs://google-cloud-aiplatform/schema/modelevaluation/forecasting_metrics_1.0.0.yaml',\n",
      " 'modelExplanation': {'meanAttributions': [{'featureAttributions': {'cat_id': 0.04580932808438333,\n",
      "                                                                    'date': 0.03627215497379248,\n",
      "                                                                    'dept_id': 0.04806728990522416,\n",
      "                                                                    'event_name_1': 0.002128734510037346,\n",
      "                                                                    'event_name_2': 1.4148944126725183e-08,\n",
      "                                                                    'event_type_1': 0.0022055669445072944,\n",
      "                                                                    'event_type_2': 2.1477022290680242e-10,\n",
      "                                                                    'gross_quantity': 1.3032433212233894,\n",
      "                                                                    'location_id': 0.043283833282111696,\n",
      "                                                                    'month': 0.011012673582335316,\n",
      "                                                                    'product_id': 0.018655256273736563,\n",
      "                                                                    'sell_price': 0.10172264232426838,\n",
      "                                                                    'snap_CA': 0.006077283145142643,\n",
      "                                                                    'snap_TX': 0.004188597131492889,\n",
      "                                                                    'snap_WI': 0.01851382559289021,\n",
      "                                                                    'state_id': 0.042318499562415485,\n",
      "                                                                    'wday': 0.06852921495057086,\n",
      "                                                                    'weekday': 0.06786721534191255,\n",
      "                                                                    'year': 0.017193487710825774}}]},\n",
      " 'name': 'projects/934903580331/locations/us-central1/models/9104011253566668800@1/evaluations/5067865392161257999'}\n",
      "----\n"
     ]
    }
   ],
   "source": [
    "forecast_EVALS = forecast.list_model_evaluations()\n",
    "\n",
    "for model_evaluation in forecast_EVALS:\n",
    "    pprint(model_evaluation.to_dict())"
   ]
  },
  {
   "cell_type": "markdown",
   "id": "02d7e08b-a664-4f7d-bec7-6b73b47183e6",
   "metadata": {},
   "source": [
    "## metrics"
   ]
  },
  {
   "cell_type": "code",
   "execution_count": 34,
   "id": "fa93f022-2fd4-4ac0-b500-ee0cb463179c",
   "metadata": {},
   "outputs": [
    {
     "name": "stdout",
     "output_type": "stream",
     "text": [
      "Model's evaluation metrics from training:\n",
      "\n",
      "metric: rSquared, value: 0.6876061\n",
      "\n",
      "metric: rootMeanSquaredPercentageError, value: 564754800.0\n",
      "\n",
      "metric: meanAbsoluteError, value: 0.949059\n",
      "\n",
      "metric: rootMeanSquaredLogError, value: 0.54234403\n",
      "\n",
      "metric: rootMeanSquaredError, value: 2.1252594\n",
      "\n",
      "metric: quantileMetrics, value: [{'scaledPinballLoss': 0.1364691, 'quantile': 0.1, 'observedQuantile': 0.5373902450452139}, {'scaledPinballLoss': 0.34715158, 'observedQuantile': 0.585822674100798, 'quantile': 0.3}, {'observedQuantile': 0.6782685970419654, 'quantile': 0.5, 'scaledPinballLoss': 0.4745295}, {'scaledPinballLoss': 0.489436, 'observedQuantile': 0.8002998641240687, 'quantile': 0.7}, {'observedQuantile': 0.9353289915507036, 'quantile': 0.9, 'scaledPinballLoss': 0.3096573}]\n",
      "\n",
      "metric: meanAbsolutePercentageError, value: 143376300.0\n",
      "\n",
      "metric: weightedAbsolutePercentageError, value: 63.48303\n",
      "\n"
     ]
    }
   ],
   "source": [
    "# Get evaluations\n",
    "model_evaluations = forecast.list_model_evaluations()\n",
    "\n",
    "# Print the evaluation metrics\n",
    "for evaluation in model_evaluations:\n",
    "    evaluation = evaluation.to_dict()\n",
    "    print(\"Model's evaluation metrics from training:\\n\")\n",
    "    metrics = evaluation[\"metrics\"]\n",
    "    for metric in metrics.keys():\n",
    "        print(f\"metric: {metric}, value: {metrics[metric]}\\n\")"
   ]
  },
  {
   "cell_type": "markdown",
   "id": "824cb588-693d-49a6-b55d-8c6f64e1147f",
   "metadata": {},
   "source": [
    "# Evaluate quantile predictions\n",
    "\n",
    "**TODO**\n",
    "\n",
    "* see [Probabilistic Inference User Guide | Vertex Forecast](https://docs.google.com/document/d/1kegOsor8j7HO2qttMKK6mtfl5GzoxDf8LhsXH8oXsyo/edit#)"
   ]
  },
  {
   "cell_type": "markdown",
   "id": "7e443777-608f-4180-a9ce-181d48baf13d",
   "metadata": {},
   "source": [
    "## understanding quantile predictions"
   ]
  },
  {
   "cell_type": "markdown",
   "id": "777c0c64-6bec-4f37-9b2b-6ffb9b0288c3",
   "metadata": {},
   "source": [
    "**Links Between Statistics and Objectives**\n",
    "* The minimizer of optimization objectives correspond to statistics of the predictive distribution, which provide an intuitive view of what an optimization objective means. The most common are:\n",
    "\n",
    "> * Minimizer of RMSE (and Bias) is the Mean\n",
    "> * Minimizer of MAE (and WAPE) is the Median, which is also the 0.5 quantile"
   ]
  },
  {
   "cell_type": "markdown",
   "id": "f19c8c29-165a-4110-a99b-dd3f6e8b404e",
   "metadata": {
    "tags": []
   },
   "source": [
    "**Aggregating Statistics**\n",
    "A common pattern in forecasting solutions is to forecast at a fine grained level (ex. product x store x week) and aggregate to a coarser granularity (ex. product x week). This requires careful consideration as not all aggregations are valid.\n",
    "\n",
    "* Sum of quantiles are not the quantiles of the sum\n",
    "> * Sum of Median is not the median of the sum\n",
    "> * Sum of Median will produce biased predictions at aggregate (ex. under/overpredict)\n",
    "> * Sum of Quantiles will not represent uncertainty at aggregate\n",
    "* Sum of Mean is Mean of sum\n",
    "> * Sum of Mean will produce unbiased predictions at aggregate\n",
    "\n",
    "#### **TLD;DR** it is valid to aggregate the mean but not quantiles/median to produce forecasts at a higher granularity"
   ]
  },
  {
   "cell_type": "markdown",
   "id": "fd0527c1-413c-4867-ad8f-7997cb623699",
   "metadata": {},
   "source": [
    "**Vertex Forecast output eval dataset**\n",
    "* `predicted_sales.quantile_values` will give the quantiles, i.e. [0.1, 0.3, 0.5, 0.7, 0.9]\n",
    "* `predicted_sales.quantile_predictions` will be an array of the same length with matching predictions\n",
    "* There is also a field `predicted_sales.value` which is just the prediction for the 0.5 quantile (median)"
   ]
  },
  {
   "cell_type": "markdown",
   "id": "e17753e0-738b-4027-9419-a9b87ba82ffa",
   "metadata": {},
   "source": [
    "**Different statistics can be estimated from the quantiles, including statistics that minimize:**\n",
    "* RMSE (weighted mean of quantile values)\n",
    "* MAPE (median weighted by 1/value)\n",
    "* MAE (median)"
   ]
  },
  {
   "cell_type": "markdown",
   "id": "87f4a72e-c473-46ae-a4d2-c2a4c191c5d3",
   "metadata": {},
   "source": [
    "## Inspect predictions from EVAL table"
   ]
  }
 ],
 "metadata": {
  "environment": {
   "kernel": "python3",
   "name": "common-cpu.m103",
   "type": "gcloud",
   "uri": "gcr.io/deeplearning-platform-release/base-cpu:m103"
  },
  "kernelspec": {
   "display_name": "Python 3",
   "language": "python",
   "name": "python3"
  },
  "language_info": {
   "codemirror_mode": {
    "name": "ipython",
    "version": 3
   },
   "file_extension": ".py",
   "mimetype": "text/x-python",
   "name": "python",
   "nbconvert_exporter": "python",
   "pygments_lexer": "ipython3",
   "version": "3.7.12"
  }
 },
 "nbformat": 4,
 "nbformat_minor": 5
}
