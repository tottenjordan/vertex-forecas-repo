{
 "cells": [
  {
   "cell_type": "markdown",
   "id": "ac4c9484-4eab-4b02-b0b9-4ca8cb3a8306",
   "metadata": {},
   "source": [
    "# Vertex Forecast - probabilistic inference with Quantiles"
   ]
  },
  {
   "cell_type": "markdown",
   "id": "643affe5-4fcf-4392-86b3-93455ba800ee",
   "metadata": {},
   "source": [
    "## Dealing with Uncertainty\n",
    "\n",
    "**Retail sales are random by nature**; consider the following scenario:\n",
    "\n",
    "> On a given day, 1000 customers walk into a large retail store (on average), and 1% of customers decide to buy a pair of jeans (on average).\n"
   ]
  },
  {
   "cell_type": "code",
   "execution_count": 2,
   "id": "1c49dfd9-2926-4be2-ac62-caa0e06af145",
   "metadata": {},
   "outputs": [
    {
     "name": "stdout",
     "output_type": "stream",
     "text": [
      "PROJECT_ID: hybrid-vertex\n",
      "PROJECT_NUM: 934903580331\n",
      "LOCATION: us-central1\n"
     ]
    }
   ],
   "source": [
    "import os\n",
    "\n",
    "GCP_PROJECTS = !gcloud config get-value project\n",
    "PROJECT_ID = GCP_PROJECTS[0]\n",
    "PROJECT_NUM = !gcloud projects list --filter=\"$PROJECT_ID\" --format=\"value(PROJECT_NUMBER)\"\n",
    "PROJECT_NUM = PROJECT_NUM[0]\n",
    "LOCATION = 'us-central1'\n",
    "BQ_LOCATION='US'\n",
    "\n",
    "# TODO: Service Account address\n",
    "VERTEX_SA = '934903580331-compute@developer.gserviceaccount.com' \n",
    "\n",
    "print(f\"PROJECT_ID: {PROJECT_ID}\")\n",
    "print(f\"PROJECT_NUM: {PROJECT_NUM}\")\n",
    "print(f\"LOCATION: {LOCATION}\")"
   ]
  },
  {
   "cell_type": "code",
   "execution_count": 3,
   "id": "d9aec80d-bc23-410a-a618-df14d9bfdda2",
   "metadata": {},
   "outputs": [],
   "source": [
    "import google.cloud.aiplatform as vertex_ai\n",
    "from google.cloud import bigquery\n",
    "from google.cloud import storage\n",
    "\n",
    "import matplotlib.pyplot as plt\n",
    "import pandas as pd\n",
    "from datetime import datetime, timedelta"
   ]
  },
  {
   "cell_type": "markdown",
   "id": "833d2088-c740-4cc4-b2d8-965d1fef36a6",
   "metadata": {},
   "source": [
    "### Setup - init SDK clients and define vars"
   ]
  },
  {
   "cell_type": "code",
   "execution_count": 4,
   "id": "1c1f3704-dbcd-4a1f-81e0-489e56c38d6d",
   "metadata": {},
   "outputs": [],
   "source": [
    "bq_client = bigquery.Client(\n",
    "    project=PROJECT_ID, \n",
    "    location=BQ_LOCATION\n",
    ")\n",
    "\n",
    "storage_client = storage.Client(project=PROJECT_ID)\n",
    "\n",
    "vertex_ai.init(\n",
    "    project=PROJECT_ID,\n",
    "    location=LOCATION\n",
    ")"
   ]
  },
  {
   "cell_type": "code",
   "execution_count": 5,
   "id": "a474d545-caab-41df-85bc-2eb974ea65e1",
   "metadata": {},
   "outputs": [
    {
     "name": "stdout",
     "output_type": "stream",
     "text": [
      "EXPERIMENT_NAME: m5_nb5_v1\n"
     ]
    }
   ],
   "source": [
    "# previously defined\n",
    "BQ_DATASET=\"m5_us\"\n",
    "BQ_TABLE=\"sdk_train\"\n",
    "BQ_TABLE_PLAN=\"sdk_plan\"\n",
    "\n",
    "# new vars\n",
    "EXPERIMENT_tag=\"nb5\"\n",
    "VERSION='v1'\n",
    "\n",
    "EXPERIMENT_NAME = f\"m5_{EXPERIMENT_tag}_{VERSION}\"\n",
    "print(f'EXPERIMENT_NAME: {EXPERIMENT_NAME}')"
   ]
  },
  {
   "cell_type": "markdown",
   "id": "58892d57-9eb8-401f-a5f4-ad68f8fe0054",
   "metadata": {},
   "source": [
    "### get dataset"
   ]
  },
  {
   "cell_type": "code",
   "execution_count": 6,
   "id": "d1d7d4a0-ee17-4451-8ca7-cf060fe7d5cf",
   "metadata": {},
   "outputs": [],
   "source": [
    "dataset = vertex_ai.TimeSeriesDataset('projects/934903580331/locations/us-central1/datasets/462153324456574976')"
   ]
  },
  {
   "cell_type": "code",
   "execution_count": 12,
   "id": "716ef3cf-f783-478b-83a4-da8263685273",
   "metadata": {},
   "outputs": [],
   "source": [
    "# dataset.column_names"
   ]
  },
  {
   "cell_type": "markdown",
   "id": "304936a7-ff9a-4e57-8e4a-f00170f7b0f1",
   "metadata": {},
   "source": [
    "### define column specs"
   ]
  },
  {
   "cell_type": "code",
   "execution_count": 13,
   "id": "3056341e-8e86-4f2d-af89-b344d92c5272",
   "metadata": {},
   "outputs": [],
   "source": [
    "import pickle as pkl\n",
    "from pprint import pprint\n",
    "\n",
    "LOCAL_COL_FILE = 'column_specs.pkl'\n",
    "\n",
    "filehandler = open(LOCAL_COL_FILE, 'rb')\n",
    "COL_DICT_TEST = pkl.load(filehandler)\n",
    "filehandler.close()\n",
    "\n",
    "COL_TRANSFORMS = COL_DICT_TEST['column_specs']\n",
    "UNAVAILABLE_AT_FORECAST_COLS = COL_DICT_TEST['unavailable_at_forecast_columns']\n",
    "AVAILABLE_AT_FORECAST_COLS = COL_DICT_TEST['available_at_forecast_columns']\n",
    "SERIES_COLUMN = COL_DICT_TEST['time_series_identifier_column']\n",
    "TIME_COLUMN = COL_DICT_TEST['time_column']\n",
    "TARGET_COLUMN = COL_DICT_TEST['target_column']\n",
    "PREDEFINED_SPLIT_COL = COL_DICT_TEST['predefined_split_column_name']"
   ]
  },
  {
   "cell_type": "markdown",
   "id": "b5afb0e0-6e92-435e-896b-33f678929f56",
   "metadata": {},
   "source": [
    "## Model config"
   ]
  },
  {
   "cell_type": "markdown",
   "id": "3a84e25c-0fc1-41fc-a2e4-788f76d63587",
   "metadata": {},
   "source": [
    "Vertex Forecast now supports Probabilistic Inference, enabling users to simultaneously optimize an objective and provide quantiles (not supported by `minimize-quantile-loss` objective). The advantages of learning a predictive distribution also may yield improved performance for optimization objectives. It improves over `minimize-quantile-loss` (i.e. Pinball loss) through fidelity of fine grained quantiles with ordering guarantee, and combines predictions from ensemble members using mixtures to improve calibration."
   ]
  },
  {
   "cell_type": "code",
   "execution_count": 24,
   "id": "1bd38dc6-fa82-4b8f-9711-4eae33570162",
   "metadata": {},
   "outputs": [
    {
     "name": "stdout",
     "output_type": "stream",
     "text": [
      "EXPERIMENT_NAME: m5_nb5_v1\n",
      "VERSION: v1\n",
      "OPTIMIZATION_OBJECTIVE: ('minimize-rmse',)\n",
      "TARGET_COLUMN: gross_quantity\n",
      "TIME_COLUMN: date\n",
      "SERIES_COLUMN: timeseries_id\n",
      "AVAILABLE_AT_FORECAST_COLS: ['event_name_1', 'year', 'event_type_1', 'month', 'dept_id', 'event_type_2', 'wday', 'state_id', 'snap_WI', 'snap_CA', 'snap_TX', 'product_id', 'date', 'event_name_2', 'location_id', 'weekday', 'cat_id']\n",
      "PREDEFINED_SPLIT_COL: splits\n",
      "FORECAST_HORIZON: 14\n",
      "FORECAST_GRANULARITY: day\n",
      "CONTEXT_WINDOW: 14\n",
      "TARGET_COLUMN: gross_quantity\n",
      "QUANTILES: [0.1, 0.3, 0.5, 0.7, 0.9]\n",
      "ENABLE_PROBABILISTIC_INFER: enable_probabilistic_inference\n",
      "BQ_EVAL_DESTINATION: bq://hybrid-vertex:m5_us:sdk_train_automl_qs\n"
     ]
    }
   ],
   "source": [
    "# forecast spec\n",
    "FORECAST_GRANULARITY = 'DAY'\n",
    "DATA_GRANULARITY_COUNT=1\n",
    "FORECAST_HORIZON = 14\n",
    "CONTEXT_WINDOW = 14\n",
    "forecast_test_length = 14\n",
    "forecast_val_length = 14\n",
    "\n",
    "# model config\n",
    "# OPTIMIZATION_OBJECTIVE='minimize-quantile-loss'\n",
    "OPTIMIZATION_OBJECTIVE ='minimize-rmse',\n",
    "QUANTILES = [0.1, 0.3, 0.5, 0.7, 0.9]\n",
    "ENABLE_PROBABILISTIC_INFER=\"enable_probabilistic_inference\"\n",
    "\n",
    "# job spec\n",
    "MILLI_NODE_HRS=1000\n",
    "HOLIDAY_REGIONS=['GLOBAL', 'NA', 'US']\n",
    "\n",
    "# export eval set BQ destination\n",
    "BQ_EVAL_DESTINATION = f\"bq://{PROJECT_ID}:{BQ_DATASET}:{BQ_TABLE}_automl_qs\"\n",
    "\n",
    "print(f\"EXPERIMENT_NAME: {EXPERIMENT_NAME}\")\n",
    "print(f\"VERSION: {VERSION}\")\n",
    "print(f\"OPTIMIZATION_OBJECTIVE: {OPTIMIZATION_OBJECTIVE}\")\n",
    "print(f\"TARGET_COLUMN: {TARGET_COLUMN}\")\n",
    "print(f\"TIME_COLUMN: {TIME_COLUMN}\")\n",
    "print(f\"SERIES_COLUMN: {SERIES_COLUMN}\")\n",
    "print(f\"AVAILABLE_AT_FORECAST_COLS: {AVAILABLE_AT_FORECAST_COLS}\")\n",
    "print(f\"PREDEFINED_SPLIT_COL: {PREDEFINED_SPLIT_COL}\")\n",
    "print(f\"FORECAST_HORIZON: {FORECAST_HORIZON}\")\n",
    "print(f\"FORECAST_GRANULARITY: {FORECAST_GRANULARITY.lower()}\")\n",
    "print(f\"CONTEXT_WINDOW: {CONTEXT_WINDOW}\")\n",
    "print(f\"TARGET_COLUMN: {TARGET_COLUMN}\")\n",
    "print(f\"QUANTILES: {QUANTILES}\")\n",
    "print(f\"ENABLE_PROBABILISTIC_INFER: {ENABLE_PROBABILISTIC_INFER}\")\n",
    "print(f\"BQ_EVAL_DESTINATION: {BQ_EVAL_DESTINATION}\")"
   ]
  },
  {
   "cell_type": "markdown",
   "id": "0f8972cf-b617-4c36-8a72-99451035cfad",
   "metadata": {},
   "source": [
    "# Create and submit job"
   ]
  },
  {
   "cell_type": "code",
   "execution_count": 25,
   "id": "35aef7e6-ecac-473d-9d2e-7faabc8a5789",
   "metadata": {},
   "outputs": [],
   "source": [
    "forecast_job = vertex_ai.AutoMLForecastingTrainingJob(\n",
    "    display_name = f'{EXPERIMENT_NAME}_training',\n",
    "    optimization_objective=OPTIMIZATION_OBJECTIVE,\n",
    "    column_specs = COL_TRANSFORMS,\n",
    "    labels = {'experiment':f'{EXPERIMENT_NAME}'}\n",
    ")"
   ]
  },
  {
   "cell_type": "code",
   "execution_count": 26,
   "id": "aa54c370-8478-43a5-a5d2-5596255f422e",
   "metadata": {},
   "outputs": [
    {
     "name": "stdout",
     "output_type": "stream",
     "text": [
      "View Training:\n",
      "https://console.cloud.google.com/ai/platform/locations/us-central1/training/8325361720348377088?project=934903580331\n",
      "AutoMLForecastingTrainingJob projects/934903580331/locations/us-central1/trainingPipelines/8325361720348377088 current state:\n",
      "PipelineState.PIPELINE_STATE_RUNNING\n",
      "AutoMLForecastingTrainingJob projects/934903580331/locations/us-central1/trainingPipelines/8325361720348377088 current state:\n",
      "PipelineState.PIPELINE_STATE_RUNNING\n",
      "AutoMLForecastingTrainingJob projects/934903580331/locations/us-central1/trainingPipelines/8325361720348377088 current state:\n",
      "PipelineState.PIPELINE_STATE_RUNNING\n",
      "AutoMLForecastingTrainingJob projects/934903580331/locations/us-central1/trainingPipelines/8325361720348377088 current state:\n",
      "PipelineState.PIPELINE_STATE_RUNNING\n",
      "AutoMLForecastingTrainingJob projects/934903580331/locations/us-central1/trainingPipelines/8325361720348377088 current state:\n",
      "PipelineState.PIPELINE_STATE_RUNNING\n",
      "AutoMLForecastingTrainingJob projects/934903580331/locations/us-central1/trainingPipelines/8325361720348377088 current state:\n",
      "PipelineState.PIPELINE_STATE_RUNNING\n",
      "AutoMLForecastingTrainingJob projects/934903580331/locations/us-central1/trainingPipelines/8325361720348377088 current state:\n",
      "PipelineState.PIPELINE_STATE_RUNNING\n",
      "AutoMLForecastingTrainingJob projects/934903580331/locations/us-central1/trainingPipelines/8325361720348377088 current state:\n",
      "PipelineState.PIPELINE_STATE_RUNNING\n",
      "AutoMLForecastingTrainingJob projects/934903580331/locations/us-central1/trainingPipelines/8325361720348377088 current state:\n",
      "PipelineState.PIPELINE_STATE_RUNNING\n",
      "AutoMLForecastingTrainingJob projects/934903580331/locations/us-central1/trainingPipelines/8325361720348377088 current state:\n",
      "PipelineState.PIPELINE_STATE_RUNNING\n",
      "AutoMLForecastingTrainingJob projects/934903580331/locations/us-central1/trainingPipelines/8325361720348377088 current state:\n",
      "PipelineState.PIPELINE_STATE_RUNNING\n",
      "AutoMLForecastingTrainingJob projects/934903580331/locations/us-central1/trainingPipelines/8325361720348377088 current state:\n",
      "PipelineState.PIPELINE_STATE_RUNNING\n",
      "AutoMLForecastingTrainingJob projects/934903580331/locations/us-central1/trainingPipelines/8325361720348377088 current state:\n",
      "PipelineState.PIPELINE_STATE_RUNNING\n",
      "AutoMLForecastingTrainingJob projects/934903580331/locations/us-central1/trainingPipelines/8325361720348377088 current state:\n",
      "PipelineState.PIPELINE_STATE_RUNNING\n",
      "AutoMLForecastingTrainingJob projects/934903580331/locations/us-central1/trainingPipelines/8325361720348377088 current state:\n",
      "PipelineState.PIPELINE_STATE_RUNNING\n",
      "AutoMLForecastingTrainingJob projects/934903580331/locations/us-central1/trainingPipelines/8325361720348377088 current state:\n",
      "PipelineState.PIPELINE_STATE_RUNNING\n",
      "AutoMLForecastingTrainingJob projects/934903580331/locations/us-central1/trainingPipelines/8325361720348377088 current state:\n",
      "PipelineState.PIPELINE_STATE_RUNNING\n",
      "AutoMLForecastingTrainingJob projects/934903580331/locations/us-central1/trainingPipelines/8325361720348377088 current state:\n",
      "PipelineState.PIPELINE_STATE_RUNNING\n",
      "AutoMLForecastingTrainingJob projects/934903580331/locations/us-central1/trainingPipelines/8325361720348377088 current state:\n",
      "PipelineState.PIPELINE_STATE_RUNNING\n",
      "AutoMLForecastingTrainingJob projects/934903580331/locations/us-central1/trainingPipelines/8325361720348377088 current state:\n",
      "PipelineState.PIPELINE_STATE_RUNNING\n",
      "AutoMLForecastingTrainingJob projects/934903580331/locations/us-central1/trainingPipelines/8325361720348377088 current state:\n",
      "PipelineState.PIPELINE_STATE_RUNNING\n",
      "AutoMLForecastingTrainingJob projects/934903580331/locations/us-central1/trainingPipelines/8325361720348377088 current state:\n",
      "PipelineState.PIPELINE_STATE_RUNNING\n",
      "AutoMLForecastingTrainingJob projects/934903580331/locations/us-central1/trainingPipelines/8325361720348377088 current state:\n",
      "PipelineState.PIPELINE_STATE_RUNNING\n",
      "AutoMLForecastingTrainingJob projects/934903580331/locations/us-central1/trainingPipelines/8325361720348377088 current state:\n",
      "PipelineState.PIPELINE_STATE_RUNNING\n",
      "AutoMLForecastingTrainingJob projects/934903580331/locations/us-central1/trainingPipelines/8325361720348377088 current state:\n",
      "PipelineState.PIPELINE_STATE_RUNNING\n",
      "AutoMLForecastingTrainingJob projects/934903580331/locations/us-central1/trainingPipelines/8325361720348377088 current state:\n",
      "PipelineState.PIPELINE_STATE_RUNNING\n",
      "AutoMLForecastingTrainingJob projects/934903580331/locations/us-central1/trainingPipelines/8325361720348377088 current state:\n",
      "PipelineState.PIPELINE_STATE_RUNNING\n",
      "AutoMLForecastingTrainingJob projects/934903580331/locations/us-central1/trainingPipelines/8325361720348377088 current state:\n",
      "PipelineState.PIPELINE_STATE_RUNNING\n",
      "AutoMLForecastingTrainingJob projects/934903580331/locations/us-central1/trainingPipelines/8325361720348377088 current state:\n",
      "PipelineState.PIPELINE_STATE_RUNNING\n",
      "AutoMLForecastingTrainingJob projects/934903580331/locations/us-central1/trainingPipelines/8325361720348377088 current state:\n",
      "PipelineState.PIPELINE_STATE_RUNNING\n",
      "AutoMLForecastingTrainingJob projects/934903580331/locations/us-central1/trainingPipelines/8325361720348377088 current state:\n",
      "PipelineState.PIPELINE_STATE_RUNNING\n",
      "AutoMLForecastingTrainingJob projects/934903580331/locations/us-central1/trainingPipelines/8325361720348377088 current state:\n",
      "PipelineState.PIPELINE_STATE_RUNNING\n",
      "AutoMLForecastingTrainingJob projects/934903580331/locations/us-central1/trainingPipelines/8325361720348377088 current state:\n",
      "PipelineState.PIPELINE_STATE_RUNNING\n",
      "AutoMLForecastingTrainingJob projects/934903580331/locations/us-central1/trainingPipelines/8325361720348377088 current state:\n",
      "PipelineState.PIPELINE_STATE_RUNNING\n",
      "AutoMLForecastingTrainingJob projects/934903580331/locations/us-central1/trainingPipelines/8325361720348377088 current state:\n",
      "PipelineState.PIPELINE_STATE_RUNNING\n",
      "AutoMLForecastingTrainingJob projects/934903580331/locations/us-central1/trainingPipelines/8325361720348377088 current state:\n",
      "PipelineState.PIPELINE_STATE_RUNNING\n",
      "AutoMLForecastingTrainingJob projects/934903580331/locations/us-central1/trainingPipelines/8325361720348377088 current state:\n",
      "PipelineState.PIPELINE_STATE_RUNNING\n",
      "AutoMLForecastingTrainingJob projects/934903580331/locations/us-central1/trainingPipelines/8325361720348377088 current state:\n",
      "PipelineState.PIPELINE_STATE_RUNNING\n",
      "AutoMLForecastingTrainingJob projects/934903580331/locations/us-central1/trainingPipelines/8325361720348377088 current state:\n",
      "PipelineState.PIPELINE_STATE_RUNNING\n",
      "AutoMLForecastingTrainingJob projects/934903580331/locations/us-central1/trainingPipelines/8325361720348377088 current state:\n",
      "PipelineState.PIPELINE_STATE_RUNNING\n",
      "AutoMLForecastingTrainingJob projects/934903580331/locations/us-central1/trainingPipelines/8325361720348377088 current state:\n",
      "PipelineState.PIPELINE_STATE_RUNNING\n",
      "AutoMLForecastingTrainingJob projects/934903580331/locations/us-central1/trainingPipelines/8325361720348377088 current state:\n",
      "PipelineState.PIPELINE_STATE_RUNNING\n",
      "AutoMLForecastingTrainingJob projects/934903580331/locations/us-central1/trainingPipelines/8325361720348377088 current state:\n",
      "PipelineState.PIPELINE_STATE_RUNNING\n",
      "AutoMLForecastingTrainingJob projects/934903580331/locations/us-central1/trainingPipelines/8325361720348377088 current state:\n",
      "PipelineState.PIPELINE_STATE_RUNNING\n",
      "AutoMLForecastingTrainingJob projects/934903580331/locations/us-central1/trainingPipelines/8325361720348377088 current state:\n",
      "PipelineState.PIPELINE_STATE_RUNNING\n",
      "AutoMLForecastingTrainingJob projects/934903580331/locations/us-central1/trainingPipelines/8325361720348377088 current state:\n",
      "PipelineState.PIPELINE_STATE_RUNNING\n",
      "AutoMLForecastingTrainingJob projects/934903580331/locations/us-central1/trainingPipelines/8325361720348377088 current state:\n",
      "PipelineState.PIPELINE_STATE_RUNNING\n",
      "AutoMLForecastingTrainingJob run completed. Resource name: projects/934903580331/locations/us-central1/trainingPipelines/8325361720348377088\n",
      "Model available at projects/934903580331/locations/us-central1/models/9104011253566668800\n",
      "Exported examples available at:\n",
      "bq://hybrid-vertex.m5_us.sdk_train_automl_qs\n"
     ]
    }
   ],
   "source": [
    "forecast=forecast_job.run(\n",
    "    dataset=dataset,\n",
    "    target_column=TARGET_COLUMN,\n",
    "    time_column=TIME_COLUMN,\n",
    "    time_series_identifier_column=SERIES_COLUMN,\n",
    "    unavailable_at_forecast_columns=UNAVAILABLE_AT_FORECAST_COLS,\n",
    "    available_at_forecast_columns=AVAILABLE_AT_FORECAST_COLS,\n",
    "    forecast_horizon=FORECAST_HORIZON,\n",
    "    data_granularity_unit=FORECAST_GRANULARITY.lower(),\n",
    "    data_granularity_count=DATA_GRANULARITY_COUNT,\n",
    "    predefined_split_column_name=PREDEFINED_SPLIT_COL,\n",
    "    context_window = CONTEXT_WINDOW,\n",
    "    export_evaluated_data_items=True,\n",
    "    export_evaluated_data_items_bigquery_destination_uri=BQ_EVAL_DESTINATION,\n",
    "    validation_options=\"fail-pipeline\",\n",
    "    budget_milli_node_hours = MILLI_NODE_HRS,\n",
    "    model_display_name=f\"{EXPERIMENT_NAME}_{BQ_TABLE}\",\n",
    "    model_labels={'experiment':f'{EXPERIMENT_NAME}'},\n",
    "    holiday_regions=HOLIDAY_REGIONS,\n",
    "    quantiles=QUANTILES,\n",
    "    additional_experiments=[ENABLE_PROBABILISTIC_INFER],\n",
    "    sync=True\n",
    ")"
   ]
  },
  {
   "cell_type": "code",
   "execution_count": null,
   "id": "9b1dfe66-7af3-40ec-ab71-5bfec4ae3b38",
   "metadata": {},
   "outputs": [],
   "source": [
    "FORECAST_MODEL_RSC_NAME = forecast.resource_name\n",
    "print(f\"FORECAST_MODEL_RSC_NAME: {FORECAST_MODEL_RSC_NAME}\")"
   ]
  },
  {
   "cell_type": "markdown",
   "id": "00f61ccd-f739-4966-96fb-c60eb4319d34",
   "metadata": {},
   "source": [
    "## default Model Evaluation"
   ]
  },
  {
   "cell_type": "code",
   "execution_count": null,
   "id": "df4a727a-7fef-4ea5-92ef-cbd7b811ad46",
   "metadata": {},
   "outputs": [],
   "source": [
    "forecast_EVALS = forecast.list_model_evaluations()\n",
    "\n",
    "for model_evaluation in forecast_EVALS:\n",
    "    print(model_evaluation.to_dict())"
   ]
  },
  {
   "cell_type": "code",
   "execution_count": null,
   "id": "8f54a79b-6495-4e14-a21e-057fc56f50b1",
   "metadata": {},
   "outputs": [],
   "source": [
    "# Drop any metrics the ARIMA pipeline doesn't support yet.\n",
    "model_evaluation = list(forecast.list_model_evaluations())[0]\n",
    "metrics_dict = {k: [v] for k, v in dict(model_evaluation.metrics).items()}\n",
    "metrics_dict"
   ]
  },
  {
   "cell_type": "markdown",
   "id": "824cb588-693d-49a6-b55d-8c6f64e1147f",
   "metadata": {},
   "source": [
    "# Evaluate quantile predictions\n",
    "\n",
    "**TODO**\n",
    "\n",
    "* see [Probabilistic Inference User Guide | Vertex Forecast](https://docs.google.com/document/d/1kegOsor8j7HO2qttMKK6mtfl5GzoxDf8LhsXH8oXsyo/edit#)"
   ]
  },
  {
   "cell_type": "markdown",
   "id": "7e443777-608f-4180-a9ce-181d48baf13d",
   "metadata": {},
   "source": [
    "### understanding quantile predictions\n",
    "\n",
    "Vertex Forecast output eval dataset\n",
    "* `predicted_sales.quantile_values` will give the quantiles, i.e. [0.1, 0.3, 0.5, 0.7, 0.9]\n",
    "* `predicted_sales.quantile_predictions` will be an array of the same length with matching predictions\n",
    "* There is also a field `predicted_sales.value` which is just the prediction for the 0.5 quantile (median)\n",
    "\n",
    "Different statistics can be estimated from the quantiles, including statistics that minimize:\n",
    "* RMSE (weighted mean of quantile values)\n",
    "* MAPE (median weighted by 1/value)\n",
    "* MAE (median)"
   ]
  },
  {
   "cell_type": "code",
   "execution_count": null,
   "id": "70fa4197-7160-46f5-bc67-4082790fc1aa",
   "metadata": {},
   "outputs": [],
   "source": []
  }
 ],
 "metadata": {
  "environment": {
   "kernel": "python3",
   "name": "common-cpu.m103",
   "type": "gcloud",
   "uri": "gcr.io/deeplearning-platform-release/base-cpu:m103"
  },
  "kernelspec": {
   "display_name": "Python 3",
   "language": "python",
   "name": "python3"
  },
  "language_info": {
   "codemirror_mode": {
    "name": "ipython",
    "version": 3
   },
   "file_extension": ".py",
   "mimetype": "text/x-python",
   "name": "python",
   "nbconvert_exporter": "python",
   "pygments_lexer": "ipython3",
   "version": "3.7.12"
  }
 },
 "nbformat": 4,
 "nbformat_minor": 5
}
