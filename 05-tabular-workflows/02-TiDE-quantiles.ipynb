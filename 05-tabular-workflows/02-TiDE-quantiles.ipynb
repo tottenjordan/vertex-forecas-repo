{
 "cells": [
  {
   "cell_type": "markdown",
   "id": "35dc312e-aa9e-4d09-944f-100eb7ee6509",
   "metadata": {},
   "source": [
    "# Demand Forecasting with Vertex Forecast on Tabular Workflows\n",
    "\n",
    "**Objectives**\n",
    "* train with and forecast *Iowa liquor BigQuery public dataset*\n",
    "* Use Tabular Workflows to orchestrate Vertex Forecast pipeline\n",
    "* Track experiments\n",
    "* Run model evalutaions for trained forecast models\n",
    "\n",
    "**TODOs**\n",
    "* `skip architecture search` in a retraining pipeline\n",
    "* upload v2 of a model and its evals"
   ]
  },
  {
   "cell_type": "code",
   "execution_count": 39,
   "id": "44fd63e1-a2e6-44d8-a956-ee602430fbb7",
   "metadata": {
    "tags": []
   },
   "outputs": [],
   "source": [
    "# !pip3 install {USER_FLAG} google-cloud-aiplatform kfp google-cloud-pipeline-components --upgrade\n",
    "# !pip3 install --no-cache-dir {USER_FLAG} PyYAML==5.3.1 "
   ]
  },
  {
   "cell_type": "code",
   "execution_count": 40,
   "id": "d7f338bf-70d6-4464-89dd-f87a45d99cce",
   "metadata": {
    "tags": []
   },
   "outputs": [
    {
     "name": "stdout",
     "output_type": "stream",
     "text": [
      "KFP SDK version: 2.4.0\n",
      "google_cloud_pipeline_components version: 2.3.0\n"
     ]
    }
   ],
   "source": [
    "!python3 -c \"import kfp; print('KFP SDK version: {}'.format(kfp.__version__))\"\n",
    "!python3 -c \"import google_cloud_pipeline_components; print('google_cloud_pipeline_components version: {}'.format(google_cloud_pipeline_components.__version__))\""
   ]
  },
  {
   "cell_type": "markdown",
   "id": "aa145e15-4650-4e2e-a5a8-ea9f71816ef1",
   "metadata": {},
   "source": [
    "## Load notebook config\n",
    "\n",
    "> use the prefix defined in 00-env-setup"
   ]
  },
  {
   "cell_type": "code",
   "execution_count": 41,
   "id": "eb269c2c-5697-4f9e-ab5b-2bd9f0868ee8",
   "metadata": {},
   "outputs": [],
   "source": [
    "CREATE_NEW_ASSETS = True"
   ]
  },
  {
   "cell_type": "code",
   "execution_count": 42,
   "id": "e8ae3b82-a0f7-41ed-9e2c-3a0552974d3c",
   "metadata": {
    "tags": []
   },
   "outputs": [
    {
     "name": "stdout",
     "output_type": "stream",
     "text": [
      "PREFIX = forecast-refresh-v1\n"
     ]
    }
   ],
   "source": [
    "# naming convention for all cloud resources\n",
    "VERSION        = \"v1\"              # TODO\n",
    "PREFIX         = f'forecast-refresh-{VERSION}'   # TODO\n",
    "\n",
    "print(f\"PREFIX = {PREFIX}\")"
   ]
  },
  {
   "cell_type": "code",
   "execution_count": 43,
   "id": "c1368cb3-2cdf-4571-9281-c847cead0318",
   "metadata": {
    "tags": []
   },
   "outputs": [
    {
     "name": "stdout",
     "output_type": "stream",
     "text": [
      "\n",
      "PROJECT_ID               = \"hybrid-vertex\"\n",
      "PROJECT_NUM              = \"934903580331\"\n",
      "LOCATION                 = \"us-central1\"\n",
      "\n",
      "REGION                   = \"us-central1\"\n",
      "BQ_LOCATION              = \"US\"\n",
      "VPC_NETWORK_NAME         = \"ucaip-haystack-vpc-network\"\n",
      "\n",
      "VERTEX_SA                = \"934903580331-compute@developer.gserviceaccount.com\"\n",
      "\n",
      "PREFIX                   = \"forecast-refresh-v1\"\n",
      "VERSION                  = \"v1\"\n",
      "\n",
      "BUCKET_NAME              = \"forecast-refresh-v1-hybrid-vertex-gcs\"\n",
      "BUCKET_URI               = \"gs://forecast-refresh-v1-hybrid-vertex-gcs\"\n",
      "\n",
      "DATA_GCS_PREFIX          = \"data\"\n",
      "DATA_PATH                = \"gs://forecast-refresh-v1-hybrid-vertex-gcs/data\"\n",
      "\n",
      "\n",
      "VPC_NETWORK_FULL         = \"projects/934903580331/global/networks/ucaip-haystack-vpc-network\"\n",
      "\n"
     ]
    }
   ],
   "source": [
    "# staging GCS\n",
    "GCP_PROJECTS             = !gcloud config get-value project\n",
    "PROJECT_ID               = GCP_PROJECTS[0]\n",
    "\n",
    "# ! gcloud config set project $PROJECT_ID\n",
    "\n",
    "# GCS bucket and paths\n",
    "BUCKET_NAME              = f'{PREFIX}-{PROJECT_ID}-gcs'\n",
    "BUCKET_URI               = f'gs://{BUCKET_NAME}'\n",
    "\n",
    "config = !gsutil cat {BUCKET_URI}/config/notebook_env.py\n",
    "print(config.n)\n",
    "exec(config.n)"
   ]
  },
  {
   "cell_type": "code",
   "execution_count": 44,
   "id": "30fd1173-e7ec-45d2-ac4f-ef6f35f1e18e",
   "metadata": {
    "tags": []
   },
   "outputs": [
    {
     "name": "stdout",
     "output_type": "stream",
     "text": [
      "gs://forecast-refresh-v1-hybrid-vertex-gcs/automl_forecasting_pipeline/\n",
      "gs://forecast-refresh-v1-hybrid-vertex-gcs/config/\n"
     ]
    }
   ],
   "source": [
    "# For a list of available model metrics, go here:\n",
    "!gsutil ls $BUCKET_URI"
   ]
  },
  {
   "cell_type": "markdown",
   "id": "d6d40790-c76b-4473-8b94-836131bd8cb4",
   "metadata": {},
   "source": [
    "## Imports"
   ]
  },
  {
   "cell_type": "code",
   "execution_count": 45,
   "id": "adde7be5-33b5-4ea0-befe-96c895a42225",
   "metadata": {
    "tags": []
   },
   "outputs": [
    {
     "name": "stdout",
     "output_type": "stream",
     "text": [
      "tide-prob-infer-v1\n"
     ]
    }
   ],
   "source": [
    "EXPERIMENT_TAG     = \"tide-prob-infer\"\n",
    "EXPERIMENT_VERSION = \"v1\"\n",
    "\n",
    "EXPERIMENT_NAME = f\"{EXPERIMENT_TAG}-{EXPERIMENT_VERSION}\"\n",
    "\n",
    "print(EXPERIMENT_NAME)"
   ]
  },
  {
   "cell_type": "code",
   "execution_count": 46,
   "id": "4986ccbd-7a47-4a01-a673-3fc0c706192d",
   "metadata": {
    "tags": []
   },
   "outputs": [],
   "source": [
    "# Import required modules\n",
    "import json\n",
    "import datetime\n",
    "from pprint import pprint\n",
    "from typing import Any, Dict, List, Optional\n",
    "\n",
    "from google.cloud import aiplatform, storage, bigquery\n",
    "\n",
    "# from google_cloud_pipeline_components.types.artifact_types import VertexDataset\n",
    "from google_cloud_pipeline_components.preview.automl.forecasting import \\\n",
    "    utils as automl_forecasting_utils\n",
    "\n",
    "\n",
    "# Construct a BigQuery client object.\n",
    "bq_client = bigquery.Client(project=PROJECT_ID)\n",
    "\n",
    "aiplatform.init(\n",
    "    experiment=EXPERIMENT_NAME, \n",
    "    project=PROJECT_ID, \n",
    "    location=REGION\n",
    ")\n",
    "\n",
    "import sys\n",
    "sys.path.append(\"..\")\n",
    "from src import helpers"
   ]
  },
  {
   "cell_type": "markdown",
   "id": "decaf69b-37d9-4319-a1a1-fef32de88954",
   "metadata": {},
   "source": [
    "## Create BigQuery Dataset"
   ]
  },
  {
   "cell_type": "code",
   "execution_count": 47,
   "id": "ca65b389-d25a-4724-b2ea-c8c7cb3b88c0",
   "metadata": {
    "tags": []
   },
   "outputs": [
    {
     "data": {
      "text/plain": [
       "Dataset(DatasetReference('hybrid-vertex', 'tide_prob_infer_v1'))"
      ]
     },
     "execution_count": 47,
     "metadata": {},
     "output_type": "execute_result"
    }
   ],
   "source": [
    "BIGQUERY_DATASET_NAME = EXPERIMENT_NAME.replace(\"-\",\"_\")\n",
    "\n",
    "if CREATE_NEW_ASSETS:\n",
    "    ds = bigquery.Dataset(f\"{PROJECT_ID}.{BIGQUERY_DATASET_NAME}\")\n",
    "    ds.location = BQ_LOCATION\n",
    "    ds = bq_client.create_dataset(dataset = ds, exists_ok = True)\n",
    "    # print(ds.full_dataset_id)\n",
    "else:\n",
    "    ds = bigquery.Dataset(f\"{PROJECT_ID}.{BIGQUERY_DATASET_NAME}\")\n",
    "    \n",
    "ds "
   ]
  },
  {
   "cell_type": "markdown",
   "id": "eb45f81e-9371-469e-97a7-6f747454df2e",
   "metadata": {},
   "source": [
    "## prepare train job"
   ]
  },
  {
   "cell_type": "code",
   "execution_count": 48,
   "id": "cbe6f627-9f46-42c8-8699-1c7b8472e1fe",
   "metadata": {
    "tags": []
   },
   "outputs": [
    {
     "name": "stdout",
     "output_type": "stream",
     "text": [
      "ROOT_DIR = gs://forecast-refresh-v1-hybrid-vertex-gcs/automl_forecasting_pipeline/tide-prob-infer-v1/run-0302_32_26_686468\n"
     ]
    }
   ],
   "source": [
    "# Dataflow's fully qualified subnetwork name, when empty the default subnetwork will be used.\n",
    "dataflow_subnetwork           = None \n",
    "\n",
    "# Specifies whether Dataflow workers use public IP addresses.\n",
    "dataflow_use_public_ips       = True\n",
    "\n",
    "NOW                           = datetime.datetime.now().strftime(\"%d %H:%M:%S.%f\").replace(\" \",\"\").replace(\":\",\"_\").replace(\".\",\"_\")\n",
    "ROOT_DIR                      = f\"{BUCKET_URI}/automl_forecasting_pipeline/{EXPERIMENT_NAME}/run-{NOW}\"\n",
    "time_column                   = \"date\"\n",
    "time_series_identifier_column = \"store_name\"\n",
    "target_column                 = \"sale_dollars\"\n",
    "data_source_csv_filenames     = None\n",
    "\n",
    "print(f\"ROOT_DIR = {ROOT_DIR}\")"
   ]
  },
  {
   "cell_type": "code",
   "execution_count": 49,
   "id": "8aed5e93-24b2-4161-8666-da43fa78a872",
   "metadata": {
    "tags": []
   },
   "outputs": [
    {
     "name": "stdout",
     "output_type": "stream",
     "text": [
      "available_at_forecast_columns    = ['date']\n",
      "unavailable_at_forecast_columns  = ['sale_dollars']\n",
      "time_series_attribute_columns    = ['city', 'zip_code', 'county']\n"
     ]
    }
   ],
   "source": [
    "data_source_bigquery_table_path = (\n",
    "    \"bq://bigquery-public-data.iowa_liquor_sales_forecasting.2020_sales_train\"\n",
    ")\n",
    "\n",
    "training_fraction = 0.8\n",
    "validation_fraction = 0.1\n",
    "test_fraction = 0.1\n",
    "\n",
    "predefined_split_key = None\n",
    "if predefined_split_key:\n",
    "    training_fraction = None\n",
    "    validation_fraction = None\n",
    "    test_fraction = None\n",
    "\n",
    "weight_column = None\n",
    "\n",
    "features = [\n",
    "    time_column,\n",
    "    target_column,\n",
    "    \"city\",\n",
    "    \"zip_code\",\n",
    "    \"county\",\n",
    "]\n",
    "\n",
    "available_at_forecast_columns = [time_column]\n",
    "unavailable_at_forecast_columns = [target_column]\n",
    "time_series_attribute_columns = [\"city\", \"zip_code\", \"county\"]\n",
    "\n",
    "forecast_horizon = 50\n",
    "context_window = 50\n",
    "\n",
    "print(f\"available_at_forecast_columns    = {available_at_forecast_columns}\")\n",
    "print(f\"unavailable_at_forecast_columns  = {unavailable_at_forecast_columns}\")\n",
    "print(f\"time_series_attribute_columns    = {time_series_attribute_columns}\")"
   ]
  },
  {
   "cell_type": "code",
   "execution_count": 50,
   "id": "dff50d5c-1bef-4f95-92ba-a5877d360460",
   "metadata": {
    "tags": []
   },
   "outputs": [
    {
     "name": "stdout",
     "output_type": "stream",
     "text": [
      "transformations       = {'auto': ['date', 'sale_dollars', 'city', 'zip_code', 'county'], 'numeric': [], 'categorical': [], 'text': [], 'timestamp': []}\n",
      "\n"
     ]
    }
   ],
   "source": [
    "transformations = helpers.generate_transformation(auto_column_names=features)\n",
    "\n",
    "print(f\"transformations       = {transformations}\\n\")"
   ]
  },
  {
   "cell_type": "code",
   "execution_count": 51,
   "id": "44ae7f8b-da1e-419c-b50a-17a69db9436e",
   "metadata": {
    "tags": []
   },
   "outputs": [
    {
     "name": "stdout",
     "output_type": "stream",
     "text": [
      "gs://forecast-refresh-v1-hybrid-vertex-gcs/automl_forecasting_pipeline/\n",
      "gs://forecast-refresh-v1-hybrid-vertex-gcs/config/\n"
     ]
    }
   ],
   "source": [
    "# For a list of available model metrics, go here:\n",
    "!gsutil ls $BUCKET_URI/"
   ]
  },
  {
   "cell_type": "markdown",
   "id": "88ca7d3f-7120-4f9c-9a69-eecd0aa3a307",
   "metadata": {},
   "source": [
    "# Vertex Forecast Training\n",
    "\n",
    "**Optimization Objectives** ([docs](https://cloud.google.com/vertex-ai/docs/tabular-data/forecasting-parameters#optimization-objectives))\n",
    "\n",
    "| Objective  | API                      | Use case |\n",
    "| :--------: | :------------:           | :------------------------------------- |\n",
    "| RMSE       | `minimize-rmse`          | Minimize root-mean-squared error (RMSE). Captures more extreme values accurately and is less biased when aggregating predictions.Default value. |\n",
    "| MAE        | `minimize-mae`           | Minimize mean-absolute error (MAE). Views extreme values as outliers with less impact on model. |\n",
    "| RMSLE      | `minimize-rmsle`         | Minimize root-mean-squared log error (RMSLE). Penalizes error on relative size rather than absolute value. Useful when both predicted and actual values can be large. |\n",
    "| RMSPE      | `minimize-rmspe`         | Minimize root-mean-squared percentage error (RMSPE). Captures a large range of values accurately. Similar to RMSE, but relative to target magnitude. Useful when the range of values is large. |\n",
    "| WAPE       | `minimize-wape-mae`      | Minimize the combination of weighted absolute percentage error (WAPE) and mean-absolute-error (MAE). Useful when the actual values are low. |\n",
    "| QUANTILE   | `minimize-quantile-loss` | Minimize the scaled pinball loss of the defined quantiles to quantify uncertainty in estimates. Quantile predictions quantify the uncertainty of predictions. They measure the likelihood of a prediction being within a range. |\n",
    "\n",
    "\n",
    "**TiDE on Vertex Tabluar Workflows**\n",
    "* [src](https://github.com/kubeflow/pipelines/blob/master/components/google-cloud/google_cloud_pipeline_components/preview/automl/forecasting/utils.py#L413)"
   ]
  },
  {
   "cell_type": "markdown",
   "id": "fd20af59-98bf-4f7d-855e-d7316aa0e512",
   "metadata": {},
   "source": [
    "#### TODO\n",
    "\n",
    "* add `with dsl.ParallelFor(LIST) as cw:` for parallel jobs with diff params (e.g., statmike [example](https://github.com/statmike/vertex-ai-mlops/blob/main/Applied%20Forecasting/Vertex%20AI%20Pipelines%20-%20Forecasting%20Tournament%20with%20Kubeflow%20Pipelines%20(KFP).ipynb)"
   ]
  },
  {
   "cell_type": "code",
   "execution_count": 52,
   "id": "8d5c8289-e747-4905-aa05-f2fd0db54eb8",
   "metadata": {
    "tags": []
   },
   "outputs": [
    {
     "name": "stdout",
     "output_type": "stream",
     "text": [
      "JOB_ID = tide-prob-infer-v1-0302-32-26-686468\n"
     ]
    }
   ],
   "source": [
    "# Number of weak models in the final ensemble model.\n",
    "num_selected_trials           = 3\n",
    "train_budget_milli_node_hours = 250\n",
    "\n",
    "optimization_objective        = \"minimize-wape-mae\" # \"minimize-quantile-loss\" \n",
    "\n",
    "RUN_EVALUATION                = True\n",
    "\n",
    "PROBABILISTIC_INFER           = True\n",
    "QUANTILES                     = [0.05, 0.25, 0.50, 0.75, 0.95]\n",
    "\n",
    "JOB_ID                        = f\"{EXPERIMENT_NAME}-{NOW}\".replace(\"_\",\"-\")\n",
    "\n",
    "print(f\"JOB_ID = {JOB_ID}\")"
   ]
  },
  {
   "cell_type": "code",
   "execution_count": 53,
   "id": "fa5a824e-8e1a-40c3-8473-967e8264a398",
   "metadata": {
    "tags": []
   },
   "outputs": [
    {
     "name": "stdout",
     "output_type": "stream",
     "text": [
      "Creating PipelineJob\n",
      "PipelineJob created. Resource name: projects/934903580331/locations/us-central1/pipelineJobs/tide-prob-infer-v1-0302-32-26-686468\n",
      "To use this PipelineJob in another session:\n",
      "pipeline_job = aiplatform.PipelineJob.get('projects/934903580331/locations/us-central1/pipelineJobs/tide-prob-infer-v1-0302-32-26-686468')\n",
      "View Pipeline Job:\n",
      "https://console.cloud.google.com/vertex-ai/locations/us-central1/pipelines/runs/tide-prob-infer-v1-0302-32-26-686468?project=934903580331\n",
      "Associating projects/934903580331/locations/us-central1/pipelineJobs/tide-prob-infer-v1-0302-32-26-686468 to Experiment: tide-prob-infer-v1\n"
     ]
    }
   ],
   "source": [
    "(\n",
    "    template_path,\n",
    "    parameter_values,\n",
    ") = automl_forecasting_utils.get_time_series_dense_encoder_forecasting_pipeline_and_parameters(\n",
    "    project=PROJECT_ID,\n",
    "    location=REGION,\n",
    "    root_dir=ROOT_DIR,\n",
    "    target_column=target_column,\n",
    "    optimization_objective=optimization_objective,\n",
    "    transformations=transformations,\n",
    "    train_budget_milli_node_hours=train_budget_milli_node_hours,\n",
    "    data_source_csv_filenames=data_source_csv_filenames,\n",
    "    data_source_bigquery_table_path=data_source_bigquery_table_path,\n",
    "    weight_column=weight_column,\n",
    "    predefined_split_key=predefined_split_key,\n",
    "    training_fraction=training_fraction,\n",
    "    validation_fraction=validation_fraction,\n",
    "    test_fraction=test_fraction,\n",
    "    num_selected_trials=num_selected_trials,\n",
    "    time_column=time_column,\n",
    "    time_series_identifier_columns=[time_series_identifier_column],\n",
    "    time_series_attribute_columns=time_series_attribute_columns,\n",
    "    available_at_forecast_columns=available_at_forecast_columns,\n",
    "    unavailable_at_forecast_columns=unavailable_at_forecast_columns,\n",
    "    forecast_horizon=forecast_horizon,\n",
    "    context_window=context_window,\n",
    "    dataflow_subnetwork=dataflow_subnetwork,\n",
    "    dataflow_use_public_ips=dataflow_use_public_ips,\n",
    "    run_evaluation=RUN_EVALUATION,                          # set True to eval on test/valid set\n",
    "    evaluated_examples_bigquery_path=f'bq://{PROJECT_ID}.{BIGQUERY_DATASET_NAME}',\n",
    "    enable_probabilistic_inference=PROBABILISTIC_INFER,\n",
    "    ### quantile forecast\n",
    "    quantiles=QUANTILES,\n",
    "    \n",
    "    ### hierarchical forecast\n",
    "    # group_columns=XXXX,\n",
    "    # group_total_weight=XXXX,\n",
    "    # temporal_total_weight=XXXX,\n",
    "    # group_temporal_total_weight=XXXX,\n",
    ")\n",
    "\n",
    "job = aiplatform.PipelineJob(\n",
    "    display_name=JOB_ID,\n",
    "    location=REGION,  # launches the pipeline job in the specified region\n",
    "    template_path=template_path,\n",
    "    job_id=JOB_ID,\n",
    "    pipeline_root=ROOT_DIR,\n",
    "    parameter_values=parameter_values,\n",
    "    enable_caching=False,\n",
    ")\n",
    "\n",
    "job.submit(\n",
    "    experiment=EXPERIMENT_NAME,\n",
    "    # sync=False,\n",
    "    service_account=VERTEX_SA,\n",
    ")"
   ]
  },
  {
   "cell_type": "code",
   "execution_count": 54,
   "id": "daa5ff12-cec7-48ef-a76e-d040d2188093",
   "metadata": {},
   "outputs": [
    {
     "name": "stdout",
     "output_type": "stream",
     "text": [
      "exit-handler-1\n",
      "model-batch-predict-2\n",
      "training-configurator-and-validator\n",
      "condition-4\n",
      "condition-5\n",
      "feature-attribution-2\n",
      "automl-forecasting-stage-1-tuner\n",
      "model-evaluation-import-2\n",
      "split-materialized-data\n",
      "get-prediction-image-uri-2\n",
      "get-predictions-column-2\n",
      "automl-tabular-finalizer\n",
      "model-batch-explanation-2\n",
      "string-not-empty\n",
      "model-upload-2\n",
      "condition-2\n",
      "calculate-training-parameters-2\n",
      "table-to-uri-2\n",
      "set-optional-inputs\n",
      "automl-forecasting-ensemble-2\n",
      "model-evaluation-forecasting-2\n",
      "tide-prob-infer-v1-0302-32-26-686468\n",
      "feature-transform-engine\n",
      "get-or-create-model-description-2\n",
      "finalize-eval-quantile-parameters-2\n"
     ]
    }
   ],
   "source": [
    "pipeline_task_details = job.task_details\n",
    "\n",
    "for task_deets in pipeline_task_details:\n",
    "    print(task_deets.task_name)"
   ]
  },
  {
   "cell_type": "markdown",
   "id": "0816dcdf-89e3-450c-9fa8-3e2b49539126",
   "metadata": {},
   "source": [
    "### Get trained model"
   ]
  },
  {
   "cell_type": "code",
   "execution_count": 55,
   "id": "2f808277-2f71-4cd2-8d81-3a25a33c3a5d",
   "metadata": {},
   "outputs": [
    {
     "name": "stdout",
     "output_type": "stream",
     "text": [
      "stage_1_tuning_result_artifact_uri: gs://forecast-refresh-v1-hybrid-vertex-gcs/automl_forecasting_pipeline/tide-prob-infer-v1/run-0302_32_26_686468/934903580331/tide-prob-infer-v1-0302-32-26-686468/automl-forecasting-stage-1-tuner_-3896564892672458752/tuning_result_output\n",
      "forecasting_mp_model: <google.cloud.aiplatform.models.Model object at 0x7fbc04f929e0> \n",
      "resource name: projects/934903580331/locations/us-central1/models/3100286339770220544\n"
     ]
    }
   ],
   "source": [
    "stage_1_tuner_task = helpers.get_task_detail(\n",
    "    pipeline_task_details, \"automl-forecasting-stage-1-tuner\"\n",
    ")\n",
    "stage_1_tuning_result_artifact_uri = (\n",
    "    stage_1_tuner_task.outputs[\"tuning_result_output\"].artifacts[0].uri\n",
    ")\n",
    "print(f\"stage_1_tuning_result_artifact_uri: {stage_1_tuning_result_artifact_uri}\")\n",
    "\n",
    "# get uploaded model\n",
    "upload_model_task = helpers.get_task_detail(\n",
    "    pipeline_task_details, \"model-upload-2\"\n",
    ")\n",
    "\n",
    "forecasting_mp_model_artifact = (\n",
    "    upload_model_task.outputs[\"model\"].artifacts[0]\n",
    ")\n",
    "\n",
    "forecasting_mp_model = aiplatform.Model(forecasting_mp_model_artifact.metadata['resourceName'])\n",
    "print(f\"forecasting_mp_model: {forecasting_mp_model}\")"
   ]
  },
  {
   "cell_type": "markdown",
   "id": "f4d93595-a1cb-4d14-9c8e-749de2eeed07",
   "metadata": {},
   "source": [
    "### Model Evaluations"
   ]
  },
  {
   "cell_type": "code",
   "execution_count": 88,
   "id": "81e85a50-7c05-44f2-a6e4-650d9c74edf2",
   "metadata": {
    "tags": []
   },
   "outputs": [
    {
     "name": "stdout",
     "output_type": "stream",
     "text": [
      "{'createTime': '2024-01-03T03:46:23.564344Z',\n",
      " 'displayName': 'Vertex Forecasting pipeline',\n",
      " 'metadata': {'evaluation_dataset_path': ['bq://hybrid-vertex.vertex_feature_transform_engine_staging_us.vertex_ai_fte_split_output_test_staging_ide6c7363c89364430953edb41ebcf094a'],\n",
      "              'evaluation_dataset_type': 'bigquery',\n",
      "              'pipeline_job_id': '95635796261863424',\n",
      "              'pipeline_job_resource_name': 'projects/934903580331/locations/us-central1/pipelineJobs/tide-prob-infer-v1-0302-32-26-686468'},\n",
      " 'metrics': {'meanAbsoluteError': 4866.9663,\n",
      "             'meanAbsolutePercentageError': 310.6815,\n",
      "             'quantileMetrics': [{'observedQuantile': 0.058108253524157966,\n",
      "                                  'quantile': 0.05,\n",
      "                                  'scaledPinballLoss': 398.75778},\n",
      "                                 {'observedQuantile': 0.1049714839126224,\n",
      "                                  'quantile': 0.25,\n",
      "                                  'scaledPinballLoss': 1649.602},\n",
      "                                 {'observedQuantile': 0.3444528139459809,\n",
      "                                  'quantile': 0.5,\n",
      "                                  'scaledPinballLoss': 2433.4834},\n",
      "                                 {'observedQuantile': 0.6726030345421284,\n",
      "                                  'quantile': 0.75,\n",
      "                                  'scaledPinballLoss': 1928.8099},\n",
      "                                 {'observedQuantile': 0.8080813515549338,\n",
      "                                  'quantile': 0.95,\n",
      "                                  'scaledPinballLoss': 1240.8347}],\n",
      "             'rSquared': 0.36727983,\n",
      "             'rootMeanSquaredError': 10987.61,\n",
      "             'rootMeanSquaredLogError': 1.0028754,\n",
      "             'rootMeanSquaredPercentageError': 3845.579,\n",
      "             'weightedAbsolutePercentageError': 57.549328},\n",
      " 'metricsSchemaUri': 'gs://google-cloud-aiplatform/schema/modelevaluation/forecasting_metrics_1.0.0.yaml',\n",
      " 'modelExplanation': {'meanAttributions': [{'featureAttributions': {'city': 750.7691717791411,\n",
      "                                                                    'county': 617.369376278119,\n",
      "                                                                    'date': 1068.806273736489,\n",
      "                                                                    'sale_dollars': 4354.224839322234,\n",
      "                                                                    'zip_code': 645.2293675138773}}]},\n",
      " 'name': 'projects/934903580331/locations/us-central1/models/3100286339770220544@1/evaluations/9074017958241777586'}\n"
     ]
    }
   ],
   "source": [
    "if RUN_EVALUATION:\n",
    "    forecast_EVALS = forecasting_mp_model.list_model_evaluations()\n",
    "\n",
    "    for model_evaluation in forecast_EVALS:\n",
    "        pprint(model_evaluation.to_dict())\n",
    "        \n",
    "else:\n",
    "    print(f\"Model evaluations were set to: {RUN_EVALUATION}\")"
   ]
  },
  {
   "cell_type": "code",
   "execution_count": 89,
   "id": "bbea4232-0aa8-4056-8671-0911e9bec5bd",
   "metadata": {},
   "outputs": [
    {
     "name": "stdout",
     "output_type": "stream",
     "text": [
      "Model's evaluation metrics from training:\n",
      "\n",
      "metric: meanAbsoluteError, value: 4866.9663\n",
      "\n",
      "metric: weightedAbsolutePercentageError, value: 57.549328\n",
      "\n",
      "metric: rSquared, value: 0.36727983\n",
      "\n",
      "metric: meanAbsolutePercentageError, value: 310.6815\n",
      "\n",
      "metric: rootMeanSquaredPercentageError, value: 3845.579\n",
      "\n",
      "metric: rootMeanSquaredError, value: 10987.61\n",
      "\n",
      "metric: quantileMetrics, value: [{'scaledPinballLoss': 398.75778, 'quantile': 0.05, 'observedQuantile': 0.058108253524157966}, {'quantile': 0.25, 'scaledPinballLoss': 1649.602, 'observedQuantile': 0.1049714839126224}, {'observedQuantile': 0.3444528139459809, 'scaledPinballLoss': 2433.4834, 'quantile': 0.5}, {'observedQuantile': 0.6726030345421284, 'quantile': 0.75, 'scaledPinballLoss': 1928.8099}, {'scaledPinballLoss': 1240.8347, 'quantile': 0.95, 'observedQuantile': 0.8080813515549338}]\n",
      "\n",
      "metric: rootMeanSquaredLogError, value: 1.0028754\n",
      "\n"
     ]
    }
   ],
   "source": [
    "if RUN_EVALUATION:\n",
    "    # Get evaluations\n",
    "    model_evaluations = forecasting_mp_model.list_model_evaluations()\n",
    "\n",
    "    # Print the evaluation metrics\n",
    "    for evaluation in model_evaluations:\n",
    "        evaluation = evaluation.to_dict()\n",
    "        print(\"Model's evaluation metrics from training:\\n\")\n",
    "        metrics = evaluation[\"metrics\"]\n",
    "        for metric in metrics.keys():\n",
    "            print(f\"metric: {metric}, value: {metrics[metric]}\\n\")"
   ]
  },
  {
   "cell_type": "markdown",
   "id": "da5405a6-d2fb-4dc4-992f-cc63daccfb5d",
   "metadata": {},
   "source": [
    "## View prediction results"
   ]
  },
  {
   "cell_type": "markdown",
   "id": "522aa6dd-d654-4086-bf88-69a405077c0b",
   "metadata": {},
   "source": [
    "**Working with quantiles / prediction intervals**\n",
    "* see this guide for details: [Example batch prediction output for a quantile-loss optimized model](https://cloud.google.com/vertex-ai/docs/tabular-data/tabular-workflows/forecasting-batch-predictions#example_batch_prediction_output_for_a_quantile-loss_optimized_model)\n",
    "* `predicted_sales.quantile_values` will give the quantiles, i.e. `[0.1, 0.3, 0.5, 0.7, 0.9]`\n",
    "* `predicted_sales.quantile_predictions` will be an array of the same length with matching predictions\n",
    "* There is also a field `predicted_sales.value` which is just the prediction for the 0.5 quantile (median)\n",
    "\n",
    "\n",
    "**Different statistics can be estimated from the quantiles, including statistics that minimize:**\n",
    "\n",
    "* RMSE (weighted mean of quantile values)\n",
    "* MAPE (median weighted by 1/value)\n",
    "* MAE (median)\n",
    "\n",
    "Use the BigQuery Python client to query the destination table and return results as a Pandas dataframe."
   ]
  },
  {
   "cell_type": "code",
   "execution_count": 90,
   "id": "69707fae-251e-4609-8043-33cea7ea14d6",
   "metadata": {
    "tags": []
   },
   "outputs": [
    {
     "name": "stdout",
     "output_type": "stream",
     "text": [
      "BP_PREDS_DATASET_NAME : tide_prob_infer_v1\n",
      "BP_PREDS_TABLE_NAME   : predictions_2024_01_02T19_20_11_716Z_405\n"
     ]
    }
   ],
   "source": [
    "batch_pred_task = helpers.get_task_detail(\n",
    "    pipeline_task_details, \"model-batch-predict-2\"\n",
    ")\n",
    "\n",
    "batch_pred_task_result_artifact_uri = (\n",
    "    batch_pred_task.outputs[\"bigquery_output_table\"].artifacts[0].uri\n",
    ")\n",
    "\n",
    "BP_PREDS_DATASET_NAME = ds.dataset_id\n",
    "BP_PREDS_TABLE_NAME   = batch_pred_task_result_artifact_uri.split('/')[-1]\n",
    "\n",
    "print(f\"BP_PREDS_DATASET_NAME : {BP_PREDS_DATASET_NAME}\")\n",
    "print(f\"BP_PREDS_TABLE_NAME   : {BP_PREDS_TABLE_NAME}\")"
   ]
  },
  {
   "cell_type": "code",
   "execution_count": 91,
   "id": "357603d0-9779-4589-ac11-6f292abfe54d",
   "metadata": {
    "tags": []
   },
   "outputs": [
    {
     "name": "stdout",
     "output_type": "stream",
     "text": [
      "batch_predict_bq_output_uri : tide_prob_infer_v1.predictions_2024_01_02T19_20_11_716Z_405\n"
     ]
    }
   ],
   "source": [
    "batch_predict_bq_output_uri = \"{}.{}\".format(\n",
    "    BP_PREDS_DATASET_NAME,\n",
    "    BP_PREDS_TABLE_NAME\n",
    ")\n",
    "\n",
    "print(f\"batch_predict_bq_output_uri : {batch_predict_bq_output_uri}\")"
   ]
  },
  {
   "cell_type": "code",
   "execution_count": 92,
   "id": "5c0e4a31-e03f-486f-ab4b-d99746912972",
   "metadata": {},
   "outputs": [
    {
     "name": "stdout",
     "output_type": "stream",
     "text": [
      "# of Quantiles        : 5\n",
      "Quantiles             : [0.05, 0.25, 0.5, 0.75, 0.95]\n",
      "cleaned_quantile_list : ['05', '25', '50', '75', '95']\n"
     ]
    }
   ],
   "source": [
    "def _get_quantile_strings(quantile_list):\n",
    "    \n",
    "    cleaned_list = []\n",
    "    \n",
    "    for ele in quantile_list:\n",
    "        if str(ele).startswith(\"0.\"):\n",
    "            # cleaned_list.append(str(round(ele, 2)).replace(\"0.\",\"\"))\n",
    "            cleaned_list.append(('{0:.2f}'.format(ele)).replace(\"0.\",\"\"))\n",
    "                \n",
    "        if str(ele).startswith(\".\"):\n",
    "            # cleaned_list.append(str(round(ele, 2)).replace(\".\",\"\"))\n",
    "            cleaned_list.append(('{0:.2f}'.format(ele)).replace(\"0.\",\"\"))\n",
    "    \n",
    "    return cleaned_list\n",
    "\n",
    "cleaned_quantile_list = _get_quantile_strings(QUANTILES)\n",
    "\n",
    "print(f\"# of Quantiles        : {len(QUANTILES)}\")\n",
    "print(f\"Quantiles             : {QUANTILES}\")\n",
    "print(f\"cleaned_quantile_list : {cleaned_quantile_list}\")"
   ]
  },
  {
   "cell_type": "code",
   "execution_count": 94,
   "id": "121f215d-e1c3-426b-9368-a8b9a426369e",
   "metadata": {},
   "outputs": [
    {
     "name": "stdout",
     "output_type": "stream",
     "text": [
      "\n",
      "SELECT\n",
      " *EXCEPT(predicted_sale_dollars),\n",
      " predicted_sale_dollars.value AS predicted_sales_mean,\n",
      "  predicted_sale_dollars.quantile_predictions[OFFSET(0)] AS predicted_sale_dollars_p05, predicted_sale_dollars.quantile_predictions[OFFSET(1)] AS predicted_sale_dollars_p25, predicted_sale_dollars.quantile_predictions[OFFSET(2)] AS predicted_sale_dollars_p50, predicted_sale_dollars.quantile_predictions[OFFSET(3)] AS predicted_sale_dollars_p75, predicted_sale_dollars.quantile_predictions[OFFSET(4)] AS predicted_sale_dollars_p95,\n",
      "FROM\n",
      " `hybrid-vertex.tide_prob_infer_v1.predictions_2024_01_02T19_20_11_716Z_405`\n",
      " LIMIT 100\n",
      "\n"
     ]
    }
   ],
   "source": [
    "quantile_string = \"\"\n",
    "TARGET_COLUMN = \"sale_dollars\"\n",
    "\n",
    "for i in range(0, len(cleaned_quantile_list)):\n",
    "    quantile_string += f\" predicted_{TARGET_COLUMN}.quantile_predictions[OFFSET({i})] AS predicted_{TARGET_COLUMN}_p{cleaned_quantile_list[i]},\"\n",
    "    \n",
    "# quantile_string\n",
    "\n",
    "\n",
    "query = f\"\"\"\n",
    "SELECT\n",
    " *EXCEPT(predicted_{TARGET_COLUMN}),\n",
    " predicted_{TARGET_COLUMN}.value AS predicted_sales_mean,\n",
    " {quantile_string}\n",
    "FROM\n",
    " `{PROJECT_ID}.{batch_predict_bq_output_uri}`\n",
    " LIMIT 100\n",
    "\"\"\"\n",
    "print(query)"
   ]
  },
  {
   "cell_type": "code",
   "execution_count": 95,
   "id": "8e2bfa90-7006-44b7-8bef-eb1d51a74287",
   "metadata": {
    "tags": []
   },
   "outputs": [
    {
     "data": {
      "text/html": [
       "<div>\n",
       "<style scoped>\n",
       "    .dataframe tbody tr th:only-of-type {\n",
       "        vertical-align: middle;\n",
       "    }\n",
       "\n",
       "    .dataframe tbody tr th {\n",
       "        vertical-align: top;\n",
       "    }\n",
       "\n",
       "    .dataframe thead th {\n",
       "        text-align: right;\n",
       "    }\n",
       "</style>\n",
       "<table border=\"1\" class=\"dataframe\">\n",
       "  <thead>\n",
       "    <tr style=\"text-align: right;\">\n",
       "      <th></th>\n",
       "      <th>HORIZON__sale_dollars</th>\n",
       "      <th>city</th>\n",
       "      <th>county</th>\n",
       "      <th>date</th>\n",
       "      <th>predicted_on_date</th>\n",
       "      <th>sale_dollars</th>\n",
       "      <th>store_name</th>\n",
       "      <th>window__ide6c7363c89364430953edb41ebcf094a</th>\n",
       "      <th>zip_code</th>\n",
       "      <th>predicted_sales_mean</th>\n",
       "      <th>predicted_sale_dollars_p05</th>\n",
       "      <th>predicted_sale_dollars_p25</th>\n",
       "      <th>predicted_sale_dollars_p50</th>\n",
       "      <th>predicted_sale_dollars_p75</th>\n",
       "      <th>predicted_sale_dollars_p95</th>\n",
       "    </tr>\n",
       "  </thead>\n",
       "  <tbody>\n",
       "    <tr>\n",
       "      <th>0</th>\n",
       "      <td>1048.08</td>\n",
       "      <td>Adair</td>\n",
       "      <td>ADAIR</td>\n",
       "      <td>2020-12-18</td>\n",
       "      <td>2020-12-18</td>\n",
       "      <td>NaN</td>\n",
       "      <td>KUM &amp; GO #76 / ADAIR</td>\n",
       "      <td>true</td>\n",
       "      <td>50002.0</td>\n",
       "      <td>1213.5</td>\n",
       "      <td>593.0</td>\n",
       "      <td>923.0</td>\n",
       "      <td>1214.0</td>\n",
       "      <td>1541.0</td>\n",
       "      <td>2023.0</td>\n",
       "    </tr>\n",
       "    <tr>\n",
       "      <th>1</th>\n",
       "      <td>1718.40</td>\n",
       "      <td>Adair</td>\n",
       "      <td>ADAIR</td>\n",
       "      <td>2020-12-04</td>\n",
       "      <td>2020-12-04</td>\n",
       "      <td>NaN</td>\n",
       "      <td>KUM &amp; GO #76 / ADAIR</td>\n",
       "      <td>true</td>\n",
       "      <td>50002.0</td>\n",
       "      <td>1211.0</td>\n",
       "      <td>588.0</td>\n",
       "      <td>921.0</td>\n",
       "      <td>1212.0</td>\n",
       "      <td>1540.0</td>\n",
       "      <td>2107.0</td>\n",
       "    </tr>\n",
       "    <tr>\n",
       "      <th>2</th>\n",
       "      <td>1681.86</td>\n",
       "      <td>Adair</td>\n",
       "      <td>ADAIR</td>\n",
       "      <td>2020-12-11</td>\n",
       "      <td>2020-12-04</td>\n",
       "      <td>NaN</td>\n",
       "      <td>KUM &amp; GO #76 / ADAIR</td>\n",
       "      <td>true</td>\n",
       "      <td>50002.0</td>\n",
       "      <td>1184.5</td>\n",
       "      <td>550.0</td>\n",
       "      <td>872.0</td>\n",
       "      <td>1185.0</td>\n",
       "      <td>1573.0</td>\n",
       "      <td>2154.0</td>\n",
       "    </tr>\n",
       "  </tbody>\n",
       "</table>\n",
       "</div>"
      ],
      "text/plain": [
       "   HORIZON__sale_dollars   city county       date predicted_on_date  \\\n",
       "0                1048.08  Adair  ADAIR 2020-12-18        2020-12-18   \n",
       "1                1718.40  Adair  ADAIR 2020-12-04        2020-12-04   \n",
       "2                1681.86  Adair  ADAIR 2020-12-11        2020-12-04   \n",
       "\n",
       "   sale_dollars            store_name  \\\n",
       "0           NaN  KUM & GO #76 / ADAIR   \n",
       "1           NaN  KUM & GO #76 / ADAIR   \n",
       "2           NaN  KUM & GO #76 / ADAIR   \n",
       "\n",
       "  window__ide6c7363c89364430953edb41ebcf094a zip_code  predicted_sales_mean  \\\n",
       "0                                       true  50002.0                1213.5   \n",
       "1                                       true  50002.0                1211.0   \n",
       "2                                       true  50002.0                1184.5   \n",
       "\n",
       "   predicted_sale_dollars_p05  predicted_sale_dollars_p25  \\\n",
       "0                       593.0                       923.0   \n",
       "1                       588.0                       921.0   \n",
       "2                       550.0                       872.0   \n",
       "\n",
       "   predicted_sale_dollars_p50  predicted_sale_dollars_p75  \\\n",
       "0                      1214.0                      1541.0   \n",
       "1                      1212.0                      1540.0   \n",
       "2                      1185.0                      1573.0   \n",
       "\n",
       "   predicted_sale_dollars_p95  \n",
       "0                      2023.0  \n",
       "1                      2107.0  \n",
       "2                      2154.0  "
      ]
     },
     "execution_count": 95,
     "metadata": {},
     "output_type": "execute_result"
    }
   ],
   "source": [
    "qs_eval = bq_client.query(query).to_dataframe()\n",
    "\n",
    "qs_eval['date'] = qs_eval[\"date\"].astype(\"datetime64[ns]\")\n",
    "\n",
    "qs_eval.head(3)"
   ]
  },
  {
   "cell_type": "markdown",
   "id": "1deaf341-4781-45fc-b475-e9bc4111557a",
   "metadata": {
    "tags": []
   },
   "source": [
    "**Finished**"
   ]
  }
 ],
 "metadata": {
  "environment": {
   "kernel": "python3",
   "name": "tf2-cpu.2-11.m114",
   "type": "gcloud",
   "uri": "gcr.io/deeplearning-platform-release/tf2-cpu.2-11:m114"
  },
  "kernelspec": {
   "display_name": "Python 3",
   "language": "python",
   "name": "python3"
  },
  "language_info": {
   "codemirror_mode": {
    "name": "ipython",
    "version": 3
   },
   "file_extension": ".py",
   "mimetype": "text/x-python",
   "name": "python",
   "nbconvert_exporter": "python",
   "pygments_lexer": "ipython3",
   "version": "3.10.13"
  }
 },
 "nbformat": 4,
 "nbformat_minor": 5
}
