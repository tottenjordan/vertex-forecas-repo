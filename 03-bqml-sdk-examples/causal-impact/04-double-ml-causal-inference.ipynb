{
 "cells": [
  {
   "cell_type": "markdown",
   "id": "757389f0-f894-4388-9b70-6b5f09e6f2ea",
   "metadata": {},
   "source": [
    "# Double ML Causal Inference\n",
    "\n",
    "Double machine learning is an attempt to understand the effect a treatment has on a response without being unduly influenced by the covariates. We want to try and isolate the effects of a treatment and not an of the other covariates. The method happens with a number of steps as follows:\n",
    "\n",
    "1) Split the data into two sets.\n",
    "2) For each data set model the response based on the covariates.\n",
    "3) For each data set model the treatment based on the covariates.\n",
    "4) Calculate the response residuals.\n",
    "5) Calculate the treatment residuals.\n",
    "6) Regress the response residuals on the treatment residuals to get the treatment effect.\n",
    "\n",
    "refer to [Double Machine Learning - an easy introduction](https://dm13450.github.io/2021/05/28/Double-ML.html?msclkid=8cc6c026a60911ec874bf7397d3a9b6e) for more details"
   ]
  },
  {
   "cell_type": "markdown",
   "id": "e10cae19-d14c-4401-869d-684d1d5fd450",
   "metadata": {},
   "source": [
    "in summary:\n",
    "\n",
    "* Train 2 regression models. One is to predict the outcome variable in terms of relevant covariates. And another to predict the treatment variable in terms of covariates.\n",
    "* Compute the residuals of each model. In other words, if f(Z) estimates Y in terms of Z and g(Z) estimates X in terms of Z, their residuals are given by U = Y-f(Z) and V = X-g(Z), respectively.\n",
    "* Compute treatment effect. Using the residuals we can compute the treatment effect directly using the equation below."
   ]
  },
  {
   "cell_type": "code",
   "execution_count": 1,
   "id": "cd5e4a1f-f480-4037-b761-07dc73f0e6a8",
   "metadata": {},
   "outputs": [
    {
     "name": "stdout",
     "output_type": "stream",
     "text": [
      "PROJECT_ID: hybrid-vertex\n",
      "PROJECT_NUM: 934903580331\n",
      "LOCATION: us-central1\n",
      "REGION: us-central1\n",
      "VERTEX_SA: jt-vertex-sa@hybrid-vertex.iam.gserviceaccount.com\n"
     ]
    }
   ],
   "source": [
    "GCP_PROJECTS = !gcloud config get-value project\n",
    "PROJECT_ID = GCP_PROJECTS[0]\n",
    "PROJECT_NUM = !gcloud projects list --filter=\"$PROJECT_ID\" --format=\"value(PROJECT_NUMBER)\"\n",
    "PROJECT_NUM = PROJECT_NUM[0]\n",
    "LOCATION = 'us-central1'\n",
    "REGION = \"us-central1\"\n",
    "\n",
    "# VERTEX_SA = '934903580331-compute@developer.gserviceaccount.com'\n",
    "VERTEX_SA = 'jt-vertex-sa@hybrid-vertex.iam.gserviceaccount.com'\n",
    "\n",
    "print(f\"PROJECT_ID: {PROJECT_ID}\")\n",
    "print(f\"PROJECT_NUM: {PROJECT_NUM}\")\n",
    "print(f\"LOCATION: {LOCATION}\")\n",
    "print(f\"REGION: {REGION}\")\n",
    "print(f\"VERTEX_SA: {VERTEX_SA}\")"
   ]
  },
  {
   "cell_type": "code",
   "execution_count": 2,
   "id": "beefe497-6eda-48a4-bd09-a6fa190af3ac",
   "metadata": {},
   "outputs": [],
   "source": [
    "REGION = 'us-central1'\n",
    "EXPERIMENT = 'control_group1'\n",
    "SERIES = 'causal_impact_4'\n",
    "\n",
    "BQ_PROJECT = PROJECT_ID\n",
    "BQ_DATASET = SERIES.replace('-','_')\n",
    "BQ_TABLE = EXPERIMENT\n",
    "\n",
    "BQ_SOURCE1 = 'bigquery-public-data.new_york.citibike_trips'\n",
    "BQ_SOURCE2 = 'bigquery-public-data.new_york.citibike_stations'\n",
    "\n",
    "viz_limit = 9"
   ]
  },
  {
   "cell_type": "code",
   "execution_count": 3,
   "id": "6dfcf9f6-db6d-4356-81b5-ce046298ddc5",
   "metadata": {},
   "outputs": [],
   "source": [
    "from google.cloud import bigquery\n",
    "\n",
    "import pandas as pd\n",
    "import numpy as np\n",
    "from datetime import datetime, timedelta\n",
    "\n",
    "import matplotlib.pyplot as plt\n",
    "import plotly.express as px\n",
    "import plotly.graph_objects as go\n",
    "\n",
    "from time import sleep\n",
    "\n",
    "from google.cloud import aiplatform as vertex_ai\n",
    "\n",
    "bq = bigquery.Client(project=PROJECT_ID)\n",
    "\n",
    "vertex_ai.init(\n",
    "    project=PROJECT_ID, \n",
    "    location=REGION,\n",
    "    # credentials=credentials\n",
    ")"
   ]
  },
  {
   "cell_type": "code",
   "execution_count": 27,
   "id": "b2d73940-e2e7-4d95-8953-6222fa377cb6",
   "metadata": {},
   "outputs": [],
   "source": [
    "# CUSTOMIZE\n",
    "TARGET_COLUMN = 'num_trips'\n",
    "TIME_COLUMN = 'starttime'\n",
    "SERIES_COLUMN = 'start_station_name'\n",
    "SPLIT_COLUMN = 'splits'\n",
    "COVARIATE_COLUMNS = [\n",
    "    'avg_tripduration', \n",
    "    'pct_subscriber', \n",
    "    'ratio_gender', \n",
    "    'capacity'\n",
    "] # could be empty\n",
    "\n",
    "BQ_TABLE_GROUP_A=\"control_group1_grp_a\"\n",
    "# BQ_TABLE_GROUP_B=\"control_group1_grp_b\"\n",
    "\n",
    "GROUP_A_MODEL_PREFIX=\"grp_a\"\n",
    "GROUP_B_MODEL_PREFIX=\"grp_b\"\n",
    "\n",
    "forecast_granularity = 'DAY'\n",
    "forecast_horizon = 7 #14\n",
    "forecast_test_length = 14\n",
    "#forecast_val_length = 14"
   ]
  },
  {
   "cell_type": "markdown",
   "id": "dcc5fce3-a88f-4eed-ac1e-fc8fb55acae8",
   "metadata": {},
   "source": [
    "## Train Y linear learner"
   ]
  },
  {
   "cell_type": "code",
   "execution_count": 6,
   "id": "b9591685-4cd5-4e64-9e78-8526383e2008",
   "metadata": {},
   "outputs": [],
   "source": [
    "model_1_name = f'{GROUP_A_MODEL_PREFIX}_y_linear_learner_model'"
   ]
  },
  {
   "cell_type": "code",
   "execution_count": 7,
   "id": "1a5ce75e-7eeb-46be-a0ba-5fb5c8f07dc8",
   "metadata": {},
   "outputs": [
    {
     "name": "stdout",
     "output_type": "stream",
     "text": [
      "\n",
      "    CREATE OR REPLACE MODEL `hybrid-vertex.causal_impact_4.grp_a_y_linear_learner_model`\n",
      "    OPTIONS\n",
      "      (model_type = 'linear_reg',\n",
      "       input_label_cols = ['num_trips'],\n",
      "       enable_global_explain=TRUE\n",
      "      ) AS\n",
      "    SELECT starttime, num_trips,\n",
      "        avg_tripduration, pct_subscriber, ratio_gender, capacity\n",
      "    FROM `hybrid-vertex.causal_impact_4.control_group1_grp_a`\n",
      "    WHERE splits in ('TRAIN','VALIDATE')\n",
      "\n"
     ]
    }
   ],
   "source": [
    "query = f\"\"\"\n",
    "    CREATE OR REPLACE MODEL `{BQ_PROJECT}.{BQ_DATASET}.{model_1_name}`\n",
    "    OPTIONS\n",
    "      (model_type = 'linear_reg',\n",
    "       input_label_cols = ['{TARGET_COLUMN}'],\n",
    "       enable_global_explain=TRUE\n",
    "      ) AS\n",
    "    SELECT {TIME_COLUMN}, {TARGET_COLUMN},\n",
    "        {', '.join(COVARIATE_COLUMNS)}\n",
    "    FROM `{BQ_PROJECT}.{BQ_DATASET}.{BQ_TABLE_GROUP_A}`\n",
    "    WHERE splits in ('TRAIN','VALIDATE')\n",
    "\"\"\"\n",
    "print(query)"
   ]
  },
  {
   "cell_type": "code",
   "execution_count": 8,
   "id": "0a116bbf-338a-4899-b051-ce6813b4f2d0",
   "metadata": {},
   "outputs": [
    {
     "name": "stdout",
     "output_type": "stream",
     "text": [
      "DONE 35.759\n"
     ]
    }
   ],
   "source": [
    "job = bq.query(query)\n",
    "job.result()\n",
    "print(job.state, (job.ended-job.started).total_seconds())"
   ]
  },
  {
   "cell_type": "code",
   "execution_count": 22,
   "id": "2f170dc5-b734-4471-93e2-2e54c0f581a2",
   "metadata": {},
   "outputs": [
    {
     "data": {
      "text/plain": [
       "['avg_tripduration', 'ratio_gender', 'capacity']"
      ]
     },
     "execution_count": 22,
     "metadata": {},
     "output_type": "execute_result"
    }
   ],
   "source": [
    "COVARIATE_COLUMNS"
   ]
  },
  {
   "cell_type": "code",
   "execution_count": 24,
   "id": "3f2f397f-b96f-4b97-b6a8-34388b8a48ce",
   "metadata": {},
   "outputs": [
    {
     "data": {
      "text/html": [
       "<div>\n",
       "<style scoped>\n",
       "    .dataframe tbody tr th:only-of-type {\n",
       "        vertical-align: middle;\n",
       "    }\n",
       "\n",
       "    .dataframe tbody tr th {\n",
       "        vertical-align: top;\n",
       "    }\n",
       "\n",
       "    .dataframe thead th {\n",
       "        text-align: right;\n",
       "    }\n",
       "</style>\n",
       "<table border=\"1\" class=\"dataframe\">\n",
       "  <thead>\n",
       "    <tr style=\"text-align: right;\">\n",
       "      <th></th>\n",
       "      <th>predicted_num_trips</th>\n",
       "      <th>starttime</th>\n",
       "      <th>num_trips</th>\n",
       "      <th>avg_tripduration</th>\n",
       "      <th>pct_subscriber</th>\n",
       "      <th>ratio_gender</th>\n",
       "      <th>capacity</th>\n",
       "      <th>start_station_name</th>\n",
       "    </tr>\n",
       "  </thead>\n",
       "  <tbody>\n",
       "    <tr>\n",
       "      <th>0</th>\n",
       "      <td>19.462041</td>\n",
       "      <td>2016-07-11</td>\n",
       "      <td>284</td>\n",
       "      <td>773.496479</td>\n",
       "      <td>0.929577</td>\n",
       "      <td>2.021277</td>\n",
       "      <td>0</td>\n",
       "      <td>Lafayette St &amp; Jersey St N</td>\n",
       "    </tr>\n",
       "    <tr>\n",
       "      <th>1</th>\n",
       "      <td>51.716156</td>\n",
       "      <td>2016-07-15</td>\n",
       "      <td>278</td>\n",
       "      <td>678.579137</td>\n",
       "      <td>0.902878</td>\n",
       "      <td>2.159091</td>\n",
       "      <td>0</td>\n",
       "      <td>Lafayette St &amp; Jersey St N</td>\n",
       "    </tr>\n",
       "    <tr>\n",
       "      <th>2</th>\n",
       "      <td>-9.165523</td>\n",
       "      <td>2016-07-01</td>\n",
       "      <td>227</td>\n",
       "      <td>797.577093</td>\n",
       "      <td>0.929515</td>\n",
       "      <td>2.721311</td>\n",
       "      <td>0</td>\n",
       "      <td>Lafayette St &amp; Jersey St N</td>\n",
       "    </tr>\n",
       "  </tbody>\n",
       "</table>\n",
       "</div>"
      ],
      "text/plain": [
       "   predicted_num_trips   starttime  num_trips  avg_tripduration  \\\n",
       "0            19.462041  2016-07-11        284        773.496479   \n",
       "1            51.716156  2016-07-15        278        678.579137   \n",
       "2            -9.165523  2016-07-01        227        797.577093   \n",
       "\n",
       "   pct_subscriber  ratio_gender  capacity          start_station_name  \n",
       "0        0.929577      2.021277         0  Lafayette St & Jersey St N  \n",
       "1        0.902878      2.159091         0  Lafayette St & Jersey St N  \n",
       "2        0.929515      2.721311         0  Lafayette St & Jersey St N  "
      ]
     },
     "execution_count": 24,
     "metadata": {},
     "output_type": "execute_result"
    }
   ],
   "source": [
    "query = f\"\"\"\n",
    "    SELECT *\n",
    "    FROM ML.PREDICT(\n",
    "        MODEL `{BQ_PROJECT}.{BQ_DATASET}.{model_1_name}`,\n",
    "        (\n",
    "            SELECT \n",
    "                {TIME_COLUMN}, \n",
    "                {TARGET_COLUMN},\n",
    "                {', '.join(COVARIATE_COLUMNS)},\n",
    "                {SERIES_COLUMN}\n",
    "            FROM `{BQ_PROJECT}.{BQ_DATASET}.{BQ_TABLE_GROUP_A}`\n",
    "        )\n",
    "        )\n",
    "\"\"\"\n",
    "forecast = bq.query(query).to_dataframe()\n",
    "forecast.head(3)"
   ]
  },
  {
   "cell_type": "code",
   "execution_count": 26,
   "id": "34715d9f-2974-4d0e-89f2-9d889d19edb9",
   "metadata": {},
   "outputs": [
    {
     "data": {
      "text/plain": [
       "['avg_tripduration', 'ratio_gender', 'capacity']"
      ]
     },
     "execution_count": 26,
     "metadata": {},
     "output_type": "execute_result"
    }
   ],
   "source": [
    "COVARIATE_COLUMNS"
   ]
  },
  {
   "cell_type": "markdown",
   "id": "72a37e05-b20d-4a28-ae35-8d06503381d8",
   "metadata": {},
   "source": [
    "## Train Z linear learner"
   ]
  },
  {
   "cell_type": "code",
   "execution_count": 28,
   "id": "c44644de-6dee-4acf-aded-65ff5ffe72a1",
   "metadata": {},
   "outputs": [],
   "source": [
    "Z_TARGET = \"pct_subscriber\"\n",
    "Z_COVARIATES = [\n",
    "    'avg_tripduration', \n",
    "    # 'pct_subscriber', \n",
    "    'ratio_gender', \n",
    "    'capacity'\n",
    "] # could be empty"
   ]
  },
  {
   "cell_type": "code",
   "execution_count": 17,
   "id": "1f170bca-6883-4df4-99fb-5640ca75fd2c",
   "metadata": {},
   "outputs": [
    {
     "data": {
      "text/plain": [
       "'pct_subscriber'"
      ]
     },
     "execution_count": 17,
     "metadata": {},
     "output_type": "execute_result"
    }
   ],
   "source": [
    "Z_TARGET"
   ]
  },
  {
   "cell_type": "code",
   "execution_count": 14,
   "id": "4178fd2b-63c7-44ce-a59a-01aa298772b2",
   "metadata": {},
   "outputs": [],
   "source": [
    "model_2_name = f'{GROUP_A_MODEL_PREFIX}_z_linear_learner_model'"
   ]
  },
  {
   "cell_type": "code",
   "execution_count": 18,
   "id": "de889025-ea71-4e06-ada0-0280a0d3c2b1",
   "metadata": {},
   "outputs": [
    {
     "name": "stdout",
     "output_type": "stream",
     "text": [
      "\n",
      "    CREATE OR REPLACE MODEL `hybrid-vertex.causal_impact_4.grp_a_z_linear_learner_model`\n",
      "    OPTIONS\n",
      "      (model_type = 'linear_reg',\n",
      "       input_label_cols = ['pct_subscriber'],\n",
      "       enable_global_explain=TRUE\n",
      "      ) AS\n",
      "    SELECT starttime, pct_subscriber,\n",
      "        avg_tripduration, ratio_gender, capacity\n",
      "    FROM `hybrid-vertex.causal_impact_4.control_group1_grp_a`\n",
      "    WHERE splits in ('TRAIN','VALIDATE')\n",
      "\n"
     ]
    }
   ],
   "source": [
    "query = f\"\"\"\n",
    "    CREATE OR REPLACE MODEL `{BQ_PROJECT}.{BQ_DATASET}.{model_2_name}`\n",
    "    OPTIONS\n",
    "      (model_type = 'linear_reg',\n",
    "       input_label_cols = ['{Z_TARGET}'],\n",
    "       enable_global_explain=TRUE\n",
    "      ) AS\n",
    "    SELECT {TIME_COLUMN}, {Z_TARGET},\n",
    "        {', '.join(Z_COVARIATES)}\n",
    "    FROM `{BQ_PROJECT}.{BQ_DATASET}.{BQ_TABLE_GROUP_A}`\n",
    "    WHERE splits in ('TRAIN','VALIDATE')\n",
    "\"\"\"\n",
    "print(query)"
   ]
  },
  {
   "cell_type": "code",
   "execution_count": 19,
   "id": "7204e1d3-2c69-4a1d-b956-42b9a167d99a",
   "metadata": {},
   "outputs": [
    {
     "name": "stdout",
     "output_type": "stream",
     "text": [
      "DONE 30.019\n"
     ]
    }
   ],
   "source": [
    "job = bq.query(query)\n",
    "job.result()\n",
    "print(job.state, (job.ended-job.started).total_seconds())"
   ]
  },
  {
   "cell_type": "code",
   "execution_count": 20,
   "id": "be7676be-3ef1-4d9f-9e70-2bbb6e514cc6",
   "metadata": {},
   "outputs": [
    {
     "data": {
      "text/html": [
       "<div>\n",
       "<style scoped>\n",
       "    .dataframe tbody tr th:only-of-type {\n",
       "        vertical-align: middle;\n",
       "    }\n",
       "\n",
       "    .dataframe tbody tr th {\n",
       "        vertical-align: top;\n",
       "    }\n",
       "\n",
       "    .dataframe thead th {\n",
       "        text-align: right;\n",
       "    }\n",
       "</style>\n",
       "<table border=\"1\" class=\"dataframe\">\n",
       "  <thead>\n",
       "    <tr style=\"text-align: right;\">\n",
       "      <th></th>\n",
       "      <th>predicted_pct_subscriber</th>\n",
       "      <th>starttime</th>\n",
       "      <th>pct_subscriber</th>\n",
       "      <th>avg_tripduration</th>\n",
       "      <th>ratio_gender</th>\n",
       "      <th>capacity</th>\n",
       "      <th>start_station_name</th>\n",
       "    </tr>\n",
       "  </thead>\n",
       "  <tbody>\n",
       "    <tr>\n",
       "      <th>0</th>\n",
       "      <td>0.900576</td>\n",
       "      <td>2016-07-11</td>\n",
       "      <td>0.929577</td>\n",
       "      <td>773.496479</td>\n",
       "      <td>2.021277</td>\n",
       "      <td>0</td>\n",
       "      <td>Lafayette St &amp; Jersey St N</td>\n",
       "    </tr>\n",
       "    <tr>\n",
       "      <th>1</th>\n",
       "      <td>0.922220</td>\n",
       "      <td>2016-07-15</td>\n",
       "      <td>0.902878</td>\n",
       "      <td>678.579137</td>\n",
       "      <td>2.159091</td>\n",
       "      <td>0</td>\n",
       "      <td>Lafayette St &amp; Jersey St N</td>\n",
       "    </tr>\n",
       "    <tr>\n",
       "      <th>2</th>\n",
       "      <td>0.942105</td>\n",
       "      <td>2016-07-01</td>\n",
       "      <td>0.929515</td>\n",
       "      <td>797.577093</td>\n",
       "      <td>2.721311</td>\n",
       "      <td>0</td>\n",
       "      <td>Lafayette St &amp; Jersey St N</td>\n",
       "    </tr>\n",
       "  </tbody>\n",
       "</table>\n",
       "</div>"
      ],
      "text/plain": [
       "   predicted_pct_subscriber   starttime  pct_subscriber  avg_tripduration  \\\n",
       "0                  0.900576  2016-07-11        0.929577        773.496479   \n",
       "1                  0.922220  2016-07-15        0.902878        678.579137   \n",
       "2                  0.942105  2016-07-01        0.929515        797.577093   \n",
       "\n",
       "   ratio_gender  capacity          start_station_name  \n",
       "0      2.021277         0  Lafayette St & Jersey St N  \n",
       "1      2.159091         0  Lafayette St & Jersey St N  \n",
       "2      2.721311         0  Lafayette St & Jersey St N  "
      ]
     },
     "execution_count": 20,
     "metadata": {},
     "output_type": "execute_result"
    }
   ],
   "source": [
    "query = f\"\"\"\n",
    "    SELECT *\n",
    "    FROM ML.PREDICT(\n",
    "        MODEL `{BQ_PROJECT}.{BQ_DATASET}.{model_2_name}`,\n",
    "        (\n",
    "            SELECT \n",
    "                {TIME_COLUMN}, \n",
    "                {Z_TARGET},\n",
    "                {', '.join(Z_COVARIATES)},\n",
    "                {SERIES_COLUMN}\n",
    "            FROM `{BQ_PROJECT}.{BQ_DATASET}.{BQ_TABLE_GROUP_A}`\n",
    "        )\n",
    "        )\n",
    "\"\"\"\n",
    "forecast = bq.query(query).to_dataframe()\n",
    "forecast.head(3)"
   ]
  },
  {
   "cell_type": "markdown",
   "id": "2a1a13cc-da58-443f-98b8-303dbb299564",
   "metadata": {},
   "source": [
    "## Create Residuals Table"
   ]
  },
  {
   "cell_type": "code",
   "execution_count": 31,
   "id": "3fdcd6fc-e1d0-46be-ad21-a110f8f2e630",
   "metadata": {},
   "outputs": [
    {
     "name": "stdout",
     "output_type": "stream",
     "text": [
      "\n",
      "    CREATE OR REPLACE TABLE `hybrid-vertex.causal_impact_4.double_ml_residual_table` AS (\n",
      "    SELECT\n",
      "        a.start_station_name,\n",
      "        a.starttime,\n",
      "        a.avg_tripduration,\n",
      "        a.ratio_gender,\n",
      "        a.capacity,\n",
      "        a.predicted_num_trips,\n",
      "        a.num_trips,\n",
      "        (a.num_trips - a.predicted_num_trips) as residuals_u,\n",
      "        b.predicted_pct_subscriber,\n",
      "        b.pct_subscriber,\n",
      "        (b.pct_subscriber - b.predicted_pct_subscriber) as residuals_z_pct,\n",
      "        -- b.start_station_name,\n",
      "        -- b.starttime,\n",
      "    FROM ML.PREDICT( MODEL `hybrid-vertex.causal_impact_4.grp_a_y_linear_learner_model`,\n",
      "            (\n",
      "                SELECT \n",
      "                    starttime, \n",
      "                    num_trips,\n",
      "                    avg_tripduration, pct_subscriber, ratio_gender, capacity,\n",
      "                    start_station_name\n",
      "                FROM `hybrid-vertex.causal_impact_4.control_group1_grp_a`\n",
      "            )) a\n",
      "    JOIN\n",
      "     ML.PREDICT( MODEL `hybrid-vertex.causal_impact_4.grp_a_z_linear_learner_model`,\n",
      "            (\n",
      "                SELECT \n",
      "                    starttime, \n",
      "                    pct_subscriber,\n",
      "                    avg_tripduration, ratio_gender, capacity,\n",
      "                    start_station_name\n",
      "                FROM `hybrid-vertex.causal_impact_4.control_group1_grp_a`\n",
      "            )) b\n",
      "    ON a.starttime=b.starttime AND a.start_station_name = b.start_station_name\n",
      "    );\n",
      "\n"
     ]
    }
   ],
   "source": [
    "query = f\"\"\"\n",
    "    CREATE OR REPLACE TABLE `{BQ_PROJECT}.{BQ_DATASET}.double_ml_residual_table` AS (\n",
    "    SELECT\n",
    "        a.start_station_name,\n",
    "        a.starttime,\n",
    "        a.avg_tripduration,\n",
    "        a.ratio_gender,\n",
    "        a.capacity,\n",
    "        a.predicted_num_trips,\n",
    "        a.num_trips,\n",
    "        (a.num_trips - a.predicted_num_trips) as residuals_u,\n",
    "        b.predicted_pct_subscriber,\n",
    "        b.pct_subscriber,\n",
    "        (b.pct_subscriber - b.predicted_pct_subscriber) as residuals_z_pct,\n",
    "        -- b.start_station_name,\n",
    "        -- b.starttime,\n",
    "    FROM ML.PREDICT( MODEL `{BQ_PROJECT}.{BQ_DATASET}.{model_1_name}`,\n",
    "            (\n",
    "                SELECT \n",
    "                    {TIME_COLUMN}, \n",
    "                    {TARGET_COLUMN},\n",
    "                    {', '.join(COVARIATE_COLUMNS)},\n",
    "                    {SERIES_COLUMN}\n",
    "                FROM `{BQ_PROJECT}.{BQ_DATASET}.{BQ_TABLE_GROUP_A}`\n",
    "            )) a\n",
    "    JOIN\n",
    "     ML.PREDICT( MODEL `{BQ_PROJECT}.{BQ_DATASET}.{model_2_name}`,\n",
    "            (\n",
    "                SELECT \n",
    "                    {TIME_COLUMN}, \n",
    "                    {Z_TARGET},\n",
    "                    {', '.join(Z_COVARIATES)},\n",
    "                    {SERIES_COLUMN}\n",
    "                FROM `{BQ_PROJECT}.{BQ_DATASET}.{BQ_TABLE_GROUP_A}`\n",
    "            )) b\n",
    "    ON a.starttime=b.starttime AND a.start_station_name = b.start_station_name\n",
    "    );\n",
    "\"\"\"\n",
    "print(query)"
   ]
  },
  {
   "cell_type": "code",
   "execution_count": 32,
   "id": "235d8b59-1e1a-4c33-a1ec-d58334ec88a2",
   "metadata": {},
   "outputs": [
    {
     "name": "stdout",
     "output_type": "stream",
     "text": [
      "DONE 2.493\n"
     ]
    }
   ],
   "source": [
    "job = bq.query(query)\n",
    "job.result()\n",
    "print(job.state, (job.ended-job.started).total_seconds())"
   ]
  },
  {
   "cell_type": "code",
   "execution_count": 33,
   "id": "d40e7322-ca4c-4f47-b254-738e8b89a96a",
   "metadata": {},
   "outputs": [
    {
     "data": {
      "text/html": [
       "<div>\n",
       "<style scoped>\n",
       "    .dataframe tbody tr th:only-of-type {\n",
       "        vertical-align: middle;\n",
       "    }\n",
       "\n",
       "    .dataframe tbody tr th {\n",
       "        vertical-align: top;\n",
       "    }\n",
       "\n",
       "    .dataframe thead th {\n",
       "        text-align: right;\n",
       "    }\n",
       "</style>\n",
       "<table border=\"1\" class=\"dataframe\">\n",
       "  <thead>\n",
       "    <tr style=\"text-align: right;\">\n",
       "      <th></th>\n",
       "    </tr>\n",
       "  </thead>\n",
       "  <tbody>\n",
       "  </tbody>\n",
       "</table>\n",
       "</div>"
      ],
      "text/plain": [
       "Empty DataFrame\n",
       "Columns: []\n",
       "Index: []"
      ]
     },
     "execution_count": 33,
     "metadata": {},
     "output_type": "execute_result"
    }
   ],
   "source": [
    "residual_table_df = bq.query(query).to_dataframe()\n",
    "residual_table_df.head(3)"
   ]
  },
  {
   "cell_type": "markdown",
   "id": "736e32b2-0622-40bf-8039-df08fb67c347",
   "metadata": {},
   "source": [
    "## Train Residuals Lienar Model"
   ]
  },
  {
   "cell_type": "code",
   "execution_count": 34,
   "id": "a1174466-1796-403e-afe8-9c8cbf4a9fcb",
   "metadata": {},
   "outputs": [],
   "source": [
    "model_3_name =\"residuals_reg_a\""
   ]
  },
  {
   "cell_type": "code",
   "execution_count": 39,
   "id": "c3c8d0bd-eab0-4dfa-adc9-00c1acd41728",
   "metadata": {},
   "outputs": [
    {
     "name": "stdout",
     "output_type": "stream",
     "text": [
      "\n",
      "    CREATE OR REPLACE MODEL `hybrid-vertex.causal_impact_4.residuals_reg_a`\n",
      "    OPTIONS\n",
      "      (model_type = 'linear_reg',\n",
      "       input_label_cols = ['residuals_u'],\n",
      "       enable_global_explain=TRUE,\n",
      "       CALCULATE_P_VALUES=TRUE,\n",
      "       CATEGORY_ENCODING_METHOD=\"DUMMY_ENCODING\"\n",
      "      ) AS\n",
      "    SELECT\n",
      "        residuals_u,\n",
      "        residuals_z_pct\n",
      "        -- avg_tripduration, pct_subscriber, ratio_gender, capacity\n",
      "    FROM `hybrid-vertex.causal_impact_4.double_ml_residual_table`\n",
      "    -- WHERE splits in ('TRAIN','VALIDATE')\n",
      "\n"
     ]
    }
   ],
   "source": [
    "query = f\"\"\"\n",
    "    CREATE OR REPLACE MODEL `{BQ_PROJECT}.{BQ_DATASET}.{model_3_name}`\n",
    "    OPTIONS\n",
    "      (model_type = 'linear_reg',\n",
    "       input_label_cols = ['residuals_u'],\n",
    "       enable_global_explain=TRUE,\n",
    "       CALCULATE_P_VALUES=TRUE,\n",
    "       CATEGORY_ENCODING_METHOD=\"DUMMY_ENCODING\"\n",
    "      ) AS\n",
    "    SELECT\n",
    "        residuals_u,\n",
    "        residuals_z_pct\n",
    "        -- {', '.join(COVARIATE_COLUMNS)}\n",
    "    FROM `{BQ_PROJECT}.{BQ_DATASET}.double_ml_residual_table`\n",
    "    -- WHERE splits in ('TRAIN','VALIDATE')\n",
    "\"\"\"\n",
    "print(query)"
   ]
  },
  {
   "cell_type": "code",
   "execution_count": 40,
   "id": "0795e05e-bf79-4b69-948b-5c51fff1fbb7",
   "metadata": {},
   "outputs": [
    {
     "name": "stdout",
     "output_type": "stream",
     "text": [
      "DONE 23.09\n"
     ]
    }
   ],
   "source": [
    "job = bq.query(query)\n",
    "job.result()\n",
    "print(job.state, (job.ended-job.started).total_seconds())"
   ]
  },
  {
   "cell_type": "markdown",
   "id": "8fd2de47-1e59-4b69-b19c-adc9fdecbc71",
   "metadata": {},
   "source": [
    "## Export Residuals Linear Model"
   ]
  },
  {
   "cell_type": "code",
   "execution_count": 41,
   "id": "056b52ef-2921-4f74-99a4-4b5d0ead3077",
   "metadata": {},
   "outputs": [
    {
     "data": {
      "text/html": [
       "<div>\n",
       "<style scoped>\n",
       "    .dataframe tbody tr th:only-of-type {\n",
       "        vertical-align: middle;\n",
       "    }\n",
       "\n",
       "    .dataframe tbody tr th {\n",
       "        vertical-align: top;\n",
       "    }\n",
       "\n",
       "    .dataframe thead th {\n",
       "        text-align: right;\n",
       "    }\n",
       "</style>\n",
       "<table border=\"1\" class=\"dataframe\">\n",
       "  <thead>\n",
       "    <tr style=\"text-align: right;\">\n",
       "      <th></th>\n",
       "      <th>processed_input</th>\n",
       "      <th>category</th>\n",
       "      <th>weight</th>\n",
       "      <th>standard_error</th>\n",
       "      <th>p_value</th>\n",
       "    </tr>\n",
       "  </thead>\n",
       "  <tbody>\n",
       "    <tr>\n",
       "      <th>0</th>\n",
       "      <td>residuals_z_pct</td>\n",
       "      <td>None</td>\n",
       "      <td>43.697870</td>\n",
       "      <td>8.329015</td>\n",
       "      <td>0.000006</td>\n",
       "    </tr>\n",
       "    <tr>\n",
       "      <th>1</th>\n",
       "      <td>__INTERCEPT__</td>\n",
       "      <td>None</td>\n",
       "      <td>1.600385</td>\n",
       "      <td>1.087892</td>\n",
       "      <td>0.141166</td>\n",
       "    </tr>\n",
       "  </tbody>\n",
       "</table>\n",
       "</div>"
      ],
      "text/plain": [
       "   processed_input category     weight  standard_error   p_value\n",
       "0  residuals_z_pct     None  43.697870        8.329015  0.000006\n",
       "1    __INTERCEPT__     None   1.600385        1.087892  0.141166"
      ]
     },
     "execution_count": 41,
     "metadata": {},
     "output_type": "execute_result"
    }
   ],
   "source": [
    "query = f\"\"\"\n",
    "    SELECT\n",
    "     *\n",
    "    FROM\n",
    "     ML.ADVANCED_WEIGHTS(MODEL `{BQ_PROJECT}.{BQ_DATASET}.{model_3_name}`)\n",
    "\"\"\"\n",
    "trainingInfo = bq.query(query).to_dataframe()\n",
    "trainingInfo.head()"
   ]
  },
  {
   "cell_type": "markdown",
   "id": "ec6965b3-0425-4cb1-8599-dce148e63dc2",
   "metadata": {},
   "source": [
    "Assume we want to calculate the effect of the number of agents on the profit of a market center?\n",
    "\n",
    "$$Y_{profit} = a.N_{agents}+f(X_{external})$$\n",
    "\n",
    "we want to find $a$, and the confidence intervals of $a$. \n",
    "Use some basic ML model to estimate:\n",
    "\n",
    "$$Y_{profit} = g(X_{external})+\\epsilon_{g}$$\n",
    "$$N_{agents} = h(X_{external})+\\epsilon_{h}$$\n",
    "\n",
    "Estimate \n",
    "\n",
    "$$\\epsilon_{g} = a_{\\epsilon}.\\epsilon_{h}+\\sigma_{\\epsilon}$$\n",
    "\n",
    "\n",
    "\n",
    "$a_{\\epsilon}$ is a reasonable estimate of $a$.\n",
    " \n",
    "\n",
    "\n",
    "$$\\hat{Y}=a.X+b.Z+\\sigma$$\n",
    "\n",
    "$$\\hat{Y}=a_yZ+\\sigma_y$$\n",
    "$$\\hat{X}=a_xZ+\\sigma_x$$\n",
    "then we fit a linear model against the residuals \n",
    "$$Y-\\hat{Y}=\\hat{a}.(Z-\\hat{Z})+\\sigma_a$$\n",
    "\n",
    "$$\\hat{a}$$\n"
   ]
  },
  {
   "cell_type": "code",
   "execution_count": null,
   "id": "32308e09-eb1c-4f3d-a030-60f6e5c3cf1d",
   "metadata": {},
   "outputs": [],
   "source": []
  }
 ],
 "metadata": {
  "environment": {
   "kernel": "python3",
   "name": "common-cpu.m103",
   "type": "gcloud",
   "uri": "gcr.io/deeplearning-platform-release/base-cpu:m103"
  },
  "kernelspec": {
   "display_name": "Python 3",
   "language": "python",
   "name": "python3"
  },
  "language_info": {
   "codemirror_mode": {
    "name": "ipython",
    "version": 3
   },
   "file_extension": ".py",
   "mimetype": "text/x-python",
   "name": "python",
   "nbconvert_exporter": "python",
   "pygments_lexer": "ipython3",
   "version": "3.7.12"
  }
 },
 "nbformat": 4,
 "nbformat_minor": 5
}
