{
 "cells": [
  {
   "cell_type": "code",
   "execution_count": 1,
   "id": "6f369751-8b86-4a39-9103-06f7eca39ea2",
   "metadata": {},
   "outputs": [
    {
     "name": "stdout",
     "output_type": "stream",
     "text": [
      "PROJECT_ID: hybrid-vertex\n",
      "PROJECT_NUM: 934903580331\n",
      "LOCATION: us-central1\n",
      "REGION: us-central1\n",
      "VERTEX_SA: jt-vertex-sa@hybrid-vertex.iam.gserviceaccount.com\n"
     ]
    }
   ],
   "source": [
    "GCP_PROJECTS = !gcloud config get-value project\n",
    "PROJECT_ID = GCP_PROJECTS[0]\n",
    "PROJECT_NUM = !gcloud projects list --filter=\"$PROJECT_ID\" --format=\"value(PROJECT_NUMBER)\"\n",
    "PROJECT_NUM = PROJECT_NUM[0]\n",
    "LOCATION = 'us-central1'\n",
    "REGION = \"us-central1\"\n",
    "\n",
    "# VERTEX_SA = '934903580331-compute@developer.gserviceaccount.com'\n",
    "VERTEX_SA = 'jt-vertex-sa@hybrid-vertex.iam.gserviceaccount.com'\n",
    "\n",
    "print(f\"PROJECT_ID: {PROJECT_ID}\")\n",
    "print(f\"PROJECT_NUM: {PROJECT_NUM}\")\n",
    "print(f\"LOCATION: {LOCATION}\")\n",
    "print(f\"REGION: {REGION}\")\n",
    "print(f\"VERTEX_SA: {VERTEX_SA}\")"
   ]
  },
  {
   "cell_type": "code",
   "execution_count": 2,
   "id": "d87131ed-b9c8-49fc-9461-8568a4cc1ecd",
   "metadata": {},
   "outputs": [],
   "source": [
    "REGION = 'us-central1'\n",
    "EXPERIMENT = 'control_group1'\n",
    "# SERIES = 'causal_impact_4'\n",
    "SERIES='mlr_1'\n",
    "\n",
    "MODEL_VERSION='v3'\n",
    "XAI_FLAG=\"TRUE\"\n",
    "\n",
    "BQ_PROJECT = PROJECT_ID\n",
    "BQ_DATASET = SERIES.replace('-','_')\n",
    "BQ_TABLE = EXPERIMENT\n",
    "\n",
    "BQ_SOURCE1 = 'bigquery-public-data.new_york.citibike_trips'\n",
    "BQ_SOURCE2 = 'bigquery-public-data.new_york.citibike_stations'\n",
    "BQ_TABLE_COPY=\"hybrid-vertex.causal_impact_4.control_group1_grp_a\"\n",
    "\n",
    "viz_limit = 12"
   ]
  },
  {
   "cell_type": "code",
   "execution_count": 3,
   "id": "4e529600-c141-47d3-8a01-2d1b4d2a324e",
   "metadata": {},
   "outputs": [],
   "source": [
    "from google.cloud import bigquery\n",
    "\n",
    "import matplotlib.pyplot as plt\n",
    "import pandas as pd\n",
    "from datetime import datetime, timedelta\n",
    "\n",
    "from google.cloud import aiplatform as vertex_ai\n",
    "\n",
    "bq = bigquery.Client(project=PROJECT_ID)\n",
    "\n",
    "vertex_ai.init(\n",
    "    project=PROJECT_ID, \n",
    "    location=REGION,\n",
    "    # credentials=credentials\n",
    ")"
   ]
  },
  {
   "cell_type": "code",
   "execution_count": 4,
   "id": "6cb7b5ce-5541-4ecd-b99b-54a77b2e92e4",
   "metadata": {},
   "outputs": [],
   "source": [
    "# CUSTOMIZE\n",
    "TARGET_COLUMN = 'num_trips'\n",
    "TIME_COLUMN = 'starttime'\n",
    "SERIES_COLUMN = 'start_station_name'\n",
    "COVARIATE_COLUMNS = [\n",
    "    'avg_tripduration', \n",
    "    'pct_subscriber', \n",
    "    'ratio_gender', \n",
    "    'capacity'\n",
    "] # could be empty\n",
    "\n",
    "BQ_TABLE_GROUP_A=\"control_group1_grp_a\"\n",
    "# BQ_TABLE_GROUP_B=\"control_group1_grp_b\"\n",
    "\n",
    "VERTEX_AI_MODEL_ID='v1_mlr_a'"
   ]
  },
  {
   "cell_type": "markdown",
   "id": "ecb820ba-49f0-48f3-9cb3-23ef3720fe52",
   "metadata": {
    "jp-MarkdownHeadingCollapsed": true,
    "tags": []
   },
   "source": [
    "## New BQ dataset"
   ]
  },
  {
   "cell_type": "code",
   "execution_count": 6,
   "id": "4177e882-649c-4c4d-981a-b9f102857a6d",
   "metadata": {},
   "outputs": [
    {
     "name": "stdout",
     "output_type": "stream",
     "text": [
      " ds.dataset_id: mlr_1\n",
      " ds.full_dataset_id: hybrid-vertex:mlr_1\n"
     ]
    }
   ],
   "source": [
    "ds = bigquery.Dataset(f\"{PROJECT_ID}.{BQ_DATASET}\")\n",
    "ds.location = 'us' #REGION\n",
    "ds.labels = {'notebook': f\"{EXPERIMENT}\"}\n",
    "ds = bq.create_dataset(dataset = ds, exists_ok = True)\n",
    "\n",
    "print(f\" ds.dataset_id: {ds.dataset_id}\")\n",
    "print(f\" ds.full_dataset_id: {ds.full_dataset_id}\")"
   ]
  },
  {
   "cell_type": "code",
   "execution_count": 7,
   "id": "2b1ca278-070b-4917-9171-1b91b8aacb66",
   "metadata": {},
   "outputs": [
    {
     "name": "stdout",
     "output_type": "stream",
     "text": [
      "\n",
      "    CREATE OR REPLACE TABLE `hybrid-vertex.mlr_1.control_group1_grp_a` AS (\n",
      "        SELECT \n",
      "            * \n",
      "        FROM `hybrid-vertex.causal_impact_4.control_group1_grp_a`\n",
      "    );\n",
      "\n"
     ]
    }
   ],
   "source": [
    "query = f\"\"\"\n",
    "    CREATE OR REPLACE TABLE `{BQ_PROJECT}.{BQ_DATASET}.{BQ_TABLE_GROUP_A}` AS (\n",
    "        SELECT \n",
    "            * \n",
    "        FROM `{BQ_TABLE_COPY}`\n",
    "    );\n",
    "\"\"\"\n",
    "print(query)\n",
    "# `hybrid-vertex.causal_impact_4.control_group1_grp_a`"
   ]
  },
  {
   "cell_type": "code",
   "execution_count": 8,
   "id": "9f5bea51-8d7a-4b30-9c3d-fa4386734175",
   "metadata": {},
   "outputs": [
    {
     "name": "stdout",
     "output_type": "stream",
     "text": [
      "DONE 1.513\n"
     ]
    }
   ],
   "source": [
    "job = bq.query(query)\n",
    "job.result()\n",
    "print(job.state, (job.ended-job.started).total_seconds())"
   ]
  },
  {
   "cell_type": "markdown",
   "id": "3e596c89-825e-45e4-9d58-5a35d5d14d4e",
   "metadata": {},
   "source": [
    "## Key Dates"
   ]
  },
  {
   "cell_type": "code",
   "execution_count": 5,
   "id": "b6b7191a-e4c1-44a8-883a-5d5b4bef0f3d",
   "metadata": {},
   "outputs": [
    {
     "data": {
      "text/html": [
       "<div>\n",
       "<style scoped>\n",
       "    .dataframe tbody tr th:only-of-type {\n",
       "        vertical-align: middle;\n",
       "    }\n",
       "\n",
       "    .dataframe tbody tr th {\n",
       "        vertical-align: top;\n",
       "    }\n",
       "\n",
       "    .dataframe thead th {\n",
       "        text-align: right;\n",
       "    }\n",
       "</style>\n",
       "<table border=\"1\" class=\"dataframe\">\n",
       "  <thead>\n",
       "    <tr style=\"text-align: right;\">\n",
       "      <th></th>\n",
       "      <th>start_date</th>\n",
       "      <th>val_start</th>\n",
       "      <th>test_start</th>\n",
       "      <th>end_date</th>\n",
       "    </tr>\n",
       "  </thead>\n",
       "  <tbody>\n",
       "    <tr>\n",
       "      <th>0</th>\n",
       "      <td>2013-07-01</td>\n",
       "      <td>2016-05-14</td>\n",
       "      <td>2016-07-23</td>\n",
       "      <td>2016-09-30</td>\n",
       "    </tr>\n",
       "  </tbody>\n",
       "</table>\n",
       "</div>"
      ],
      "text/plain": [
       "   start_date   val_start  test_start    end_date\n",
       "0  2013-07-01  2016-05-14  2016-07-23  2016-09-30"
      ]
     },
     "execution_count": 5,
     "metadata": {},
     "output_type": "execute_result"
    }
   ],
   "source": [
    "query = f\"\"\"\n",
    "    WITH\n",
    "        SPLIT AS (\n",
    "            SELECT splits, min({TIME_COLUMN}) as mindate, max({TIME_COLUMN}) as maxdate\n",
    "            FROM `{BQ_PROJECT}.{BQ_DATASET}.{BQ_TABLE_GROUP_A}`\n",
    "            GROUP BY splits\n",
    "        ),\n",
    "        TRAIN AS (\n",
    "            SELECT mindate as start_date\n",
    "            FROM SPLIT\n",
    "            WHERE splits ='TRAIN'\n",
    "        ),\n",
    "        VAL AS (\n",
    "            SELECT mindate as val_start\n",
    "            FROM SPLIT\n",
    "            WHERE splits = 'VALIDATE'\n",
    "        ),\n",
    "        TEST AS (\n",
    "            SELECT mindate as test_start, maxdate as end_date\n",
    "            FROM SPLIT\n",
    "            WHERE splits = 'TEST'\n",
    "        )\n",
    "    SELECT * EXCEPT(pos) FROM\n",
    "    (SELECT *, ROW_NUMBER() OVER() pos FROM TRAIN)\n",
    "    JOIN (SELECT *, ROW_NUMBER() OVER() pos FROM VAL)\n",
    "    USING (pos)\n",
    "    JOIN (SELECT *, ROW_NUMBER() OVER() pos FROM TEST)\n",
    "    USING (pos)\n",
    "\"\"\"\n",
    "keyDates = bq.query(query).to_dataframe()\n",
    "keyDates"
   ]
  },
  {
   "cell_type": "code",
   "execution_count": 6,
   "id": "cf47d2fd-ba2a-4479-8018-a5033cb9ec39",
   "metadata": {},
   "outputs": [],
   "source": [
    "query = f\"\"\"\n",
    "    SELECT {SERIES_COLUMN}, {TIME_COLUMN}, {TARGET_COLUMN}, splits,\n",
    "        {', '.join(COVARIATE_COLUMNS)}\n",
    "    FROM `{BQ_PROJECT}.{BQ_DATASET}.{BQ_TABLE_GROUP_A}`\n",
    "    ORDER by {SERIES_COLUMN}, {TIME_COLUMN}\n",
    "\"\"\"\n",
    "rawSeries = bq.query(query).to_dataframe()"
   ]
  },
  {
   "cell_type": "markdown",
   "id": "1820275f-04b7-4d98-abfc-b562af1bab73",
   "metadata": {},
   "source": [
    "## Train MLR - Group A"
   ]
  },
  {
   "cell_type": "code",
   "execution_count": 7,
   "id": "df908a63-b736-4255-ab47-16e756b5340a",
   "metadata": {},
   "outputs": [],
   "source": [
    "# CUSTOMIZE\n",
    "forecast_granularity = 'DAY'\n",
    "forecast_horizon = 7 #14\n",
    "forecast_test_length = 14\n",
    "#forecast_val_length = 14"
   ]
  },
  {
   "cell_type": "markdown",
   "id": "4dd3e4f7-ff33-4a09-9038-063a2fcc7dfe",
   "metadata": {},
   "source": [
    "## what's a bug look like?"
   ]
  },
  {
   "cell_type": "code",
   "execution_count": 8,
   "id": "709285c2-3519-4447-965a-1e6c479d5931",
   "metadata": {},
   "outputs": [
    {
     "name": "stdout",
     "output_type": "stream",
     "text": [
      "\n",
      "    CREATE OR REPLACE MODEL `hybrid-vertex.mlr_1.control_group1_grp_a_mlr_v2`\n",
      "    OPTIONS\n",
      "      (\n",
      "        model_type = 'linear_reg',\n",
      "        input_label_cols = ['num_trips'],\n",
      "        model_registry=\"vertex_ai\", \n",
      "        vertex_ai_model_id='v1_mlr_a',\n",
      "        vertex_ai_model_version_aliases=['v2', 'experimental'],\n",
      "        enable_global_explain=TRUE\n",
      "      ) AS\n",
      "    SELECT starttime, num_trips,\n",
      "        avg_tripduration, pct_subscriber, ratio_gender, capacity\n",
      "    FROM `hybrid-vertex.mlr_1.control_group1_grp_a`\n",
      "    WHERE splits in ('TRAIN','VALIDATE')\n",
      "\n"
     ]
    }
   ],
   "source": [
    "query = f\"\"\"\n",
    "    CREATE OR REPLACE MODEL `{BQ_PROJECT}.{BQ_DATASET}.{BQ_TABLE_GROUP_A}_mlr_{MODEL_VERSION}`\n",
    "    OPTIONS\n",
    "      (\n",
    "        model_type = 'linear_reg',\n",
    "        input_label_cols = ['{TARGET_COLUMN}'],\n",
    "        model_registry=\"vertex_ai\", \n",
    "        vertex_ai_model_id='{VERTEX_AI_MODEL_ID}',\n",
    "        vertex_ai_model_version_aliases=['{MODEL_VERSION}', 'experimental'],\n",
    "        enable_global_explain={XAI_FLAG}\n",
    "      ) AS\n",
    "    SELECT {TIME_COLUMN}, {TARGET_COLUMN},\n",
    "        {', '.join(COVARIATE_COLUMNS)}\n",
    "    FROM `{BQ_PROJECT}.{BQ_DATASET}.{BQ_TABLE_GROUP_A}`\n",
    "    WHERE splits in ('TRAIN','VALIDATE')\n",
    "\"\"\"\n",
    "print(query)"
   ]
  },
  {
   "cell_type": "code",
   "execution_count": 9,
   "id": "78d70fa7-b636-441e-a0f3-8225cbe20be1",
   "metadata": {},
   "outputs": [
    {
     "name": "stdout",
     "output_type": "stream",
     "text": [
      "DONE 33.268\n"
     ]
    }
   ],
   "source": [
    "job = bq.query(query)\n",
    "job.result()\n",
    "print(job.state, (job.ended-job.started).total_seconds())"
   ]
  },
  {
   "cell_type": "markdown",
   "id": "ffb3ef9e-7b3a-4aa8-8f48-7d81c7ad53f6",
   "metadata": {},
   "source": [
    "### Review Input Features"
   ]
  },
  {
   "cell_type": "code",
   "execution_count": 10,
   "id": "4e6f7c99-af11-4f86-be2c-390eb741c5b1",
   "metadata": {},
   "outputs": [
    {
     "data": {
      "text/html": [
       "<div>\n",
       "<style scoped>\n",
       "    .dataframe tbody tr th:only-of-type {\n",
       "        vertical-align: middle;\n",
       "    }\n",
       "\n",
       "    .dataframe tbody tr th {\n",
       "        vertical-align: top;\n",
       "    }\n",
       "\n",
       "    .dataframe thead th {\n",
       "        text-align: right;\n",
       "    }\n",
       "</style>\n",
       "<table border=\"1\" class=\"dataframe\">\n",
       "  <thead>\n",
       "    <tr style=\"text-align: right;\">\n",
       "      <th></th>\n",
       "      <th>input</th>\n",
       "      <th>min</th>\n",
       "      <th>max</th>\n",
       "      <th>mean</th>\n",
       "      <th>median</th>\n",
       "      <th>stddev</th>\n",
       "      <th>category_count</th>\n",
       "      <th>null_count</th>\n",
       "      <th>dimension</th>\n",
       "    </tr>\n",
       "  </thead>\n",
       "  <tbody>\n",
       "    <tr>\n",
       "      <th>0</th>\n",
       "      <td>starttime</td>\n",
       "      <td>NaN</td>\n",
       "      <td>NaN</td>\n",
       "      <td>NaN</td>\n",
       "      <td>NaN</td>\n",
       "      <td>NaN</td>\n",
       "      <td>1089</td>\n",
       "      <td>0</td>\n",
       "      <td>&lt;NA&gt;</td>\n",
       "    </tr>\n",
       "    <tr>\n",
       "      <th>1</th>\n",
       "      <td>avg_tripduration</td>\n",
       "      <td>116.666667</td>\n",
       "      <td>45776.5</td>\n",
       "      <td>817.984338</td>\n",
       "      <td>680.187500</td>\n",
       "      <td>1404.576554</td>\n",
       "      <td>&lt;NA&gt;</td>\n",
       "      <td>0</td>\n",
       "      <td>&lt;NA&gt;</td>\n",
       "    </tr>\n",
       "    <tr>\n",
       "      <th>2</th>\n",
       "      <td>pct_subscriber</td>\n",
       "      <td>0.000000</td>\n",
       "      <td>1.0</td>\n",
       "      <td>0.921349</td>\n",
       "      <td>0.960000</td>\n",
       "      <td>0.110237</td>\n",
       "      <td>&lt;NA&gt;</td>\n",
       "      <td>0</td>\n",
       "      <td>&lt;NA&gt;</td>\n",
       "    </tr>\n",
       "    <tr>\n",
       "      <th>3</th>\n",
       "      <td>ratio_gender</td>\n",
       "      <td>0.000000</td>\n",
       "      <td>20.0</td>\n",
       "      <td>2.478870</td>\n",
       "      <td>2.083333</td>\n",
       "      <td>2.000844</td>\n",
       "      <td>&lt;NA&gt;</td>\n",
       "      <td>0</td>\n",
       "      <td>&lt;NA&gt;</td>\n",
       "    </tr>\n",
       "    <tr>\n",
       "      <th>4</th>\n",
       "      <td>capacity</td>\n",
       "      <td>0.000000</td>\n",
       "      <td>91.0</td>\n",
       "      <td>40.583178</td>\n",
       "      <td>39.000000</td>\n",
       "      <td>26.488621</td>\n",
       "      <td>&lt;NA&gt;</td>\n",
       "      <td>0</td>\n",
       "      <td>&lt;NA&gt;</td>\n",
       "    </tr>\n",
       "  </tbody>\n",
       "</table>\n",
       "</div>"
      ],
      "text/plain": [
       "              input         min      max        mean      median       stddev  \\\n",
       "0         starttime         NaN      NaN         NaN         NaN          NaN   \n",
       "1  avg_tripduration  116.666667  45776.5  817.984338  680.187500  1404.576554   \n",
       "2    pct_subscriber    0.000000      1.0    0.921349    0.960000     0.110237   \n",
       "3      ratio_gender    0.000000     20.0    2.478870    2.083333     2.000844   \n",
       "4          capacity    0.000000     91.0   40.583178   39.000000    26.488621   \n",
       "\n",
       "   category_count  null_count  dimension  \n",
       "0            1089           0       <NA>  \n",
       "1            <NA>           0       <NA>  \n",
       "2            <NA>           0       <NA>  \n",
       "3            <NA>           0       <NA>  \n",
       "4            <NA>           0       <NA>  "
      ]
     },
     "execution_count": 10,
     "metadata": {},
     "output_type": "execute_result"
    }
   ],
   "source": [
    "query = f\"\"\"\n",
    "    SELECT *\n",
    "    FROM ML.FEATURE_INFO(MODEL `{BQ_PROJECT}.{BQ_DATASET}.{BQ_TABLE_GROUP_A}_mlr_{MODEL_VERSION}`)\n",
    "\"\"\"\n",
    "featureInfo = bq.query(query).to_dataframe()\n",
    "featureInfo.head()"
   ]
  },
  {
   "cell_type": "code",
   "execution_count": 12,
   "id": "2e310d24-7226-4d4a-ad01-a533195a5067",
   "metadata": {},
   "outputs": [
    {
     "data": {
      "text/html": [
       "<div>\n",
       "<style scoped>\n",
       "    .dataframe tbody tr th:only-of-type {\n",
       "        vertical-align: middle;\n",
       "    }\n",
       "\n",
       "    .dataframe tbody tr th {\n",
       "        vertical-align: top;\n",
       "    }\n",
       "\n",
       "    .dataframe thead th {\n",
       "        text-align: right;\n",
       "    }\n",
       "</style>\n",
       "<table border=\"1\" class=\"dataframe\">\n",
       "  <thead>\n",
       "    <tr style=\"text-align: right;\">\n",
       "      <th></th>\n",
       "      <th>training_run</th>\n",
       "      <th>iteration</th>\n",
       "      <th>loss</th>\n",
       "      <th>eval_loss</th>\n",
       "      <th>learning_rate</th>\n",
       "      <th>duration_ms</th>\n",
       "    </tr>\n",
       "  </thead>\n",
       "  <tbody>\n",
       "    <tr>\n",
       "      <th>0</th>\n",
       "      <td>0</td>\n",
       "      <td>5</td>\n",
       "      <td>3101.960828</td>\n",
       "      <td>6550.015469</td>\n",
       "      <td>0.8</td>\n",
       "      <td>2189</td>\n",
       "    </tr>\n",
       "    <tr>\n",
       "      <th>1</th>\n",
       "      <td>0</td>\n",
       "      <td>4</td>\n",
       "      <td>3123.625647</td>\n",
       "      <td>6601.246628</td>\n",
       "      <td>0.8</td>\n",
       "      <td>2075</td>\n",
       "    </tr>\n",
       "    <tr>\n",
       "      <th>2</th>\n",
       "      <td>0</td>\n",
       "      <td>3</td>\n",
       "      <td>3185.819015</td>\n",
       "      <td>6727.225416</td>\n",
       "      <td>0.8</td>\n",
       "      <td>4318</td>\n",
       "    </tr>\n",
       "    <tr>\n",
       "      <th>3</th>\n",
       "      <td>0</td>\n",
       "      <td>2</td>\n",
       "      <td>3382.700092</td>\n",
       "      <td>6983.005701</td>\n",
       "      <td>0.8</td>\n",
       "      <td>2149</td>\n",
       "    </tr>\n",
       "    <tr>\n",
       "      <th>4</th>\n",
       "      <td>0</td>\n",
       "      <td>1</td>\n",
       "      <td>4482.891787</td>\n",
       "      <td>7293.532606</td>\n",
       "      <td>0.4</td>\n",
       "      <td>2069</td>\n",
       "    </tr>\n",
       "  </tbody>\n",
       "</table>\n",
       "</div>"
      ],
      "text/plain": [
       "   training_run  iteration         loss    eval_loss  learning_rate  \\\n",
       "0             0          5  3101.960828  6550.015469            0.8   \n",
       "1             0          4  3123.625647  6601.246628            0.8   \n",
       "2             0          3  3185.819015  6727.225416            0.8   \n",
       "3             0          2  3382.700092  6983.005701            0.8   \n",
       "4             0          1  4482.891787  7293.532606            0.4   \n",
       "\n",
       "   duration_ms  \n",
       "0         2189  \n",
       "1         2075  \n",
       "2         4318  \n",
       "3         2149  \n",
       "4         2069  "
      ]
     },
     "execution_count": 12,
     "metadata": {},
     "output_type": "execute_result"
    }
   ],
   "source": [
    "query = f\"\"\"\n",
    "    SELECT *\n",
    "    FROM ML.TRAINING_INFO(MODEL `{BQ_PROJECT}.{BQ_DATASET}.{BQ_TABLE_GROUP_A}_mlr_{MODEL_VERSION}`)\n",
    "\"\"\"\n",
    "trainingInfo = bq.query(query).to_dataframe()\n",
    "trainingInfo.head()"
   ]
  },
  {
   "cell_type": "markdown",
   "id": "7ffeef28-53d7-4798-aac1-a417c60282ad",
   "metadata": {},
   "source": [
    "## Forecast Evaluation"
   ]
  },
  {
   "cell_type": "code",
   "execution_count": 13,
   "id": "d150bb24-ab3b-47c7-8b54-622a4da7ef7d",
   "metadata": {},
   "outputs": [
    {
     "data": {
      "text/html": [
       "<div>\n",
       "<style scoped>\n",
       "    .dataframe tbody tr th:only-of-type {\n",
       "        vertical-align: middle;\n",
       "    }\n",
       "\n",
       "    .dataframe tbody tr th {\n",
       "        vertical-align: top;\n",
       "    }\n",
       "\n",
       "    .dataframe thead th {\n",
       "        text-align: right;\n",
       "    }\n",
       "</style>\n",
       "<table border=\"1\" class=\"dataframe\">\n",
       "  <thead>\n",
       "    <tr style=\"text-align: right;\">\n",
       "      <th></th>\n",
       "      <th>mean_absolute_error</th>\n",
       "      <th>mean_squared_error</th>\n",
       "      <th>mean_squared_log_error</th>\n",
       "      <th>median_absolute_error</th>\n",
       "      <th>r2_score</th>\n",
       "      <th>explained_variance</th>\n",
       "    </tr>\n",
       "  </thead>\n",
       "  <tbody>\n",
       "    <tr>\n",
       "      <th>0</th>\n",
       "      <td>45.043066</td>\n",
       "      <td>3550.440725</td>\n",
       "      <td>4.042181</td>\n",
       "      <td>31.721676</td>\n",
       "      <td>-0.587681</td>\n",
       "      <td>-0.074246</td>\n",
       "    </tr>\n",
       "  </tbody>\n",
       "</table>\n",
       "</div>"
      ],
      "text/plain": [
       "   mean_absolute_error  mean_squared_error  mean_squared_log_error  \\\n",
       "0            45.043066         3550.440725                4.042181   \n",
       "\n",
       "   median_absolute_error  r2_score  explained_variance  \n",
       "0              31.721676 -0.587681           -0.074246  "
      ]
     },
     "execution_count": 13,
     "metadata": {},
     "output_type": "execute_result"
    }
   ],
   "source": [
    "query = f\"\"\"\n",
    "    SELECT *\n",
    "    FROM ML.EVALUATE(\n",
    "        MODEL `{BQ_PROJECT}.{BQ_DATASET}.{BQ_TABLE_GROUP_A}_mlr_{MODEL_VERSION}`,\n",
    "        (\n",
    "            SELECT {TIME_COLUMN}, {TARGET_COLUMN},\n",
    "                {', '.join(COVARIATE_COLUMNS)}\n",
    "            FROM `{BQ_PROJECT}.{BQ_DATASET}.{BQ_TABLE_GROUP_A}`\n",
    "            WHERE splits = 'TEST'\n",
    "        )\n",
    "    )\n",
    "\"\"\"\n",
    "metrics = bq.query(query).to_dataframe()\n",
    "metrics"
   ]
  },
  {
   "cell_type": "markdown",
   "id": "150d1fdf-cead-4048-bdda-6aa265683df3",
   "metadata": {},
   "source": [
    "## Explainability\n",
    "\n",
    "* if `XAI_FLAG` set to `TRUE`"
   ]
  },
  {
   "cell_type": "markdown",
   "id": "feed1d38-8b59-463e-9ed7-d55ec7a618c5",
   "metadata": {},
   "source": [
    "### local XAI"
   ]
  },
  {
   "cell_type": "code",
   "execution_count": 28,
   "id": "7bf9959b-654d-412a-8083-4bcb9d79158c",
   "metadata": {},
   "outputs": [
    {
     "name": "stdout",
     "output_type": "stream",
     "text": [
      "\n",
      "    CREATE OR REPLACE TABLE `hybrid-vertex.mlr_1.control_group1_grp_a_xai_v2` AS (\n",
      "    SELECT\n",
      "      *\n",
      "    FROM\n",
      "      ML.EXPLAIN_PREDICT(\n",
      "          MODEL `hybrid-vertex.mlr_1.control_group1_grp_a_mlr_v2`,\n",
      "          (\n",
      "            SELECT \n",
      "                starttime, \n",
      "                num_trips,\n",
      "                avg_tripduration, pct_subscriber, ratio_gender, capacity,\n",
      "                start_station_name\n",
      "            FROM `hybrid-vertex.mlr_1.control_group1_grp_a` \n",
      "            WHERE splits = 'TEST'\n",
      "          ),\n",
      "          STRUCT(3 as top_k_features)\n",
      "        )\n",
      "    );\n",
      "\n"
     ]
    }
   ],
   "source": [
    "query = f\"\"\"\n",
    "    CREATE OR REPLACE TABLE `{BQ_PROJECT}.{BQ_DATASET}.{BQ_TABLE_GROUP_A}_xai_{MODEL_VERSION}` AS (\n",
    "    SELECT\n",
    "      *\n",
    "    FROM\n",
    "      ML.EXPLAIN_PREDICT(\n",
    "          MODEL `{BQ_PROJECT}.{BQ_DATASET}.{BQ_TABLE_GROUP_A}_mlr_{MODEL_VERSION}`,\n",
    "          (\n",
    "            SELECT \n",
    "                {TIME_COLUMN}, \n",
    "                {TARGET_COLUMN},\n",
    "                {', '.join(COVARIATE_COLUMNS)},\n",
    "                {SERIES_COLUMN}\n",
    "            FROM `{BQ_PROJECT}.{BQ_DATASET}.{BQ_TABLE_GROUP_A}` \n",
    "            WHERE splits = 'TEST'\n",
    "          ),\n",
    "          STRUCT(3 as top_k_features)\n",
    "        )\n",
    "    );\n",
    "\"\"\"\n",
    "print(query)\n",
    "# overview = bq.query(query).to_dataframe()\n",
    "# overview.head(2)"
   ]
  },
  {
   "cell_type": "code",
   "execution_count": 29,
   "id": "a8d83cfd-8383-4825-9515-c15edcb10e57",
   "metadata": {},
   "outputs": [
    {
     "name": "stdout",
     "output_type": "stream",
     "text": [
      "DONE 1.365\n"
     ]
    }
   ],
   "source": [
    "job = bq.query(query)\n",
    "job.result()\n",
    "print(job.state, (job.ended-job.started).total_seconds())"
   ]
  },
  {
   "cell_type": "markdown",
   "id": "8d845c68-37d1-4511-a560-78ef994fba80",
   "metadata": {},
   "source": [
    "### global XAI"
   ]
  },
  {
   "cell_type": "code",
   "execution_count": 22,
   "id": "2cf5ca7a-4f39-4df0-b970-b585d2e55893",
   "metadata": {},
   "outputs": [
    {
     "data": {
      "text/html": [
       "<div>\n",
       "<style scoped>\n",
       "    .dataframe tbody tr th:only-of-type {\n",
       "        vertical-align: middle;\n",
       "    }\n",
       "\n",
       "    .dataframe tbody tr th {\n",
       "        vertical-align: top;\n",
       "    }\n",
       "\n",
       "    .dataframe thead th {\n",
       "        text-align: right;\n",
       "    }\n",
       "</style>\n",
       "<table border=\"1\" class=\"dataframe\">\n",
       "  <thead>\n",
       "    <tr style=\"text-align: right;\">\n",
       "      <th></th>\n",
       "      <th>feature</th>\n",
       "      <th>attribution</th>\n",
       "    </tr>\n",
       "  </thead>\n",
       "  <tbody>\n",
       "    <tr>\n",
       "      <th>0</th>\n",
       "      <td>capacity</td>\n",
       "      <td>53.368157</td>\n",
       "    </tr>\n",
       "    <tr>\n",
       "      <th>1</th>\n",
       "      <td>starttime</td>\n",
       "      <td>40.251806</td>\n",
       "    </tr>\n",
       "    <tr>\n",
       "      <th>2</th>\n",
       "      <td>ratio_gender</td>\n",
       "      <td>2.727573</td>\n",
       "    </tr>\n",
       "    <tr>\n",
       "      <th>3</th>\n",
       "      <td>pct_subscriber</td>\n",
       "      <td>0.282598</td>\n",
       "    </tr>\n",
       "    <tr>\n",
       "      <th>4</th>\n",
       "      <td>avg_tripduration</td>\n",
       "      <td>0.166120</td>\n",
       "    </tr>\n",
       "  </tbody>\n",
       "</table>\n",
       "</div>"
      ],
      "text/plain": [
       "            feature  attribution\n",
       "0          capacity    53.368157\n",
       "1         starttime    40.251806\n",
       "2      ratio_gender     2.727573\n",
       "3    pct_subscriber     0.282598\n",
       "4  avg_tripduration     0.166120"
      ]
     },
     "execution_count": 22,
     "metadata": {},
     "output_type": "execute_result"
    }
   ],
   "source": [
    "query = f\"\"\"\n",
    "    SELECT\n",
    "      *\n",
    "    FROM\n",
    "      ML.GLOBAL_EXPLAIN(\n",
    "          MODEL `{BQ_PROJECT}.{BQ_DATASET}.{BQ_TABLE_GROUP_A}_mlr_{MODEL_VERSION}`\n",
    "    )\n",
    "\"\"\"\n",
    "# print(query)\n",
    "overview = bq.query(query).to_dataframe()\n",
    "overview"
   ]
  },
  {
   "cell_type": "code",
   "execution_count": null,
   "id": "92251d0a-2675-4a8f-88ed-eff88a8457e7",
   "metadata": {},
   "outputs": [],
   "source": [
    "# job = bq.query(query)\n",
    "# job.result()\n",
    "# print(job.state, (job.ended-job.started).total_seconds())"
   ]
  },
  {
   "cell_type": "markdown",
   "id": "53897cde-90b1-406a-a10f-84c5411fb07c",
   "metadata": {},
   "source": [
    "## Forecast Test Set"
   ]
  },
  {
   "cell_type": "code",
   "execution_count": 23,
   "id": "99f0cfaa-810d-43bf-ab04-bf76e816e46a",
   "metadata": {},
   "outputs": [
    {
     "data": {
      "text/html": [
       "<div>\n",
       "<style scoped>\n",
       "    .dataframe tbody tr th:only-of-type {\n",
       "        vertical-align: middle;\n",
       "    }\n",
       "\n",
       "    .dataframe tbody tr th {\n",
       "        vertical-align: top;\n",
       "    }\n",
       "\n",
       "    .dataframe thead th {\n",
       "        text-align: right;\n",
       "    }\n",
       "</style>\n",
       "<table border=\"1\" class=\"dataframe\">\n",
       "  <thead>\n",
       "    <tr style=\"text-align: right;\">\n",
       "      <th></th>\n",
       "      <th>predicted_num_trips</th>\n",
       "      <th>starttime</th>\n",
       "      <th>num_trips</th>\n",
       "      <th>avg_tripduration</th>\n",
       "      <th>pct_subscriber</th>\n",
       "      <th>ratio_gender</th>\n",
       "      <th>capacity</th>\n",
       "      <th>start_station_name</th>\n",
       "    </tr>\n",
       "  </thead>\n",
       "  <tbody>\n",
       "    <tr>\n",
       "      <th>0</th>\n",
       "      <td>137.164834</td>\n",
       "      <td>2014-12-29</td>\n",
       "      <td>123</td>\n",
       "      <td>668.040650</td>\n",
       "      <td>0.934959</td>\n",
       "      <td>3.392857</td>\n",
       "      <td>91</td>\n",
       "      <td>Lafayette St &amp; E 8 St</td>\n",
       "    </tr>\n",
       "    <tr>\n",
       "      <th>1</th>\n",
       "      <td>253.029117</td>\n",
       "      <td>2016-05-30</td>\n",
       "      <td>231</td>\n",
       "      <td>687.766234</td>\n",
       "      <td>0.878788</td>\n",
       "      <td>1.625000</td>\n",
       "      <td>91</td>\n",
       "      <td>Lafayette St &amp; E 8 St</td>\n",
       "    </tr>\n",
       "    <tr>\n",
       "      <th>2</th>\n",
       "      <td>156.428962</td>\n",
       "      <td>2015-01-10</td>\n",
       "      <td>69</td>\n",
       "      <td>451.289855</td>\n",
       "      <td>1.000000</td>\n",
       "      <td>3.600000</td>\n",
       "      <td>91</td>\n",
       "      <td>Lafayette St &amp; E 8 St</td>\n",
       "    </tr>\n",
       "    <tr>\n",
       "      <th>3</th>\n",
       "      <td>187.795808</td>\n",
       "      <td>2014-09-14</td>\n",
       "      <td>310</td>\n",
       "      <td>657.487097</td>\n",
       "      <td>1.000000</td>\n",
       "      <td>2.647059</td>\n",
       "      <td>91</td>\n",
       "      <td>Lafayette St &amp; E 8 St</td>\n",
       "    </tr>\n",
       "    <tr>\n",
       "      <th>4</th>\n",
       "      <td>176.431228</td>\n",
       "      <td>2015-12-20</td>\n",
       "      <td>152</td>\n",
       "      <td>533.980263</td>\n",
       "      <td>0.953947</td>\n",
       "      <td>2.234043</td>\n",
       "      <td>91</td>\n",
       "      <td>Lafayette St &amp; E 8 St</td>\n",
       "    </tr>\n",
       "    <tr>\n",
       "      <th>...</th>\n",
       "      <td>...</td>\n",
       "      <td>...</td>\n",
       "      <td>...</td>\n",
       "      <td>...</td>\n",
       "      <td>...</td>\n",
       "      <td>...</td>\n",
       "      <td>...</td>\n",
       "      <td>...</td>\n",
       "    </tr>\n",
       "    <tr>\n",
       "      <th>4254</th>\n",
       "      <td>21.582573</td>\n",
       "      <td>2016-07-11</td>\n",
       "      <td>43</td>\n",
       "      <td>1156.209302</td>\n",
       "      <td>0.837209</td>\n",
       "      <td>1.047619</td>\n",
       "      <td>0</td>\n",
       "      <td>Lafayette Ave &amp; Fort Greene Pl</td>\n",
       "    </tr>\n",
       "    <tr>\n",
       "      <th>4255</th>\n",
       "      <td>10.896531</td>\n",
       "      <td>2015-05-09</td>\n",
       "      <td>43</td>\n",
       "      <td>1302.023256</td>\n",
       "      <td>0.767442</td>\n",
       "      <td>1.866667</td>\n",
       "      <td>0</td>\n",
       "      <td>Lafayette Ave &amp; Fort Greene Pl</td>\n",
       "    </tr>\n",
       "    <tr>\n",
       "      <th>4256</th>\n",
       "      <td>-36.459672</td>\n",
       "      <td>2016-06-21</td>\n",
       "      <td>43</td>\n",
       "      <td>671.697674</td>\n",
       "      <td>0.976744</td>\n",
       "      <td>2.307692</td>\n",
       "      <td>0</td>\n",
       "      <td>Lafayette Ave &amp; Fort Greene Pl</td>\n",
       "    </tr>\n",
       "    <tr>\n",
       "      <th>4257</th>\n",
       "      <td>-8.844810</td>\n",
       "      <td>2016-06-01</td>\n",
       "      <td>43</td>\n",
       "      <td>788.581395</td>\n",
       "      <td>0.953488</td>\n",
       "      <td>1.529412</td>\n",
       "      <td>0</td>\n",
       "      <td>Lafayette Ave &amp; Fort Greene Pl</td>\n",
       "    </tr>\n",
       "    <tr>\n",
       "      <th>4258</th>\n",
       "      <td>-36.909727</td>\n",
       "      <td>2013-07-26</td>\n",
       "      <td>43</td>\n",
       "      <td>752.720930</td>\n",
       "      <td>0.837209</td>\n",
       "      <td>1.687500</td>\n",
       "      <td>0</td>\n",
       "      <td>Lafayette Ave &amp; Fort Greene Pl</td>\n",
       "    </tr>\n",
       "  </tbody>\n",
       "</table>\n",
       "<p>4259 rows × 8 columns</p>\n",
       "</div>"
      ],
      "text/plain": [
       "      predicted_num_trips   starttime  num_trips  avg_tripduration  \\\n",
       "0              137.164834  2014-12-29        123        668.040650   \n",
       "1              253.029117  2016-05-30        231        687.766234   \n",
       "2              156.428962  2015-01-10         69        451.289855   \n",
       "3              187.795808  2014-09-14        310        657.487097   \n",
       "4              176.431228  2015-12-20        152        533.980263   \n",
       "...                   ...         ...        ...               ...   \n",
       "4254            21.582573  2016-07-11         43       1156.209302   \n",
       "4255            10.896531  2015-05-09         43       1302.023256   \n",
       "4256           -36.459672  2016-06-21         43        671.697674   \n",
       "4257            -8.844810  2016-06-01         43        788.581395   \n",
       "4258           -36.909727  2013-07-26         43        752.720930   \n",
       "\n",
       "      pct_subscriber  ratio_gender  capacity              start_station_name  \n",
       "0           0.934959      3.392857        91           Lafayette St & E 8 St  \n",
       "1           0.878788      1.625000        91           Lafayette St & E 8 St  \n",
       "2           1.000000      3.600000        91           Lafayette St & E 8 St  \n",
       "3           1.000000      2.647059        91           Lafayette St & E 8 St  \n",
       "4           0.953947      2.234043        91           Lafayette St & E 8 St  \n",
       "...              ...           ...       ...                             ...  \n",
       "4254        0.837209      1.047619         0  Lafayette Ave & Fort Greene Pl  \n",
       "4255        0.767442      1.866667         0  Lafayette Ave & Fort Greene Pl  \n",
       "4256        0.976744      2.307692         0  Lafayette Ave & Fort Greene Pl  \n",
       "4257        0.953488      1.529412         0  Lafayette Ave & Fort Greene Pl  \n",
       "4258        0.837209      1.687500         0  Lafayette Ave & Fort Greene Pl  \n",
       "\n",
       "[4259 rows x 8 columns]"
      ]
     },
     "execution_count": 23,
     "metadata": {},
     "output_type": "execute_result"
    }
   ],
   "source": [
    "query = f\"\"\"\n",
    "    SELECT *\n",
    "    FROM ML.PREDICT(\n",
    "        MODEL `{BQ_PROJECT}.{BQ_DATASET}.{BQ_TABLE_GROUP_A}_mlr_{MODEL_VERSION}`,\n",
    "        (\n",
    "            SELECT \n",
    "                {TIME_COLUMN}, \n",
    "                {TARGET_COLUMN},\n",
    "                {', '.join(COVARIATE_COLUMNS)},\n",
    "                {SERIES_COLUMN}\n",
    "            FROM `{BQ_PROJECT}.{BQ_DATASET}.{BQ_TABLE_GROUP_A}`\n",
    "        )\n",
    "        )\n",
    "\"\"\"\n",
    "forecast = bq.query(query).to_dataframe()\n",
    "forecast\n",
    "# print(query)"
   ]
  },
  {
   "cell_type": "code",
   "execution_count": 24,
   "id": "932a7d81-9725-4f21-ba74-832818bfcce2",
   "metadata": {},
   "outputs": [
    {
     "data": {
      "text/plain": [
       "1.454"
      ]
     },
     "execution_count": 24,
     "metadata": {},
     "output_type": "execute_result"
    }
   ],
   "source": [
    "# CUSTOMIZE\n",
    "query = f\"\"\"\n",
    "CREATE OR REPLACE TABLE `{BQ_PROJECT}.{BQ_DATASET}.{BQ_TABLE_GROUP_A}_pred_Test` AS (\n",
    "    SELECT * FROM ML.PREDICT(\n",
    "            MODEL `{BQ_PROJECT}.{BQ_DATASET}.{BQ_TABLE_GROUP_A}_mlr_{MODEL_VERSION}`,\n",
    "            (\n",
    "                SELECT\n",
    "                {TIME_COLUMN}, \n",
    "                {TARGET_COLUMN},\n",
    "                {', '.join(COVARIATE_COLUMNS)},\n",
    "                {SERIES_COLUMN}\n",
    "            FROM `{BQ_PROJECT}.{BQ_DATASET}.{BQ_TABLE_GROUP_A}`\n",
    "                WHERE splits = 'TEST'\n",
    "            )\n",
    "            )\n",
    ")\n",
    "\"\"\"\n",
    "job = bq.query(query = query)\n",
    "job.result()\n",
    "(job.ended-job.started).total_seconds()"
   ]
  },
  {
   "cell_type": "markdown",
   "id": "c2154c40-9f2d-4139-903d-646b12c27b18",
   "metadata": {},
   "source": [
    "# Register Model in Vertex AI"
   ]
  },
  {
   "cell_type": "code",
   "execution_count": 25,
   "id": "3bdf4cac-abc1-4a60-a9ba-4b268ff932e9",
   "metadata": {},
   "outputs": [],
   "source": [
    "# Initiate Vertex AI Model Registry for `VERTEX_AI_MODEL_ID` model entry\n",
    "registry = vertex_ai.models.ModelRegistry(VERTEX_AI_MODEL_ID)"
   ]
  },
  {
   "cell_type": "code",
   "execution_count": 26,
   "id": "56f41e0d-892f-4c58-8160-0f2d50008a64",
   "metadata": {},
   "outputs": [
    {
     "name": "stdout",
     "output_type": "stream",
     "text": [
      "Getting versions for projects/hybrid-vertex/locations/us-central1/models/v1_mlr_a\n",
      "Model version 1 was created at 05/04/2023 12:35:12 with aliases ['default']\n",
      "Model version 2 was created at 05/04/2023 13:18:24 with aliases ['v2', 'experimental']\n"
     ]
    }
   ],
   "source": [
    "# Get model versions\n",
    "versions = registry.list_versions()\n",
    "\n",
    "for version in versions:\n",
    "    version_id = version.version_id\n",
    "    version_created_time = datetime.fromtimestamp(\n",
    "        version.version_create_time.timestamp()\n",
    "    ).strftime(\"%m/%d/%Y %H:%M:%S\")\n",
    "    version_aliases = version.version_aliases\n",
    "    print(\n",
    "        f\"Model version {version_id} was created at {version_created_time} with aliases {version_aliases}\",\n",
    "    )"
   ]
  },
  {
   "cell_type": "code",
   "execution_count": 27,
   "id": "5f73106f-1572-43b9-90ee-4fed8ed28868",
   "metadata": {},
   "outputs": [
    {
     "name": "stdout",
     "output_type": "stream",
     "text": [
      "<google.cloud.aiplatform.models.Model object at 0x7fc512d1dc50> \n",
      "resource name: projects/934903580331/locations/us-central1/models/v1_mlr_a\n"
     ]
    }
   ],
   "source": [
    "# Get the model\n",
    "model = registry.get_model(version=\"1\")\n",
    "print(model)"
   ]
  },
  {
   "cell_type": "code",
   "execution_count": 27,
   "id": "f6e125fd-bdb1-4862-b48a-23557ff2023c",
   "metadata": {},
   "outputs": [
    {
     "name": "stdout",
     "output_type": "stream",
     "text": [
      "<google.cloud.aiplatform.models.Model object at 0x7fc9c40359d0> \n",
      "resource name: projects/934903580331/locations/us-central1/models/v1_mlr_a\n"
     ]
    }
   ],
   "source": [
    "# Get the model\n",
    "model = registry.get_model(version=\"v2\")\n",
    "print(model)"
   ]
  },
  {
   "cell_type": "code",
   "execution_count": null,
   "id": "27b272ad-f6c7-4b55-aa74-75eccb9d1727",
   "metadata": {},
   "outputs": [],
   "source": []
  }
 ],
 "metadata": {
  "environment": {
   "kernel": "python3",
   "name": "common-cpu.m103",
   "type": "gcloud",
   "uri": "gcr.io/deeplearning-platform-release/base-cpu:m103"
  },
  "kernelspec": {
   "display_name": "Python 3",
   "language": "python",
   "name": "python3"
  },
  "language_info": {
   "codemirror_mode": {
    "name": "ipython",
    "version": 3
   },
   "file_extension": ".py",
   "mimetype": "text/x-python",
   "name": "python",
   "nbconvert_exporter": "python",
   "pygments_lexer": "ipython3",
   "version": "3.7.12"
  }
 },
 "nbformat": 4,
 "nbformat_minor": 5
}
