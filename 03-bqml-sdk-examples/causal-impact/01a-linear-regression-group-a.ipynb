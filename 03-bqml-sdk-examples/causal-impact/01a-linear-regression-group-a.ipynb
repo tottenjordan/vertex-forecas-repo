{
 "cells": [
  {
   "cell_type": "code",
   "execution_count": 1,
   "id": "6f369751-8b86-4a39-9103-06f7eca39ea2",
   "metadata": {},
   "outputs": [
    {
     "name": "stdout",
     "output_type": "stream",
     "text": [
      "PROJECT_ID: hybrid-vertex\n",
      "PROJECT_NUM: 934903580331\n",
      "LOCATION: us-central1\n",
      "REGION: us-central1\n",
      "VERTEX_SA: jt-vertex-sa@hybrid-vertex.iam.gserviceaccount.com\n"
     ]
    }
   ],
   "source": [
    "GCP_PROJECTS = !gcloud config get-value project\n",
    "PROJECT_ID = GCP_PROJECTS[0]\n",
    "PROJECT_NUM = !gcloud projects list --filter=\"$PROJECT_ID\" --format=\"value(PROJECT_NUMBER)\"\n",
    "PROJECT_NUM = PROJECT_NUM[0]\n",
    "LOCATION = 'us-central1'\n",
    "REGION = \"us-central1\"\n",
    "\n",
    "# VERTEX_SA = '934903580331-compute@developer.gserviceaccount.com'\n",
    "VERTEX_SA = 'jt-vertex-sa@hybrid-vertex.iam.gserviceaccount.com'\n",
    "\n",
    "print(f\"PROJECT_ID: {PROJECT_ID}\")\n",
    "print(f\"PROJECT_NUM: {PROJECT_NUM}\")\n",
    "print(f\"LOCATION: {LOCATION}\")\n",
    "print(f\"REGION: {REGION}\")\n",
    "print(f\"VERTEX_SA: {VERTEX_SA}\")"
   ]
  },
  {
   "cell_type": "code",
   "execution_count": 2,
   "id": "d87131ed-b9c8-49fc-9461-8568a4cc1ecd",
   "metadata": {},
   "outputs": [
    {
     "name": "stdout",
     "output_type": "stream",
     "text": [
      "EXPERIMENT_NAME: nyc_mlr_2_v1\n"
     ]
    }
   ],
   "source": [
    "REGION = 'us-central1'\n",
    "EXPERIMENT = 'control_group1'\n",
    "# SERIES = 'causal_impact_4'\n",
    "SERIES='mlr_2'\n",
    "\n",
    "MODEL_VERSION='v1'\n",
    "XAI_FLAG=\"TRUE\"\n",
    "\n",
    "BQ_PROJECT = PROJECT_ID\n",
    "BQ_DATASET = SERIES.replace('-','_')\n",
    "BQ_TABLE = EXPERIMENT\n",
    "\n",
    "BQ_SOURCE1 = 'bigquery-public-data.new_york.citibike_trips'\n",
    "BQ_SOURCE2 = 'bigquery-public-data.new_york.citibike_stations'\n",
    "BQ_TABLE_COPY=\"hybrid-vertex.causal_impact_4.control_group1_grp_a\"\n",
    "\n",
    "viz_limit = 12\n",
    "\n",
    "EXPERIMENT_NAME = f\"nyc_{BQ_DATASET}_{MODEL_VERSION}\"\n",
    "print(f'EXPERIMENT_NAME: {EXPERIMENT_NAME}')"
   ]
  },
  {
   "cell_type": "code",
   "execution_count": 3,
   "id": "4e529600-c141-47d3-8a01-2d1b4d2a324e",
   "metadata": {},
   "outputs": [],
   "source": [
    "from google.cloud import bigquery\n",
    "\n",
    "import matplotlib.pyplot as plt\n",
    "import pandas as pd\n",
    "from datetime import datetime, timedelta\n",
    "\n",
    "from google.cloud import aiplatform as vertex_ai\n",
    "\n",
    "bq = bigquery.Client(project=PROJECT_ID)\n",
    "\n",
    "vertex_ai.init(\n",
    "    project=PROJECT_ID, \n",
    "    location=REGION,\n",
    "    # credentials=credentials\n",
    ")"
   ]
  },
  {
   "cell_type": "code",
   "execution_count": 4,
   "id": "6cb7b5ce-5541-4ecd-b99b-54a77b2e92e4",
   "metadata": {},
   "outputs": [],
   "source": [
    "# CUSTOMIZE\n",
    "TARGET_COLUMN = 'num_trips'\n",
    "TIME_COLUMN = 'starttime'\n",
    "SERIES_COLUMN = 'start_station_name'\n",
    "COVARIATE_COLUMNS = [\n",
    "    'avg_tripduration', \n",
    "    'pct_subscriber', \n",
    "    'ratio_gender', \n",
    "    'capacity'\n",
    "] # could be empty\n",
    "\n",
    "BQ_TABLE_GROUP_A=\"control_group1_grp_a\"\n",
    "# BQ_TABLE_GROUP_B=\"control_group1_grp_b\"\n",
    "\n",
    "VERTEX_AI_MODEL_ID='v1_mlr_a'"
   ]
  },
  {
   "cell_type": "markdown",
   "id": "ecb820ba-49f0-48f3-9cb3-23ef3720fe52",
   "metadata": {
    "tags": []
   },
   "source": [
    "## New BQ dataset"
   ]
  },
  {
   "cell_type": "code",
   "execution_count": 5,
   "id": "4177e882-649c-4c4d-981a-b9f102857a6d",
   "metadata": {},
   "outputs": [
    {
     "name": "stdout",
     "output_type": "stream",
     "text": [
      " ds.dataset_id: mlr_2\n",
      " ds.full_dataset_id: hybrid-vertex:mlr_2\n"
     ]
    }
   ],
   "source": [
    "ds = bigquery.Dataset(f\"{PROJECT_ID}.{BQ_DATASET}\")\n",
    "ds.location = 'us' #REGION\n",
    "ds.labels = {'notebook': f\"{EXPERIMENT}\"}\n",
    "ds = bq.create_dataset(dataset = ds, exists_ok = True)\n",
    "\n",
    "print(f\" ds.dataset_id: {ds.dataset_id}\")\n",
    "print(f\" ds.full_dataset_id: {ds.full_dataset_id}\")"
   ]
  },
  {
   "cell_type": "code",
   "execution_count": 6,
   "id": "2b1ca278-070b-4917-9171-1b91b8aacb66",
   "metadata": {},
   "outputs": [
    {
     "name": "stdout",
     "output_type": "stream",
     "text": [
      "\n",
      "    CREATE OR REPLACE TABLE `hybrid-vertex.mlr_2.control_group1_grp_a` AS (\n",
      "        SELECT \n",
      "            * \n",
      "        FROM `hybrid-vertex.causal_impact_4.control_group1_grp_a`\n",
      "    );\n",
      "\n"
     ]
    }
   ],
   "source": [
    "query = f\"\"\"\n",
    "    CREATE OR REPLACE TABLE `{BQ_PROJECT}.{BQ_DATASET}.{BQ_TABLE_GROUP_A}` AS (\n",
    "        SELECT \n",
    "            * \n",
    "        FROM `{BQ_TABLE_COPY}`\n",
    "    );\n",
    "\"\"\"\n",
    "print(query)\n",
    "# `hybrid-vertex.causal_impact_4.control_group1_grp_a`"
   ]
  },
  {
   "cell_type": "code",
   "execution_count": 7,
   "id": "9f5bea51-8d7a-4b30-9c3d-fa4386734175",
   "metadata": {},
   "outputs": [
    {
     "name": "stdout",
     "output_type": "stream",
     "text": [
      "DONE 1.329\n"
     ]
    }
   ],
   "source": [
    "job = bq.query(query)\n",
    "job.result()\n",
    "print(job.state, (job.ended-job.started).total_seconds())"
   ]
  },
  {
   "cell_type": "markdown",
   "id": "3e596c89-825e-45e4-9d58-5a35d5d14d4e",
   "metadata": {},
   "source": [
    "## Key Dates"
   ]
  },
  {
   "cell_type": "code",
   "execution_count": 8,
   "id": "b6b7191a-e4c1-44a8-883a-5d5b4bef0f3d",
   "metadata": {},
   "outputs": [
    {
     "data": {
      "text/html": [
       "<div>\n",
       "<style scoped>\n",
       "    .dataframe tbody tr th:only-of-type {\n",
       "        vertical-align: middle;\n",
       "    }\n",
       "\n",
       "    .dataframe tbody tr th {\n",
       "        vertical-align: top;\n",
       "    }\n",
       "\n",
       "    .dataframe thead th {\n",
       "        text-align: right;\n",
       "    }\n",
       "</style>\n",
       "<table border=\"1\" class=\"dataframe\">\n",
       "  <thead>\n",
       "    <tr style=\"text-align: right;\">\n",
       "      <th></th>\n",
       "      <th>start_date</th>\n",
       "      <th>val_start</th>\n",
       "      <th>test_start</th>\n",
       "      <th>end_date</th>\n",
       "    </tr>\n",
       "  </thead>\n",
       "  <tbody>\n",
       "    <tr>\n",
       "      <th>0</th>\n",
       "      <td>2013-07-01</td>\n",
       "      <td>2016-05-14</td>\n",
       "      <td>2016-07-23</td>\n",
       "      <td>2016-09-30</td>\n",
       "    </tr>\n",
       "  </tbody>\n",
       "</table>\n",
       "</div>"
      ],
      "text/plain": [
       "   start_date   val_start  test_start    end_date\n",
       "0  2013-07-01  2016-05-14  2016-07-23  2016-09-30"
      ]
     },
     "execution_count": 8,
     "metadata": {},
     "output_type": "execute_result"
    }
   ],
   "source": [
    "query = f\"\"\"\n",
    "    WITH\n",
    "        SPLIT AS (\n",
    "            SELECT splits, min({TIME_COLUMN}) as mindate, max({TIME_COLUMN}) as maxdate\n",
    "            FROM `{BQ_PROJECT}.{BQ_DATASET}.{BQ_TABLE_GROUP_A}`\n",
    "            GROUP BY splits\n",
    "        ),\n",
    "        TRAIN AS (\n",
    "            SELECT mindate as start_date\n",
    "            FROM SPLIT\n",
    "            WHERE splits ='TRAIN'\n",
    "        ),\n",
    "        VAL AS (\n",
    "            SELECT mindate as val_start\n",
    "            FROM SPLIT\n",
    "            WHERE splits = 'VALIDATE'\n",
    "        ),\n",
    "        TEST AS (\n",
    "            SELECT mindate as test_start, maxdate as end_date\n",
    "            FROM SPLIT\n",
    "            WHERE splits = 'TEST'\n",
    "        )\n",
    "    SELECT * EXCEPT(pos) FROM\n",
    "    (SELECT *, ROW_NUMBER() OVER() pos FROM TRAIN)\n",
    "    JOIN (SELECT *, ROW_NUMBER() OVER() pos FROM VAL)\n",
    "    USING (pos)\n",
    "    JOIN (SELECT *, ROW_NUMBER() OVER() pos FROM TEST)\n",
    "    USING (pos)\n",
    "\"\"\"\n",
    "keyDates = bq.query(query).to_dataframe()\n",
    "keyDates"
   ]
  },
  {
   "cell_type": "code",
   "execution_count": 9,
   "id": "cf47d2fd-ba2a-4479-8018-a5033cb9ec39",
   "metadata": {},
   "outputs": [],
   "source": [
    "query = f\"\"\"\n",
    "    SELECT {SERIES_COLUMN}, {TIME_COLUMN}, {TARGET_COLUMN}, splits,\n",
    "        {', '.join(COVARIATE_COLUMNS)}\n",
    "    FROM `{BQ_PROJECT}.{BQ_DATASET}.{BQ_TABLE_GROUP_A}`\n",
    "    ORDER by {SERIES_COLUMN}, {TIME_COLUMN}\n",
    "\"\"\"\n",
    "rawSeries = bq.query(query).to_dataframe()"
   ]
  },
  {
   "cell_type": "markdown",
   "id": "1820275f-04b7-4d98-abfc-b562af1bab73",
   "metadata": {},
   "source": [
    "## Train MLR - Group A"
   ]
  },
  {
   "cell_type": "code",
   "execution_count": 10,
   "id": "df908a63-b736-4255-ab47-16e756b5340a",
   "metadata": {},
   "outputs": [],
   "source": [
    "# CUSTOMIZE\n",
    "forecast_granularity = 'DAY'\n",
    "forecast_horizon = 7 #14\n",
    "forecast_test_length = 14\n",
    "#forecast_val_length = 14"
   ]
  },
  {
   "cell_type": "markdown",
   "id": "4dd3e4f7-ff33-4a09-9038-063a2fcc7dfe",
   "metadata": {},
   "source": [
    "## what's a bug look like?"
   ]
  },
  {
   "cell_type": "code",
   "execution_count": 11,
   "id": "709285c2-3519-4447-965a-1e6c479d5931",
   "metadata": {},
   "outputs": [
    {
     "name": "stdout",
     "output_type": "stream",
     "text": [
      "\n",
      "    CREATE OR REPLACE MODEL `hybrid-vertex.mlr_2.control_group1_grp_a_mlr_v1`\n",
      "    OPTIONS\n",
      "      (\n",
      "        model_type = 'linear_reg',\n",
      "        input_label_cols = ['num_trips'],\n",
      "        model_registry=\"vertex_ai\", \n",
      "        vertex_ai_model_id='v1_mlr_a',\n",
      "        vertex_ai_model_version_aliases=['v1', 'experimental'],\n",
      "        enable_global_explain=TRUE\n",
      "      ) AS\n",
      "    SELECT starttime, num_trips,\n",
      "        avg_tripduration, pct_subscriber, ratio_gender, capacity\n",
      "    FROM `hybrid-vertex.mlr_2.control_group1_grp_a`\n",
      "    WHERE splits in ('TRAIN','VALIDATE')\n",
      "\n"
     ]
    }
   ],
   "source": [
    "query = f\"\"\"\n",
    "    CREATE OR REPLACE MODEL `{BQ_PROJECT}.{BQ_DATASET}.{BQ_TABLE_GROUP_A}_mlr_{MODEL_VERSION}`\n",
    "    OPTIONS\n",
    "      (\n",
    "        model_type = 'linear_reg',\n",
    "        input_label_cols = ['{TARGET_COLUMN}'],\n",
    "        model_registry=\"vertex_ai\", \n",
    "        vertex_ai_model_id='{VERTEX_AI_MODEL_ID}',\n",
    "        vertex_ai_model_version_aliases=['{MODEL_VERSION}', 'experimental'],\n",
    "        enable_global_explain={XAI_FLAG}\n",
    "      ) AS\n",
    "    SELECT {TIME_COLUMN}, {TARGET_COLUMN},\n",
    "        {', '.join(COVARIATE_COLUMNS)}\n",
    "    FROM `{BQ_PROJECT}.{BQ_DATASET}.{BQ_TABLE_GROUP_A}`\n",
    "    WHERE splits in ('TRAIN','VALIDATE')\n",
    "\"\"\"\n",
    "print(query)"
   ]
  },
  {
   "cell_type": "code",
   "execution_count": 12,
   "id": "78d70fa7-b636-441e-a0f3-8225cbe20be1",
   "metadata": {},
   "outputs": [
    {
     "name": "stdout",
     "output_type": "stream",
     "text": [
      "DONE 36.533\n"
     ]
    }
   ],
   "source": [
    "job = bq.query(query)\n",
    "job.result()\n",
    "print(job.state, (job.ended-job.started).total_seconds())"
   ]
  },
  {
   "cell_type": "markdown",
   "id": "ffb3ef9e-7b3a-4aa8-8f48-7d81c7ad53f6",
   "metadata": {},
   "source": [
    "### Review Input Features"
   ]
  },
  {
   "cell_type": "code",
   "execution_count": 13,
   "id": "4e6f7c99-af11-4f86-be2c-390eb741c5b1",
   "metadata": {},
   "outputs": [
    {
     "data": {
      "text/html": [
       "<div>\n",
       "<style scoped>\n",
       "    .dataframe tbody tr th:only-of-type {\n",
       "        vertical-align: middle;\n",
       "    }\n",
       "\n",
       "    .dataframe tbody tr th {\n",
       "        vertical-align: top;\n",
       "    }\n",
       "\n",
       "    .dataframe thead th {\n",
       "        text-align: right;\n",
       "    }\n",
       "</style>\n",
       "<table border=\"1\" class=\"dataframe\">\n",
       "  <thead>\n",
       "    <tr style=\"text-align: right;\">\n",
       "      <th></th>\n",
       "      <th>input</th>\n",
       "      <th>min</th>\n",
       "      <th>max</th>\n",
       "      <th>mean</th>\n",
       "      <th>median</th>\n",
       "      <th>stddev</th>\n",
       "      <th>category_count</th>\n",
       "      <th>null_count</th>\n",
       "      <th>dimension</th>\n",
       "    </tr>\n",
       "  </thead>\n",
       "  <tbody>\n",
       "    <tr>\n",
       "      <th>0</th>\n",
       "      <td>starttime</td>\n",
       "      <td>NaN</td>\n",
       "      <td>NaN</td>\n",
       "      <td>NaN</td>\n",
       "      <td>NaN</td>\n",
       "      <td>NaN</td>\n",
       "      <td>1089</td>\n",
       "      <td>0</td>\n",
       "      <td>&lt;NA&gt;</td>\n",
       "    </tr>\n",
       "    <tr>\n",
       "      <th>1</th>\n",
       "      <td>avg_tripduration</td>\n",
       "      <td>116.666667</td>\n",
       "      <td>45776.5</td>\n",
       "      <td>817.984338</td>\n",
       "      <td>680.78125</td>\n",
       "      <td>1404.576554</td>\n",
       "      <td>&lt;NA&gt;</td>\n",
       "      <td>0</td>\n",
       "      <td>&lt;NA&gt;</td>\n",
       "    </tr>\n",
       "    <tr>\n",
       "      <th>2</th>\n",
       "      <td>pct_subscriber</td>\n",
       "      <td>0.000000</td>\n",
       "      <td>1.0</td>\n",
       "      <td>0.921349</td>\n",
       "      <td>0.96000</td>\n",
       "      <td>0.110237</td>\n",
       "      <td>&lt;NA&gt;</td>\n",
       "      <td>0</td>\n",
       "      <td>&lt;NA&gt;</td>\n",
       "    </tr>\n",
       "    <tr>\n",
       "      <th>3</th>\n",
       "      <td>ratio_gender</td>\n",
       "      <td>0.000000</td>\n",
       "      <td>20.0</td>\n",
       "      <td>2.478870</td>\n",
       "      <td>2.00000</td>\n",
       "      <td>2.000844</td>\n",
       "      <td>&lt;NA&gt;</td>\n",
       "      <td>0</td>\n",
       "      <td>&lt;NA&gt;</td>\n",
       "    </tr>\n",
       "    <tr>\n",
       "      <th>4</th>\n",
       "      <td>capacity</td>\n",
       "      <td>0.000000</td>\n",
       "      <td>91.0</td>\n",
       "      <td>40.583178</td>\n",
       "      <td>39.00000</td>\n",
       "      <td>26.488621</td>\n",
       "      <td>&lt;NA&gt;</td>\n",
       "      <td>0</td>\n",
       "      <td>&lt;NA&gt;</td>\n",
       "    </tr>\n",
       "  </tbody>\n",
       "</table>\n",
       "</div>"
      ],
      "text/plain": [
       "              input         min      max        mean     median       stddev  \\\n",
       "0         starttime         NaN      NaN         NaN        NaN          NaN   \n",
       "1  avg_tripduration  116.666667  45776.5  817.984338  680.78125  1404.576554   \n",
       "2    pct_subscriber    0.000000      1.0    0.921349    0.96000     0.110237   \n",
       "3      ratio_gender    0.000000     20.0    2.478870    2.00000     2.000844   \n",
       "4          capacity    0.000000     91.0   40.583178   39.00000    26.488621   \n",
       "\n",
       "   category_count  null_count  dimension  \n",
       "0            1089           0       <NA>  \n",
       "1            <NA>           0       <NA>  \n",
       "2            <NA>           0       <NA>  \n",
       "3            <NA>           0       <NA>  \n",
       "4            <NA>           0       <NA>  "
      ]
     },
     "execution_count": 13,
     "metadata": {},
     "output_type": "execute_result"
    }
   ],
   "source": [
    "query = f\"\"\"\n",
    "    SELECT *\n",
    "    FROM ML.FEATURE_INFO(MODEL `{BQ_PROJECT}.{BQ_DATASET}.{BQ_TABLE_GROUP_A}_mlr_{MODEL_VERSION}`)\n",
    "\"\"\"\n",
    "featureInfo = bq.query(query).to_dataframe()\n",
    "featureInfo.head()"
   ]
  },
  {
   "cell_type": "code",
   "execution_count": 14,
   "id": "2e310d24-7226-4d4a-ad01-a533195a5067",
   "metadata": {},
   "outputs": [
    {
     "data": {
      "text/html": [
       "<div>\n",
       "<style scoped>\n",
       "    .dataframe tbody tr th:only-of-type {\n",
       "        vertical-align: middle;\n",
       "    }\n",
       "\n",
       "    .dataframe tbody tr th {\n",
       "        vertical-align: top;\n",
       "    }\n",
       "\n",
       "    .dataframe thead th {\n",
       "        text-align: right;\n",
       "    }\n",
       "</style>\n",
       "<table border=\"1\" class=\"dataframe\">\n",
       "  <thead>\n",
       "    <tr style=\"text-align: right;\">\n",
       "      <th></th>\n",
       "      <th>training_run</th>\n",
       "      <th>iteration</th>\n",
       "      <th>loss</th>\n",
       "      <th>eval_loss</th>\n",
       "      <th>learning_rate</th>\n",
       "      <th>duration_ms</th>\n",
       "    </tr>\n",
       "  </thead>\n",
       "  <tbody>\n",
       "    <tr>\n",
       "      <th>0</th>\n",
       "      <td>0</td>\n",
       "      <td>5</td>\n",
       "      <td>3101.960828</td>\n",
       "      <td>6550.015469</td>\n",
       "      <td>0.8</td>\n",
       "      <td>1872</td>\n",
       "    </tr>\n",
       "    <tr>\n",
       "      <th>1</th>\n",
       "      <td>0</td>\n",
       "      <td>4</td>\n",
       "      <td>3123.625647</td>\n",
       "      <td>6601.246628</td>\n",
       "      <td>0.8</td>\n",
       "      <td>2016</td>\n",
       "    </tr>\n",
       "    <tr>\n",
       "      <th>2</th>\n",
       "      <td>0</td>\n",
       "      <td>3</td>\n",
       "      <td>3185.819015</td>\n",
       "      <td>6727.225416</td>\n",
       "      <td>0.8</td>\n",
       "      <td>2130</td>\n",
       "    </tr>\n",
       "    <tr>\n",
       "      <th>3</th>\n",
       "      <td>0</td>\n",
       "      <td>2</td>\n",
       "      <td>3382.700092</td>\n",
       "      <td>6983.005701</td>\n",
       "      <td>0.8</td>\n",
       "      <td>1951</td>\n",
       "    </tr>\n",
       "    <tr>\n",
       "      <th>4</th>\n",
       "      <td>0</td>\n",
       "      <td>1</td>\n",
       "      <td>4482.891787</td>\n",
       "      <td>7293.532606</td>\n",
       "      <td>0.4</td>\n",
       "      <td>2005</td>\n",
       "    </tr>\n",
       "  </tbody>\n",
       "</table>\n",
       "</div>"
      ],
      "text/plain": [
       "   training_run  iteration         loss    eval_loss  learning_rate  \\\n",
       "0             0          5  3101.960828  6550.015469            0.8   \n",
       "1             0          4  3123.625647  6601.246628            0.8   \n",
       "2             0          3  3185.819015  6727.225416            0.8   \n",
       "3             0          2  3382.700092  6983.005701            0.8   \n",
       "4             0          1  4482.891787  7293.532606            0.4   \n",
       "\n",
       "   duration_ms  \n",
       "0         1872  \n",
       "1         2016  \n",
       "2         2130  \n",
       "3         1951  \n",
       "4         2005  "
      ]
     },
     "execution_count": 14,
     "metadata": {},
     "output_type": "execute_result"
    }
   ],
   "source": [
    "query = f\"\"\"\n",
    "    SELECT *\n",
    "    FROM ML.TRAINING_INFO(MODEL `{BQ_PROJECT}.{BQ_DATASET}.{BQ_TABLE_GROUP_A}_mlr_{MODEL_VERSION}`)\n",
    "\"\"\"\n",
    "trainingInfo = bq.query(query).to_dataframe()\n",
    "trainingInfo.head()"
   ]
  },
  {
   "cell_type": "markdown",
   "id": "7ffeef28-53d7-4798-aac1-a417c60282ad",
   "metadata": {},
   "source": [
    "## Forecast Evaluation"
   ]
  },
  {
   "cell_type": "code",
   "execution_count": 15,
   "id": "d150bb24-ab3b-47c7-8b54-622a4da7ef7d",
   "metadata": {},
   "outputs": [
    {
     "data": {
      "text/html": [
       "<div>\n",
       "<style scoped>\n",
       "    .dataframe tbody tr th:only-of-type {\n",
       "        vertical-align: middle;\n",
       "    }\n",
       "\n",
       "    .dataframe tbody tr th {\n",
       "        vertical-align: top;\n",
       "    }\n",
       "\n",
       "    .dataframe thead th {\n",
       "        text-align: right;\n",
       "    }\n",
       "</style>\n",
       "<table border=\"1\" class=\"dataframe\">\n",
       "  <thead>\n",
       "    <tr style=\"text-align: right;\">\n",
       "      <th></th>\n",
       "      <th>mean_absolute_error</th>\n",
       "      <th>mean_squared_error</th>\n",
       "      <th>mean_squared_log_error</th>\n",
       "      <th>median_absolute_error</th>\n",
       "      <th>r2_score</th>\n",
       "      <th>explained_variance</th>\n",
       "    </tr>\n",
       "  </thead>\n",
       "  <tbody>\n",
       "    <tr>\n",
       "      <th>0</th>\n",
       "      <td>45.043066</td>\n",
       "      <td>3550.440725</td>\n",
       "      <td>4.042181</td>\n",
       "      <td>31.721676</td>\n",
       "      <td>-0.587681</td>\n",
       "      <td>-0.074246</td>\n",
       "    </tr>\n",
       "  </tbody>\n",
       "</table>\n",
       "</div>"
      ],
      "text/plain": [
       "   mean_absolute_error  mean_squared_error  mean_squared_log_error  \\\n",
       "0            45.043066         3550.440725                4.042181   \n",
       "\n",
       "   median_absolute_error  r2_score  explained_variance  \n",
       "0              31.721676 -0.587681           -0.074246  "
      ]
     },
     "execution_count": 15,
     "metadata": {},
     "output_type": "execute_result"
    }
   ],
   "source": [
    "query = f\"\"\"\n",
    "    SELECT *\n",
    "    FROM ML.EVALUATE(\n",
    "        MODEL `{BQ_PROJECT}.{BQ_DATASET}.{BQ_TABLE_GROUP_A}_mlr_{MODEL_VERSION}`,\n",
    "        (\n",
    "            SELECT {TIME_COLUMN}, {TARGET_COLUMN},\n",
    "                {', '.join(COVARIATE_COLUMNS)}\n",
    "            FROM `{BQ_PROJECT}.{BQ_DATASET}.{BQ_TABLE_GROUP_A}`\n",
    "            WHERE splits = 'TEST'\n",
    "        )\n",
    "    )\n",
    "\"\"\"\n",
    "metrics = bq.query(query).to_dataframe()\n",
    "metrics"
   ]
  },
  {
   "cell_type": "markdown",
   "id": "150d1fdf-cead-4048-bdda-6aa265683df3",
   "metadata": {},
   "source": [
    "## Explainability\n",
    "\n",
    "* if `XAI_FLAG` set to `TRUE`"
   ]
  },
  {
   "cell_type": "markdown",
   "id": "feed1d38-8b59-463e-9ed7-d55ec7a618c5",
   "metadata": {},
   "source": [
    "### local XAI"
   ]
  },
  {
   "cell_type": "code",
   "execution_count": 16,
   "id": "7bf9959b-654d-412a-8083-4bcb9d79158c",
   "metadata": {},
   "outputs": [
    {
     "name": "stdout",
     "output_type": "stream",
     "text": [
      "\n",
      "    CREATE OR REPLACE TABLE `hybrid-vertex.mlr_2.control_group1_grp_a_xai_v1` AS (\n",
      "    SELECT\n",
      "      *\n",
      "    FROM\n",
      "      ML.EXPLAIN_PREDICT(\n",
      "          MODEL `hybrid-vertex.mlr_2.control_group1_grp_a_mlr_v1`,\n",
      "          (\n",
      "            SELECT \n",
      "                starttime, \n",
      "                num_trips,\n",
      "                avg_tripduration, pct_subscriber, ratio_gender, capacity,\n",
      "                start_station_name\n",
      "            FROM `hybrid-vertex.mlr_2.control_group1_grp_a` \n",
      "            WHERE splits = 'TEST'\n",
      "          ),\n",
      "          STRUCT(3 as top_k_features)\n",
      "        )\n",
      "    );\n",
      "\n"
     ]
    }
   ],
   "source": [
    "query = f\"\"\"\n",
    "    CREATE OR REPLACE TABLE `{BQ_PROJECT}.{BQ_DATASET}.{BQ_TABLE_GROUP_A}_xai_{MODEL_VERSION}` AS (\n",
    "    SELECT\n",
    "      *\n",
    "    FROM\n",
    "      ML.EXPLAIN_PREDICT(\n",
    "          MODEL `{BQ_PROJECT}.{BQ_DATASET}.{BQ_TABLE_GROUP_A}_mlr_{MODEL_VERSION}`,\n",
    "          (\n",
    "            SELECT \n",
    "                {TIME_COLUMN}, \n",
    "                {TARGET_COLUMN},\n",
    "                {', '.join(COVARIATE_COLUMNS)},\n",
    "                {SERIES_COLUMN}\n",
    "            FROM `{BQ_PROJECT}.{BQ_DATASET}.{BQ_TABLE_GROUP_A}` \n",
    "            WHERE splits = 'TEST'\n",
    "          ),\n",
    "          STRUCT(3 as top_k_features)\n",
    "        )\n",
    "    );\n",
    "\"\"\"\n",
    "print(query)\n",
    "# overview = bq.query(query).to_dataframe()\n",
    "# overview.head(2)"
   ]
  },
  {
   "cell_type": "code",
   "execution_count": 17,
   "id": "a8d83cfd-8383-4825-9515-c15edcb10e57",
   "metadata": {},
   "outputs": [
    {
     "name": "stdout",
     "output_type": "stream",
     "text": [
      "DONE 1.43\n"
     ]
    }
   ],
   "source": [
    "job = bq.query(query)\n",
    "job.result()\n",
    "print(job.state, (job.ended-job.started).total_seconds())"
   ]
  },
  {
   "cell_type": "markdown",
   "id": "8d845c68-37d1-4511-a560-78ef994fba80",
   "metadata": {},
   "source": [
    "### global XAI"
   ]
  },
  {
   "cell_type": "code",
   "execution_count": 18,
   "id": "2cf5ca7a-4f39-4df0-b970-b585d2e55893",
   "metadata": {},
   "outputs": [
    {
     "data": {
      "text/html": [
       "<div>\n",
       "<style scoped>\n",
       "    .dataframe tbody tr th:only-of-type {\n",
       "        vertical-align: middle;\n",
       "    }\n",
       "\n",
       "    .dataframe tbody tr th {\n",
       "        vertical-align: top;\n",
       "    }\n",
       "\n",
       "    .dataframe thead th {\n",
       "        text-align: right;\n",
       "    }\n",
       "</style>\n",
       "<table border=\"1\" class=\"dataframe\">\n",
       "  <thead>\n",
       "    <tr style=\"text-align: right;\">\n",
       "      <th></th>\n",
       "      <th>feature</th>\n",
       "      <th>attribution</th>\n",
       "    </tr>\n",
       "  </thead>\n",
       "  <tbody>\n",
       "    <tr>\n",
       "      <th>0</th>\n",
       "      <td>capacity</td>\n",
       "      <td>53.368157</td>\n",
       "    </tr>\n",
       "    <tr>\n",
       "      <th>1</th>\n",
       "      <td>starttime</td>\n",
       "      <td>40.251806</td>\n",
       "    </tr>\n",
       "    <tr>\n",
       "      <th>2</th>\n",
       "      <td>ratio_gender</td>\n",
       "      <td>2.727573</td>\n",
       "    </tr>\n",
       "    <tr>\n",
       "      <th>3</th>\n",
       "      <td>pct_subscriber</td>\n",
       "      <td>0.282598</td>\n",
       "    </tr>\n",
       "    <tr>\n",
       "      <th>4</th>\n",
       "      <td>avg_tripduration</td>\n",
       "      <td>0.166120</td>\n",
       "    </tr>\n",
       "  </tbody>\n",
       "</table>\n",
       "</div>"
      ],
      "text/plain": [
       "            feature  attribution\n",
       "0          capacity    53.368157\n",
       "1         starttime    40.251806\n",
       "2      ratio_gender     2.727573\n",
       "3    pct_subscriber     0.282598\n",
       "4  avg_tripduration     0.166120"
      ]
     },
     "execution_count": 18,
     "metadata": {},
     "output_type": "execute_result"
    }
   ],
   "source": [
    "query = f\"\"\"\n",
    "    SELECT\n",
    "      *\n",
    "    FROM\n",
    "      ML.GLOBAL_EXPLAIN(\n",
    "          MODEL `{BQ_PROJECT}.{BQ_DATASET}.{BQ_TABLE_GROUP_A}_mlr_{MODEL_VERSION}`\n",
    "    )\n",
    "\"\"\"\n",
    "# print(query)\n",
    "overview = bq.query(query).to_dataframe()\n",
    "overview"
   ]
  },
  {
   "cell_type": "code",
   "execution_count": 19,
   "id": "92251d0a-2675-4a8f-88ed-eff88a8457e7",
   "metadata": {},
   "outputs": [],
   "source": [
    "# job = bq.query(query)\n",
    "# job.result()\n",
    "# print(job.state, (job.ended-job.started).total_seconds())"
   ]
  },
  {
   "cell_type": "markdown",
   "id": "53897cde-90b1-406a-a10f-84c5411fb07c",
   "metadata": {},
   "source": [
    "## Forecast Test Set"
   ]
  },
  {
   "cell_type": "code",
   "execution_count": 20,
   "id": "99f0cfaa-810d-43bf-ab04-bf76e816e46a",
   "metadata": {},
   "outputs": [
    {
     "data": {
      "text/html": [
       "<div>\n",
       "<style scoped>\n",
       "    .dataframe tbody tr th:only-of-type {\n",
       "        vertical-align: middle;\n",
       "    }\n",
       "\n",
       "    .dataframe tbody tr th {\n",
       "        vertical-align: top;\n",
       "    }\n",
       "\n",
       "    .dataframe thead th {\n",
       "        text-align: right;\n",
       "    }\n",
       "</style>\n",
       "<table border=\"1\" class=\"dataframe\">\n",
       "  <thead>\n",
       "    <tr style=\"text-align: right;\">\n",
       "      <th></th>\n",
       "      <th>predicted_num_trips</th>\n",
       "      <th>starttime</th>\n",
       "      <th>num_trips</th>\n",
       "      <th>avg_tripduration</th>\n",
       "      <th>pct_subscriber</th>\n",
       "      <th>ratio_gender</th>\n",
       "      <th>capacity</th>\n",
       "      <th>start_station_name</th>\n",
       "    </tr>\n",
       "  </thead>\n",
       "  <tbody>\n",
       "    <tr>\n",
       "      <th>0</th>\n",
       "      <td>34.604236</td>\n",
       "      <td>2016-07-08</td>\n",
       "      <td>216</td>\n",
       "      <td>749.777778</td>\n",
       "      <td>0.916667</td>\n",
       "      <td>1.769231</td>\n",
       "      <td>0</td>\n",
       "      <td>Lafayette St &amp; Jersey St N</td>\n",
       "    </tr>\n",
       "    <tr>\n",
       "      <th>1</th>\n",
       "      <td>38.486356</td>\n",
       "      <td>2016-07-09</td>\n",
       "      <td>221</td>\n",
       "      <td>857.588235</td>\n",
       "      <td>0.859729</td>\n",
       "      <td>1.695122</td>\n",
       "      <td>0</td>\n",
       "      <td>Lafayette St &amp; Jersey St N</td>\n",
       "    </tr>\n",
       "    <tr>\n",
       "      <th>2</th>\n",
       "      <td>60.794206</td>\n",
       "      <td>2016-07-12</td>\n",
       "      <td>298</td>\n",
       "      <td>834.882550</td>\n",
       "      <td>0.929530</td>\n",
       "      <td>2.725000</td>\n",
       "      <td>0</td>\n",
       "      <td>Lafayette St &amp; Jersey St N</td>\n",
       "    </tr>\n",
       "    <tr>\n",
       "      <th>3</th>\n",
       "      <td>-11.077209</td>\n",
       "      <td>2016-07-19</td>\n",
       "      <td>89</td>\n",
       "      <td>751.865169</td>\n",
       "      <td>0.966292</td>\n",
       "      <td>1.870968</td>\n",
       "      <td>0</td>\n",
       "      <td>Lafayette St &amp; Jersey St N</td>\n",
       "    </tr>\n",
       "    <tr>\n",
       "      <th>4</th>\n",
       "      <td>194.788827</td>\n",
       "      <td>2016-07-17</td>\n",
       "      <td>201</td>\n",
       "      <td>1512.870647</td>\n",
       "      <td>0.855721</td>\n",
       "      <td>1.481481</td>\n",
       "      <td>0</td>\n",
       "      <td>Lafayette St &amp; Jersey St N</td>\n",
       "    </tr>\n",
       "    <tr>\n",
       "      <th>...</th>\n",
       "      <td>...</td>\n",
       "      <td>...</td>\n",
       "      <td>...</td>\n",
       "      <td>...</td>\n",
       "      <td>...</td>\n",
       "      <td>...</td>\n",
       "      <td>...</td>\n",
       "      <td>...</td>\n",
       "    </tr>\n",
       "    <tr>\n",
       "      <th>4254</th>\n",
       "      <td>33.748675</td>\n",
       "      <td>2016-05-23</td>\n",
       "      <td>43</td>\n",
       "      <td>950.511628</td>\n",
       "      <td>0.906977</td>\n",
       "      <td>1.866667</td>\n",
       "      <td>0</td>\n",
       "      <td>Lafayette Ave &amp; Fort Greene Pl</td>\n",
       "    </tr>\n",
       "    <tr>\n",
       "      <th>4255</th>\n",
       "      <td>-36.459672</td>\n",
       "      <td>2016-06-21</td>\n",
       "      <td>43</td>\n",
       "      <td>671.697674</td>\n",
       "      <td>0.976744</td>\n",
       "      <td>2.307692</td>\n",
       "      <td>0</td>\n",
       "      <td>Lafayette Ave &amp; Fort Greene Pl</td>\n",
       "    </tr>\n",
       "    <tr>\n",
       "      <th>4256</th>\n",
       "      <td>21.582573</td>\n",
       "      <td>2016-07-11</td>\n",
       "      <td>43</td>\n",
       "      <td>1156.209302</td>\n",
       "      <td>0.837209</td>\n",
       "      <td>1.047619</td>\n",
       "      <td>0</td>\n",
       "      <td>Lafayette Ave &amp; Fort Greene Pl</td>\n",
       "    </tr>\n",
       "    <tr>\n",
       "      <th>4257</th>\n",
       "      <td>-36.909727</td>\n",
       "      <td>2013-07-26</td>\n",
       "      <td>43</td>\n",
       "      <td>752.720930</td>\n",
       "      <td>0.837209</td>\n",
       "      <td>1.687500</td>\n",
       "      <td>0</td>\n",
       "      <td>Lafayette Ave &amp; Fort Greene Pl</td>\n",
       "    </tr>\n",
       "    <tr>\n",
       "      <th>4258</th>\n",
       "      <td>10.896531</td>\n",
       "      <td>2015-05-09</td>\n",
       "      <td>43</td>\n",
       "      <td>1302.023256</td>\n",
       "      <td>0.767442</td>\n",
       "      <td>1.866667</td>\n",
       "      <td>0</td>\n",
       "      <td>Lafayette Ave &amp; Fort Greene Pl</td>\n",
       "    </tr>\n",
       "  </tbody>\n",
       "</table>\n",
       "<p>4259 rows × 8 columns</p>\n",
       "</div>"
      ],
      "text/plain": [
       "      predicted_num_trips   starttime  num_trips  avg_tripduration  \\\n",
       "0               34.604236  2016-07-08        216        749.777778   \n",
       "1               38.486356  2016-07-09        221        857.588235   \n",
       "2               60.794206  2016-07-12        298        834.882550   \n",
       "3              -11.077209  2016-07-19         89        751.865169   \n",
       "4              194.788827  2016-07-17        201       1512.870647   \n",
       "...                   ...         ...        ...               ...   \n",
       "4254            33.748675  2016-05-23         43        950.511628   \n",
       "4255           -36.459672  2016-06-21         43        671.697674   \n",
       "4256            21.582573  2016-07-11         43       1156.209302   \n",
       "4257           -36.909727  2013-07-26         43        752.720930   \n",
       "4258            10.896531  2015-05-09         43       1302.023256   \n",
       "\n",
       "      pct_subscriber  ratio_gender  capacity              start_station_name  \n",
       "0           0.916667      1.769231         0      Lafayette St & Jersey St N  \n",
       "1           0.859729      1.695122         0      Lafayette St & Jersey St N  \n",
       "2           0.929530      2.725000         0      Lafayette St & Jersey St N  \n",
       "3           0.966292      1.870968         0      Lafayette St & Jersey St N  \n",
       "4           0.855721      1.481481         0      Lafayette St & Jersey St N  \n",
       "...              ...           ...       ...                             ...  \n",
       "4254        0.906977      1.866667         0  Lafayette Ave & Fort Greene Pl  \n",
       "4255        0.976744      2.307692         0  Lafayette Ave & Fort Greene Pl  \n",
       "4256        0.837209      1.047619         0  Lafayette Ave & Fort Greene Pl  \n",
       "4257        0.837209      1.687500         0  Lafayette Ave & Fort Greene Pl  \n",
       "4258        0.767442      1.866667         0  Lafayette Ave & Fort Greene Pl  \n",
       "\n",
       "[4259 rows x 8 columns]"
      ]
     },
     "execution_count": 20,
     "metadata": {},
     "output_type": "execute_result"
    }
   ],
   "source": [
    "query = f\"\"\"\n",
    "    SELECT *\n",
    "    FROM ML.PREDICT(\n",
    "        MODEL `{BQ_PROJECT}.{BQ_DATASET}.{BQ_TABLE_GROUP_A}_mlr_{MODEL_VERSION}`,\n",
    "        (\n",
    "            SELECT \n",
    "                {TIME_COLUMN}, \n",
    "                {TARGET_COLUMN},\n",
    "                {', '.join(COVARIATE_COLUMNS)},\n",
    "                {SERIES_COLUMN}\n",
    "            FROM `{BQ_PROJECT}.{BQ_DATASET}.{BQ_TABLE_GROUP_A}`\n",
    "        )\n",
    "        )\n",
    "\"\"\"\n",
    "forecast = bq.query(query).to_dataframe()\n",
    "forecast\n",
    "# print(query)"
   ]
  },
  {
   "cell_type": "code",
   "execution_count": 21,
   "id": "932a7d81-9725-4f21-ba74-832818bfcce2",
   "metadata": {},
   "outputs": [
    {
     "data": {
      "text/plain": [
       "1.302"
      ]
     },
     "execution_count": 21,
     "metadata": {},
     "output_type": "execute_result"
    }
   ],
   "source": [
    "# CUSTOMIZE\n",
    "query = f\"\"\"\n",
    "CREATE OR REPLACE TABLE `{BQ_PROJECT}.{BQ_DATASET}.{BQ_TABLE_GROUP_A}_pred_Test` AS (\n",
    "    SELECT * FROM ML.PREDICT(\n",
    "            MODEL `{BQ_PROJECT}.{BQ_DATASET}.{BQ_TABLE_GROUP_A}_mlr_{MODEL_VERSION}`,\n",
    "            (\n",
    "                SELECT\n",
    "                {TIME_COLUMN}, \n",
    "                {TARGET_COLUMN},\n",
    "                {', '.join(COVARIATE_COLUMNS)},\n",
    "                {SERIES_COLUMN}\n",
    "            FROM `{BQ_PROJECT}.{BQ_DATASET}.{BQ_TABLE_GROUP_A}`\n",
    "                WHERE splits = 'TEST'\n",
    "            )\n",
    "            )\n",
    ")\n",
    "\"\"\"\n",
    "job = bq.query(query = query)\n",
    "job.result()\n",
    "(job.ended-job.started).total_seconds()"
   ]
  },
  {
   "cell_type": "markdown",
   "id": "c2154c40-9f2d-4139-903d-646b12c27b18",
   "metadata": {},
   "source": [
    "# Register Model in Vertex AI"
   ]
  },
  {
   "cell_type": "code",
   "execution_count": 22,
   "id": "3bdf4cac-abc1-4a60-a9ba-4b268ff932e9",
   "metadata": {},
   "outputs": [],
   "source": [
    "# Initiate Vertex AI Model Registry for `VERTEX_AI_MODEL_ID` model entry\n",
    "registry = vertex_ai.models.ModelRegistry(VERTEX_AI_MODEL_ID)"
   ]
  },
  {
   "cell_type": "code",
   "execution_count": 23,
   "id": "56f41e0d-892f-4c58-8160-0f2d50008a64",
   "metadata": {},
   "outputs": [
    {
     "name": "stdout",
     "output_type": "stream",
     "text": [
      "Getting versions for projects/hybrid-vertex/locations/us-central1/models/v1_mlr_a\n",
      "Model version 1 was created at 05/04/2023 12:35:12 with aliases ['default']\n",
      "Model version 2 was created at 05/04/2023 13:18:24 with aliases ['v2']\n",
      "Model version 3 was created at 05/04/2023 14:43:54 with aliases ['v3']\n",
      "Model version 4 was created at 05/14/2023 23:33:12 with aliases ['v1', 'experimental']\n"
     ]
    }
   ],
   "source": [
    "# Get model versions\n",
    "versions = registry.list_versions()\n",
    "\n",
    "for version in versions:\n",
    "    version_id = version.version_id\n",
    "    version_created_time = datetime.fromtimestamp(\n",
    "        version.version_create_time.timestamp()\n",
    "    ).strftime(\"%m/%d/%Y %H:%M:%S\")\n",
    "    version_aliases = version.version_aliases\n",
    "    print(\n",
    "        f\"Model version {version_id} was created at {version_created_time} with aliases {version_aliases}\",\n",
    "    )"
   ]
  },
  {
   "cell_type": "code",
   "execution_count": 21,
   "id": "5f73106f-1572-43b9-90ee-4fed8ed28868",
   "metadata": {},
   "outputs": [
    {
     "name": "stdout",
     "output_type": "stream",
     "text": [
      "<google.cloud.aiplatform.models.Model object at 0x7efd781e1e90> \n",
      "resource name: projects/934903580331/locations/us-central1/models/v1_mlr_a\n"
     ]
    }
   ],
   "source": [
    "# # Get the model\n",
    "# model = registry.get_model(version=\"1\")\n",
    "# print(model)"
   ]
  },
  {
   "cell_type": "code",
   "execution_count": 22,
   "id": "f6e125fd-bdb1-4862-b48a-23557ff2023c",
   "metadata": {},
   "outputs": [
    {
     "name": "stdout",
     "output_type": "stream",
     "text": [
      "<google.cloud.aiplatform.models.Model object at 0x7efd781d4e50> \n",
      "resource name: projects/934903580331/locations/us-central1/models/v1_mlr_a\n"
     ]
    }
   ],
   "source": [
    "# # Get the model\n",
    "# model = registry.get_model(version=\"v2\")\n",
    "# print(model)"
   ]
  },
  {
   "cell_type": "code",
   "execution_count": 24,
   "id": "27b272ad-f6c7-4b55-aa74-75eccb9d1727",
   "metadata": {},
   "outputs": [
    {
     "name": "stdout",
     "output_type": "stream",
     "text": [
      "<google.cloud.aiplatform.models.Model object at 0x7fd477e54610> \n",
      "resource name: projects/934903580331/locations/us-central1/models/v1_mlr_a\n"
     ]
    }
   ],
   "source": [
    "# Get the model\n",
    "model = registry.get_model(version=\"v1\")\n",
    "print(model)"
   ]
  },
  {
   "cell_type": "markdown",
   "id": "fd831907-a17d-4797-9d2c-8a699cbcbed2",
   "metadata": {
    "jp-MarkdownHeadingCollapsed": true,
    "tags": []
   },
   "source": [
    "# TODO: Model Evlauation Pipeline"
   ]
  },
  {
   "cell_type": "code",
   "execution_count": 53,
   "id": "4d6a28b0-b662-4a99-b51d-bbda5aeb50fe",
   "metadata": {},
   "outputs": [],
   "source": [
    "# kfp\n",
    "import kfp\n",
    "import kfp.v2.dsl\n",
    "from kfp.v2.google import client as pipelines_client\n",
    "from kfp.v2.dsl import (Artifact, Dataset, Input, InputPath, Model, Output,\n",
    "                        OutputPath, component)\n",
    "\n",
    "import google.cloud.aiplatform as vertex_ai\n",
    "\n",
    "vertex_ai.init(\n",
    "    project=PROJECT_ID,\n",
    "    location=REGION\n",
    ")"
   ]
  },
  {
   "cell_type": "code",
   "execution_count": 54,
   "id": "6d0f6465-b873-4994-8503-f62f0a21b38d",
   "metadata": {},
   "outputs": [
    {
     "name": "stdout",
     "output_type": "stream",
     "text": [
      "eval-pipe-v1\n"
     ]
    }
   ],
   "source": [
    "PIPELINE_DISPLAY_NAME = f\"eval-pipe-{MODEL_VERSION}\"  # @param {type:\"string\"}\n",
    "print(PIPELINE_DISPLAY_NAME)"
   ]
  },
  {
   "cell_type": "code",
   "execution_count": 55,
   "id": "405147da-5ee1-43be-8574-91737cf1bae3",
   "metadata": {},
   "outputs": [],
   "source": [
    "@kfp.dsl.pipeline(name=PIPELINE_DISPLAY_NAME)\n",
    "def evaluation_custom_tabular_feature_attribution_pipeline(\n",
    "    project: str,\n",
    "    location: str,\n",
    "    root_dir: str,\n",
    "    model_name: str,\n",
    "    bq_dataset_name: str,\n",
    "    target_field_name: str,\n",
    "    # batch_predict_gcs_source_uris: list,\n",
    "    eval_bq_processed: str,\n",
    "    batch_predict_instances_format: str,\n",
    "    batch_predict_sample_size: int,\n",
    "    batch_predict_predictions_format: str = \"bigquery\",\n",
    "    batch_predict_machine_type: str = \"n1-standard-4\",\n",
    "):\n",
    "\n",
    "    from google_cloud_pipeline_components.aiplatform import ModelBatchPredictOp\n",
    "    from google_cloud_pipeline_components.experimental.evaluation import (\n",
    "        EvaluationDataSamplerOp, GetVertexModelOp,\n",
    "        ModelEvaluationFeatureAttributionOp, ModelEvaluationRegressionOp,\n",
    "        ModelImportEvaluationOp, TargetFieldDataRemoverOp)\n",
    "\n",
    "    # Get the Vertex AI model resource\n",
    "    get_model_task = GetVertexModelOp(model_resource_name=model_name)\n",
    "\n",
    "    # Run Data-sampling task\n",
    "    data_sampler_task = EvaluationDataSamplerOp(\n",
    "        project=project,\n",
    "        location=location,\n",
    "        root_dir=root_dir,\n",
    "        # gcs_source_uris=batch_predict_gcs_source_uris,\n",
    "        bigquery_source_uri=eval_bq_processed,\n",
    "        instances_format=batch_predict_instances_format,\n",
    "        sample_size=batch_predict_sample_size,\n",
    "    )\n",
    "\n",
    "    # Run Data-splitter task\n",
    "    data_splitter_task = TargetFieldDataRemoverOp(\n",
    "        project=project,\n",
    "        location=location,\n",
    "        root_dir=root_dir,\n",
    "        # gcs_source_uris=data_sampler_task.outputs[\"gcs_output_directory\"],\n",
    "        bigquery_source_uri=data_sampler_task.outputs[\"bigquery_output_table\"],\n",
    "        instances_format=batch_predict_instances_format,\n",
    "        target_field_name=target_field_name,\n",
    "    )\n",
    "\n",
    "    # Run Batch Explanations\n",
    "    batch_explain_task = ModelBatchPredictOp(\n",
    "        project=project,\n",
    "        location=location,\n",
    "        model=get_model_task.outputs[\"model\"],\n",
    "        job_display_name=\"model-registry-batch-predict-evaluation\",\n",
    "        # gcs_source_uris=data_splitter_task.outputs[\"gcs_output_directory\"],\n",
    "        bigquery_source_input_uri=data_splitter_task.outputs[\"bigquery_output_table\"],\n",
    "        instances_format=batch_predict_instances_format,\n",
    "        predictions_format=batch_predict_predictions_format,\n",
    "        # gcs_destination_output_uri_prefix=root_dir,\n",
    "        bigquery_destination_output_uri=f'bq://{project}.{bq_dataset_name}',\n",
    "        machine_type=batch_predict_machine_type,\n",
    "        # Set the explanation parameters\n",
    "        generate_explanation=True,\n",
    "    )\n",
    "\n",
    "    # Run evaluation based on prediction type and feature attribution component.\n",
    "    # After, import the model evaluations to the Vertex AI Model resource.\n",
    "    eval_task = ModelEvaluationRegressionOp(\n",
    "        project=project,\n",
    "        location=location,\n",
    "        root_dir=root_dir,\n",
    "        # predictions_gcs_source=batch_explain_task.outputs[\"gcs_output_directory\"],\n",
    "        predictions_bigquery_source=batch_explain_task.outputs[\"bigquery_output_table\"],\n",
    "        # ground_truth_format=\"jsonl\",\n",
    "        ground_truth_format=\"bigquery\",\n",
    "        # ground_truth_gcs_source=data_sampler_task.outputs[\"gcs_output_directory\"],\n",
    "        ground_truth_bigquery_source=data_sampler_task.outputs[\"bigquery_output_table\"],\n",
    "        # predictions_format=batch_predict_predictions_format,\n",
    "        predictions_format='bigquery', # batch_predict_predictions_format,\n",
    "        # prediction_score_column=\"prediction\",\n",
    "        target_field_name=target_field_name,\n",
    "        model=get_model_task.outputs[\"model\"],\n",
    "    )\n",
    "\n",
    "    # # Get Feature Attributions\n",
    "    # feature_attribution_task = ModelEvaluationFeatureAttributionOp(\n",
    "    #     project=project,\n",
    "    #     location=location,\n",
    "    #     root_dir=root_dir,\n",
    "    #     predictions_format=\"bigquery\",\n",
    "    #     # predictions_gcs_source=batch_explain_task.outputs[\"gcs_output_directory\"],\n",
    "    #     predictions_bigquery_source=batch_explain_task.outputs[\"bigquery_output_table\"],\n",
    "    # )\n",
    "\n",
    "    ModelImportEvaluationOp(\n",
    "        regression_metrics=eval_task.outputs[\"evaluation_metrics\"],\n",
    "        # feature_attributions=feature_attribution_task.outputs[\"feature_attributions\"],\n",
    "        model=get_model_task.outputs[\"model\"],\n",
    "        dataset_type=batch_predict_instances_format,\n",
    "    )"
   ]
  },
  {
   "cell_type": "code",
   "execution_count": 56,
   "id": "80278778-659b-4328-ae2b-bd98d390c14d",
   "metadata": {},
   "outputs": [],
   "source": [
    "kfp.v2.compiler.Compiler().compile(\n",
    "    pipeline_func=evaluation_custom_tabular_feature_attribution_pipeline,\n",
    "    package_path=f\"{PIPELINE_DISPLAY_NAME}.json\",\n",
    ")"
   ]
  },
  {
   "cell_type": "code",
   "execution_count": 57,
   "id": "bdba865c-6036-4902-bf65-26139d1d2462",
   "metadata": {},
   "outputs": [],
   "source": [
    "# BQ_DATASET\n",
    "REGION = 'us-central1'\n",
    "BUCKET_NAME = 'vertex-forecast-22'\n",
    "GCS_BUCKET_URI =f'gs://{BUCKET_NAME}'\n",
    "\n",
    "PIPELINE_ROOT = f\"{GCS_BUCKET_URI}/pipeline_root/{BQ_DATASET}_{MODEL_VERSION}\"\n",
    "batch_predict_sample_size = 5\n",
    "BQ_EVAL_TEST_SET='bq://hybrid-vertex.mlr_2.control_group1_grp_a_pred_Test'\n",
    "\n",
    "SERVICE_ACCOUNT = 'notebooksa@hybrid-vertex.iam.gserviceaccount.com'"
   ]
  },
  {
   "cell_type": "code",
   "execution_count": 58,
   "id": "9ea607ea-7110-4822-93f5-9cd55f8e3c9d",
   "metadata": {},
   "outputs": [],
   "source": [
    "\n",
    "parameters = {\n",
    "    \"project\": PROJECT_ID,\n",
    "    \"location\": REGION,\n",
    "    \"root_dir\": PIPELINE_ROOT,\n",
    "    \"bq_dataset_name\":BQ_DATASET,\n",
    "    \"eval_bq_processed\":BQ_EVAL_TEST_SET,\n",
    "    \"model_name\": model.resource_name,\n",
    "    \"target_field_name\": \"num_trips\",\n",
    "    # \"batch_predict_gcs_source_uris\": [\n",
    "    #     BUCKET_URI + \"/\" + \"test_file_with_ground_truth.jsonl\"\n",
    "    # ],\n",
    "    \"batch_predict_instances_format\": \"bigquery\",\n",
    "    \"batch_predict_sample_size\": batch_predict_sample_size,\n",
    "}\n",
    "     "
   ]
  },
  {
   "cell_type": "code",
   "execution_count": 59,
   "id": "37fcf3e9-fdae-44a3-b8c3-2ed63f5fa456",
   "metadata": {},
   "outputs": [
    {
     "name": "stdout",
     "output_type": "stream",
     "text": [
      "Creating PipelineJob\n",
      "PipelineJob created. Resource name: projects/934903580331/locations/us-central1/pipelineJobs/eval-pipe-v1-20230515101352\n",
      "To use this PipelineJob in another session:\n",
      "pipeline_job = aiplatform.PipelineJob.get('projects/934903580331/locations/us-central1/pipelineJobs/eval-pipe-v1-20230515101352')\n",
      "View Pipeline Job:\n",
      "https://console.cloud.google.com/vertex-ai/locations/us-central1/pipelines/runs/eval-pipe-v1-20230515101352?project=934903580331\n",
      "PipelineJob projects/934903580331/locations/us-central1/pipelineJobs/eval-pipe-v1-20230515101352 current state:\n",
      "PipelineState.PIPELINE_STATE_RUNNING\n",
      "PipelineJob projects/934903580331/locations/us-central1/pipelineJobs/eval-pipe-v1-20230515101352 current state:\n",
      "PipelineState.PIPELINE_STATE_RUNNING\n",
      "PipelineJob projects/934903580331/locations/us-central1/pipelineJobs/eval-pipe-v1-20230515101352 current state:\n",
      "PipelineState.PIPELINE_STATE_RUNNING\n",
      "PipelineJob projects/934903580331/locations/us-central1/pipelineJobs/eval-pipe-v1-20230515101352 current state:\n",
      "PipelineState.PIPELINE_STATE_RUNNING\n",
      "PipelineJob projects/934903580331/locations/us-central1/pipelineJobs/eval-pipe-v1-20230515101352 current state:\n",
      "PipelineState.PIPELINE_STATE_RUNNING\n",
      "PipelineJob projects/934903580331/locations/us-central1/pipelineJobs/eval-pipe-v1-20230515101352 current state:\n",
      "PipelineState.PIPELINE_STATE_RUNNING\n",
      "PipelineJob projects/934903580331/locations/us-central1/pipelineJobs/eval-pipe-v1-20230515101352 current state:\n",
      "PipelineState.PIPELINE_STATE_RUNNING\n",
      "PipelineJob projects/934903580331/locations/us-central1/pipelineJobs/eval-pipe-v1-20230515101352 current state:\n",
      "PipelineState.PIPELINE_STATE_RUNNING\n",
      "PipelineJob projects/934903580331/locations/us-central1/pipelineJobs/eval-pipe-v1-20230515101352 current state:\n",
      "PipelineState.PIPELINE_STATE_RUNNING\n",
      "PipelineJob projects/934903580331/locations/us-central1/pipelineJobs/eval-pipe-v1-20230515101352 current state:\n",
      "PipelineState.PIPELINE_STATE_RUNNING\n"
     ]
    },
    {
     "ename": "RuntimeError",
     "evalue": "Job failed with:\ncode: 9\nmessage: \"The DAG failed because some tasks failed. The failed tasks are: [model-evaluation-regression].; Job (project_id = hybrid-vertex, job_id = 1824527945864052736) is failed due to the above error.; Failed to handle the job: {project_number = 934903580331, job_id = 1824527945864052736}\"\n",
     "output_type": "error",
     "traceback": [
      "\u001b[0;31m---------------------------------------------------------------------------\u001b[0m",
      "\u001b[0;31mRuntimeError\u001b[0m                              Traceback (most recent call last)",
      "\u001b[0;32m/var/tmp/ipykernel_9723/114228532.py\u001b[0m in \u001b[0;36m<module>\u001b[0;34m\u001b[0m\n\u001b[1;32m      6\u001b[0m )\n\u001b[1;32m      7\u001b[0m \u001b[0;34m\u001b[0m\u001b[0m\n\u001b[0;32m----> 8\u001b[0;31m \u001b[0mjob\u001b[0m\u001b[0;34m.\u001b[0m\u001b[0mrun\u001b[0m\u001b[0;34m(\u001b[0m\u001b[0mservice_account\u001b[0m\u001b[0;34m=\u001b[0m\u001b[0mSERVICE_ACCOUNT\u001b[0m\u001b[0;34m)\u001b[0m\u001b[0;34m\u001b[0m\u001b[0;34m\u001b[0m\u001b[0m\n\u001b[0m",
      "\u001b[0;32m~/.local/lib/python3.7/site-packages/google/cloud/aiplatform/pipeline_jobs.py\u001b[0m in \u001b[0;36mrun\u001b[0;34m(self, service_account, network, sync, create_request_timeout)\u001b[0m\n\u001b[1;32m    316\u001b[0m             \u001b[0mnetwork\u001b[0m\u001b[0;34m=\u001b[0m\u001b[0mnetwork\u001b[0m\u001b[0;34m,\u001b[0m\u001b[0;34m\u001b[0m\u001b[0;34m\u001b[0m\u001b[0m\n\u001b[1;32m    317\u001b[0m             \u001b[0msync\u001b[0m\u001b[0;34m=\u001b[0m\u001b[0msync\u001b[0m\u001b[0;34m,\u001b[0m\u001b[0;34m\u001b[0m\u001b[0;34m\u001b[0m\u001b[0m\n\u001b[0;32m--> 318\u001b[0;31m             \u001b[0mcreate_request_timeout\u001b[0m\u001b[0;34m=\u001b[0m\u001b[0mcreate_request_timeout\u001b[0m\u001b[0;34m,\u001b[0m\u001b[0;34m\u001b[0m\u001b[0;34m\u001b[0m\u001b[0m\n\u001b[0m\u001b[1;32m    319\u001b[0m         )\n\u001b[1;32m    320\u001b[0m \u001b[0;34m\u001b[0m\u001b[0m\n",
      "\u001b[0;32m~/.local/lib/python3.7/site-packages/google/cloud/aiplatform/base.py\u001b[0m in \u001b[0;36mwrapper\u001b[0;34m(*args, **kwargs)\u001b[0m\n\u001b[1;32m    808\u001b[0m                 \u001b[0;32mif\u001b[0m \u001b[0mself\u001b[0m\u001b[0;34m:\u001b[0m\u001b[0;34m\u001b[0m\u001b[0;34m\u001b[0m\u001b[0m\n\u001b[1;32m    809\u001b[0m                     \u001b[0mVertexAiResourceNounWithFutureManager\u001b[0m\u001b[0;34m.\u001b[0m\u001b[0mwait\u001b[0m\u001b[0;34m(\u001b[0m\u001b[0mself\u001b[0m\u001b[0;34m)\u001b[0m\u001b[0;34m\u001b[0m\u001b[0;34m\u001b[0m\u001b[0m\n\u001b[0;32m--> 810\u001b[0;31m                 \u001b[0;32mreturn\u001b[0m \u001b[0mmethod\u001b[0m\u001b[0;34m(\u001b[0m\u001b[0;34m*\u001b[0m\u001b[0margs\u001b[0m\u001b[0;34m,\u001b[0m \u001b[0;34m**\u001b[0m\u001b[0mkwargs\u001b[0m\u001b[0;34m)\u001b[0m\u001b[0;34m\u001b[0m\u001b[0;34m\u001b[0m\u001b[0m\n\u001b[0m\u001b[1;32m    811\u001b[0m \u001b[0;34m\u001b[0m\u001b[0m\n\u001b[1;32m    812\u001b[0m             \u001b[0;31m# callbacks to call within the Future (in same Thread)\u001b[0m\u001b[0;34m\u001b[0m\u001b[0;34m\u001b[0m\u001b[0;34m\u001b[0m\u001b[0m\n",
      "\u001b[0;32m~/.local/lib/python3.7/site-packages/google/cloud/aiplatform/pipeline_jobs.py\u001b[0m in \u001b[0;36m_run\u001b[0;34m(self, service_account, network, sync, create_request_timeout)\u001b[0m\n\u001b[1;32m    349\u001b[0m         )\n\u001b[1;32m    350\u001b[0m \u001b[0;34m\u001b[0m\u001b[0m\n\u001b[0;32m--> 351\u001b[0;31m         \u001b[0mself\u001b[0m\u001b[0;34m.\u001b[0m\u001b[0m_block_until_complete\u001b[0m\u001b[0;34m(\u001b[0m\u001b[0;34m)\u001b[0m\u001b[0;34m\u001b[0m\u001b[0;34m\u001b[0m\u001b[0m\n\u001b[0m\u001b[1;32m    352\u001b[0m \u001b[0;34m\u001b[0m\u001b[0m\n\u001b[1;32m    353\u001b[0m     def submit(\n",
      "\u001b[0;32m~/.local/lib/python3.7/site-packages/google/cloud/aiplatform/pipeline_jobs.py\u001b[0m in \u001b[0;36m_block_until_complete\u001b[0;34m(self)\u001b[0m\n\u001b[1;32m    497\u001b[0m         \u001b[0;31m# JOB_STATE_FAILED or JOB_STATE_CANCELLED.\u001b[0m\u001b[0;34m\u001b[0m\u001b[0;34m\u001b[0m\u001b[0;34m\u001b[0m\u001b[0m\n\u001b[1;32m    498\u001b[0m         \u001b[0;32mif\u001b[0m \u001b[0mself\u001b[0m\u001b[0;34m.\u001b[0m\u001b[0m_gca_resource\u001b[0m\u001b[0;34m.\u001b[0m\u001b[0mstate\u001b[0m \u001b[0;32min\u001b[0m \u001b[0m_PIPELINE_ERROR_STATES\u001b[0m\u001b[0;34m:\u001b[0m\u001b[0;34m\u001b[0m\u001b[0;34m\u001b[0m\u001b[0m\n\u001b[0;32m--> 499\u001b[0;31m             \u001b[0;32mraise\u001b[0m \u001b[0mRuntimeError\u001b[0m\u001b[0;34m(\u001b[0m\u001b[0;34m\"Job failed with:\\n%s\"\u001b[0m \u001b[0;34m%\u001b[0m \u001b[0mself\u001b[0m\u001b[0;34m.\u001b[0m\u001b[0m_gca_resource\u001b[0m\u001b[0;34m.\u001b[0m\u001b[0merror\u001b[0m\u001b[0;34m)\u001b[0m\u001b[0;34m\u001b[0m\u001b[0;34m\u001b[0m\u001b[0m\n\u001b[0m\u001b[1;32m    500\u001b[0m         \u001b[0;32melse\u001b[0m\u001b[0;34m:\u001b[0m\u001b[0;34m\u001b[0m\u001b[0;34m\u001b[0m\u001b[0m\n\u001b[1;32m    501\u001b[0m             \u001b[0m_LOGGER\u001b[0m\u001b[0;34m.\u001b[0m\u001b[0mlog_action_completed_against_resource\u001b[0m\u001b[0;34m(\u001b[0m\u001b[0;34m\"run\"\u001b[0m\u001b[0;34m,\u001b[0m \u001b[0;34m\"completed\"\u001b[0m\u001b[0;34m,\u001b[0m \u001b[0mself\u001b[0m\u001b[0;34m)\u001b[0m\u001b[0;34m\u001b[0m\u001b[0;34m\u001b[0m\u001b[0m\n",
      "\u001b[0;31mRuntimeError\u001b[0m: Job failed with:\ncode: 9\nmessage: \"The DAG failed because some tasks failed. The failed tasks are: [model-evaluation-regression].; Job (project_id = hybrid-vertex, job_id = 1824527945864052736) is failed due to the above error.; Failed to handle the job: {project_number = 934903580331, job_id = 1824527945864052736}\"\n"
     ]
    }
   ],
   "source": [
    "job = vertex_ai.PipelineJob(\n",
    "    display_name=PIPELINE_DISPLAY_NAME,\n",
    "    template_path=f\"{PIPELINE_DISPLAY_NAME}.json\",\n",
    "    parameter_values=parameters,\n",
    "    enable_caching=False,\n",
    ")\n",
    "\n",
    "job.run(service_account=SERVICE_ACCOUNT)"
   ]
  },
  {
   "cell_type": "code",
   "execution_count": null,
   "id": "93d04bf2-daad-4c38-a0e5-9b3b3b3e9c2d",
   "metadata": {},
   "outputs": [],
   "source": []
  }
 ],
 "metadata": {
  "environment": {
   "kernel": "python3",
   "name": "common-cpu.m103",
   "type": "gcloud",
   "uri": "gcr.io/deeplearning-platform-release/base-cpu:m103"
  },
  "kernelspec": {
   "display_name": "Python 3",
   "language": "python",
   "name": "python3"
  },
  "language_info": {
   "codemirror_mode": {
    "name": "ipython",
    "version": 3
   },
   "file_extension": ".py",
   "mimetype": "text/x-python",
   "name": "python",
   "nbconvert_exporter": "python",
   "pygments_lexer": "ipython3",
   "version": "3.7.12"
  }
 },
 "nbformat": 4,
 "nbformat_minor": 5
}
