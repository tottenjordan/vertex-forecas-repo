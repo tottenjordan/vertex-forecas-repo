{
 "cells": [
  {
   "cell_type": "markdown",
   "id": "72e68131-2fba-421d-9a29-c59075483c02",
   "metadata": {},
   "source": [
    "# BQML - Linear Regression"
   ]
  },
  {
   "cell_type": "code",
   "execution_count": 20,
   "id": "08ec24cb-26ac-4e03-930b-abcb6e0a15b1",
   "metadata": {},
   "outputs": [
    {
     "name": "stdout",
     "output_type": "stream",
     "text": [
      "PROJECT_ID: hybrid-vertex\n",
      "PROJECT_NUM: 934903580331\n",
      "LOCATION: us-central1\n",
      "REGION: us-central1\n",
      "VERTEX_SA: jt-vertex-sa@hybrid-vertex.iam.gserviceaccount.com\n"
     ]
    }
   ],
   "source": [
    "GCP_PROJECTS = !gcloud config get-value project\n",
    "PROJECT_ID = GCP_PROJECTS[0]\n",
    "PROJECT_NUM = !gcloud projects list --filter=\"$PROJECT_ID\" --format=\"value(PROJECT_NUMBER)\"\n",
    "PROJECT_NUM = PROJECT_NUM[0]\n",
    "LOCATION = 'us-central1'\n",
    "REGION = \"us-central1\"\n",
    "\n",
    "# VERTEX_SA = '934903580331-compute@developer.gserviceaccount.com'\n",
    "VERTEX_SA = 'jt-vertex-sa@hybrid-vertex.iam.gserviceaccount.com'\n",
    "\n",
    "print(f\"PROJECT_ID: {PROJECT_ID}\")\n",
    "print(f\"PROJECT_NUM: {PROJECT_NUM}\")\n",
    "print(f\"LOCATION: {LOCATION}\")\n",
    "print(f\"REGION: {REGION}\")\n",
    "print(f\"VERTEX_SA: {VERTEX_SA}\")"
   ]
  },
  {
   "cell_type": "code",
   "execution_count": 21,
   "id": "b7bd9964-036d-421a-87df-6edad2438dd5",
   "metadata": {},
   "outputs": [],
   "source": [
    "VERSION='jtv4'"
   ]
  },
  {
   "cell_type": "code",
   "execution_count": 22,
   "id": "176540c7-f26f-4896-863c-b711dd4b8b54",
   "metadata": {},
   "outputs": [
    {
     "name": "stdout",
     "output_type": "stream",
     "text": [
      "EXPERIMENT_NAME: nyc_jtv2_forecasting\n"
     ]
    }
   ],
   "source": [
    "REGION = 'us-central1'\n",
    "EXPERIMENT = 'forecasting-2'\n",
    "SERIES = f'{VERSION}-forecasting'\n",
    "\n",
    "BQ_PROJECT = PROJECT_ID\n",
    "BQ_DATASET = SERIES.replace('-','_')\n",
    "BQ_TABLE = 'forecasting-1'\n",
    "\n",
    "viz_limit = 12\n",
    "\n",
    "VERTEX_AI_MODEL_ID='v2_mlr'\n",
    "MODEL_VERSION='v1'\n",
    "XAI_FLAG=\"TRUE\"\n",
    "\n",
    "EXPERIMENT_NAME = f\"nyc_{BQ_DATASET}\"\n",
    "print(f'EXPERIMENT_NAME: {EXPERIMENT_NAME}')"
   ]
  },
  {
   "cell_type": "code",
   "execution_count": 23,
   "id": "bba51d44-29a7-43cd-a46c-9280d4fdeff7",
   "metadata": {},
   "outputs": [],
   "source": [
    "from google.cloud import bigquery\n",
    "\n",
    "import matplotlib.pyplot as plt\n",
    "import pandas as pd\n",
    "from datetime import datetime, timedelta\n",
    "\n",
    "from google.cloud import aiplatform as vertex_ai"
   ]
  },
  {
   "cell_type": "code",
   "execution_count": 24,
   "id": "1b425eff-2114-4298-9c03-ee4381b67539",
   "metadata": {},
   "outputs": [],
   "source": [
    "bq = bigquery.Client(project=PROJECT_ID)\n",
    "\n",
    "vertex_ai.init(\n",
    "    project=PROJECT_ID, \n",
    "    location=REGION,\n",
    "    # credentials=credentials\n",
    ")"
   ]
  },
  {
   "cell_type": "markdown",
   "id": "f9ea9be5-7537-4a87-ab52-a0a983dde8cf",
   "metadata": {},
   "source": [
    "## review time series data"
   ]
  },
  {
   "cell_type": "code",
   "execution_count": 25,
   "id": "d0d18f6e-c5d9-478b-a6b5-2a19bea0e97e",
   "metadata": {},
   "outputs": [],
   "source": [
    "# CUSTOMIZE\n",
    "TARGET_COLUMN = 'num_trips'\n",
    "TIME_COLUMN = 'starttime'\n",
    "SERIES_COLUMN = 'start_station_name'\n",
    "COVARIATE_COLUMNS = ['avg_tripduration', 'pct_subscriber', 'ratio_gender', 'capacity'] # could be empty"
   ]
  },
  {
   "cell_type": "code",
   "execution_count": 26,
   "id": "87b3786e-1df3-4e2e-ab83-a60dab6f146d",
   "metadata": {},
   "outputs": [
    {
     "data": {
      "text/html": [
       "<div>\n",
       "<style scoped>\n",
       "    .dataframe tbody tr th:only-of-type {\n",
       "        vertical-align: middle;\n",
       "    }\n",
       "\n",
       "    .dataframe tbody tr th {\n",
       "        vertical-align: top;\n",
       "    }\n",
       "\n",
       "    .dataframe thead th {\n",
       "        text-align: right;\n",
       "    }\n",
       "</style>\n",
       "<table border=\"1\" class=\"dataframe\">\n",
       "  <thead>\n",
       "    <tr style=\"text-align: right;\">\n",
       "      <th></th>\n",
       "      <th>start_date</th>\n",
       "      <th>val_start</th>\n",
       "      <th>test_start</th>\n",
       "      <th>end_date</th>\n",
       "    </tr>\n",
       "  </thead>\n",
       "  <tbody>\n",
       "    <tr>\n",
       "      <th>0</th>\n",
       "      <td>2013-07-01</td>\n",
       "      <td>2016-09-03</td>\n",
       "      <td>2016-09-17</td>\n",
       "      <td>2016-09-30</td>\n",
       "    </tr>\n",
       "  </tbody>\n",
       "</table>\n",
       "</div>"
      ],
      "text/plain": [
       "   start_date   val_start  test_start    end_date\n",
       "0  2013-07-01  2016-09-03  2016-09-17  2016-09-30"
      ]
     },
     "execution_count": 26,
     "metadata": {},
     "output_type": "execute_result"
    }
   ],
   "source": [
    "query = f\"\"\"\n",
    "    WITH\n",
    "        SPLIT AS (\n",
    "            SELECT splits, min({TIME_COLUMN}) as mindate, max({TIME_COLUMN}) as maxdate\n",
    "            FROM `{BQ_PROJECT}.{BQ_DATASET}.{BQ_TABLE}_prepped`\n",
    "            GROUP BY splits\n",
    "        ),\n",
    "        TRAIN AS (\n",
    "            SELECT mindate as start_date\n",
    "            FROM SPLIT\n",
    "            WHERE splits ='TRAIN'\n",
    "        ),\n",
    "        VAL AS (\n",
    "            SELECT mindate as val_start\n",
    "            FROM SPLIT\n",
    "            WHERE splits = 'VALIDATE'\n",
    "        ),\n",
    "        TEST AS (\n",
    "            SELECT mindate as test_start, maxdate as end_date\n",
    "            FROM SPLIT\n",
    "            WHERE splits = 'TEST'\n",
    "        )\n",
    "    SELECT * EXCEPT(pos) FROM\n",
    "    (SELECT *, ROW_NUMBER() OVER() pos FROM TRAIN)\n",
    "    JOIN (SELECT *, ROW_NUMBER() OVER() pos FROM VAL)\n",
    "    USING (pos)\n",
    "    JOIN (SELECT *, ROW_NUMBER() OVER() pos FROM TEST)\n",
    "    USING (pos)\n",
    "\"\"\"\n",
    "keyDates = bq.query(query).to_dataframe()\n",
    "keyDates"
   ]
  },
  {
   "cell_type": "code",
   "execution_count": 27,
   "id": "e3830612-6dc9-4a00-b7fe-e39b2b25332f",
   "metadata": {},
   "outputs": [],
   "source": [
    "query = f\"\"\"\n",
    "    SELECT {SERIES_COLUMN}, {TIME_COLUMN}, {TARGET_COLUMN}, splits,\n",
    "        {', '.join(COVARIATE_COLUMNS)}\n",
    "    FROM `{BQ_PROJECT}.{BQ_DATASET}.{BQ_TABLE}_prepped`\n",
    "    ORDER by {SERIES_COLUMN}, {TIME_COLUMN}\n",
    "\"\"\"\n",
    "rawSeries = bq.query(query).to_dataframe()"
   ]
  },
  {
   "cell_type": "markdown",
   "id": "a350ccf5-3009-4b8a-8267-2ac5e8d2d8dc",
   "metadata": {},
   "source": [
    "# Train regression model"
   ]
  },
  {
   "cell_type": "code",
   "execution_count": 28,
   "id": "f4ad0d03-d54a-47be-9e51-3c81cc22ec45",
   "metadata": {},
   "outputs": [],
   "source": [
    "# CUSTOMIZE\n",
    "forecast_granularity = 'DAY'\n",
    "forecast_horizon = 14\n",
    "forecast_test_length = 14\n",
    "#forecast_val_length = 14"
   ]
  },
  {
   "cell_type": "code",
   "execution_count": 29,
   "id": "10acc6b5-72e4-44b6-8a45-447ce431ab3b",
   "metadata": {},
   "outputs": [
    {
     "name": "stdout",
     "output_type": "stream",
     "text": [
      "\n",
      "    CREATE OR REPLACE MODEL `hybrid-vertex.jtv2_forecasting.forecasting-1_mlr`\n",
      "    OPTIONS\n",
      "      (model_type = 'linear_reg',\n",
      "       input_label_cols = ['num_trips']\n",
      "      ) AS\n",
      "    SELECT starttime, num_trips,\n",
      "        avg_tripduration, pct_subscriber, ratio_gender, capacity\n",
      "    FROM `hybrid-vertex.jtv2_forecasting.forecasting-1_prepped`\n",
      "    WHERE splits in ('TRAIN','VALIDATE')\n",
      "        AND start_station_name = 'Central Park S & 6 Ave'\n",
      "\n"
     ]
    }
   ],
   "source": [
    "query = f\"\"\"\n",
    "    CREATE OR REPLACE MODEL `{BQ_PROJECT}.{BQ_DATASET}.{BQ_TABLE}_mlr`\n",
    "    OPTIONS\n",
    "      (model_type = 'linear_reg',\n",
    "       input_label_cols = ['{TARGET_COLUMN}'],\n",
    "       -- Vertex AI fields\n",
    "       model_registry=\"vertex_ai\", \n",
    "       vertex_ai_model_id='{VERTEX_AI_MODEL_ID}',\n",
    "       vertex_ai_model_version_aliases=['{MODEL_VERSION}', 'experimental']\n",
    "       -- enable_global_explain={XAI_FLAG}\n",
    "      ) AS\n",
    "    SELECT {TIME_COLUMN}, {TARGET_COLUMN},\n",
    "        {', '.join(COVARIATE_COLUMNS)}\n",
    "    FROM `{BQ_PROJECT}.{BQ_DATASET}.{BQ_TABLE}_prepped`\n",
    "    WHERE splits in ('TRAIN','VALIDATE')\n",
    "        AND {SERIES_COLUMN} = 'Central Park S & 6 Ave'\n",
    "\"\"\"\n",
    "print(query)"
   ]
  },
  {
   "cell_type": "code",
   "execution_count": 30,
   "id": "2888c2c2-d964-41ea-b4db-c30d87b6b1ff",
   "metadata": {},
   "outputs": [
    {
     "name": "stdout",
     "output_type": "stream",
     "text": [
      "DONE 21.146\n"
     ]
    }
   ],
   "source": [
    "job = bq.query(query)\n",
    "job.result()\n",
    "print(job.state, (job.ended-job.started).total_seconds())"
   ]
  },
  {
   "cell_type": "markdown",
   "id": "47ec9891-dcbb-4859-87f0-6ea73ba1163a",
   "metadata": {},
   "source": [
    "## Review the input features\n",
    "* Reference for `ML.FEATURE_INFO`"
   ]
  },
  {
   "cell_type": "code",
   "execution_count": 31,
   "id": "d07f35c4-105b-4944-9571-b123be89cc6c",
   "metadata": {},
   "outputs": [
    {
     "data": {
      "text/html": [
       "<div>\n",
       "<style scoped>\n",
       "    .dataframe tbody tr th:only-of-type {\n",
       "        vertical-align: middle;\n",
       "    }\n",
       "\n",
       "    .dataframe tbody tr th {\n",
       "        vertical-align: top;\n",
       "    }\n",
       "\n",
       "    .dataframe thead th {\n",
       "        text-align: right;\n",
       "    }\n",
       "</style>\n",
       "<table border=\"1\" class=\"dataframe\">\n",
       "  <thead>\n",
       "    <tr style=\"text-align: right;\">\n",
       "      <th></th>\n",
       "      <th>input</th>\n",
       "      <th>min</th>\n",
       "      <th>max</th>\n",
       "      <th>mean</th>\n",
       "      <th>median</th>\n",
       "      <th>stddev</th>\n",
       "      <th>category_count</th>\n",
       "      <th>null_count</th>\n",
       "      <th>dimension</th>\n",
       "    </tr>\n",
       "  </thead>\n",
       "  <tbody>\n",
       "    <tr>\n",
       "      <th>0</th>\n",
       "      <td>starttime</td>\n",
       "      <td>NaN</td>\n",
       "      <td>NaN</td>\n",
       "      <td>NaN</td>\n",
       "      <td>NaN</td>\n",
       "      <td>NaN</td>\n",
       "      <td>942</td>\n",
       "      <td>0</td>\n",
       "      <td>&lt;NA&gt;</td>\n",
       "    </tr>\n",
       "    <tr>\n",
       "      <th>1</th>\n",
       "      <td>avg_tripduration</td>\n",
       "      <td>336.625</td>\n",
       "      <td>34597.615385</td>\n",
       "      <td>1930.967077</td>\n",
       "      <td>1827.845815</td>\n",
       "      <td>1457.060583</td>\n",
       "      <td>&lt;NA&gt;</td>\n",
       "      <td>0</td>\n",
       "      <td>&lt;NA&gt;</td>\n",
       "    </tr>\n",
       "    <tr>\n",
       "      <th>2</th>\n",
       "      <td>pct_subscriber</td>\n",
       "      <td>0.000</td>\n",
       "      <td>1.000000</td>\n",
       "      <td>0.502280</td>\n",
       "      <td>0.470588</td>\n",
       "      <td>0.216679</td>\n",
       "      <td>&lt;NA&gt;</td>\n",
       "      <td>0</td>\n",
       "      <td>&lt;NA&gt;</td>\n",
       "    </tr>\n",
       "    <tr>\n",
       "      <th>3</th>\n",
       "      <td>ratio_gender</td>\n",
       "      <td>0.000</td>\n",
       "      <td>14.000000</td>\n",
       "      <td>0.941306</td>\n",
       "      <td>0.573864</td>\n",
       "      <td>1.416410</td>\n",
       "      <td>&lt;NA&gt;</td>\n",
       "      <td>22</td>\n",
       "      <td>&lt;NA&gt;</td>\n",
       "    </tr>\n",
       "    <tr>\n",
       "      <th>4</th>\n",
       "      <td>capacity</td>\n",
       "      <td>73.000</td>\n",
       "      <td>73.000000</td>\n",
       "      <td>73.000000</td>\n",
       "      <td>73.000000</td>\n",
       "      <td>0.000000</td>\n",
       "      <td>&lt;NA&gt;</td>\n",
       "      <td>0</td>\n",
       "      <td>&lt;NA&gt;</td>\n",
       "    </tr>\n",
       "  </tbody>\n",
       "</table>\n",
       "</div>"
      ],
      "text/plain": [
       "              input      min           max         mean       median  \\\n",
       "0         starttime      NaN           NaN          NaN          NaN   \n",
       "1  avg_tripduration  336.625  34597.615385  1930.967077  1827.845815   \n",
       "2    pct_subscriber    0.000      1.000000     0.502280     0.470588   \n",
       "3      ratio_gender    0.000     14.000000     0.941306     0.573864   \n",
       "4          capacity   73.000     73.000000    73.000000    73.000000   \n",
       "\n",
       "        stddev  category_count  null_count  dimension  \n",
       "0          NaN             942           0       <NA>  \n",
       "1  1457.060583            <NA>           0       <NA>  \n",
       "2     0.216679            <NA>           0       <NA>  \n",
       "3     1.416410            <NA>          22       <NA>  \n",
       "4     0.000000            <NA>           0       <NA>  "
      ]
     },
     "execution_count": 31,
     "metadata": {},
     "output_type": "execute_result"
    }
   ],
   "source": [
    "query = f\"\"\"\n",
    "    SELECT *\n",
    "    FROM ML.FEATURE_INFO(MODEL `{BQ_PROJECT}.{BQ_DATASET}.{BQ_TABLE}_mlr`)\n",
    "\"\"\"\n",
    "featureInfo = bq.query(query).to_dataframe()\n",
    "featureInfo.head()"
   ]
  },
  {
   "cell_type": "code",
   "execution_count": 32,
   "id": "e9d17b20-849d-4284-a2b3-15120ea82e2d",
   "metadata": {},
   "outputs": [
    {
     "data": {
      "text/html": [
       "<div>\n",
       "<style scoped>\n",
       "    .dataframe tbody tr th:only-of-type {\n",
       "        vertical-align: middle;\n",
       "    }\n",
       "\n",
       "    .dataframe tbody tr th {\n",
       "        vertical-align: top;\n",
       "    }\n",
       "\n",
       "    .dataframe thead th {\n",
       "        text-align: right;\n",
       "    }\n",
       "</style>\n",
       "<table border=\"1\" class=\"dataframe\">\n",
       "  <thead>\n",
       "    <tr style=\"text-align: right;\">\n",
       "      <th></th>\n",
       "      <th>training_run</th>\n",
       "      <th>iteration</th>\n",
       "      <th>loss</th>\n",
       "      <th>eval_loss</th>\n",
       "      <th>learning_rate</th>\n",
       "      <th>duration_ms</th>\n",
       "    </tr>\n",
       "  </thead>\n",
       "  <tbody>\n",
       "    <tr>\n",
       "      <th>0</th>\n",
       "      <td>0</td>\n",
       "      <td>2</td>\n",
       "      <td>200.898354</td>\n",
       "      <td>11245.422644</td>\n",
       "      <td>0.8</td>\n",
       "      <td>2507</td>\n",
       "    </tr>\n",
       "    <tr>\n",
       "      <th>1</th>\n",
       "      <td>0</td>\n",
       "      <td>1</td>\n",
       "      <td>2222.959311</td>\n",
       "      <td>12849.695984</td>\n",
       "      <td>0.4</td>\n",
       "      <td>2987</td>\n",
       "    </tr>\n",
       "    <tr>\n",
       "      <th>2</th>\n",
       "      <td>0</td>\n",
       "      <td>0</td>\n",
       "      <td>14040.935031</td>\n",
       "      <td>20287.378013</td>\n",
       "      <td>0.2</td>\n",
       "      <td>2154</td>\n",
       "    </tr>\n",
       "  </tbody>\n",
       "</table>\n",
       "</div>"
      ],
      "text/plain": [
       "   training_run  iteration          loss     eval_loss  learning_rate  \\\n",
       "0             0          2    200.898354  11245.422644            0.8   \n",
       "1             0          1   2222.959311  12849.695984            0.4   \n",
       "2             0          0  14040.935031  20287.378013            0.2   \n",
       "\n",
       "   duration_ms  \n",
       "0         2507  \n",
       "1         2987  \n",
       "2         2154  "
      ]
     },
     "execution_count": 32,
     "metadata": {},
     "output_type": "execute_result"
    }
   ],
   "source": [
    "query = f\"\"\"\n",
    "    SELECT *\n",
    "    FROM ML.TRAINING_INFO(MODEL `{BQ_PROJECT}.{BQ_DATASET}.{BQ_TABLE}_mlr`)\n",
    "\"\"\"\n",
    "trainingInfo = bq.query(query).to_dataframe()\n",
    "trainingInfo.head()"
   ]
  },
  {
   "cell_type": "markdown",
   "id": "7094dd43-0fad-4e20-a245-53744c14154a",
   "metadata": {},
   "source": [
    "# Forecast Evaluation"
   ]
  },
  {
   "cell_type": "markdown",
   "id": "d7029c42-dc02-4ab2-9daf-f480e54af979",
   "metadata": {},
   "source": [
    "## Forecast Metrics"
   ]
  },
  {
   "cell_type": "code",
   "execution_count": 33,
   "id": "4a203c51-4a88-43b0-b489-c0b585e9843e",
   "metadata": {},
   "outputs": [
    {
     "data": {
      "text/html": [
       "<div>\n",
       "<style scoped>\n",
       "    .dataframe tbody tr th:only-of-type {\n",
       "        vertical-align: middle;\n",
       "    }\n",
       "\n",
       "    .dataframe tbody tr th {\n",
       "        vertical-align: top;\n",
       "    }\n",
       "\n",
       "    .dataframe thead th {\n",
       "        text-align: right;\n",
       "    }\n",
       "</style>\n",
       "<table border=\"1\" class=\"dataframe\">\n",
       "  <thead>\n",
       "    <tr style=\"text-align: right;\">\n",
       "      <th></th>\n",
       "      <th>mean_absolute_error</th>\n",
       "      <th>mean_squared_error</th>\n",
       "      <th>mean_squared_log_error</th>\n",
       "      <th>median_absolute_error</th>\n",
       "      <th>r2_score</th>\n",
       "      <th>explained_variance</th>\n",
       "    </tr>\n",
       "  </thead>\n",
       "  <tbody>\n",
       "    <tr>\n",
       "      <th>0</th>\n",
       "      <td>244.036399</td>\n",
       "      <td>73735.74786</td>\n",
       "      <td>1.763317</td>\n",
       "      <td>276.33459</td>\n",
       "      <td>-3.002883</td>\n",
       "      <td>0.230104</td>\n",
       "    </tr>\n",
       "  </tbody>\n",
       "</table>\n",
       "</div>"
      ],
      "text/plain": [
       "   mean_absolute_error  mean_squared_error  mean_squared_log_error  \\\n",
       "0           244.036399         73735.74786                1.763317   \n",
       "\n",
       "   median_absolute_error  r2_score  explained_variance  \n",
       "0              276.33459 -3.002883            0.230104  "
      ]
     },
     "execution_count": 33,
     "metadata": {},
     "output_type": "execute_result"
    }
   ],
   "source": [
    "query = f\"\"\"\n",
    "    SELECT *\n",
    "    FROM ML.EVALUATE(\n",
    "        MODEL `{BQ_PROJECT}.{BQ_DATASET}.{BQ_TABLE}_mlr`,\n",
    "        (\n",
    "            SELECT {TIME_COLUMN}, {TARGET_COLUMN},\n",
    "                {', '.join(COVARIATE_COLUMNS)}\n",
    "            FROM `{BQ_PROJECT}.{BQ_DATASET}.{BQ_TABLE}_prepped`\n",
    "            WHERE splits = 'TEST'\n",
    "                AND {SERIES_COLUMN} = 'Central Park S & 6 Ave'\n",
    "        )\n",
    "    )\n",
    "\"\"\"\n",
    "metrics = bq.query(query).to_dataframe()\n",
    "metrics"
   ]
  },
  {
   "cell_type": "code",
   "execution_count": 34,
   "id": "e756693c-0f4f-4126-85be-bba981a7b577",
   "metadata": {},
   "outputs": [
    {
     "data": {
      "text/plain": [
       "244.03639872292794"
      ]
     },
     "execution_count": 34,
     "metadata": {},
     "output_type": "execute_result"
    }
   ],
   "source": [
    "metrics['mean_absolute_error'][0]#.values"
   ]
  },
  {
   "cell_type": "code",
   "execution_count": 35,
   "id": "8a80e8c4-bff1-4d67-b109-2a8d3a9cc1c6",
   "metadata": {},
   "outputs": [
    {
     "data": {
      "text/plain": [
       "0.23010438426930913"
      ]
     },
     "execution_count": 35,
     "metadata": {},
     "output_type": "execute_result"
    }
   ],
   "source": [
    "metrics['explained_variance'][0]"
   ]
  },
  {
   "cell_type": "code",
   "execution_count": 36,
   "id": "f3692623-cd37-478d-8874-d9a6b45a17f8",
   "metadata": {},
   "outputs": [
    {
     "name": "stdout",
     "output_type": "stream",
     "text": [
      "Associating projects/934903580331/locations/us-central1/metadataStores/default/contexts/nyc-jtv2-forecasting-run-20230515110722 to Experiment: nyc-jtv2-forecasting\n"
     ]
    },
    {
     "name": "stderr",
     "output_type": "stream",
     "text": [
      "INFO:google.cloud.aiplatform.metadata.experiment_resources:Associating projects/934903580331/locations/us-central1/metadataStores/default/contexts/nyc-jtv2-forecasting-run-20230515110722 to Experiment: nyc-jtv2-forecasting\n"
     ]
    }
   ],
   "source": [
    "from datetime import datetime\n",
    "\n",
    "# create run name\n",
    "TIMESTAMP = datetime.now().strftime(\"%Y%m%d%H%M%S\")\n",
    "EXPERIMENT_RUN_NAME = f\"run-{TIMESTAMP}\"\n",
    "\n",
    "# log params and metrics to dicts\n",
    "params = {}\n",
    "# params[\"budget_hrs\"] = MILLI_NODE_HRS\n",
    "params[\"horizon\"] = forecast_horizon\n",
    "# params[\"context_window\"] = CONTEXT_WINDOW\n",
    "params[\"model_type\"] = \"mlr\"\n",
    "\n",
    "metrics_dict = {}\n",
    "metrics_dict[\"MAE\"] = metrics['mean_absolute_error'][0]\n",
    "metrics_dict[\"RMSE\"] = metrics['mean_squared_error'][0]\n",
    "metrics_dict[\"RMSLE\"] = metrics['mean_squared_log_error'][0]\n",
    "metrics_dict[\"MedianSE\"] = metrics['median_absolute_error'][0]\n",
    "metrics_dict[\"r2_score\"] = metrics['r2_score'][0]\n",
    "metrics_dict[\"explained_variance\"] = metrics['explained_variance'][0]\n",
    "\n",
    "# # Create and log experiment\n",
    "vertex_ai.init(experiment=EXPERIMENT_NAME.replace(\"_\",\"-\"))\n",
    "\n",
    "with vertex_ai.start_run(EXPERIMENT_RUN_NAME) as my_run:\n",
    "    my_run.log_metrics(metrics_dict)\n",
    "    my_run.log_params(params)\n",
    "\n",
    "    vertex_ai.end_run()"
   ]
  },
  {
   "cell_type": "markdown",
   "id": "e7fd299d-1580-4f29-8e5d-46f685458602",
   "metadata": {},
   "source": [
    "### Forecast Time series "
   ]
  },
  {
   "cell_type": "code",
   "execution_count": 37,
   "id": "2e56bf67-9304-41c5-81a0-527b491e38a4",
   "metadata": {},
   "outputs": [
    {
     "data": {
      "text/html": [
       "<div>\n",
       "<style scoped>\n",
       "    .dataframe tbody tr th:only-of-type {\n",
       "        vertical-align: middle;\n",
       "    }\n",
       "\n",
       "    .dataframe tbody tr th {\n",
       "        vertical-align: top;\n",
       "    }\n",
       "\n",
       "    .dataframe thead th {\n",
       "        text-align: right;\n",
       "    }\n",
       "</style>\n",
       "<table border=\"1\" class=\"dataframe\">\n",
       "  <thead>\n",
       "    <tr style=\"text-align: right;\">\n",
       "      <th></th>\n",
       "      <th>predicted_num_trips</th>\n",
       "      <th>starttime</th>\n",
       "      <th>num_trips</th>\n",
       "      <th>avg_tripduration</th>\n",
       "      <th>pct_subscriber</th>\n",
       "      <th>ratio_gender</th>\n",
       "      <th>capacity</th>\n",
       "    </tr>\n",
       "  </thead>\n",
       "  <tbody>\n",
       "    <tr>\n",
       "      <th>0</th>\n",
       "      <td>76.710803</td>\n",
       "      <td>2016-09-27</td>\n",
       "      <td>264</td>\n",
       "      <td>1879.386364</td>\n",
       "      <td>0.526515</td>\n",
       "      <td>0.660377</td>\n",
       "      <td>73</td>\n",
       "    </tr>\n",
       "    <tr>\n",
       "      <th>1</th>\n",
       "      <td>79.583619</td>\n",
       "      <td>2016-09-26</td>\n",
       "      <td>312</td>\n",
       "      <td>1325.112179</td>\n",
       "      <td>0.496795</td>\n",
       "      <td>0.752809</td>\n",
       "      <td>73</td>\n",
       "    </tr>\n",
       "    <tr>\n",
       "      <th>2</th>\n",
       "      <td>40.622148</td>\n",
       "      <td>2016-09-30</td>\n",
       "      <td>60</td>\n",
       "      <td>1316.350000</td>\n",
       "      <td>0.733333</td>\n",
       "      <td>1.400000</td>\n",
       "      <td>73</td>\n",
       "    </tr>\n",
       "    <tr>\n",
       "      <th>3</th>\n",
       "      <td>63.047728</td>\n",
       "      <td>2016-09-20</td>\n",
       "      <td>327</td>\n",
       "      <td>1170.850153</td>\n",
       "      <td>0.599388</td>\n",
       "      <td>0.958084</td>\n",
       "      <td>73</td>\n",
       "    </tr>\n",
       "    <tr>\n",
       "      <th>4</th>\n",
       "      <td>70.192270</td>\n",
       "      <td>2016-09-22</td>\n",
       "      <td>351</td>\n",
       "      <td>1320.150997</td>\n",
       "      <td>0.561254</td>\n",
       "      <td>0.763819</td>\n",
       "      <td>73</td>\n",
       "    </tr>\n",
       "    <tr>\n",
       "      <th>5</th>\n",
       "      <td>113.717057</td>\n",
       "      <td>2016-09-17</td>\n",
       "      <td>607</td>\n",
       "      <td>1688.902801</td>\n",
       "      <td>0.286656</td>\n",
       "      <td>0.305376</td>\n",
       "      <td>73</td>\n",
       "    </tr>\n",
       "    <tr>\n",
       "      <th>6</th>\n",
       "      <td>77.665410</td>\n",
       "      <td>2016-09-23</td>\n",
       "      <td>354</td>\n",
       "      <td>1527.000000</td>\n",
       "      <td>0.514124</td>\n",
       "      <td>0.710145</td>\n",
       "      <td>73</td>\n",
       "    </tr>\n",
       "    <tr>\n",
       "      <th>7</th>\n",
       "      <td>68.134705</td>\n",
       "      <td>2016-09-19</td>\n",
       "      <td>135</td>\n",
       "      <td>1098.281481</td>\n",
       "      <td>0.570370</td>\n",
       "      <td>0.824324</td>\n",
       "      <td>73</td>\n",
       "    </tr>\n",
       "    <tr>\n",
       "      <th>8</th>\n",
       "      <td>106.188210</td>\n",
       "      <td>2016-09-24</td>\n",
       "      <td>399</td>\n",
       "      <td>1676.949875</td>\n",
       "      <td>0.338346</td>\n",
       "      <td>0.312500</td>\n",
       "      <td>73</td>\n",
       "    </tr>\n",
       "    <tr>\n",
       "      <th>9</th>\n",
       "      <td>113.486474</td>\n",
       "      <td>2016-09-25</td>\n",
       "      <td>402</td>\n",
       "      <td>1721.203980</td>\n",
       "      <td>0.288557</td>\n",
       "      <td>0.305195</td>\n",
       "      <td>73</td>\n",
       "    </tr>\n",
       "    <tr>\n",
       "      <th>10</th>\n",
       "      <td>84.832846</td>\n",
       "      <td>2016-09-21</td>\n",
       "      <td>403</td>\n",
       "      <td>1431.980149</td>\n",
       "      <td>0.468983</td>\n",
       "      <td>0.605578</td>\n",
       "      <td>73</td>\n",
       "    </tr>\n",
       "    <tr>\n",
       "      <th>11</th>\n",
       "      <td>75.841672</td>\n",
       "      <td>2016-09-29</td>\n",
       "      <td>222</td>\n",
       "      <td>1396.166667</td>\n",
       "      <td>0.527027</td>\n",
       "      <td>0.681818</td>\n",
       "      <td>73</td>\n",
       "    </tr>\n",
       "    <tr>\n",
       "      <th>12</th>\n",
       "      <td>74.992737</td>\n",
       "      <td>2016-09-28</td>\n",
       "      <td>234</td>\n",
       "      <td>1358.777778</td>\n",
       "      <td>0.529915</td>\n",
       "      <td>0.733333</td>\n",
       "      <td>73</td>\n",
       "    </tr>\n",
       "    <tr>\n",
       "      <th>13</th>\n",
       "      <td>107.474739</td>\n",
       "      <td>2016-09-18</td>\n",
       "      <td>499</td>\n",
       "      <td>1662.553106</td>\n",
       "      <td>0.330661</td>\n",
       "      <td>0.286082</td>\n",
       "      <td>73</td>\n",
       "    </tr>\n",
       "  </tbody>\n",
       "</table>\n",
       "</div>"
      ],
      "text/plain": [
       "    predicted_num_trips   starttime  num_trips  avg_tripduration  \\\n",
       "0             76.710803  2016-09-27        264       1879.386364   \n",
       "1             79.583619  2016-09-26        312       1325.112179   \n",
       "2             40.622148  2016-09-30         60       1316.350000   \n",
       "3             63.047728  2016-09-20        327       1170.850153   \n",
       "4             70.192270  2016-09-22        351       1320.150997   \n",
       "5            113.717057  2016-09-17        607       1688.902801   \n",
       "6             77.665410  2016-09-23        354       1527.000000   \n",
       "7             68.134705  2016-09-19        135       1098.281481   \n",
       "8            106.188210  2016-09-24        399       1676.949875   \n",
       "9            113.486474  2016-09-25        402       1721.203980   \n",
       "10            84.832846  2016-09-21        403       1431.980149   \n",
       "11            75.841672  2016-09-29        222       1396.166667   \n",
       "12            74.992737  2016-09-28        234       1358.777778   \n",
       "13           107.474739  2016-09-18        499       1662.553106   \n",
       "\n",
       "    pct_subscriber  ratio_gender  capacity  \n",
       "0         0.526515      0.660377        73  \n",
       "1         0.496795      0.752809        73  \n",
       "2         0.733333      1.400000        73  \n",
       "3         0.599388      0.958084        73  \n",
       "4         0.561254      0.763819        73  \n",
       "5         0.286656      0.305376        73  \n",
       "6         0.514124      0.710145        73  \n",
       "7         0.570370      0.824324        73  \n",
       "8         0.338346      0.312500        73  \n",
       "9         0.288557      0.305195        73  \n",
       "10        0.468983      0.605578        73  \n",
       "11        0.527027      0.681818        73  \n",
       "12        0.529915      0.733333        73  \n",
       "13        0.330661      0.286082        73  "
      ]
     },
     "execution_count": 37,
     "metadata": {},
     "output_type": "execute_result"
    }
   ],
   "source": [
    "query = f\"\"\"\n",
    "    SELECT *\n",
    "    FROM ML.PREDICT(\n",
    "        MODEL `{BQ_PROJECT}.{BQ_DATASET}.{BQ_TABLE}_mlr`,\n",
    "        (\n",
    "            SELECT {TIME_COLUMN}, {TARGET_COLUMN},\n",
    "                {', '.join(COVARIATE_COLUMNS)}\n",
    "            FROM `{BQ_PROJECT}.{BQ_DATASET}.{BQ_TABLE}_prepped`\n",
    "            WHERE splits = 'TEST'\n",
    "                AND {SERIES_COLUMN} = 'Central Park S & 6 Ave'\n",
    "        )\n",
    "        )\n",
    "\"\"\"\n",
    "forecast = bq.query(query).to_dataframe()\n",
    "forecast\n",
    "# print(query)"
   ]
  },
  {
   "cell_type": "code",
   "execution_count": null,
   "id": "a4d44cda-fa69-465a-9b6f-c090ac668d7d",
   "metadata": {},
   "outputs": [],
   "source": []
  }
 ],
 "metadata": {
  "environment": {
   "kernel": "python3",
   "name": "common-cpu.m103",
   "type": "gcloud",
   "uri": "gcr.io/deeplearning-platform-release/base-cpu:m103"
  },
  "kernelspec": {
   "display_name": "Python 3",
   "language": "python",
   "name": "python3"
  },
  "language_info": {
   "codemirror_mode": {
    "name": "ipython",
    "version": 3
   },
   "file_extension": ".py",
   "mimetype": "text/x-python",
   "name": "python",
   "nbconvert_exporter": "python",
   "pygments_lexer": "ipython3",
   "version": "3.7.12"
  }
 },
 "nbformat": 4,
 "nbformat_minor": 5
}
