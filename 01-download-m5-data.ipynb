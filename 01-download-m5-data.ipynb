{
 "cells": [
  {
   "cell_type": "markdown",
   "id": "a6b860cd-86ae-41ce-88f0-cbbb69686bb3",
   "metadata": {},
   "source": [
    "# M5 Data Set\n",
    "\n",
    "> Unfortunately License forbids redistribution of M5 data set, so go to kaggle and [download](https://www.kaggle.com/c/m5-forecasting-accuracy/data)\n",
    "\n",
    "Should give you 5 files:\n",
    " - calendar.csv - Contains information about the dates on which the products are sold.\n",
    " - sales_train_validation.csv - Contains the historical daily unit sales data per product and store [d_1 - d_1913]\n",
    " - sample_submission.csv - The correct format for submissions. Reference the Evaluation tab for more info.\n",
    " - sell_prices.csv - Contains information about the price of the products sold per store and date.\n",
    " - sales_train_evaluation.csv - Includes sales [d_1 - d_1941] (labels used for the Public leaderboard)\n",
    "\n",
    "```\n",
    "# Example transfer of files to a gcs bucket.\n",
    "# Use gsutil to create bucket (note region where Vertex)\n",
    "gsutil mb -l us-central1 -p lowes-vf gs://lowes-gcp-m5-vf\n",
    "# Copy m5 files to bucket\n",
    "gsutil cp -j *.csv gs://lowes-gcp-m5-vf\n",
    "```"
   ]
  },
  {
   "cell_type": "markdown",
   "id": "2654af41-8dbc-4645-8138-c9a41470595a",
   "metadata": {},
   "source": [
    "# Setup\n",
    "\n",
    "* Install Vertex AI SDK, \n",
    "* Authenticate, \n",
    "* Upload dataset to your GCS bucket"
   ]
  },
  {
   "cell_type": "code",
   "execution_count": null,
   "id": "97d5a580-d937-4234-b2cc-70e8eaa9466e",
   "metadata": {},
   "outputs": [],
   "source": [
    "import os\n",
    "\n",
    "GCP_PROJECTS = !gcloud config get-value project\n",
    "PROJECT_ID = GCP_PROJECTS[0]\n",
    "PROJECT_NUM = !gcloud projects list --filter=\"$PROJECT_ID\" --format=\"value(PROJECT_NUMBER)\"\n",
    "PROJECT_NUM = PROJECT_NUM[0]\n",
    "REGION = 'us-central1'\n",
    "\n",
    "print(f\"PROJECT_ID: {PROJECT_ID}\")\n",
    "print(f\"PROJECT_NUM: {PROJECT_NUM}\")\n",
    "print(f\"REGION: {REGION}\")"
   ]
  },
  {
   "cell_type": "code",
   "execution_count": null,
   "id": "f7c61bd1-56d3-4f23-a364-29a7858a22d0",
   "metadata": {},
   "outputs": [],
   "source": [
    "BUCKET_NAME = \"vertex-forecast-m5-rdf\"\n",
    "BUCKET_URI = f\"gs://{BUCKET_NAME}\"\n",
    "GCS_SUBFOLDER = 'kaggle-data'\n",
    "\n",
    "from google.cloud import aiplatform as vertex_ai\n",
    "\n",
    "vertex_ai.init(\n",
    "    project=PROJECT_ID, \n",
    "    staging_bucket=BUCKET_URI\n",
    ")\n",
    "\n",
    "from google.cloud import bigquery\n",
    "\n",
    "bigquery_client = bigquery.Client(project=PROJECT_ID)"
   ]
  },
  {
   "cell_type": "markdown",
   "id": "78714dbf-3493-4810-b68e-b492c125c89f",
   "metadata": {},
   "source": [
    "# Load sales data\n",
    "* original data in wide format \n",
    "* convert to long format using python's `melt()`"
   ]
  },
  {
   "cell_type": "code",
   "execution_count": null,
   "id": "d39a8a12-a667-4622-90d3-c982e9a22eb7",
   "metadata": {},
   "outputs": [],
   "source": [
    "import numpy as np\n",
    "import pandas as pd\n",
    "\n",
    "train_sales = pd.read_csv(f'gs://{BUCKET_NAME}/{GCS_SUBFOLDER}/sales_train_evaluation.csv')"
   ]
  },
  {
   "cell_type": "code",
   "execution_count": null,
   "id": "5c806cf4-5b40-4dab-b076-aa285c25e956",
   "metadata": {},
   "outputs": [],
   "source": [
    "sales = pd.melt(\n",
    "    train_sales, \n",
    "    id_vars = ['id', 'item_id', 'dept_id', 'cat_id', 'store_id', 'state_id'], \n",
    "    var_name = 'd', \n",
    "    value_name = \"sales\"\n",
    ")\n",
    "\n",
    "del train_sales # Clean up some memory"
   ]
  },
  {
   "cell_type": "code",
   "execution_count": null,
   "id": "36cf6e1a-baeb-4450-acc9-cfb73fd5ebcd",
   "metadata": {},
   "outputs": [],
   "source": [
    "sales.to_csv(f'gs://{BUCKET_NAME}/{GCS_SUBFOLDER}/sales_melted.csv', index=False)"
   ]
  },
  {
   "cell_type": "code",
   "execution_count": null,
   "id": "71e02fae-af82-4179-b541-ec57cd46965e",
   "metadata": {},
   "outputs": [],
   "source": [
    "!bq load --autodetect \\\n",
    "    --source_format=CSV \\\n",
    "    $REPLACE_W_YOUR_BQ_DATASET.calendar \\\n",
    "    gs://{REPLACE_W_YOUR_BUCKET/FOLDER}/calendar.csv"
   ]
  },
  {
   "cell_type": "code",
   "execution_count": null,
   "id": "c1c7a641-e530-489f-b9d3-27a89e180e3c",
   "metadata": {},
   "outputs": [],
   "source": []
  },
  {
   "cell_type": "markdown",
   "id": "0c62ca66-fa3e-4613-8fb3-e68adcad8ea1",
   "metadata": {
    "tags": []
   },
   "source": [
    "### Create a new dataset to put the tables into"
   ]
  },
  {
   "cell_type": "code",
   "execution_count": null,
   "id": "3776bf35-fe31-4b3d-bcb1-ae4107bd33b3",
   "metadata": {},
   "outputs": [],
   "source": [
    "BQ_DATASET = 'm5_us'\n",
    "BQ_LOCATION = \"US\""
   ]
  },
  {
   "cell_type": "code",
   "execution_count": null,
   "id": "bcf996e7-eedb-4757-a07c-dd625cdf9386",
   "metadata": {},
   "outputs": [],
   "source": [
    "# create BQ dataset\n",
    "\n",
    "dataset = bigquery.Dataset(f\"`{PROJECT_ID}.{BQ_DATASET}`\")\n",
    "\n",
    "dataset.location = BQ_LOCATION\n",
    "\n",
    "dataset = bigquery_client.create_dataset(bq_dataset, timeout=30) \n",
    "\n",
    "print(\"Created dataset {}.{}\".format(bigquery_client.project, dataset.dataset_id))"
   ]
  },
  {
   "cell_type": "markdown",
   "id": "f226be53-d603-4d4d-998e-3ba9da0e70be",
   "metadata": {
    "tags": []
   },
   "source": [
    "### Save data to gcs so can use bq tool for importing"
   ]
  },
  {
   "cell_type": "code",
   "execution_count": null,
   "id": "b30dbdf9-6729-4bb9-b2e5-a47c243410a4",
   "metadata": {},
   "outputs": [],
   "source": [
    "!bq load --autodetect \\\n",
    "    --source_format=CSV \\\n",
    "    $BQ_DATASET.calendar \\\n",
    "    gs://$BUCKET_NAME/$GCS_SUBFOLDER/calendar.csv"
   ]
  },
  {
   "cell_type": "code",
   "execution_count": null,
   "id": "b87b6750-5032-4cb5-a5f6-6241b3133a94",
   "metadata": {},
   "outputs": [],
   "source": [
    "!bq load --autodetect \\\n",
    "    --source_format=CSV \\\n",
    "    $BQ_DATASET.sell_prices \\\n",
    "    gs://$BUCKET_NAME/$GCS_SUBFOLDER/sell_prices.csv"
   ]
  },
  {
   "cell_type": "code",
   "execution_count": null,
   "id": "b7220090-a40b-496c-9aa6-6fede540c218",
   "metadata": {},
   "outputs": [],
   "source": [
    "!bq load --autodetect \\\n",
    "    --source_format=CSV \\\n",
    "    $BQ_DATASET.sales_melted \\\n",
    "    gs://$BUCKET_NAME/$GCS_SUBFOLDER/sales_melted.csv"
   ]
  },
  {
   "cell_type": "markdown",
   "id": "0f711152-0a13-4ed8-8f04-97013d02234b",
   "metadata": {},
   "source": [
    "## Create Activity Tables"
   ]
  },
  {
   "cell_type": "code",
   "execution_count": null,
   "id": "71ff5b74-fc6c-476d-bf32-c8fa847b17fc",
   "metadata": {},
   "outputs": [],
   "source": [
    "json_extract_query = f\"\"\"CREATE OR REPLACE TABLE `{PROJECT_ID}.{BQ_DATASET}.activity_all` AS\n",
    "                            SELECT sal.item_id as product_id,\n",
    "                                   sal.store_id as location_id,\n",
    "                                   sal.sales as gross_quantity,\n",
    "                                   cal.*,\n",
    "                                   price.sell_price\n",
    "                              FROM `{PROJECT_ID}.{BQ_DATASET}.sales_melted` sal\n",
    "                            JOIN `{PROJECT_ID}.{BQ_DATASET}.calendar` cal ON sal.d = cal.d\n",
    "                            JOIN `{PROJECT_ID}.{BQ_DATASET}.sell_prices` price\n",
    "                              ON (price.item_id = sal.item_id AND \n",
    "                                  price.store_id = sal.store_id AND \n",
    "                                  price.wm_yr_wk = cal.wm_yr_wk) \"\"\"\n",
    "\n",
    "bigquery_client.query(json_extract_query).result()"
   ]
  },
  {
   "cell_type": "markdown",
   "id": "030ae83e-7561-49ac-a969-9371758a5dc1",
   "metadata": {},
   "source": [
    "### smaller actitivty table for testing, `actitivty_fold1`"
   ]
  },
  {
   "cell_type": "code",
   "execution_count": null,
   "id": "7007ef4d-e8ce-496d-b5a9-934685256174",
   "metadata": {},
   "outputs": [],
   "source": [
    "json_extract_query = f\"\"\"CREATE OR REPLACE TABLE `{PROJECT_ID}.{BQ_DATASET}.activity_fold1`\n",
    "        AS (SELECT \n",
    "            table_a.product_id,\n",
    "            table_a.location_id,\n",
    "            table_a.gross_quantity,\n",
    "            TIMESTAMP(table_a.date) as datetime,\n",
    "            table_a.weekday,\n",
    "            table_a.wday,\n",
    "            table_a.month,\n",
    "            table_a.year,\n",
    "            table_a.event_name_1,\n",
    "            table_a.event_type_1,\n",
    "            table_a.event_name_2,\n",
    "            table_a.event_type_2,\n",
    "            table_a.snap_CA,\n",
    "            table_a.snap_TX,\n",
    "            table_a.snap_WI,\n",
    "            table_a.sell_price,\n",
    "            CASE \n",
    "                WHEN table_a.date BETWEEN '2015-01-01' AND '2016-01-17' THEN 'TRAIN'\n",
    "                WHEN table_a.date BETWEEN '2016-01-18' AND '2016-02-28' THEN 'VALIDATE'\n",
    "                WHEN table_a.date BETWEEN '2016-02-29' AND '2016-03-27' THEN 'TEST' \n",
    "            END AS ml_use\n",
    "            FROM `{PROJECT_ID}.{BQ_DATASET}.activity_all` as table_a\n",
    "            WHERE table_a.date BETWEEN '2015-01-01' AND '2016-03-27'\n",
    "            )\n",
    "        ; \"\"\"\n",
    "\n",
    "bigquery_client.query(json_extract_query).result()"
   ]
  },
  {
   "cell_type": "markdown",
   "id": "b3f64799-de0f-4ba0-98ea-1c4b2fc114d2",
   "metadata": {},
   "source": [
    "## Create Locations Table"
   ]
  },
  {
   "cell_type": "code",
   "execution_count": null,
   "id": "51e37f0f-8ee4-42f0-9690-b5fac12151a5",
   "metadata": {},
   "outputs": [],
   "source": [
    "json_extract_query = f\"\"\"CREATE OR REPLACE TABLE `{PROJECT_ID}.{BQ_DATASET}.locations`\n",
    "                        AS (\n",
    "                        SELECT \n",
    "                            DISTINCT store_id as location_id,\n",
    "                            state_id\n",
    "                        FROM \n",
    "                         `{PROJECT_ID}.{BQ_DATASET}.sales_melted`); \"\"\"\n",
    "\n",
    "bigquery_client.query(json_extract_query).result()"
   ]
  },
  {
   "cell_type": "markdown",
   "id": "305af1ad-d741-4aa2-a4c2-ba4b2580e0d5",
   "metadata": {},
   "source": [
    "## Create Products Table"
   ]
  },
  {
   "cell_type": "code",
   "execution_count": null,
   "id": "02b34d31-4e4f-4e51-aef5-69ce037a51c9",
   "metadata": {},
   "outputs": [],
   "source": [
    "json_extract_query = f\"\"\"CREATE OR REPLACE TABLE `{PROJECT_ID}.{BQ_DATASET}.products`\n",
    "AS (SELECT \n",
    "    DISTINCT item_id as product_id,\n",
    "    dept_id,\n",
    "    cat_id\n",
    "    FROM `{PROJECT_ID}.{BQ_DATASET}.sales_melted`); \"\"\"\n",
    "\n",
    "bigquery_client.query(json_extract_query).result()"
   ]
  },
  {
   "cell_type": "markdown",
   "id": "2c50382c-bde6-48da-8036-ce79dbdb82d6",
   "metadata": {},
   "source": [
    "## Create Plan Table"
   ]
  },
  {
   "cell_type": "markdown",
   "id": "6d83d12d-02bc-419d-8aaa-449c3abb2048",
   "metadata": {},
   "source": [
    "### smaller Plan Table"
   ]
  },
  {
   "cell_type": "code",
   "execution_count": null,
   "id": "5eedb573-7dbc-4faf-acde-5523298a4bb2",
   "metadata": {},
   "outputs": [],
   "source": [
    "json_extract_query = f\"\"\"CREATE OR REPLACE TABLE `{PROJECT_ID}.{BQ_DATASET}.plan_fold1`\n",
    "AS (SELECT \n",
    "    table_a.product_id,\n",
    "    table_a.location_id,\n",
    "    table_a.gross_quantity,\n",
    "    TIMESTAMP(table_a.date) as datetime,\n",
    "    table_a.weekday,\n",
    "    table_a.wday,\n",
    "    table_a.month,\n",
    "    table_a.year,\n",
    "    table_a.event_name_1,\n",
    "    table_a.event_type_1,\n",
    "    table_a.event_name_2,\n",
    "    table_a.event_type_2,\n",
    "    table_a.snap_CA,\n",
    "    table_a.snap_TX,\n",
    "    table_a.snap_WI,\n",
    "    table_a.sell_price,\n",
    "    'HOLDOUT' as ml_use\n",
    "    FROM `{PROJECT_ID}.{BQ_DATASET}.activity_all` as table_a\n",
    "    WHERE table_a.date BETWEEN '2016-03-28' AND '2016-04-24');\n",
    "    -- NULL prediction target\n",
    "    UPDATE `{PROJECT_ID}.{BQ_DATASET}.plan_fold1`\n",
    "    SET gross_quantity = NULL WHERE datetime < '2016-04-25'; \"\"\"\n",
    "\n",
    "bigquery_client.query(json_extract_query).result()"
   ]
  },
  {
   "cell_type": "markdown",
   "id": "207d7f0b-5f04-4c07-a26b-3b12a13b7e80",
   "metadata": {},
   "source": [
    "### larger Plan Table"
   ]
  },
  {
   "cell_type": "code",
   "execution_count": null,
   "id": "35af7395-9827-4903-9869-6ec04f0c46ee",
   "metadata": {},
   "outputs": [],
   "source": [
    "json_extract_query = f\"\"\"CREATE OR REPLACE TABLE `{PROJECT_ID}.{BQ_DATASET}.plan_table_all`\n",
    "AS (\n",
    "    SELECT \n",
    "        table_a.product_id,\n",
    "        table_a.location_id,\n",
    "        table_a.gross_quantity,\n",
    "        TIMESTAMP(table_a.date) as datetime,\n",
    "        table_a.weekday,\n",
    "        table_a.wday,\n",
    "        table_a.month,\n",
    "        table_a.year,\n",
    "        table_a.event_name_1,\n",
    "        table_a.event_type_1,\n",
    "        table_a.event_name_2,\n",
    "        table_a.event_type_2,\n",
    "        table_a.snap_CA,\n",
    "        table_a.snap_TX,\n",
    "        table_a.snap_WI,\n",
    "        table_a.sell_price,\n",
    "    FROM \n",
    "        `{PROJECT_ID}.{BQ_DATASET}.activity_all` as table_a\n",
    "    WHERE \n",
    "        table_a.date BETWEEN '2016-01-01' AND '2016-04-24');\n",
    "    -- NULL prediction target\n",
    "    UPDATE \n",
    "        `{PROJECT_ID}.{BQ_DATASET}.plan_table_all`\n",
    "    SET \n",
    "        gross_quantity = NULL WHERE datetime >= '2016-03-29';\"\"\"\n",
    "\n",
    "bigquery_client.query(json_extract_query).result()"
   ]
  }
 ],
 "metadata": {
  "environment": {
   "kernel": "python3",
   "name": "common-cpu.m103",
   "type": "gcloud",
   "uri": "gcr.io/deeplearning-platform-release/base-cpu:m103"
  },
  "kernelspec": {
   "display_name": "Python 3",
   "language": "python",
   "name": "python3"
  },
  "language_info": {
   "codemirror_mode": {
    "name": "ipython",
    "version": 3
   },
   "file_extension": ".py",
   "mimetype": "text/x-python",
   "name": "python",
   "nbconvert_exporter": "python",
   "pygments_lexer": "ipython3",
   "version": "3.7.12"
  }
 },
 "nbformat": 4,
 "nbformat_minor": 5
}
