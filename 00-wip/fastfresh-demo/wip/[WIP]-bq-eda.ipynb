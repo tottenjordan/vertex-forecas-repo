{
 "cells": [
  {
   "cell_type": "markdown",
   "id": "a34ced67-ae4a-4b31-b6a6-1a2e9f1c1608",
   "metadata": {},
   "source": [
    "following [this](https://cloud.google.com/architecture/build-visualize-demand-forecast-prediction-datastream-dataflow-bigqueryml-looker#analyze-your-data-in-bigquery) tutorial, this notebook outlines the steps for the section:\n",
    "\n",
    "# Analyze your data in BigQuery"
   ]
  },
  {
   "cell_type": "markdown",
   "id": "28fe2447-d3c0-4f1d-8eaa-07900cad0ffd",
   "metadata": {},
   "source": [
    "### Run queries against your operational data"
   ]
  },
  {
   "cell_type": "code",
   "execution_count": null,
   "id": "5c51fb3c-c265-4e3c-a8ea-d5db42b9630a",
   "metadata": {},
   "outputs": [],
   "source": [
    "SELECT product_name, SUM(quantity) as total_sales\n",
    "FROM `retail.ORDERS`\n",
    "GROUP BY product_name\n",
    "ORDER BY total_sales desc\n",
    "LIMIT 3"
   ]
  },
  {
   "cell_type": "markdown",
   "id": "f3c3524e-40c2-4784-bb3a-d0e3d7379f0a",
   "metadata": {},
   "source": [
    "to query the number of rows on both the `ORDERS` and `ORDERS_log` tables:"
   ]
  },
  {
   "cell_type": "code",
   "execution_count": null,
   "id": "cb2f6013-ddd9-471c-9942-dec810970fe3",
   "metadata": {},
   "outputs": [],
   "source": [
    "SELECT count(*) FROM `hackfast.retail.ORDERS_log`\n",
    "SELECT count(*) FROM `hackfast.retail.ORDERS`"
   ]
  },
  {
   "cell_type": "markdown",
   "id": "cd36a575-f8f0-4384-93ce-80df93a475fc",
   "metadata": {},
   "source": [
    "## Build a demand forecasting model in BigQuery ML"
   ]
  },
  {
   "cell_type": "markdown",
   "id": "df99d510-6371-4207-8447-333bccd4fbd9",
   "metadata": {},
   "source": [
    "### create and save the training data to a new table named training_data"
   ]
  },
  {
   "cell_type": "code",
   "execution_count": null,
   "id": "f6d82549-a30b-4213-b330-de476cc36f81",
   "metadata": {},
   "outputs": [],
   "source": [
    "CREATE OR REPLACE TABLE `retail.training_data`\n",
    "AS\n",
    "   SELECT\n",
    "       TIMESTAMP_TRUNC(time_of_sale, HOUR) as hourly_timestamp,\n",
    "       product_name,\n",
    "       SUM(quantity) AS total_sold\n",
    "   FROM `retail.ORDERS`\n",
    "       GROUP BY hourly_timestamp, product_name\n",
    "       HAVING hourly_timestamp BETWEEN TIMESTAMP_TRUNC('2021-11-22', HOUR) AND\n",
    "TIMESTAMP_TRUNC('2021-11-28', HOUR)\n",
    "ORDER BY hourly_timestamp"
   ]
  },
  {
   "cell_type": "code",
   "execution_count": null,
   "id": "73e1f5c9-9d17-4c51-b3fc-1c19b3ff8f65",
   "metadata": {},
   "outputs": [],
   "source": [
    "# to verify\n",
    "SELECT * FROM `retail.training_data` LIMIT 10;"
   ]
  },
  {
   "cell_type": "markdown",
   "id": "73fd413d-ed58-4def-8187-2402b81c68d9",
   "metadata": {},
   "source": [
    "## Forecast Demand with BQ ARIMA+"
   ]
  },
  {
   "cell_type": "code",
   "execution_count": null,
   "id": "d09cd761-f5d7-422c-852e-7b05fef037cb",
   "metadata": {},
   "outputs": [],
   "source": [
    "CREATE OR REPLACE MODEL `retail.arima_plus_model`\n",
    "       OPTIONS(\n",
    "         MODEL_TYPE='ARIMA_PLUS',\n",
    "         TIME_SERIES_TIMESTAMP_COL='hourly_timestamp',\n",
    "         TIME_SERIES_DATA_COL='total_sold',\n",
    "         TIME_SERIES_ID_COL='product_name'\n",
    "       ) AS\n",
    "SELECT\n",
    "   hourly_timestamp,\n",
    "   product_name,\n",
    "   total_sold\n",
    "FROM\n",
    " `retail.training_data`"
   ]
  },
  {
   "cell_type": "markdown",
   "id": "fbfdb873-40ab-4f8d-9788-969caecf8e07",
   "metadata": {},
   "source": [
    "The `ML.FORECAST` function is used to forecast the expected demand over a horizon of n hours\n",
    "\n",
    "To forecast the demand for organic bananas over the next 30 days..."
   ]
  },
  {
   "cell_type": "code",
   "execution_count": null,
   "id": "f9064872-6744-45f3-bf3f-654117f5e039",
   "metadata": {},
   "outputs": [],
   "source": [
    "SELECT * FROM ML.FORECAST(MODEL `retail.arima_plus_model`,  STRUCT(720 AS horizon))"
   ]
  },
  {
   "cell_type": "code",
   "execution_count": null,
   "id": "4926aba5-f80d-482a-b8b7-615b96c00e3d",
   "metadata": {},
   "outputs": [],
   "source": []
  }
 ],
 "metadata": {
  "environment": {
   "kernel": "python3",
   "name": "common-cpu.m103",
   "type": "gcloud",
   "uri": "gcr.io/deeplearning-platform-release/base-cpu:m103"
  },
  "kernelspec": {
   "display_name": "Python 3",
   "language": "python",
   "name": "python3"
  },
  "language_info": {
   "codemirror_mode": {
    "name": "ipython",
    "version": 3
   },
   "file_extension": ".py",
   "mimetype": "text/x-python",
   "name": "python",
   "nbconvert_exporter": "python",
   "pygments_lexer": "ipython3",
   "version": "3.7.12"
  }
 },
 "nbformat": 4,
 "nbformat_minor": 5
}
