{
 "cells": [
  {
   "cell_type": "markdown",
   "id": "20e41a75-d1e6-4903-848a-cae181b3ef8a",
   "metadata": {},
   "source": [
    "# BigQuery ARIMA+ pipelines\n",
    "\n",
    "> This notebook shows how to use Vertex AI Pipelines and BigQuery ML pipeline components to train and evaluate a demand forecasting model.\n",
    "\n",
    "* adapting from [this](https://github.com/GoogleCloudPlatform/vertex-ai-samples/blob/main/notebooks/community/pipelines/google_cloud_pipeline_components_bqml_pipeline_demand_forecasting.ipynb) github tutorial\n",
    "* link to [colab](https://colab.sandbox.google.com/github/GoogleCloudPlatform/vertex-ai-samples/blob/main/notebooks/community/pipelines/google_cloud_pipeline_components_bqml_pipeline_demand_forecasting.ipynb#scrollTo=P0Ks1UZpoRXS)"
   ]
  },
  {
   "cell_type": "markdown",
   "id": "08075dad-0772-42f5-8a39-93ccbf983c50",
   "metadata": {},
   "source": [
    "steps:\n",
    "* Define a custom evaluation component\n",
    "* Define a pipeline:\n",
    "> * Get BigQuery training data\n",
    "> * Train a BigQuery Arima Plus model\n",
    "> * Evaluate the BigQuery Arima Plus model\n",
    "> * Plot the evaluations\n",
    "> * Check the model performance\n",
    "> * Generate the ARIMA Plus forecasts\n",
    "> * Generate the ARIMA PLUS forecast explainations\n",
    "* Compile the pipeline.\n",
    "* Execute the pipeline."
   ]
  },
  {
   "cell_type": "code",
   "execution_count": 1,
   "id": "180e700f-4599-4674-b6c1-2718cae026bb",
   "metadata": {},
   "outputs": [
    {
     "name": "stdout",
     "output_type": "stream",
     "text": [
      "Updated property [core/project].\n"
     ]
    }
   ],
   "source": [
    "PROJECT_ID = 'hybrid-vertex'  # <--- TODO: CHANGE THIS\n",
    "LOCATION = 'us-central1'\n",
    "!gcloud config set project {PROJECT_ID}"
   ]
  },
  {
   "cell_type": "code",
   "execution_count": 2,
   "id": "da3a4be2-247e-4de9-af2e-223b7fb4afca",
   "metadata": {},
   "outputs": [
    {
     "name": "stdout",
     "output_type": "stream",
     "text": [
      "KFP SDK version: 1.8.19\n",
      "google_cloud_pipeline_components version: 1.0.39\n"
     ]
    }
   ],
   "source": [
    "! python3 -c \"import kfp; print('KFP SDK version: {}'.format(kfp.__version__))\"\n",
    "! python3 -c \"import google_cloud_pipeline_components; print('google_cloud_pipeline_components version: {}'.format(google_cloud_pipeline_components.__version__))\""
   ]
  },
  {
   "cell_type": "code",
   "execution_count": 3,
   "id": "8a62ce8c-9fac-4153-b4ea-dd5dcf4cea88",
   "metadata": {},
   "outputs": [
    {
     "name": "stdout",
     "output_type": "stream",
     "text": [
      "PROJECT_ID: hybrid-vertex\n",
      "PROJECT_NUM: 934903580331\n",
      "REGION: us-central1\n"
     ]
    }
   ],
   "source": [
    "GCP_PROJECTS = !gcloud config get-value project\n",
    "PROJECT_ID = GCP_PROJECTS[0]\n",
    "PROJECT_NUM = !gcloud projects list --filter=\"$PROJECT_ID\" --format=\"value(PROJECT_NUMBER)\"\n",
    "PROJECT_NUM = PROJECT_NUM[0]\n",
    "REGION = 'us-central1'\n",
    "\n",
    "print(f\"PROJECT_ID: {PROJECT_ID}\")\n",
    "print(f\"PROJECT_NUM: {PROJECT_NUM}\")\n",
    "print(f\"REGION: {REGION}\")"
   ]
  },
  {
   "cell_type": "markdown",
   "id": "bc7dc787-66a4-4ffa-b135-500be1d86def",
   "metadata": {},
   "source": [
    "## setup"
   ]
  },
  {
   "cell_type": "markdown",
   "id": "8ec3b4b8-fa3e-4d95-af1f-be4b248068f1",
   "metadata": {},
   "source": [
    "### UUID (optional)\n",
    "\n",
    "> If you are in a live tutorial session, you might be using a shared test account or project. To avoid name collisions between users on resources created, you create a uuid for each instance session, and append it onto the name of resources you create in this tutorial."
   ]
  },
  {
   "cell_type": "code",
   "execution_count": 4,
   "id": "b0e7d82b-3889-46ac-a575-cc0795b21829",
   "metadata": {},
   "outputs": [
    {
     "data": {
      "text/plain": [
       "'fj89gje6'"
      ]
     },
     "execution_count": 4,
     "metadata": {},
     "output_type": "execute_result"
    }
   ],
   "source": [
    "import random\n",
    "import string\n",
    "\n",
    "# Generate a uuid of a specifed length(default=8)\n",
    "def generate_uuid(length: int = 8) -> str:\n",
    "    return \"\".join(random.choices(string.ascii_lowercase + string.digits, k=length))\n",
    "\n",
    "UUID = generate_uuid()\n",
    "UUID"
   ]
  },
  {
   "cell_type": "markdown",
   "id": "54b10e0a-c35e-4d55-a249-0deaf4c4b4d4",
   "metadata": {},
   "source": [
    "### create GCS bucket"
   ]
  },
  {
   "cell_type": "code",
   "execution_count": 5,
   "id": "1377f0ca-a6c7-4efa-ae5f-2b88ea344c40",
   "metadata": {},
   "outputs": [],
   "source": [
    "BUCKET_NAME = f\"retail-oracle-adapted-{UUID}\"  # @param {type:\"string\"}\n",
    "BUCKET_URI = f\"gs://{BUCKET_NAME}\""
   ]
  },
  {
   "cell_type": "code",
   "execution_count": 12,
   "id": "7821649a-c821-4998-ac30-7897d5c142ba",
   "metadata": {},
   "outputs": [
    {
     "name": "stdout",
     "output_type": "stream",
     "text": [
      "Creating gs://retail-oracle-adapted-fj89gje6/...\n"
     ]
    }
   ],
   "source": [
    "! gsutil mb -p $PROJECT_ID -l $REGION $BUCKET_URI"
   ]
  },
  {
   "cell_type": "code",
   "execution_count": 13,
   "id": "d5d42d18-baf2-4837-a58d-fbb68ea1c1b2",
   "metadata": {},
   "outputs": [],
   "source": [
    "! gsutil ls -al $BUCKET_URI"
   ]
  },
  {
   "cell_type": "markdown",
   "id": "b90566f3-ebde-42c1-8ea6-413bbf223aa8",
   "metadata": {},
   "source": [
    "### import packages"
   ]
  },
  {
   "cell_type": "code",
   "execution_count": 14,
   "id": "44ab89ce-b72d-4022-8809-3e2f9b6421fc",
   "metadata": {},
   "outputs": [],
   "source": [
    "from pathlib import Path as path\n",
    "from typing import NamedTuple\n",
    "# General\n",
    "from urllib.parse import urlparse\n",
    "\n",
    "import google.cloud.aiplatform as vertex_ai\n",
    "\n",
    "from google.cloud import bigquery\n",
    "\n",
    "# ML pipeline\n",
    "from google_cloud_pipeline_components.v1.bigquery import (\n",
    "    BigqueryCreateModelJobOp, BigqueryEvaluateModelJobOp,\n",
    "    BigqueryExplainForecastModelJobOp, BigqueryForecastModelJobOp,\n",
    "    BigqueryMLArimaEvaluateJobOp, BigqueryQueryJobOp\n",
    ")\n",
    "\n",
    "from kfp.v2 import compiler, dsl\n",
    "from kfp.v2.dsl import HTML, Artifact, Condition, Input, Output, component"
   ]
  },
  {
   "cell_type": "markdown",
   "id": "6178c70a-df1d-4ff5-8362-1a34c623ede1",
   "metadata": {},
   "source": [
    "### initialize Vertex SDK & BQ client"
   ]
  },
  {
   "cell_type": "code",
   "execution_count": 15,
   "id": "9d60a345-b728-4984-b609-33ac62692441",
   "metadata": {},
   "outputs": [],
   "source": [
    "vertex_ai.init(project=PROJECT_ID, location=REGION, staging_bucket=BUCKET_URI)"
   ]
  },
  {
   "cell_type": "code",
   "execution_count": 16,
   "id": "eb1009f3-b709-4c37-a5fe-a5d41d7ea8e2",
   "metadata": {},
   "outputs": [],
   "source": [
    "bq_client = bigquery.Client(project=PROJECT_ID, location=REGION)"
   ]
  },
  {
   "cell_type": "markdown",
   "id": "f934c76d-e288-4103-942a-4193b63ba12e",
   "metadata": {},
   "source": [
    "## Create local directories"
   ]
  },
  {
   "cell_type": "code",
   "execution_count": 18,
   "id": "f672c753-9543-4ac2-a7b3-1e3bb770b258",
   "metadata": {},
   "outputs": [],
   "source": [
    "# !pwd"
   ]
  },
  {
   "cell_type": "code",
   "execution_count": 19,
   "id": "a818ea26-91d9-4c3f-87a7-1527af12e289",
   "metadata": {},
   "outputs": [],
   "source": [
    "DATA_PATH = \"data\"\n",
    "KFP_COMPONENTS_PATH = \"components\"\n",
    "PIPELINES_PATH = \"pipelines\"\n",
    "\n",
    "! mkdir -m 777 -p {DATA_PATH}\n",
    "! mkdir -m 777 -p {KFP_COMPONENTS_PATH}\n",
    "! mkdir -m 777 -p {PIPELINES_PATH}"
   ]
  },
  {
   "cell_type": "markdown",
   "id": "dea0ae03-cbcb-45ce-9303-61e2715d4c1d",
   "metadata": {},
   "source": [
    "## Prepare the training data"
   ]
  },
  {
   "cell_type": "code",
   "execution_count": 20,
   "id": "b355de0e-5510-40aa-b2eb-3a4cf23735b0",
   "metadata": {},
   "outputs": [
    {
     "name": "stdout",
     "output_type": "stream",
     "text": [
      "Copying gs://cloud-samples-data/vertex-ai/pipeline-deployment/datasets/oracle_retail/orders.csv [Content-Type=text/csv]...\n",
      "- [1/1 files][ 41.0 MiB/ 41.0 MiB] 100% Done                                    \n",
      "Operation completed over 1 objects/41.0 MiB.                                     \n"
     ]
    }
   ],
   "source": [
    "PUBLIC_DATA_URI = \"gs://cloud-samples-data/vertex-ai/pipeline-deployment/datasets/oracle_retail/orders.csv\"\n",
    "RAW_DATA_URI = f\"{BUCKET_URI}/{DATA_PATH}/raw/orders.csv\"\n",
    "\n",
    "! gsutil -m cp -R $PUBLIC_DATA_URI $RAW_DATA_URI"
   ]
  },
  {
   "cell_type": "code",
   "execution_count": 21,
   "id": "209c16d6-c490-4e99-aa41-f25cedda8bf7",
   "metadata": {},
   "outputs": [
    {
     "name": "stdout",
     "output_type": "stream",
     "text": [
      "time_of_sale,order_id,product_name,price,quantity,payment_method,store_id,user_id\n",
      "2021-11-30 16:00:00,754824,Limes,7.950597391,10,Card:AMEX,231,1012780\n",
      "2021-11-30 16:00:00,2831356,Limes,7.950597391,10,Card:AMEX,231,1012780\n",
      "2021-11-30 16:00:00,3032217,Limes,7.950597391,10,Card:AMEX,231,1012780\n",
      "2021-11-30 16:00:00,4956836,Limes,7.950597391,10,Card:AMEX,231,1012780\n",
      "2021-11-30 16:00:00,7710387,Limes,7.950597391,10,Card:AMEX,231,1012780\n",
      "2021-11-30 16:00:00,7477642,Limes,7.950597391,10,Card:AMEX,231,1012780\n",
      "2021-11-30 16:00:00,15878299,Limes,7.950597391,10,Card:AMEX,231,1012780\n",
      "2021-11-30 16:00:00,7742864,Limes,7.950597391,10,Card:AMEX,231,1012780\n",
      "2021-11-30 16:00:00,9905111,Limes,7.950597391,10,Card:AMEX,231,1012780\n"
     ]
    }
   ],
   "source": [
    "! gsutil cat {RAW_DATA_URI} | head"
   ]
  },
  {
   "cell_type": "markdown",
   "id": "6890831c-3ae0-4402-9ae4-4a3c47a10c96",
   "metadata": {},
   "source": [
    "### load to BigQuery"
   ]
  },
  {
   "cell_type": "code",
   "execution_count": 22,
   "id": "59a894df-f897-48d5-9825-db5ea693d072",
   "metadata": {},
   "outputs": [
    {
     "name": "stdout",
     "output_type": "stream",
     "text": [
      "Dataset 'hybrid-vertex:fast_fresh' successfully created.\n",
      "Waiting on bqjob_r5e80603f7f45222d_00000187130eb6ab_1 ... (4s) Current status: DONE   \n"
     ]
    }
   ],
   "source": [
    "LOCATION = REGION.split('-')[0]\n",
    "\n",
    "! bq mk --location={LOCATION} --dataset {PROJECT_ID}:fast_fresh \n",
    "\n",
    "! bq load \\\n",
    "  --location={LOCATION} \\\n",
    "  --source_format=CSV \\\n",
    "  --skip_leading_rows=1\\\n",
    "  fast_fresh.orders_{UUID} \\\n",
    "  {RAW_DATA_URI} \\\n",
    "  time_of_sale:DATETIME,order_id:INTEGER,product_name:STRING,price:NUMERIC,quantity:NUMERIC,payment_method:STRING,store_id:INTEGER,user_id:INTEGER"
   ]
  },
  {
   "cell_type": "markdown",
   "id": "d36ba915-730b-46bd-86b3-83766610b0eb",
   "metadata": {},
   "source": [
    "## BigQuery ML Training Formalization\n",
    "\n",
    "In the next cells, you build the components and pipeline to train and evaluate the BQML demand forecasting model."
   ]
  },
  {
   "cell_type": "markdown",
   "id": "d55e3d00-c361-4cf2-bbef-2bea90199d77",
   "metadata": {},
   "source": [
    "### define pipeline variables\n",
    "\n",
    "Set up some variables specific for the pipeline."
   ]
  },
  {
   "cell_type": "code",
   "execution_count": 23,
   "id": "d2448afb-d0aa-4c58-92f1-944dad88604c",
   "metadata": {},
   "outputs": [],
   "source": [
    "# BQML pipeline job configuation\n",
    "PIPELINE_NAME = \"bqml-forecast-pipeline\"\n",
    "PIPELINE_ROOT = urlparse(BUCKET_URI)._replace(path=\"pipeline_root\").geturl()\n",
    "PIPELINE_PACKAGE = str(path(PIPELINES_PATH) / f\"{PIPELINE_NAME}.json\")"
   ]
  },
  {
   "cell_type": "code",
   "execution_count": 24,
   "id": "208c7c24-969c-4376-bb14-f991908d1f62",
   "metadata": {},
   "outputs": [],
   "source": [
    "# BQML pipeline conponent configuration\n",
    "BQ_DATASET = \"fast_fresh\"\n",
    "BQ_ORDERS_TABLE_PREFIX = \"orders\"\n",
    "BQ_TRAINING_TABLE_PREFIX = \"orders_training\"\n",
    "BQ_MODEL_TABLE_PREFIX = \"orders_forecast_arima\"\n",
    "BQ_EVALUATE_TS_TABLE_PREFIX = \"orders_arima_time_series_evaluate\"\n",
    "BQ_EVALUATE_MODEL_TABLE_PREFIX = \"orders_arima_model_evaluate\"\n",
    "BQ_FORECAST_TABLE_PREFIX = \"orders_arima_forecast\"\n",
    "BQ_EXPLAIN_FORECAST_TABLE_PREFIX = \"orders_arima_explain_forecast\"\n",
    "BQ_ORDERS_TABLE = f\"{BQ_ORDERS_TABLE_PREFIX}_{UUID}\"\n",
    "BQ_TRAINING_TABLE = f\"{BQ_TRAINING_TABLE_PREFIX}_{UUID}\"\n",
    "BQ_MODEL_TABLE = f\"{BQ_MODEL_TABLE_PREFIX}_{UUID}\"\n",
    "BQ_EVALUATE_TS_TABLE = f\"{BQ_EVALUATE_TS_TABLE_PREFIX}_{UUID}\"\n",
    "BQ_EVALUATE_MODEL_TABLE = f\"{BQ_EVALUATE_MODEL_TABLE_PREFIX}_{UUID}\"\n",
    "BQ_FORECAST_TABLE = f\"{BQ_FORECAST_TABLE_PREFIX}_{UUID}\"\n",
    "BQ_EXPLAIN_FORECAST_TABLE = f\"{BQ_EXPLAIN_FORECAST_TABLE_PREFIX}_{UUID}\""
   ]
  },
  {
   "cell_type": "code",
   "execution_count": 25,
   "id": "cc7e8181-a691-41ff-9012-a9a94d2169bf",
   "metadata": {},
   "outputs": [],
   "source": [
    "BQ_TRAIN_CONFIGURATION = {\n",
    "    \"destinationTable\": {\n",
    "        \"projectId\": PROJECT_ID,\n",
    "        \"datasetId\": BQ_DATASET,\n",
    "        \"tableId\": BQ_TRAINING_TABLE,\n",
    "    },\n",
    "    \"writeDisposition\": \"WRITE_TRUNCATE\",\n",
    "}\n",
    "\n",
    "BQ_EVALUATE_TS_CONFIGURATION = {\n",
    "    \"destinationTable\": {\n",
    "        \"projectId\": PROJECT_ID,\n",
    "        \"datasetId\": BQ_DATASET,\n",
    "        \"tableId\": BQ_EVALUATE_TS_TABLE,\n",
    "    },\n",
    "    \"writeDisposition\": \"WRITE_TRUNCATE\",\n",
    "}\n",
    "BQ_EVALUATE_MODEL_CONFIGURATION = {\n",
    "    \"destinationTable\": {\n",
    "        \"projectId\": PROJECT_ID,\n",
    "        \"datasetId\": BQ_DATASET,\n",
    "        \"tableId\": BQ_EVALUATE_MODEL_TABLE,\n",
    "    },\n",
    "    \"writeDisposition\": \"WRITE_TRUNCATE\",\n",
    "}\n",
    "BQ_FORECAST_CONFIGURATION = {\n",
    "    \"destinationTable\": {\n",
    "        \"projectId\": PROJECT_ID,\n",
    "        \"datasetId\": BQ_DATASET,\n",
    "        \"tableId\": BQ_FORECAST_TABLE,\n",
    "    },\n",
    "    \"writeDisposition\": \"WRITE_TRUNCATE\",\n",
    "}\n",
    "BQ_EXPLAIN_FORECAST_CONFIGURATION = {\n",
    "    \"destinationTable\": {\n",
    "        \"projectId\": PROJECT_ID,\n",
    "        \"datasetId\": BQ_DATASET,\n",
    "        \"tableId\": BQ_EXPLAIN_FORECAST_TABLE,\n",
    "    },\n",
    "    \"writeDisposition\": \"WRITE_TRUNCATE\",\n",
    "}\n",
    "PERF_THRESHOLD = 3000"
   ]
  },
  {
   "cell_type": "markdown",
   "id": "1f1ca280-f405-4bc4-aa18-3a924d54795a",
   "metadata": {},
   "source": [
    "### Create location for storing compoment definitions\n",
    "\n",
    "Next, you create a Storage Cloud location for storing the YAML component definitions for the custom components you create in this tutorial."
   ]
  },
  {
   "cell_type": "code",
   "execution_count": 26,
   "id": "16894af3-1c55-41a6-9b08-cf34e319397f",
   "metadata": {},
   "outputs": [],
   "source": [
    "! mkdir -m 777 -p {KFP_COMPONENTS_PATH}/custom_components"
   ]
  },
  {
   "cell_type": "markdown",
   "id": "91f9306d-73af-4c82-bc90-143ec71c6fca",
   "metadata": {},
   "source": [
    "### Create a custom component to read model evaluation metrics\n",
    "\n",
    "Build a custom component to consume model evaluation metrics for visualizations in the Vertex AI Pipelines UI using Kubeflow SDK visualization APIs. Indeed, Vertex AI allows you to render that HTML in an output page which is easily accessible from the Google Cloud console."
   ]
  },
  {
   "cell_type": "code",
   "execution_count": 27,
   "id": "8a3aed46-e1a1-468a-9d1c-204440e9435d",
   "metadata": {},
   "outputs": [],
   "source": [
    "@component(\n",
    "    base_image=\"python:3.8-slim\",\n",
    "    packages_to_install=[\"jinja2\", \"pandas\", \"matplotlib\"],\n",
    "    output_component_file=f\"{KFP_COMPONENTS_PATH}/custom_components/build_bq_evaluate_metrics.yaml\",\n",
    ")\n",
    "def get_model_evaluation_metrics(\n",
    "    metrics_in: Input[Artifact], metrics_out: Output[HTML]\n",
    ") -> NamedTuple(\"Outputs\", [(\"avg_mean_absolute_error\", float)]):\n",
    "    \"\"\"\n",
    "    Get the average mean absolute error from the metrics\n",
    "    Args:\n",
    "        metrics_in: metrics artifact\n",
    "        metrics_out: metrics artifact\n",
    "    Returns:\n",
    "        avg_mean_absolute_error: average mean absolute error\n",
    "    \"\"\"\n",
    "\n",
    "    import pandas as pd\n",
    "\n",
    "    # Helpers\n",
    "    def prettyfier(styler):\n",
    "        \"\"\"\n",
    "        Helper function to prettify the metrics table.\n",
    "        Args:\n",
    "            styler: Styler object\n",
    "        Returns:\n",
    "            Styler object\n",
    "        \"\"\"\n",
    "        caption = {\n",
    "            \"selector\": \"caption\",\n",
    "            \"props\": [\n",
    "                (\"caption-side\", \"top\"),\n",
    "                (\"font-size\", \"150%\"),\n",
    "                (\"font-weight\", \"bold\"),\n",
    "                (\"font-family\", \"arial\"),\n",
    "            ],\n",
    "        }\n",
    "        headers = {\n",
    "            \"selector\": \"th\",\n",
    "            \"props\": [(\"color\", \"black\"), (\"font-family\", \"arial\")],\n",
    "        }\n",
    "        rows = {\n",
    "            \"selector\": \"td\",\n",
    "            \"props\": [(\"text-align\", \"center\"), (\"font-family\", \"arial\")],\n",
    "        }\n",
    "        styler.set_table_styles([caption, headers, rows])\n",
    "        styler.set_caption(\"Forecasting accuracy report <br><br>\")\n",
    "        styler.hide(axis=\"index\")\n",
    "        styler.format(precision=2)\n",
    "        styler.background_gradient(cmap=\"Blues\")\n",
    "        return styler\n",
    "\n",
    "    def get_column_names(header):\n",
    "        \"\"\"\n",
    "        Helper function to get the column names from the metrics table.\n",
    "        Args:\n",
    "            header: header\n",
    "        Returns:\n",
    "            column_names: column names\n",
    "        \"\"\"\n",
    "        header_clean = header.replace(\"_\", \" \")\n",
    "        header_abbrev = \"\".join([h[0].upper() for h in header_clean.split()])\n",
    "        header_prettied = f\"{header_clean} ({header_abbrev})\"\n",
    "        return header_prettied\n",
    "\n",
    "    # Extract rows and schema from metrics artifact\n",
    "    rows = metrics_in.metadata[\"rows\"]\n",
    "    schema = metrics_in.metadata[\"schema\"]\n",
    "\n",
    "    # Convert into a tabular format\n",
    "    columns = [metrics[\"name\"] for metrics in schema[\"fields\"] if \"name\" in metrics]\n",
    "    records = []\n",
    "    for row in rows:\n",
    "        records.append([dl[\"v\"] for dl in row[\"f\"]])\n",
    "    metrics = (\n",
    "        pd.DataFrame.from_records(records, columns=columns, index=\"product_name\")\n",
    "        .astype(float)\n",
    "        .round(3)\n",
    "    )\n",
    "    metrics = metrics.reset_index()\n",
    "\n",
    "    # Create the HTML artifact for the metrics\n",
    "    pretty_columns = list(\n",
    "        map(\n",
    "            lambda h: get_column_names(h)\n",
    "            if h != columns[0]\n",
    "            else h.replace(\"_\", \" \").capitalize(),\n",
    "            columns,\n",
    "        )\n",
    "    )\n",
    "    pretty_metrics = metrics.copy()\n",
    "    pretty_metrics.columns = pretty_columns\n",
    "    html_metrics = pretty_metrics.style.pipe(prettyfier).to_html()\n",
    "    with open(metrics_out.path, \"w\") as f:\n",
    "        f.write(html_metrics)\n",
    "\n",
    "    # Create metrics dictionary for the model\n",
    "    avg_mean_absolute_error = round(float(metrics.mean_absolute_error.mean()), 0)\n",
    "    component_outputs = NamedTuple(\"Outputs\", [(\"avg_mean_absolute_error\", float)])\n",
    "\n",
    "    return component_outputs(avg_mean_absolute_error)"
   ]
  },
  {
   "cell_type": "markdown",
   "id": "f95cc0b9-d8b1-483a-ab4f-7bb856334b5b",
   "metadata": {},
   "source": [
    "### Build the BigQuery ML training pipeline"
   ]
  },
  {
   "cell_type": "markdown",
   "id": "66c09437-bb2c-49da-a05b-a303ad1743fa",
   "metadata": {},
   "source": [
    "Define your workflow using Kubeflow Pipelines DSL package. \n",
    "\n",
    "Below you have the steps of the pipeline workflow:\n",
    "\n",
    "1. Get BigQuery training data\n",
    "2. Train a BigQuery Arima Plus model\n",
    "3. Evaluate the BigQuery Arima Plus model\n",
    "4. Plot the evaluations\n",
    "5. Check the model performance\n",
    "6. Generate the ARIMA Plus forecasts\n",
    "7. Generate the ARIMA PLUS forecast explainations"
   ]
  },
  {
   "cell_type": "code",
   "execution_count": 28,
   "id": "570b8c45-046f-42cf-8aba-daa4ed1eaa7e",
   "metadata": {},
   "outputs": [],
   "source": [
    "@dsl.pipeline(\n",
    "    name=PIPELINE_NAME,\n",
    "    description=\"A batch pipeline to train ARIMA PLUS using BQML\",\n",
    ")\n",
    "def pipeline(\n",
    "    bq_dataset: str = BQ_DATASET,\n",
    "    bq_orders_table: str = BQ_ORDERS_TABLE,\n",
    "    bq_training_table: str = BQ_TRAINING_TABLE,\n",
    "    bq_train_configuration: dict = BQ_TRAIN_CONFIGURATION,\n",
    "    bq_model_table: str = BQ_MODEL_TABLE,\n",
    "    bq_evaluate_time_series_configuration: dict = BQ_EVALUATE_TS_CONFIGURATION,\n",
    "    bq_evaluate_model_configuration: dict = BQ_EVALUATE_MODEL_CONFIGURATION,\n",
    "    performance_threshold: float = PERF_THRESHOLD,\n",
    "    bq_forecast_configuration: dict = BQ_FORECAST_CONFIGURATION,\n",
    "    bq_explain_forecast_configuration: dict = BQ_EXPLAIN_FORECAST_CONFIGURATION,\n",
    "    project: str = PROJECT_ID,\n",
    "    location: str = LOCATION,\n",
    "):\n",
    "\n",
    "    # ======================================\n",
    "    # Create the training dataset\n",
    "    # ======================================\n",
    "    create_training_dataset_op = BigqueryQueryJobOp(\n",
    "        query=f\"\"\"\n",
    "        -- create the training table\n",
    "        WITH \n",
    "        -- get 90% percentile for time series splitting\n",
    "        get_split AS (\n",
    "          SELECT APPROX_QUANTILES(DATETIME_TRUNC(time_of_sale, HOUR), 100)[OFFSET(90)] as split\n",
    "          FROM `{project}.{bq_dataset}.{bq_orders_table}`\n",
    "        ),\n",
    "        -- get train table\n",
    "        get_train AS (\n",
    "          SELECT\n",
    "            DATETIME_TRUNC(time_of_sale, HOUR) as hourly_timestamp,\n",
    "            product_name,\n",
    "            SUM(quantity) AS total_sold,\n",
    "            FROM `{project}.{bq_dataset}.{bq_orders_table}`\n",
    "        GROUP BY hourly_timestamp, product_name\n",
    "        )\n",
    "        SELECT\n",
    "          *,\n",
    "          CASE WHEN hourly_timestamp < (SELECT split FROM get_split) THEN 'TRAIN' ELSE 'TEST' END AS split\n",
    "        FROM get_train\n",
    "        ORDER BY hourly_timestamp\n",
    "        \"\"\",\n",
    "        job_configuration_query=bq_train_configuration,\n",
    "        project=project,\n",
    "        location=location,\n",
    "    ).set_display_name(\"get train data\")\n",
    "\n",
    "    # ======================================\n",
    "    # Run an ARIMA PLUS experiment\n",
    "    # ======================================\n",
    "    bq_arima_model_exp_op = (\n",
    "        BigqueryCreateModelJobOp(\n",
    "            query=f\"\"\"\n",
    "        -- create model table\n",
    "        CREATE OR REPLACE MODEL `{project}.{bq_dataset}.{bq_model_table}`\n",
    "        OPTIONS(\n",
    "        MODEL_TYPE = \\'ARIMA_PLUS\\',\n",
    "        TIME_SERIES_TIMESTAMP_COL = \\'hourly_timestamp\\',\n",
    "        TIME_SERIES_DATA_COL = \\'total_sold\\',\n",
    "        TIME_SERIES_ID_COL = [\\'product_name\\']\n",
    "        ) AS\n",
    "        SELECT\n",
    "          hourly_timestamp,\n",
    "          product_name,\n",
    "          total_sold\n",
    "        FROM `{project}.{bq_dataset}.{bq_training_table}`\n",
    "        WHERE split='TRAIN';\n",
    "        \"\"\",\n",
    "            project=project,\n",
    "            location=location,\n",
    "        )\n",
    "        .set_display_name(\"run arima+ model experiment\")\n",
    "        .after(create_training_dataset_op)\n",
    "    )\n",
    "\n",
    "    # ======================================\n",
    "    # Evaluate ARIMA PLUS time series\n",
    "    # ======================================\n",
    "    _ = (\n",
    "        BigqueryMLArimaEvaluateJobOp(\n",
    "            project=project,\n",
    "            location=location,\n",
    "            model=bq_arima_model_exp_op.outputs[\"model\"],\n",
    "            show_all_candidate_models=False,\n",
    "            job_configuration_query=bq_evaluate_time_series_configuration,\n",
    "        )\n",
    "        .set_display_name(\"evaluate arima plus time series\")\n",
    "        .after(bq_arima_model_exp_op)\n",
    "    )\n",
    "\n",
    "    # ======================================\n",
    "    # Evaluate ARIMA Plus model\n",
    "    # ======================================\n",
    "    bq_arima_evaluate_model_op = (\n",
    "        BigqueryEvaluateModelJobOp(\n",
    "            project=project,\n",
    "            location=location,\n",
    "            model=bq_arima_model_exp_op.outputs[\"model\"],\n",
    "            query_statement=f\"\"\"SELECT * FROM `{project}.{bq_dataset}.{bq_training_table}` WHERE split='TEST'\"\"\",\n",
    "            job_configuration_query=bq_evaluate_model_configuration,\n",
    "        )\n",
    "        .set_display_name(\"evaluate arima plus model\")\n",
    "        .after(bq_arima_model_exp_op)\n",
    "    )\n",
    "\n",
    "    # ======================================\n",
    "    # Plot model metrics\n",
    "    # ======================================\n",
    "    get_evaluation_model_metrics_op = (\n",
    "        get_model_evaluation_metrics(\n",
    "            bq_arima_evaluate_model_op.outputs[\"evaluation_metrics\"]\n",
    "        )\n",
    "        .after(bq_arima_evaluate_model_op)\n",
    "        .set_display_name(\"plot evaluation metrics\")\n",
    "    )\n",
    "\n",
    "    # ======================================\n",
    "    # Check the model performance: \n",
    "    # If ARIMA_PLUS average MAE metric is below to a minimal threshold\n",
    "    # ======================================\n",
    "    with Condition(\n",
    "        get_evaluation_model_metrics_op.outputs[\"avg_mean_absolute_error\"]\n",
    "        < PERF_THRESHOLD,\n",
    "        name=\"avg. mae good\",\n",
    "    ):\n",
    "        # Train the ARIMA PLUS model\n",
    "        bq_arima_model_op = (\n",
    "            BigqueryCreateModelJobOp(\n",
    "                query=f\"\"\"\n",
    "        -- create model table\n",
    "        CREATE OR REPLACE MODEL `{project}.{bq_dataset}.{bq_model_table}`\n",
    "        OPTIONS(\n",
    "        MODEL_TYPE = \\'ARIMA_PLUS\\',\n",
    "        TIME_SERIES_TIMESTAMP_COL = \\'hourly_timestamp\\',\n",
    "        TIME_SERIES_DATA_COL = \\'total_sold\\',\n",
    "        TIME_SERIES_ID_COL = [\\'product_name\\'],\n",
    "        MODEL_REGISTRY = \\'vertex_ai\\',\n",
    "        VERTEX_AI_MODEL_ID = \\'order_demand_forecasting\\',\n",
    "        VERTEX_AI_MODEL_VERSION_ALIASES = [\\'staging\\']\n",
    "        ) AS\n",
    "        SELECT\n",
    "          DATETIME_TRUNC(time_of_sale, HOUR) as hourly_timestamp,\n",
    "          product_name,\n",
    "          SUM(quantity) AS total_sold,\n",
    "          FROM `{project}.{bq_dataset}.{bq_orders_table}`\n",
    "        GROUP BY hourly_timestamp, product_name;\n",
    "        \"\"\",\n",
    "                project=project,\n",
    "                location=location,\n",
    "            )\n",
    "            .set_display_name(\"train arima+ model\")\n",
    "            .after(get_evaluation_model_metrics_op)\n",
    "        )\n",
    "\n",
    "        # ======================================\n",
    "        # Generate the ARIMA PLUS forecasts\n",
    "        # ======================================\n",
    "        bq_arima_forecast_op = (\n",
    "            BigqueryForecastModelJobOp(\n",
    "                project=project,\n",
    "                location=location,\n",
    "                model=bq_arima_model_op.outputs[\"model\"],\n",
    "                horizon=1,  # 1 hour\n",
    "                confidence_level=0.9,\n",
    "                job_configuration_query=bq_forecast_configuration,\n",
    "            )\n",
    "            .set_display_name(\"generate hourly forecasts\")\n",
    "            .after(get_evaluation_model_metrics_op)\n",
    "        )\n",
    "\n",
    "        # ======================================\n",
    "        # Generate the ARIMA PLUS forecast explainations\n",
    "        # ======================================\n",
    "        _ = (\n",
    "            BigqueryExplainForecastModelJobOp(\n",
    "                project=project,\n",
    "                location=location,\n",
    "                model=bq_arima_model_op.outputs[\"model\"],\n",
    "                horizon=1,  # 1 hour\n",
    "                confidence_level=0.9,\n",
    "                job_configuration_query=bq_explain_forecast_configuration,\n",
    "            )\n",
    "            .set_display_name(\"explain hourly forecasts\")\n",
    "            .after(bq_arima_forecast_op)\n",
    "        )"
   ]
  },
  {
   "cell_type": "markdown",
   "id": "d0f83103-2acb-4227-b5da-6d3023f3c958",
   "metadata": {},
   "source": [
    "### compile pipeline"
   ]
  },
  {
   "cell_type": "code",
   "execution_count": 29,
   "id": "f1c887a6-a951-4440-b46c-45f93f130aa3",
   "metadata": {},
   "outputs": [
    {
     "name": "stderr",
     "output_type": "stream",
     "text": [
      "/home/jupyter/.local/lib/python3.7/site-packages/kfp/v2/compiler/compiler.py:1293: FutureWarning: APIs imported from the v1 namespace (e.g. kfp.dsl, kfp.components, etc) will not be supported by the v2 compiler since v2.0.0\n",
      "  category=FutureWarning,\n"
     ]
    }
   ],
   "source": [
    "compiler.Compiler().compile(\n",
    "    pipeline_func=pipeline, \n",
    "    package_path=PIPELINE_PACKAGE\n",
    ")"
   ]
  },
  {
   "cell_type": "markdown",
   "id": "9e4dcb8a-8d32-439b-b28f-fd4f1d556707",
   "metadata": {},
   "source": [
    "## Execute pipeline"
   ]
  },
  {
   "cell_type": "markdown",
   "id": "08f0a2d9-33f6-4e90-a5df-6e3081fba4b0",
   "metadata": {},
   "source": [
    "pipeline parameters, which we set as default:\n",
    "\n",
    "- `bq_dataset`: The BigQuery dataset to train on.\n",
    "- `bq_orders_table` : The BigQuery table of raw data.\n",
    "- `bq_training_table` : The BigQuery table of training data after preprocessing.\n",
    "- `bq_train_configuration` : The job configuration of training component\n",
    "- `bq_model_table`: The BigQuery table of trained model.\n",
    "- `bq_evaluate_time_series_configuration` : The job configuration of the evaluation of ARIMA time series\n",
    "- `bq_evaluate_model_configuration` : The job configuration of the evaluation of ARIMA model\n",
    "- `performance_threshold` : The value of average MAE threshold \n",
    "- `bq_forecast_configuration` : The job configuration of forecast component\n",
    "- `bq_explain_forecast_configuration` : The job configuration of the evaluation of forecast component\n",
    "- `project`: The project ID\n",
    "- `location`: The location"
   ]
  },
  {
   "cell_type": "code",
   "execution_count": 30,
   "id": "99227e22-10ff-44e5-8080-ff5c242fdd8d",
   "metadata": {},
   "outputs": [],
   "source": [
    "SERVICE_ACCOUNT = 'notebooksa@hybrid-vertex.iam.gserviceaccount.com'"
   ]
  },
  {
   "cell_type": "code",
   "execution_count": 31,
   "id": "9e697c09-63ce-44cc-ac2f-c05b034af309",
   "metadata": {},
   "outputs": [
    {
     "name": "stdout",
     "output_type": "stream",
     "text": [
      "Creating PipelineJob\n",
      "PipelineJob created. Resource name: projects/934903580331/locations/us-central1/pipelineJobs/bqml-forecast-pipeline-20230324100905\n",
      "To use this PipelineJob in another session:\n",
      "pipeline_job = aiplatform.PipelineJob.get('projects/934903580331/locations/us-central1/pipelineJobs/bqml-forecast-pipeline-20230324100905')\n",
      "View Pipeline Job:\n",
      "https://console.cloud.google.com/vertex-ai/locations/us-central1/pipelines/runs/bqml-forecast-pipeline-20230324100905?project=934903580331\n",
      "PipelineJob projects/934903580331/locations/us-central1/pipelineJobs/bqml-forecast-pipeline-20230324100905 current state:\n",
      "PipelineState.PIPELINE_STATE_RUNNING\n",
      "PipelineJob projects/934903580331/locations/us-central1/pipelineJobs/bqml-forecast-pipeline-20230324100905 current state:\n",
      "PipelineState.PIPELINE_STATE_RUNNING\n",
      "PipelineJob projects/934903580331/locations/us-central1/pipelineJobs/bqml-forecast-pipeline-20230324100905 current state:\n",
      "PipelineState.PIPELINE_STATE_RUNNING\n",
      "PipelineJob projects/934903580331/locations/us-central1/pipelineJobs/bqml-forecast-pipeline-20230324100905 current state:\n",
      "PipelineState.PIPELINE_STATE_RUNNING\n",
      "PipelineJob projects/934903580331/locations/us-central1/pipelineJobs/bqml-forecast-pipeline-20230324100905 current state:\n",
      "PipelineState.PIPELINE_STATE_RUNNING\n",
      "PipelineJob projects/934903580331/locations/us-central1/pipelineJobs/bqml-forecast-pipeline-20230324100905 current state:\n",
      "PipelineState.PIPELINE_STATE_RUNNING\n",
      "PipelineJob projects/934903580331/locations/us-central1/pipelineJobs/bqml-forecast-pipeline-20230324100905 current state:\n",
      "PipelineState.PIPELINE_STATE_RUNNING\n",
      "PipelineJob run completed. Resource name: projects/934903580331/locations/us-central1/pipelineJobs/bqml-forecast-pipeline-20230324100905\n"
     ]
    }
   ],
   "source": [
    "bqml_pipeline = vertex_ai.PipelineJob(\n",
    "    display_name=f\"{PIPELINE_NAME}-job\",\n",
    "    template_path=PIPELINE_PACKAGE,\n",
    "    pipeline_root=PIPELINE_ROOT,\n",
    "    failure_policy='fast',\n",
    "    enable_caching=False,\n",
    ")\n",
    "\n",
    "bqml_pipeline.run(\n",
    "    sync=False,\n",
    "    service_account=SERVICE_ACCOUNT,\n",
    "    # network=f'projects/{PROJECT_NUM}/global/networks/{vpc_network_name}'\n",
    ")"
   ]
  },
  {
   "cell_type": "code",
   "execution_count": null,
   "id": "fa3919a4-0dd0-488a-8dc4-8921ea872b22",
   "metadata": {},
   "outputs": [],
   "source": []
  },
  {
   "cell_type": "code",
   "execution_count": null,
   "id": "742072c7-8f93-4088-b1a0-40e218ec2d77",
   "metadata": {},
   "outputs": [],
   "source": []
  },
  {
   "cell_type": "markdown",
   "id": "836a2035-fbf0-42ad-bbc9-7391933ec50f",
   "metadata": {},
   "source": [
    "# Cleanin up resources"
   ]
  },
  {
   "cell_type": "code",
   "execution_count": null,
   "id": "3eb89ec5-d1f0-45a5-b0b1-8162ba13cc57",
   "metadata": {},
   "outputs": [],
   "source": [
    "# delete pipeline\n",
    "vertex_ai_pipeline_jobs = vertex_ai.PipelineJob.list(\n",
    "    filter=f'pipeline_name=\"{PIPELINE_NAME}\"'\n",
    ")\n",
    "for pipeline_job in vertex_ai_pipeline_jobs:\n",
    "    pipeline_job.delete()"
   ]
  },
  {
   "cell_type": "code",
   "execution_count": null,
   "id": "05110ffd-65ac-4104-beea-b0666935ee20",
   "metadata": {},
   "outputs": [],
   "source": [
    "# delete model\n",
    "DELETE_MODEL_SQL = f\"DROP MODEL {BQ_DATASET}.{BQ_MODEL_TABLE}\"\n",
    "try:\n",
    "    delete_model_query_job = bq_client.query(DELETE_MODEL_SQL)\n",
    "    delete_model_query_result = delete_model_query_job.result()\n",
    "except Exception as e:\n",
    "    print(e)"
   ]
  },
  {
   "cell_type": "code",
   "execution_count": null,
   "id": "9fce727c-b9e9-4c0c-913d-70399bfbaaf6",
   "metadata": {},
   "outputs": [],
   "source": [
    "# delete dataset\n",
    "try:\n",
    "    delete_detaset_query_result = bq_client.delete_dataset(\n",
    "        BQ_DATASET, delete_contents=True, not_found_ok=True\n",
    "    )\n",
    "    print(delete_detaset_query_result)\n",
    "except Exception as e:\n",
    "    print(e)"
   ]
  },
  {
   "cell_type": "code",
   "execution_count": null,
   "id": "a3443c3a-d8bd-4a62-b9aa-d05379bfbd4d",
   "metadata": {},
   "outputs": [],
   "source": [
    "# delete bucket\n",
    "delete_bucket = True\n",
    "if os.getenv(\"IS_TESTING\") or delete_bucket:\n",
    "    ! gsutil -m rm -r $BUCKET_URI"
   ]
  },
  {
   "cell_type": "code",
   "execution_count": null,
   "id": "85f5275c-d33f-4a17-9a56-4440e03ca10f",
   "metadata": {},
   "outputs": [],
   "source": [
    "# Remove local resorces\n",
    "! rm -rf {KFP_COMPONENTS_PATH}\n",
    "! rm -rf {PIPELINES_PATH}\n",
    "! rm -rf {DATA_PATH}"
   ]
  }
 ],
 "metadata": {
  "environment": {
   "kernel": "python3",
   "name": "common-cpu.m103",
   "type": "gcloud",
   "uri": "gcr.io/deeplearning-platform-release/base-cpu:m103"
  },
  "kernelspec": {
   "display_name": "Python 3",
   "language": "python",
   "name": "python3"
  },
  "language_info": {
   "codemirror_mode": {
    "name": "ipython",
    "version": 3
   },
   "file_extension": ".py",
   "mimetype": "text/x-python",
   "name": "python",
   "nbconvert_exporter": "python",
   "pygments_lexer": "ipython3",
   "version": "3.7.12"
  }
 },
 "nbformat": 4,
 "nbformat_minor": 5
}
