{
 "cells": [
  {
   "cell_type": "markdown",
   "metadata": {
    "id": "WDXJsws2W4GS"
   },
   "source": [
    "# Vertex Forecast: Retail Demand Pipelines with M5"
   ]
  },
  {
   "cell_type": "markdown",
   "metadata": {
    "id": "yU2k2Mv9W2aR"
   },
   "source": [
    "### Retail demand forecasting with Vertex Forecast and Pipelines\n",
    "\n",
    "This notebook demonstrates the use of Vertex Pipelines to orchestrate Vertex Forecast (VF) workflows. It makes use of three tables that define the retail demand schema for this example:\n",
    "\n",
    "**Dataset**\n",
    "* Uses the M5 public dataset\n",
    "* See the [M5 Dataprep Notebook](https://colab.research.google.com/drive/1rjff9GVdjP--go_V9v2hV_heIFMtX3Mc?usp=sharing) for step-by-step instructions for downloading and preparing the M5 dataset\n",
    "\n",
    "**Tables in the dataset**\n",
    "- **activity**: activity table, containing time-variant information, e.g., sales, promo, etc.\n",
    "- **product**: the product table containing metadata of items\n",
    "- **plan table**: the table used to generate forecasts for future periods where actuals are unknown\n",
    "\n",
    "**Modeling approach**\n",
    "* Two models are trained, each with a different optimization objective: `minimize-rmse` & `minimize-mape`\n",
    "* The predictions from both models aere stacked (averaged), to produce the final prediction\n",
    "* In the training job configuration, `additional_experiments` is used to specify two overrides:\n",
    "> * `'forecasting_model_type_override': 'seq2seq'` - instructs VF to only train a sequence-to-sequence model\n",
    "> * `'forecasting_hierarchical_group_column_names':'dept_id, cat_id'` - specifies hierarchical modeling, and which input features to aggregate\n",
    "\n",
    "**Model Pipeline**\n",
    "* This pipeline includes all steps needed to train and evlauate the models, as well as generate a forecast/prediction for the future\n",
    "* It includes examples of custom pipeline components and pre-built components from Vertex AI\n"
   ]
  },
  {
   "cell_type": "markdown",
   "metadata": {
    "id": "2BZ4E1uhdh5v"
   },
   "source": [
    "## Notebook Setup"
   ]
  },
  {
   "cell_type": "markdown",
   "metadata": {
    "id": "xNXJzYea4PV0"
   },
   "source": [
    "**Tip:** search for `TODO` to find variables/parameters to specify"
   ]
  },
  {
   "cell_type": "code",
   "execution_count": 1,
   "metadata": {
    "colab": {
     "base_uri": "https://localhost:8080/"
    },
    "id": "MucqTNkgv5PS",
    "outputId": "fd5f8d74-4377-4ac2-b1d2-444abb5daa8e"
   },
   "outputs": [
    {
     "name": "stdout",
     "output_type": "stream",
     "text": [
      "Updated property [core/project].\n"
     ]
    }
   ],
   "source": [
    "PROJECT_ID = 'hybrid-vertex'  # <--- TODO: CHANGE THIS\n",
    "LOCATION = 'us-central1'\n",
    "!gcloud config set project {PROJECT_ID}"
   ]
  },
  {
   "cell_type": "markdown",
   "metadata": {
    "jp-MarkdownHeadingCollapsed": true,
    "tags": []
   },
   "source": [
    "### Colab stuff"
   ]
  },
  {
   "cell_type": "markdown",
   "metadata": {
    "id": "C34pTnYM13Xt"
   },
   "source": [
    "**If running this notebook in Colab**, authenticate with user account:"
   ]
  },
  {
   "cell_type": "code",
   "execution_count": 2,
   "metadata": {
    "id": "r-OQQrsW1yF0"
   },
   "outputs": [],
   "source": [
    "import sys\n",
    "if 'google.colab' in sys.modules:\n",
    "    from google.colab import auth\n",
    "    auth.authenticate_user()\n",
    "    \n",
    "if 'google.colab' in sys.modules:\n",
    "    USER_FLAG = ''\n",
    "else:\n",
    "    USER_FLAG = '--user'"
   ]
  },
  {
   "cell_type": "markdown",
   "metadata": {
    "id": "JeJ1lH5z2KIS"
   },
   "source": [
    "#### Install KFP SDK and Vertex Pipelines client library"
   ]
  },
  {
   "cell_type": "code",
   "execution_count": 4,
   "metadata": {
    "id": "ejzDQo1qFMny"
   },
   "outputs": [],
   "source": [
    "# # New\n",
    "# ! pip install -U google-cloud-storage $USER_FLAG\n",
    "# ! pip install $USER_FLAG kfp google-cloud-pipeline-components --upgrade\n",
    "# # !git clone https://github.com/kubeflow/pipelines.git\n",
    "# # !pip install pipelines/components/google-cloud/.\n",
    "# !pip -q install $USER_FLAG --upgrade google-cloud-aiplatform\n",
    "\n",
    "# # Automatically restart kernel after installs\n",
    "# import IPython\n",
    "# app = IPython.Application.instance()\n",
    "# app.kernel.do_shutdown(True)"
   ]
  },
  {
   "cell_type": "code",
   "execution_count": 6,
   "metadata": {
    "colab": {
     "base_uri": "https://localhost:8080/"
    },
    "id": "ACsQkK9lAhoG",
    "outputId": "805e380f-3b50-42fb-ea0f-e60481bed4a9"
   },
   "outputs": [],
   "source": [
    "# import sys\n",
    "# if 'google.colab' in sys.modules:\n",
    "#     PROJECT_ID = 'hybrid-vertex'  # <--- TODO: CHANGE THIS\n",
    "#     !gcloud config set project {PROJECT_ID}\n",
    "#     from google.colab import auth\n",
    "#     auth.authenticate_user()\n",
    "#     USER_FLAG = ''"
   ]
  },
  {
   "cell_type": "markdown",
   "metadata": {
    "id": "2yX2XtuvAQGh"
   },
   "source": [
    "Check the versions of the installed packages\n",
    "* KFP SDK version should be >=1.8.9\n",
    "* GCP components should be >= 0.2.1"
   ]
  },
  {
   "cell_type": "code",
   "execution_count": 5,
   "metadata": {
    "colab": {
     "base_uri": "https://localhost:8080/"
    },
    "id": "3wtIOwOdAWYQ",
    "outputId": "39fcc344-4962-4b70-807d-3c6b4ea8a2ea"
   },
   "outputs": [
    {
     "name": "stdout",
     "output_type": "stream",
     "text": [
      "KFP SDK version: 1.8.18\n",
      "google_cloud_pipeline_components version: 1.0.36\n"
     ]
    }
   ],
   "source": [
    "! python3 -c \"import kfp; print('KFP SDK version: {}'.format(kfp.__version__))\"\n",
    "! python3 -c \"import google_cloud_pipeline_components; print('google_cloud_pipeline_components version: {}'.format(google_cloud_pipeline_components.__version__))\""
   ]
  },
  {
   "cell_type": "markdown",
   "metadata": {
    "id": "UnlLTWe0dxbt"
   },
   "source": [
    "## Pipeline Configuration"
   ]
  },
  {
   "cell_type": "markdown",
   "metadata": {
    "id": "7lsSf-hFBDBP"
   },
   "source": [
    "### Set some variables\n",
    "\n",
    "**Before you run the next cell**, **edit it** to set variables for your project.\n",
    "\n",
    "* For `BUCKET_NAME`, enter the name of a Cloud Storage (GCS) bucket in your project.  Don't include the `gs://` prefix."
   ]
  },
  {
   "cell_type": "markdown",
   "metadata": {
    "id": "O9pym-S3NptV"
   },
   "source": [
    "GCP Project Configuration"
   ]
  },
  {
   "cell_type": "code",
   "execution_count": 2,
   "metadata": {
    "colab": {
     "base_uri": "https://localhost:8080/"
    },
    "id": "c2ZJX1hONu9O",
    "outputId": "81965b72-689f-449f-f69d-b19ec1492e3d"
   },
   "outputs": [
    {
     "name": "stdout",
     "output_type": "stream",
     "text": [
      "PROJECT_ID: hybrid-vertex\n",
      "PROJECT_NUM: 934903580331\n",
      "REGION: us-central1\n",
      "env: GOOGLE_CLOUD_PROJECT=hybrid-vertex\n"
     ]
    }
   ],
   "source": [
    "# GCP Project Configuration:\n",
    "# project where pipeline and vertex jobs are executed\n",
    "\n",
    "GCP_PROJECTS = !gcloud config get-value project\n",
    "PROJECT_ID = GCP_PROJECTS[0]\n",
    "PROJECT_NUM = !gcloud projects list --filter=\"$PROJECT_ID\" --format=\"value(PROJECT_NUMBER)\"\n",
    "PROJECT_NUM = PROJECT_NUM[0]\n",
    "REGION = 'us-central1'\n",
    "\n",
    "print(f\"PROJECT_ID: {PROJECT_ID}\")\n",
    "print(f\"PROJECT_NUM: {PROJECT_NUM}\")\n",
    "print(f\"REGION: {REGION}\")\n",
    "\n",
    "assert LOCATION, 'the value for this variable must be set'\n",
    "assert PROJECT_ID, 'the value for this variable must be set'\n",
    "# assert PROJECT_NUMBER, 'the value for this variable must be set'\n",
    "\n",
    "%env GOOGLE_CLOUD_PROJECT={PROJECT_ID}"
   ]
  },
  {
   "cell_type": "markdown",
   "metadata": {
    "id": "L-jjgdP1OfLm"
   },
   "source": [
    "Required Pipeline Parameters"
   ]
  },
  {
   "cell_type": "markdown",
   "metadata": {
    "id": "lATxPx73SNn3"
   },
   "source": [
    "Packages"
   ]
  },
  {
   "cell_type": "code",
   "execution_count": 3,
   "metadata": {
    "id": "0h2HqvT5cw_-"
   },
   "outputs": [],
   "source": [
    "# packages\n",
    "from datetime import datetime\n",
    "import json\n",
    "import os\n",
    "import time\n",
    "from typing import Any, Callable, Dict, NamedTuple, Optional\n",
    "import pandas as pd\n",
    "\n",
    "# visualization\n",
    "# from matplotlib import dates as mdates\n",
    "# from matplotlib import pyplot as plt\n",
    "# import seaborn as sns\n",
    "\n",
    "from IPython.display import Image, clear_output\n",
    "from IPython.core.display import HTML\n",
    "\n",
    "# colab\n",
    "# from google import auth\n",
    "# from google.colab import auth as colab_auth\n",
    "# from google.colab import drive\n",
    "\n",
    "# google cloud\n",
    "from google.api_core import exceptions as google_exceptions\n",
    "from google_cloud_pipeline_components import aiplatform as gcc_aip\n",
    "from google_cloud_pipeline_components.experimental import forecasting as gcc_aip_forecasting\n",
    "import google.cloud.aiplatform as vertex_ai\n",
    "from google.cloud import bigquery\n",
    "from google.cloud import storage\n",
    "\n",
    "# kfp\n",
    "import kfp\n",
    "import kfp.v2.dsl\n",
    "from kfp.v2.google import client as pipelines_client\n",
    "from kfp.v2.dsl import (Artifact, Dataset, Input, InputPath, Model, Output,\n",
    "                        OutputPath, component)"
   ]
  },
  {
   "cell_type": "code",
   "execution_count": 4,
   "metadata": {
    "colab": {
     "base_uri": "https://localhost:8080/"
    },
    "id": "67J7CzYnW1Lw",
    "outputId": "4e6306a3-d1b2-4d57-b3f0-63c024e78ac1"
   },
   "outputs": [
    {
     "name": "stdout",
     "output_type": "stream",
     "text": [
      "vertex_ai SDK version: 1.21.0\n",
      "bigquery SDK version: 2.34.4\n"
     ]
    }
   ],
   "source": [
    "print(f'vertex_ai SDK version: {vertex_ai.__version__}')\n",
    "print(f'bigquery SDK version: {bigquery.__version__}')"
   ]
  },
  {
   "cell_type": "markdown",
   "metadata": {
    "id": "SILo2Q23SQ5Z"
   },
   "source": [
    "BQ and pipeline clients"
   ]
  },
  {
   "cell_type": "code",
   "execution_count": 5,
   "metadata": {
    "colab": {
     "base_uri": "https://localhost:8080/"
    },
    "id": "eOwzsBJsQcNY",
    "outputId": "d8bec86a-79e3-40b9-fe98-15b28096ba21"
   },
   "outputs": [],
   "source": [
    "# colab\n",
    "# from google import auth\n",
    "# from google.colab import auth as colab_auth\n",
    "# from google.colab import drive\n",
    "\n",
    "# colab_auth.authenticate_user()\n",
    "\n",
    "# SCOPES = (\n",
    "#   'https://www.googleapis.com/auth/cloud-platform',\n",
    "# )\n",
    "\n",
    "# credentials, _ = auth.default()\n",
    "# credentials, _ = auth.default(scopes=SCOPES, quota_project_id=PROJECT_ID)"
   ]
  },
  {
   "cell_type": "markdown",
   "metadata": {},
   "source": [
    "### Setup SDK Clients"
   ]
  },
  {
   "cell_type": "code",
   "execution_count": 6,
   "metadata": {},
   "outputs": [],
   "source": [
    "bq_client = bigquery.Client(\n",
    "    project=PROJECT_ID, \n",
    "    # credentials=credentials\n",
    ")\n",
    "\n",
    "storage_client = storage.Client(project=PROJECT_ID)\n",
    "\n",
    "vertex_ai.init(\n",
    "    project=PROJECT_ID,\n",
    "    location=REGION\n",
    ")"
   ]
  },
  {
   "cell_type": "markdown",
   "metadata": {
    "id": "NnKwQdxhdjfT"
   },
   "source": [
    "# Training, Evaluation, and Forecast Pipeline"
   ]
  },
  {
   "cell_type": "markdown",
   "metadata": {
    "id": "OsW59-Xq6NwP",
    "tags": []
   },
   "source": [
    "### Pipeline visualization in Vertex UI"
   ]
  },
  {
   "cell_type": "markdown",
   "metadata": {
    "id": "IxDwdJxtarF5"
   },
   "source": [
    "![Screenshot 2021-12-03 12.49.42 PM.png](data:image/png;base64,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)"
   ]
  },
  {
   "cell_type": "markdown",
   "metadata": {
    "id": "ZhdmQN7XTe_h"
   },
   "source": [
    "## Components"
   ]
  },
  {
   "cell_type": "code",
   "execution_count": 212,
   "metadata": {},
   "outputs": [],
   "source": [
    "REPO_DOCKER_PATH_PREFIX = 'src'\n",
    "\n",
    "! rm -rf $REPO_DOCKER_PATH_PREFIX\n",
    "! mkdir $REPO_DOCKER_PATH_PREFIX\n",
    "# !mkdir -p ./$REPO_DOCKER_PATH_PREFIX"
   ]
  },
  {
   "cell_type": "markdown",
   "metadata": {
    "id": "aO9Z3VLT__uy"
   },
   "source": [
    "### Pipeline Component: **Create BQ dataset**"
   ]
  },
  {
   "cell_type": "markdown",
   "metadata": {
    "id": "b9AFUbW0UNFB"
   },
   "source": [
    "Creates BQ dataset, if one doesnt exist"
   ]
  },
  {
   "cell_type": "code",
   "execution_count": 213,
   "metadata": {
    "id": "5cM12L5hADDr"
   },
   "outputs": [
    {
     "name": "stdout",
     "output_type": "stream",
     "text": [
      "Writing src/create_bq_dataset.py\n"
     ]
    }
   ],
   "source": [
    "%%writefile {REPO_DOCKER_PATH_PREFIX}/create_bq_dataset.py\n",
    "\n",
    "import kfp\n",
    "from typing import Any, Callable, Dict, NamedTuple, Optional, List\n",
    "from kfp.v2.dsl import (Artifact, Dataset, Input, InputPath, Model, Output,\n",
    "                        OutputPath, component, Metrics)\n",
    "\n",
    "@kfp.v2.dsl.component(\n",
    "  base_image='python:3.9',\n",
    "  packages_to_install=['google-cloud-bigquery==2.34.4'],\n",
    ")\n",
    "def create_bq_dataset(\n",
    "    project: str,\n",
    "    vertex_dataset: str,\n",
    "    new_bq_dataset: str,\n",
    "    bq_location: str\n",
    ") -> NamedTuple('Outputs', [\n",
    "    ('bq_dataset_name', str),\n",
    "    ('bq_dataset_uri', str),\n",
    "]):\n",
    "    \n",
    "    from google.cloud import bigquery\n",
    "\n",
    "    bq_client = bigquery.Client(project=project, location='US') # bq_location)\n",
    "    (\n",
    "      bq_client.query(f'CREATE SCHEMA IF NOT EXISTS `{project}.{new_bq_dataset}`')\n",
    "      .result()\n",
    "    )\n",
    "    \n",
    "    return (\n",
    "        f'{new_bq_dataset}',\n",
    "        f'bq://{project}:{new_bq_dataset}',\n",
    "    )"
   ]
  },
  {
   "cell_type": "markdown",
   "metadata": {
    "id": "dS5fsWdNlafn"
   },
   "source": [
    "### Pipeline component: **Input Table Specs**"
   ]
  },
  {
   "cell_type": "markdown",
   "metadata": {
    "id": "qhVS_R0h0sBc"
   },
   "source": [
    "Note\n",
    "* `time_granularity_unit` - eligible unit values are: MINUTE, HOUR, DAY, WEEK, MONTH, YEAR"
   ]
  },
  {
   "cell_type": "code",
   "execution_count": 214,
   "metadata": {
    "id": "oKecgPn9nkru"
   },
   "outputs": [
    {
     "name": "stdout",
     "output_type": "stream",
     "text": [
      "Writing src/create_input_table_specs.py\n"
     ]
    }
   ],
   "source": [
    "%%writefile {REPO_DOCKER_PATH_PREFIX}/create_input_table_specs.py\n",
    "\n",
    "import kfp\n",
    "from typing import Any, Callable, Dict, NamedTuple, Optional, List\n",
    "from kfp.v2.dsl import (Artifact, Dataset, Input, InputPath, Model, Output,\n",
    "                        OutputPath, component, Metrics)\n",
    "\n",
    "@kfp.v2.dsl.component(\n",
    "    base_image='python:3.9'\n",
    ")\n",
    "def create_input_table_specs(\n",
    "    products_table_uri: str,\n",
    "    activities_table_uri: str,\n",
    "    locations_table_uri: str,\n",
    "    time_granularity_unit: str,\n",
    "    time_granularity_quantity: int,\n",
    "    # train_data_bq_source: str,\n",
    ") -> NamedTuple('Outputs', [\n",
    "    ('input_table_specs', str),\n",
    "    ('model_feature_columns', str),\n",
    "    # ('train_data_source_bq_uri', str),\n",
    "]):\n",
    "    \n",
    "    import json\n",
    "    import logging\n",
    "    logging.getLogger().setLevel(logging.INFO)\n",
    "\n",
    "    # train_data_source_bq_uri = f'bq://{train_data_bq_source}'\n",
    "\n",
    "    products_table_specs = {\n",
    "        'bigquery_uri': products_table_uri,\n",
    "        'table_type': 'FORECASTING_ATTRIBUTE',\n",
    "        'forecasting_attribute_table_metadata': {\n",
    "            'primary_key_column': 'product_id'\n",
    "        }\n",
    "    }\n",
    "\n",
    "    locations_table_specs = {\n",
    "        'bigquery_uri': locations_table_uri,\n",
    "        'table_type': 'FORECASTING_ATTRIBUTE',\n",
    "        'forecasting_attribute_table_metadata': {\n",
    "            'primary_key_column': 'location_id'\n",
    "        }\n",
    "    }\n",
    "\n",
    "    activities_table_specs = {\n",
    "        'bigquery_uri': activities_table_uri,\n",
    "        'table_type': 'FORECASTING_PRIMARY',\n",
    "        'forecasting_primary_table_metadata': {\n",
    "            'time_column': 'date',\n",
    "            'target_column': 'gross_quantity',\n",
    "            'time_series_identifier_columns': ['product_id', 'location_id'],\n",
    "            'unavailable_at_forecast_columns': [],\n",
    "            'time_granularity': {\n",
    "                'unit': time_granularity_unit,\n",
    "                'quantity': time_granularity_quantity,\n",
    "            },\n",
    "            # 'predefined_splits_column': 'ml_use',\n",
    "            # 'predefined_split_column': 'ml_use', # model_override\n",
    "        }\n",
    "    }\n",
    "\n",
    "    model_feature_columns = [\n",
    "        'product_id',\n",
    "        'location_id',\n",
    "        'gross_quantity',\n",
    "        'date',\n",
    "        'weekday',\n",
    "        'wday',\n",
    "        'month',\n",
    "        'year',\n",
    "        'event_name_1',\n",
    "        'event_type_1',\n",
    "        'event_name_2',\n",
    "        'event_type_2',\n",
    "        'snap_CA',\n",
    "        'snap_TX'\n",
    "        'snap_WI',\n",
    "        'dept_id',\n",
    "        'cat_id',\n",
    "        'state_id',\n",
    "    ]\n",
    "\n",
    "    input_table_specs = [\n",
    "    activities_table_specs,\n",
    "    products_table_specs,\n",
    "    locations_table_specs,\n",
    "    ]\n",
    "\n",
    "    return (\n",
    "        json.dumps(input_table_specs),  # input_table_specs\n",
    "        json.dumps(model_feature_columns),  # model_feature_columns\n",
    "        # f'{train_data_source_bq_uri}',\n",
    "    )"
   ]
  },
  {
   "cell_type": "markdown",
   "metadata": {
    "id": "qZgrcH6DQYZk"
   },
   "source": [
    "### Pipeline Component: Get Eval Dataset uri"
   ]
  },
  {
   "cell_type": "code",
   "execution_count": 215,
   "metadata": {
    "id": "VhHRQfIBQdaw"
   },
   "outputs": [
    {
     "name": "stdout",
     "output_type": "stream",
     "text": [
      "Writing src/get_eval_dataset_path_uri.py\n"
     ]
    }
   ],
   "source": [
    "%%writefile {REPO_DOCKER_PATH_PREFIX}/get_eval_dataset_path_uri.py\n",
    "\n",
    "import kfp\n",
    "from typing import Any, Callable, Dict, NamedTuple, Optional, List\n",
    "from kfp.v2.dsl import (Artifact, Dataset, Input, InputPath, Model, Output,\n",
    "                        OutputPath, component, Metrics)\n",
    "\n",
    "@kfp.v2.dsl.component(base_image='python:3.9')\n",
    "def get_eval_dataset_path_uri(\n",
    "    project: str,\n",
    "    eval_bq_dataset: str,\n",
    "    model_1_table: str,\n",
    "    model_2_table: str,\n",
    ") -> NamedTuple('Outputs',[\n",
    "    ('model_1_bigquery_table_uri', str),\n",
    "    ('model_2_bigquery_table_uri', str),\n",
    "    ('eval_bq_dataset', str),\n",
    "]):\n",
    "    \n",
    "    import json\n",
    "    import logging\n",
    "\n",
    "    model_1_table_path_name = f'{project}:{eval_bq_dataset}:eval-{model_1_table}'\n",
    "    model_2_table_path_name = f'{project}:{eval_bq_dataset}:eval-{model_2_table}'\n",
    "\n",
    "    logging.info(model_1_table_path_name)\n",
    "    logging.info(model_2_table_path_name)\n",
    "\n",
    "    return (\n",
    "        f'bq://{model_1_table_path_name}',\n",
    "        f'bq://{model_2_table_path_name}',\n",
    "        f'{eval_bq_dataset}',\n",
    "    )"
   ]
  },
  {
   "cell_type": "markdown",
   "metadata": {
    "id": "u3YGooBYtmJw"
   },
   "source": [
    "### Pipeline component: combine model predictions"
   ]
  },
  {
   "cell_type": "code",
   "execution_count": 216,
   "metadata": {
    "id": "hmzRsr0c-GF4"
   },
   "outputs": [],
   "source": [
    "# from typing import Dict, List, Optional, Sequence, Tuple, Union"
   ]
  },
  {
   "cell_type": "code",
   "execution_count": 217,
   "metadata": {
    "id": "KbKX5kHkuHTs"
   },
   "outputs": [
    {
     "name": "stdout",
     "output_type": "stream",
     "text": [
      "Writing src/create_combined_preds_table.py\n"
     ]
    }
   ],
   "source": [
    "%%writefile {REPO_DOCKER_PATH_PREFIX}/create_combined_preds_table.py\n",
    "\n",
    "import kfp\n",
    "from typing import Any, Callable, Dict, NamedTuple, Optional, List\n",
    "from kfp.v2.dsl import (Artifact, Dataset, Input, InputPath, Model, Output,\n",
    "                        OutputPath, component, Metrics)\n",
    "\n",
    "@kfp.v2.dsl.component(\n",
    "  base_image='python:3.9',\n",
    "  packages_to_install=[\n",
    "      'google-cloud-bigquery==2.34.4', \n",
    "      'google-cloud-aiplatform==1.21.0'\n",
    "  ],\n",
    ")\n",
    "def create_combined_preds_table(\n",
    "  project: str,\n",
    "  dataset: str,\n",
    "  bq_location: str,\n",
    "  model_1_eval_table_uri: str,\n",
    "  model_2_eval_table_uri: str,\n",
    "  model_1_path: Input[Artifact],\n",
    "  model_2_path: Input[Artifact],\n",
    "  override: str = 'False',\n",
    ") -> NamedTuple('Outputs', [\n",
    "    ('combined_preds_table_uri', str),\n",
    "    ('eval_bq_dataset', str),\n",
    "]):\n",
    "    \n",
    "    from google.cloud import bigquery\n",
    "\n",
    "    override = bool(override)\n",
    "    \n",
    "    bq_client = bigquery.Client(\n",
    "        project=project, \n",
    "        location=\"US\", # bq_location\n",
    "    )\n",
    "    \n",
    "    combined_preds_table_name = f'{project}.{dataset}.combined_preds'\n",
    "\n",
    "    model_1_eval_table_uri=model_1_eval_table_uri\n",
    "    model_2_eval_table_uri=model_2_eval_table_uri\n",
    "\n",
    "    def _sanitize_bq_uri(bq_uri):\n",
    "        if bq_uri.startswith(\"bq://\"):\n",
    "            bq_uri = bq_uri[5:]\n",
    "        return bq_uri.replace(\":\", \".\")\n",
    "\n",
    "    model_1_eval_table_uri = _sanitize_bq_uri(\n",
    "        model_1_eval_table_uri\n",
    "    )\n",
    "\n",
    "    model_2_eval_table_uri = _sanitize_bq_uri(\n",
    "        model_2_eval_table_uri\n",
    "    )\n",
    "\n",
    "    (\n",
    "        bq_client.query(\n",
    "            f\"\"\"\n",
    "            CREATE {'OR REPLACE TABLE' if override else 'TABLE IF NOT EXISTS'}\n",
    "                `{combined_preds_table_name}`\n",
    "            AS (\n",
    "                SELECT * except(row_number) from\n",
    "                (\n",
    "                  SELECT *,ROW_NUMBER() OVER (PARTITION BY datetime,vertex__timeseries__id order by predicted_on_date asc) row_number\n",
    "                  FROM\n",
    "                (\n",
    "                  SELECT\n",
    "                  DATE(table_a.date) as datetime,\n",
    "                  DATE(table_a.predicted_on_date) as predicted_on_date,\n",
    "                  CAST(table_a.gross_quantity as INTEGER) as gross_quantity,\n",
    "                  table_a.vertex__timeseries__id,\n",
    "                  table_a.predicted_gross_quantity.value as predicted_gross_quantity_a,\n",
    "                  table_b.predicted_gross_quantity.value as predicted_gross_quantity_b\n",
    "                  FROM\n",
    "                  `{model_1_eval_table_uri}` AS table_a\n",
    "                  INNER JOIN `{model_2_eval_table_uri}` AS table_b\n",
    "                  ON DATE(table_a.date) = DATE(table_b.date)\n",
    "                  and table_a.vertex__timeseries__id = table_b.vertex__timeseries__id\n",
    "                  and DATE(table_a.predicted_on_date) = DATE(table_b.predicted_on_date)\n",
    "                ) a\n",
    "              )m\n",
    "              where row_number = 1\n",
    "            );\n",
    "          \"\"\"\n",
    "        )\n",
    "        .result()\n",
    "    )\n",
    "\n",
    "    return (\n",
    "        f'bq://{combined_preds_table_name}',\n",
    "        f'{dataset}',\n",
    "    )"
   ]
  },
  {
   "cell_type": "markdown",
   "metadata": {},
   "source": [
    "### Pipeline ComponentL create final pred table"
   ]
  },
  {
   "cell_type": "code",
   "execution_count": 218,
   "metadata": {
    "id": "lOqPuFR66DWz"
   },
   "outputs": [
    {
     "name": "stdout",
     "output_type": "stream",
     "text": [
      "Writing src/create_final_pred_table.py\n"
     ]
    }
   ],
   "source": [
    "%%writefile {REPO_DOCKER_PATH_PREFIX}/create_final_pred_table.py\n",
    "\n",
    "import kfp\n",
    "from typing import Any, Callable, Dict, NamedTuple, Optional, List\n",
    "from kfp.v2.dsl import (Artifact, Dataset, Input, InputPath, Model, Output,\n",
    "                        OutputPath, component, Metrics)\n",
    "\n",
    "@kfp.v2.dsl.component(\n",
    "  base_image='python:3.9',\n",
    "  packages_to_install=[\n",
    "      'google-cloud-bigquery==2.34.4'\n",
    "  ],\n",
    ")\n",
    "def create_final_pred_table(\n",
    "    project: str,\n",
    "    dataset: str,\n",
    "    bq_location: str,\n",
    "    combined_preds_table_uri: str,\n",
    "    override: str = 'False',\n",
    ") -> NamedTuple('Outputs', [\n",
    "    ('final_preds_table_uri', str),\n",
    "]):\n",
    "    from google.cloud import bigquery\n",
    "\n",
    "    override = bool(override)\n",
    "    \n",
    "    bq_client = bigquery.Client(\n",
    "        project=project, \n",
    "        location=\"US\", # bq_location\n",
    "    )\n",
    "    \n",
    "    final_preds_table_name = f'{project}.{dataset}.final_preds'\n",
    "    \n",
    "    (\n",
    "        bq_client.query(\n",
    "            f\"\"\"\n",
    "            CREATE {'OR REPLACE TABLE' if override else 'TABLE IF NOT EXISTS'}\n",
    "                `{final_preds_table_name}`\n",
    "            AS (\n",
    "              SELECT\n",
    "                  datetime,\n",
    "                  vertex__timeseries__id,\n",
    "                  gross_quantity as gross_quantity_actual,\n",
    "                  ROUND(a.predicted_gross_quantity_a, 2) as model_a_pred,\n",
    "                  ROUND(a.predicted_gross_quantity_b, 2) as model_b_pred,\n",
    "                  ROUND((a.predicted_gross_quantity_a + a.predicted_gross_quantity_b)/2, 2) AS Final_Pred,\n",
    "                  ROUND(ABS(gross_quantity - ((a.predicted_gross_quantity_a + a.predicted_gross_quantity_b)/2)), 2) as Final_Pred_error,\n",
    "              FROM\n",
    "                `{combined_preds_table_uri[5:]}` AS a);\n",
    "            \"\"\"\n",
    "        )\n",
    "        .result()\n",
    "    )\n",
    "\n",
    "    return (\n",
    "      f'bq://{final_preds_table_name}',\n",
    "    )"
   ]
  },
  {
   "cell_type": "markdown",
   "metadata": {
    "id": "21o5eMdw6ynk"
   },
   "source": [
    "### Pipeline component: Create Forecast input table"
   ]
  },
  {
   "cell_type": "code",
   "execution_count": 219,
   "metadata": {
    "id": "l6UcST27qLf3"
   },
   "outputs": [
    {
     "name": "stdout",
     "output_type": "stream",
     "text": [
      "Writing src/create_forecast_input_table_specs.py\n"
     ]
    }
   ],
   "source": [
    "%%writefile {REPO_DOCKER_PATH_PREFIX}/create_forecast_input_table_specs.py\n",
    "\n",
    "import kfp\n",
    "from typing import Any, Callable, Dict, NamedTuple, Optional, List\n",
    "from kfp.v2.dsl import (Artifact, Dataset, Input, InputPath, Model, Output,\n",
    "                        OutputPath, component, Metrics)\n",
    "\n",
    "@kfp.v2.dsl.component(\n",
    "    base_image='python:3.9',\n",
    "    packages_to_install=[\n",
    "        'google-cloud-aiplatform==1.21.0'\n",
    "    ],\n",
    ")\n",
    "def create_forecast_input_table_specs(\n",
    "  project: str,\n",
    "  forecast_products_table_uri: str,\n",
    "  forecast_activities_table_uri: str,\n",
    "  forecast_locations_table_uri: str,\n",
    "  forecast_plan_table_uri: str,\n",
    "  time_granularity_unit: str,\n",
    "  time_granularity_quantity: int,\n",
    ") -> NamedTuple('Outputs', [\n",
    "    ('forecast_input_table_specs', str)\n",
    "]):\n",
    "    import json\n",
    "    import os\n",
    "    import logging\n",
    "    logging.getLogger().setLevel(logging.INFO)\n",
    "\n",
    "    forecast_input_table_specs = [\n",
    "        {\n",
    "            'bigquery_uri': forecast_plan_table_uri,\n",
    "            'table_type': 'FORECASTING_PLAN',\n",
    "        },\n",
    "        {\n",
    "            'bigquery_uri': forecast_activities_table_uri,\n",
    "            'table_type': 'FORECASTING_PRIMARY',\n",
    "            'forecasting_primary_table_metadata': {\n",
    "                'time_column': 'date',\n",
    "                'target_column': 'gross_quantity',\n",
    "                'time_series_identifier_columns': ['product_id', 'location_id'],\n",
    "                'unavailable_at_forecast_columns': [],\n",
    "                'time_granularity': {\n",
    "                    'unit': time_granularity_unit,\n",
    "                    'quantity': time_granularity_quantity,\n",
    "                },\n",
    "                # 'predefined_splits_column': 'ml_use',\n",
    "                # 'predefined_split_column': 'ml_use', # model_override\n",
    "            }\n",
    "        },\n",
    "        {\n",
    "            'bigquery_uri': forecast_products_table_uri,\n",
    "            'table_type': 'FORECASTING_ATTRIBUTE',\n",
    "            'forecasting_attribute_table_metadata': {\n",
    "                'primary_key_column': 'product_id'\n",
    "            }\n",
    "        },\n",
    "        {\n",
    "            'bigquery_uri': forecast_locations_table_uri,\n",
    "            'table_type': 'FORECASTING_ATTRIBUTE',\n",
    "            'forecasting_attribute_table_metadata': {\n",
    "                'primary_key_column': 'location_id'\n",
    "            }\n",
    "        },\n",
    "    ]\n",
    "\n",
    "    logging.info(f\"forecast_input_table_specs: {forecast_input_table_specs}\")\n",
    "\n",
    "    return (\n",
    "        json.dumps(forecast_input_table_specs),\n",
    "    )"
   ]
  },
  {
   "cell_type": "markdown",
   "metadata": {
    "id": "832J2SZErXBb"
   },
   "source": [
    "### Pipeline Component: Get predict table path"
   ]
  },
  {
   "cell_type": "code",
   "execution_count": 220,
   "metadata": {
    "id": "jgo7ln-prWom"
   },
   "outputs": [
    {
     "name": "stdout",
     "output_type": "stream",
     "text": [
      "Writing src/get_predict_table_path.py\n"
     ]
    }
   ],
   "source": [
    "%%writefile {REPO_DOCKER_PATH_PREFIX}/get_predict_table_path.py\n",
    "\n",
    "import kfp\n",
    "from typing import Any, Callable, Dict, NamedTuple, Optional, List\n",
    "from kfp.v2.dsl import (Artifact, Dataset, Input, InputPath, Model, Output,\n",
    "                        OutputPath, component, Metrics)\n",
    "\n",
    "@kfp.v2.dsl.component(\n",
    "    base_image='python:3.9'\n",
    ")\n",
    "def get_predict_table_path(\n",
    "    predict_processed_table: str\n",
    ") -> NamedTuple('Outputs', [\n",
    "    ('preprocess_bq_uri', str)\n",
    "]):\n",
    "    \n",
    "    import json\n",
    "    import logging\n",
    "\n",
    "    logging.info(f\"predict_processed_table: {predict_processed_table}\")\n",
    "    \n",
    "    preprocess_bq_uri = (\n",
    "        json.loads(predict_processed_table)\n",
    "        ['processed_bigquery_table_uri']\n",
    "    )\n",
    "    \n",
    "    logging.info(f\"preprocess_bq_uri: {preprocess_bq_uri}\")\n",
    "    \n",
    "    return (\n",
    "        f'{preprocess_bq_uri}',\n",
    "    )"
   ]
  },
  {
   "cell_type": "markdown",
   "metadata": {},
   "source": [
    "### Pipeline Component: get model path"
   ]
  },
  {
   "cell_type": "code",
   "execution_count": 221,
   "metadata": {},
   "outputs": [
    {
     "name": "stdout",
     "output_type": "stream",
     "text": [
      "Writing src/get_model_path.py\n"
     ]
    }
   ],
   "source": [
    "%%writefile {REPO_DOCKER_PATH_PREFIX}/get_model_path.py\n",
    "\n",
    "import kfp\n",
    "from typing import Any, Callable, Dict, NamedTuple, Optional, List\n",
    "from kfp.v2.dsl import (Artifact, Dataset, Input, InputPath, Model, Output,\n",
    "                        OutputPath, component, Metrics)\n",
    "\n",
    "@kfp.v2.dsl.component(\n",
    "    base_image='python:3.9',\n",
    "    packages_to_install=[\n",
    "        'google-cloud-aiplatform==1.21.0'\n",
    "    ],\n",
    ")\n",
    "def get_model_path(\n",
    "    project: str,\n",
    "    location: str,\n",
    "    model: Input[Artifact],\n",
    ") -> NamedTuple('Outputs', [\n",
    "    ('model_resource_path', str)\n",
    "]):\n",
    "    \n",
    "    from google.cloud import aiplatform as vertex_ai\n",
    "    import json\n",
    "    import logging\n",
    "\n",
    "    vertex_ai.init(\n",
    "        project=project,\n",
    "        location=location,\n",
    "    )\n",
    "\n",
    "    model_resource_path = model.metadata[\"resourceName\"]\n",
    "    logging.info(\"model path: %s\", model_resource_path)\n",
    "    \n",
    "    return (\n",
    "        model_resource_path,\n",
    "    )"
   ]
  },
  {
   "cell_type": "markdown",
   "metadata": {
    "id": "m0gd6pDSrbf_"
   },
   "source": [
    "### Pipeline Component: model_batch_prediction_job"
   ]
  },
  {
   "cell_type": "code",
   "execution_count": 222,
   "metadata": {
    "id": "Ea4OQhysrdaR"
   },
   "outputs": [
    {
     "name": "stdout",
     "output_type": "stream",
     "text": [
      "Writing src/model_batch_prediction_job.py\n"
     ]
    }
   ],
   "source": [
    "%%writefile {REPO_DOCKER_PATH_PREFIX}/model_batch_prediction_job.py\n",
    "\n",
    "import kfp\n",
    "from typing import Any, Callable, Dict, NamedTuple, Optional, List\n",
    "from kfp.v2.dsl import (Artifact, Dataset, Input, InputPath, Model, Output,\n",
    "                        OutputPath, component, Metrics)\n",
    "\n",
    "@kfp.v2.dsl.component(\n",
    "    base_image='python:3.9',\n",
    "    packages_to_install=[\n",
    "        'google-cloud-aiplatform==1.21.0'\n",
    "    ],\n",
    ")\n",
    "def model_batch_prediction_job(\n",
    "    project: str,\n",
    "    location: str,\n",
    "    eval_bq_dataset: str,\n",
    "    bigquery_source: str,\n",
    "    model_name: str,\n",
    "    model_1_path: Input[Artifact],\n",
    ") -> NamedTuple('Outputs', [\n",
    "    ('batch_predict_output_bq_uri', str),\n",
    "    ('batch_predict_job_dict', dict)\n",
    "]):\n",
    "\n",
    "    from google.cloud import aiplatform as vertex_ai\n",
    "    import json\n",
    "    import logging\n",
    "\n",
    "    vertex_ai.init(\n",
    "        project=project,\n",
    "        location=location,\n",
    "    )\n",
    "\n",
    "    model_resource_path = model_1_path.metadata[\"resourceName\"]\n",
    "    logging.info(\"model path: %s\", model_resource_path)\n",
    "\n",
    "    model = vertex_ai.Model(model_name=model_resource_path)\n",
    "    logging.info(\"Model dict:\", model.to_dict())\n",
    "\n",
    "    batch_predict_job = model.batch_predict(\n",
    "        bigquery_source=bigquery_source,\n",
    "        instances_format=\"bigquery\",\n",
    "        bigquery_destination_prefix=f'bq://{project}.{eval_bq_dataset}',\n",
    "        predictions_format=\"bigquery\",\n",
    "        job_display_name=f'bpj-{model_name}',\n",
    "    )\n",
    "\n",
    "    batch_predict_bq_output_uri = \"{}.{}\".format(\n",
    "      batch_predict_job.output_info.bigquery_output_dataset,\n",
    "      batch_predict_job.output_info.bigquery_output_table\n",
    "    )\n",
    "\n",
    "    logging.info(batch_predict_job.to_dict())\n",
    "    \n",
    "    return (\n",
    "        batch_predict_bq_output_uri,\n",
    "        batch_predict_job.to_dict(),\n",
    "    )"
   ]
  },
  {
   "cell_type": "markdown",
   "metadata": {
    "id": "QaRSq5rwrkrJ"
   },
   "source": [
    "#### TODO: remove duplicate batch prediction component"
   ]
  },
  {
   "cell_type": "code",
   "execution_count": 223,
   "metadata": {
    "id": "N922fVCHrnh2"
   },
   "outputs": [],
   "source": [
    "# %%writefile {REPO_DOCKER_PATH_PREFIX}/model_2_predict_job_v2.py\n",
    "\n",
    "# import kfp\n",
    "# from typing import Any, Callable, Dict, NamedTuple, Optional, List\n",
    "# from kfp.v2.dsl import (Artifact, Dataset, Input, InputPath, Model, Output,\n",
    "#                         OutputPath, component, Metrics)\n",
    "\n",
    "# @kfp.v2.dsl.component(\n",
    "#   base_image='python:3.9',\n",
    "#   packages_to_install=['google-cloud-aiplatform==1.21.0'],\n",
    "# )\n",
    "# def model_2_predict_job_v2(\n",
    "#     project: str,\n",
    "#     location: str,\n",
    "#     eval_bq_dataset: str,\n",
    "#     bigquery_source: str,\n",
    "#     model_2_path: Input[Artifact],\n",
    "# ) -> NamedTuple('Outputs', [\n",
    "#                             ('batch_predict_output_bq_uri', str),\n",
    "#                             ('batch_predict_job_dict', dict)]):\n",
    "\n",
    "#   from google.cloud import aiplatform as vertex_ai\n",
    "#   # from google_cloud_pipeline_components.types import artifact_types\n",
    "#   import json\n",
    "#   import logging\n",
    "\n",
    "#   vertex_ai.init(\n",
    "#       project=project,\n",
    "#       location=location,\n",
    "#   )\n",
    "#   # print(\"model_2_path:\", model_2_path)\n",
    "#   # model_aip_uri=model_2_path[\"uri\"]\n",
    "#   # print(\"model_2_path[49:]:\", model_2_path[49:])\n",
    "#   # model_aip_uri=model_2_path[49:]\n",
    "#   # print(\"model_aip_uri_2:\", model_aip_uri)\n",
    "\n",
    "#   # model = artifact_types.VertexModel(uri='xxx')\n",
    "\n",
    "#   model_resource_path = model_2_path.metadata[\"resourceName\"]\n",
    "#   logging.info(\"model path: %s\", model_resource_path)\n",
    "\n",
    "#   model = vertex_ai.Model(model_name=model_resource_path)\n",
    "#   print(\"Model dict:\", model.to_dict())\n",
    "\n",
    "#   batch_predict_job = model.batch_predict(\n",
    "#       bigquery_source=bigquery_source,\n",
    "#       instances_format=\"bigquery\",\n",
    "#       bigquery_destination_prefix=f'bq://{project}.{eval_bq_dataset}',\n",
    "#       predictions_format=\"bigquery\",\n",
    "#       job_display_name='batch-predict-job-2',\n",
    "#   )\n",
    "\n",
    "#   batch_predict_bq_output_uri = \"{}.{}\".format(\n",
    "#       batch_predict_job.output_info.bigquery_output_dataset,\n",
    "#       batch_predict_job.output_info.bigquery_output_table)\n",
    "\n",
    "#   # if batch_predict_bq_output_uri.startswith(\"bq://\"):\n",
    "#   #   batch_predict_bq_output_uri = batch_predict_bq_output_uri[5:]\n",
    "\n",
    "#   # batch_predict_bq_output_uri.replace(\":\", \".\")\n",
    "\n",
    "#   print(batch_predict_job.to_dict())\n",
    "#   return (batch_predict_bq_output_uri,\n",
    "#           batch_predict_job.to_dict())"
   ]
  },
  {
   "cell_type": "markdown",
   "metadata": {
    "id": "AOrmelEVr47j"
   },
   "source": [
    "### Pipeline Component: Combine Plan Predictions"
   ]
  },
  {
   "cell_type": "code",
   "execution_count": 224,
   "metadata": {
    "id": "cdD9x3D1r7O6"
   },
   "outputs": [
    {
     "name": "stdout",
     "output_type": "stream",
     "text": [
      "Writing src/create_combined_preds_forecast_table.py\n"
     ]
    }
   ],
   "source": [
    "%%writefile {REPO_DOCKER_PATH_PREFIX}/create_combined_preds_forecast_table.py\n",
    "\n",
    "import kfp\n",
    "from typing import Any, Callable, Dict, NamedTuple, Optional, List\n",
    "from kfp.v2.dsl import (Artifact, Dataset, Input, InputPath, Model, Output,\n",
    "                        OutputPath, component, Metrics)\n",
    "\n",
    "@kfp.v2.dsl.component(\n",
    "    base_image='python:3.9',\n",
    "    packages_to_install=[\n",
    "        'google-cloud-bigquery==2.34.4'\n",
    "  ],\n",
    ")\n",
    "def create_combined_preds_forecast_table(\n",
    "  project: str,\n",
    "  dataset: str,\n",
    "  model_1_pred_table_uri: str,\n",
    "  model_2_pred_table_uri: str,\n",
    "  override: str = 'False',\n",
    ") -> NamedTuple('Outputs', [\n",
    "    ('combined_preds_forecast_table_uri', str)\n",
    "]):\n",
    "    \n",
    "    from google.cloud import bigquery\n",
    "\n",
    "    override = bool(override)\n",
    "    bq_client = bigquery.Client(project=project)\n",
    "    combined_preds_forecast_table_name = f'{project}.{dataset}.combined_preds_forecast'\n",
    "    (\n",
    "        bq_client.query(\n",
    "            f\"\"\"\n",
    "            CREATE {'OR REPLACE TABLE' if override else 'TABLE IF NOT EXISTS'}\n",
    "                `{combined_preds_forecast_table_name}`\n",
    "            AS (\n",
    "              SELECT\n",
    "                table_a.date as date,\n",
    "                table_a.vertex__timeseries__id,\n",
    "                ROUND(table_a.predicted_gross_quantity.value,2) as predicted_gross_quantity_a,\n",
    "                ROUND(table_b.predicted_gross_quantity.value, 2) as predicted_gross_quantity_b,\n",
    "                ROUND((table_a.predicted_gross_quantity.value + table_b.predicted_gross_quantity.value)/2, 2) AS Final_Pred\n",
    "              FROM\n",
    "                `{model_1_pred_table_uri[5:]}` AS table_a\n",
    "              INNER JOIN `{model_2_pred_table_uri[5:]}` AS table_b\n",
    "              ON table_a.date = table_b.date\n",
    "              AND table_a.vertex__timeseries__id = table_b.vertex__timeseries__id\n",
    "            );\n",
    "          \"\"\"\n",
    "        )\n",
    "        .result()\n",
    "    )\n",
    "\n",
    "    return (\n",
    "        f'bq://{combined_preds_forecast_table_name}',\n",
    "    )"
   ]
  },
  {
   "cell_type": "markdown",
   "metadata": {},
   "source": [
    "### pipeline component: args_generator"
   ]
  },
  {
   "cell_type": "code",
   "execution_count": 225,
   "metadata": {},
   "outputs": [
    {
     "name": "stdout",
     "output_type": "stream",
     "text": [
      "Writing src/args_generator_op_1.py\n"
     ]
    }
   ],
   "source": [
    "%%writefile {REPO_DOCKER_PATH_PREFIX}/args_generator_op_1.py\n",
    "\n",
    "import kfp\n",
    "from typing import Any, Callable, Dict, NamedTuple, Optional, List\n",
    "from kfp.v2.dsl import (Artifact, Dataset, Input, InputPath, Model, Output,\n",
    "                        OutputPath, component, Metrics)\n",
    "\n",
    "@kfp.v2.dsl.component(\n",
    "    base_image='python:3.9',\n",
    "    packages_to_install=[\n",
    "        'google-cloud-aiplatform==1.21.0'\n",
    "    ],\n",
    ")\n",
    "def args_generator_op_1(\n",
    "    project: str,\n",
    "    location: str,\n",
    "    rmse_model: Input[Artifact],\n",
    "    rmse_display_name: str,\n",
    "    mape_model: Input[Artifact],\n",
    "    mape_display_name: str,\n",
    "# ) -> str:\n",
    ") -> NamedTuple('Outputs', [\n",
    "    ('model_list', list)\n",
    "]):\n",
    "\n",
    "    from google.cloud import aiplatform as vertex_ai\n",
    "    import json\n",
    "    import logging\n",
    "\n",
    "    vertex_ai.init(\n",
    "        project=project,\n",
    "        location=location,\n",
    "    )\n",
    "\n",
    "    rmse_model_resource_path = rmse_model.metadata[\"resourceName\"]\n",
    "    logging.info(f\"rmse_model_resource_path: {rmse_model_resource_path}\")\n",
    "    \n",
    "    mape_model_resource_path = mape_model.metadata[\"resourceName\"]\n",
    "    logging.info(f\"mape_model_resource_path: {mape_model_resource_path}\")\n",
    "    \n",
    "    model_list = [rmse_model_resource_path, mape_model_resource_path]\n",
    "    logging.info(f\"model_list: {model_list}\")\n",
    "    \n",
    "    test_list = [\n",
    "        {\n",
    "            \"model\": rmse_model_resource_path, \n",
    "            \"objective\": \"rmse\", \n",
    "        },\n",
    "        {\n",
    "            \"model\": mape_model_resource_path, \n",
    "            \"objective\": \"mape\", \n",
    "        }\n",
    "    ]\n",
    "    logging.info(f\"test_list: {test_list}\")\n",
    "\n",
    "    return (\n",
    "        model_list,\n",
    "    )\n",
    "        \n",
    "        \n",
    "    #     json.dumps(\n",
    "    #     [\n",
    "    #         {\n",
    "    #             \"model\": rmse_model_resource_path, \n",
    "    #             \"objective\": \"rmse\", \n",
    "    #             # \"display_name\": rmse_display_name\n",
    "    #         }, \n",
    "    #         {\n",
    "    #             \"model\": mape_model_resource_path, \n",
    "    #             \"objective\": \"mape\", \n",
    "    #             # \"display_name\": mape_display_name\n",
    "    #         }\n",
    "    #     ],\n",
    "    #     sort_keys=True,\n",
    "    # )"
   ]
  },
  {
   "cell_type": "markdown",
   "metadata": {
    "id": "mHYdmNCe1_4k"
   },
   "source": [
    "# Build, Compile, & Run Pipeline"
   ]
  },
  {
   "cell_type": "markdown",
   "metadata": {
    "id": "WLUmvGbJ5nnu"
   },
   "source": [
    "**Docs**\n",
    "\n",
    "`AutoMLForecastingTrainingJobRunOp()`\n",
    "\n",
    "* [Pipeline Component Docs](https://google-cloud-pipeline-components.readthedocs.io/en/google-cloud-pipeline-components-0.1.7/google_cloud_pipeline_components.aiplatform.html)\n",
    "* [Source Code](https://github.com/googleapis/python-aiplatform/blob/e7bf0d83d8bb0849a9bce886c958d13f5cbe5fab/google/cloud/aiplatform/training_jobs.py) search for `class AutoMLForecastingTrainingJob`\n"
   ]
  },
  {
   "cell_type": "code",
   "execution_count": 226,
   "metadata": {},
   "outputs": [],
   "source": [
    "VERSION = 'v11'"
   ]
  },
  {
   "cell_type": "markdown",
   "metadata": {},
   "source": [
    "## Vertex Experiments"
   ]
  },
  {
   "cell_type": "code",
   "execution_count": 227,
   "metadata": {},
   "outputs": [
    {
     "name": "stdout",
     "output_type": "stream",
     "text": [
      "EXPERIMENT_NAME: m5-pipe-cleanup\n",
      "RUN_NAME: run-20230201-123940\n"
     ]
    }
   ],
   "source": [
    "EXPERIMENT_PREFIX = 'm5-pipe-cleanup'                     # custom identifier for organizing experiments\n",
    "EXPERIMENT_NAME=f'{EXPERIMENT_PREFIX}'\n",
    "RUN_NAME = f'run-{time.strftime(\"%Y%m%d-%H%M%S\")}'\n",
    "\n",
    "print(f\"EXPERIMENT_NAME: {EXPERIMENT_NAME}\")\n",
    "print(f\"RUN_NAME: {RUN_NAME}\")"
   ]
  },
  {
   "cell_type": "markdown",
   "metadata": {},
   "source": [
    "## Pipeline vars"
   ]
  },
  {
   "cell_type": "code",
   "execution_count": 228,
   "metadata": {
    "id": "KEVECqX8VRvV"
   },
   "outputs": [
    {
     "name": "stdout",
     "output_type": "stream",
     "text": [
      "PIPELINE_ROOT_PATH: gs://vertex-forecast-22/m5-pipe-cleanup/v11/pipeline_root\n",
      "PIPELINE_NAME: train-m5-pipe-cleanup-v11\n"
     ]
    }
   ],
   "source": [
    "BUCKET_NAME = 'vertex-forecast-22'\n",
    "GCS_BUCKET_URI =f'gs://{BUCKET_NAME}'\n",
    "\n",
    "EXPERIMENT_GCS_DIR = f'gs://{BUCKET_NAME}/{EXPERIMENT_NAME}/{VERSION}'\n",
    "\n",
    "# Stores pipeline executions for each run\n",
    "PIPELINE_ROOT_PATH = f'{EXPERIMENT_GCS_DIR}/pipeline_root'\n",
    "print(f'PIPELINE_ROOT_PATH: {PIPELINE_ROOT_PATH}')\n",
    "\n",
    "PIPELINE_TAG = 'train'\n",
    "PIPELINE_NAME = f'{PIPELINE_TAG}-{EXPERIMENT_NAME}-{VERSION}'.replace('_', '-')\n",
    "print(f\"PIPELINE_NAME: {PIPELINE_NAME}\")"
   ]
  },
  {
   "cell_type": "code",
   "execution_count": 230,
   "metadata": {
    "id": "0w-NnE-X2CNq"
   },
   "outputs": [],
   "source": [
    "from src import (\n",
    "    create_bq_dataset,create_input_table_specs, get_eval_dataset_path_uri,\n",
    "    create_combined_preds_table, create_forecast_input_table_specs, get_predict_table_path,\n",
    "    model_batch_prediction_job, create_combined_preds_forecast_table, get_model_path,\n",
    "    create_final_pred_table, args_generator_op_1\n",
    ")\n",
    "\n",
    "@kfp.v2.dsl.pipeline(\n",
    "  name=PIPELINE_NAME\n",
    ")\n",
    "def pipeline(\n",
    "    vertex_project: str,\n",
    "    location: str,\n",
    "    version: str,\n",
    "    data_source_dataset: str,\n",
    "    eval_destination_dataset: str,\n",
    "    preprocess_dataset_us: str,\n",
    "    locations_table_uri: str,\n",
    "    forecast_locations_table_uri: str,\n",
    "    products_override: str,\n",
    "    products_table_uri: str,\n",
    "    forecast_products_table_uri: str,\n",
    "    activities_override: str,\n",
    "    activities_table_uri: str,\n",
    "    forecast_activities_table_uri: str,\n",
    "    # activities_expected_historical_last_date: str,\n",
    "    forecast_plan_table_uri: str,\n",
    "    time_granularity_unit: str,\n",
    "    time_granularity_quantity: int,\n",
    "    context_window: int,\n",
    "    forecast_horizon: int,\n",
    "    override: str,\n",
    "    gcs_root_dir: str,\n",
    "    batch_predict_explanation_data_sample_size: int,\n",
    "    target_column: str,\n",
    "    generate_explanation: bool,\n",
    "    model_evaluation_flag: str,\n",
    "    forecast_plan_flag: str,\n",
    "    combine_preds_flag: str,\n",
    "    rmse_eval_flag: str,\n",
    "    mape_eval_flag: str,\n",
    "    eval_bq_processed: str,\n",
    "    batch_predict_machine_type: str = \"n1-standard-4\",\n",
    "    batch_predict_instances_format: str = 'bigquery',\n",
    "    batch_predict_predictions_format: str = 'bigquery',\n",
    "    budget_milli_node_hours: int = 16000,\n",
    "    # json_string: str = json.dumps(\n",
    "    #     [\n",
    "    #         {\n",
    "    #             \"model\": rmse_model_op.outputs['model'], \n",
    "    #             \"objective\": \"rmse\", \n",
    "    #             \"display_name\": rmse_model_version,\n",
    "    #         },\n",
    "    #         {\n",
    "    #             \"model\": mape_model_op.outputs['model'],\n",
    "    #             \"objective\": \"mape\", \n",
    "    #             \"display_name\": mape_model_version,\n",
    "    #         }\n",
    "    #     ],\n",
    "    #     sort_keys=True,\n",
    "    # )\n",
    "):\n",
    "    \n",
    "    # create BQ dataset\n",
    "    create_train_dataset_op = (\n",
    "      create_bq_dataset.create_bq_dataset(\n",
    "          project=vertex_project,\n",
    "          vertex_dataset=data_source_dataset,\n",
    "          new_bq_dataset=eval_destination_dataset,\n",
    "          bq_location=location\n",
    "      )\n",
    "    )\n",
    "\n",
    "    # ======================================\n",
    "    # prep train jobs\n",
    "    # ======================================\n",
    "\n",
    "    create_input_table_specs_op = (\n",
    "        create_input_table_specs.create_input_table_specs(\n",
    "            products_table_uri=products_table_uri,\n",
    "            activities_table_uri=activities_table_uri,\n",
    "            locations_table_uri=locations_table_uri,\n",
    "            time_granularity_unit=time_granularity_unit,\n",
    "            time_granularity_quantity=time_granularity_quantity,\n",
    "            # train_data_bq_source=train_data_bq_source,\n",
    "        )\n",
    "        .after(create_train_dataset_op)\n",
    "    )\n",
    "\n",
    "    forecasting_validation_op = (\n",
    "        gcc_aip_forecasting.ForecastingValidationOp(\n",
    "            input_tables=str(create_input_table_specs_op.outputs['input_table_specs']),\n",
    "            validation_theme='FORECASTING_TRAINING',\n",
    "      )\n",
    "    )\n",
    "\n",
    "    forecasting_preprocessing_op = (\n",
    "      gcc_aip_forecasting.ForecastingPreprocessingOp(\n",
    "          project=vertex_project,\n",
    "          input_tables=str(create_input_table_specs_op.outputs['input_table_specs']),\n",
    "          preprocessing_bigquery_dataset=data_source_dataset,\n",
    "      )\n",
    "      .after(forecasting_validation_op)\n",
    "    )\n",
    "\n",
    "    prepare_data_for_train_op = (\n",
    "      gcc_aip_forecasting.ForecastingPrepareDataForTrainOp(\n",
    "          input_tables=(\n",
    "              str(create_input_table_specs_op.outputs['input_table_specs'])\n",
    "          ),\n",
    "          preprocess_metadata=(\n",
    "              forecasting_preprocessing_op.outputs['preprocess_metadata']\n",
    "          ),\n",
    "          model_feature_columns=(\n",
    "              str(create_input_table_specs_op.outputs['model_feature_columns'])\n",
    "          )\n",
    "      )\n",
    "    )\n",
    "\n",
    "    time_series_dataset_create_op = (\n",
    "      gcc_aip.TimeSeriesDatasetCreateOp(\n",
    "          display_name=f'train_ds_full_m5_{VERSION}',\n",
    "          bq_source=prepare_data_for_train_op.outputs['preprocess_bq_uri'],\n",
    "          project=vertex_project,\n",
    "          location=location,\n",
    "      )\n",
    "    )\n",
    "\n",
    "    mape_model_version = f'{VERSION}-seq2seq-mape'\n",
    "    rmse_model_version = f'{VERSION}-seq2seq-rmse' \n",
    "\n",
    "    get_eval_dataset_path_uri_op = (\n",
    "      get_eval_dataset_path_uri.get_eval_dataset_path_uri(\n",
    "          project=vertex_project,\n",
    "          eval_bq_dataset=create_train_dataset_op.outputs['bq_dataset_name'],\n",
    "          model_1_table=mape_model_version,\n",
    "          model_2_table=rmse_model_version,\n",
    "      )\n",
    "    )\n",
    "\n",
    "    # ======================================\n",
    "    # train jobs\n",
    "    # ======================================\n",
    "\n",
    "    # mape_model_op = gcc_aip_forecasting.ForecastingTrainingWithExperimentsOp(\n",
    "    mape_model_op = (\n",
    "      gcc_aip.AutoMLForecastingTrainingJobRunOp(\n",
    "          display_name=f'train-{mape_model_version}',\n",
    "          model_display_name=mape_model_version,\n",
    "          model_labels={'model_override' : 'se2seq-hier'}, # model_override : se2seq-hier, tft\n",
    "          # model_labels={'model_type' : 'l2l'},\n",
    "          dataset=time_series_dataset_create_op.outputs['dataset'],\n",
    "          context_window=context_window,\n",
    "          forecast_horizon=forecast_horizon,\n",
    "          budget_milli_node_hours=budget_milli_node_hours,\n",
    "          project=vertex_project,\n",
    "          location=location,\n",
    "          export_evaluated_data_items=True,\n",
    "          export_evaluated_data_items_bigquery_destination_uri=get_eval_dataset_path_uri_op.outputs['model_1_bigquery_table_uri'], # must be format:``bq://<project_id>:<dataset_id>:<table>``\n",
    "          export_evaluated_data_items_override_destination=True,\n",
    "          target_column=prepare_data_for_train_op.outputs['target_column'],\n",
    "          time_column=prepare_data_for_train_op.outputs['time_column'],\n",
    "          time_series_identifier_column=prepare_data_for_train_op.outputs['time_series_identifier_column'],\n",
    "          time_series_attribute_columns=prepare_data_for_train_op.outputs['time_series_attribute_columns'],\n",
    "          unavailable_at_forecast_columns=prepare_data_for_train_op.outputs['unavailable_at_forecast_columns'],\n",
    "          available_at_forecast_columns=prepare_data_for_train_op.outputs['available_at_forecast_columns'],\n",
    "          data_granularity_unit=prepare_data_for_train_op.outputs['data_granularity_unit'],\n",
    "          data_granularity_count=prepare_data_for_train_op.outputs['data_granularity_count'],\n",
    "          predefined_split_column_name= '', # prepare_data_for_train_op.outputs['predefined_split_column'],\n",
    "          column_transformations=prepare_data_for_train_op.outputs['column_transformations'],\n",
    "          weight_column=prepare_data_for_train_op.outputs['weight_column'],\n",
    "          optimization_objective='minimize-mape',\n",
    "          additional_experiments={\n",
    "              'forecasting_model_type_override': 'seq2seq',\n",
    "              'forecasting_hierarchical_group_column_names':'dept_id, cat_id'},\n",
    "      )\n",
    "    )\n",
    "\n",
    "    # rmse_model_op = gcc_aip_forecasting.ForecastingTrainingWithExperimentsOp(\n",
    "    rmse_model_op = (\n",
    "      gcc_aip.AutoMLForecastingTrainingJobRunOp(\n",
    "          display_name=f'train-{rmse_model_version}',\n",
    "          model_display_name=rmse_model_version,\n",
    "          model_labels={'model_override' : 'se2seq-hier'}, # model_override : se2seq-hier, tft\n",
    "          # model_labels={'model_type' : 'l2l'},\n",
    "          dataset=time_series_dataset_create_op.outputs['dataset'],\n",
    "          context_window=context_window,\n",
    "          forecast_horizon=forecast_horizon,\n",
    "          budget_milli_node_hours=budget_milli_node_hours,\n",
    "          project=vertex_project,\n",
    "          location=location,\n",
    "          export_evaluated_data_items=True,\n",
    "          export_evaluated_data_items_bigquery_destination_uri=get_eval_dataset_path_uri_op.outputs['model_2_bigquery_table_uri'],\n",
    "          export_evaluated_data_items_override_destination=True,\n",
    "          target_column=prepare_data_for_train_op.outputs['target_column'],\n",
    "          time_column=prepare_data_for_train_op.outputs['time_column'],\n",
    "          time_series_identifier_column=prepare_data_for_train_op.outputs['time_series_identifier_column'],\n",
    "          time_series_attribute_columns=prepare_data_for_train_op.outputs['time_series_attribute_columns'],\n",
    "          unavailable_at_forecast_columns=prepare_data_for_train_op.outputs['unavailable_at_forecast_columns'],\n",
    "          available_at_forecast_columns=prepare_data_for_train_op.outputs['available_at_forecast_columns'],\n",
    "          data_granularity_unit=prepare_data_for_train_op.outputs['data_granularity_unit'],\n",
    "          data_granularity_count=prepare_data_for_train_op.outputs['data_granularity_count'],\n",
    "          predefined_split_column_name= '', # prepare_data_for_train_op.outputs['predefined_split_column'],\n",
    "          column_transformations=prepare_data_for_train_op.outputs['column_transformations'],\n",
    "          weight_column=prepare_data_for_train_op.outputs['weight_column'],\n",
    "          optimization_objective='minimize-rmse',\n",
    "          additional_experiments={\n",
    "              'forecasting_model_type_override': 'seq2seq',\n",
    "              'forecasting_hierarchical_group_column_names':'dept_id, cat_id'},\n",
    "      )\n",
    "    )\n",
    "    \n",
    "    # ======================================\n",
    "    # combine model predictions\n",
    "    # ======================================\n",
    "    with kfp.v2.dsl.Condition(combine_preds_flag == \"True\", name=\"combine-preds\"):\n",
    "        \n",
    "        create_combined_preds_table_op = (\n",
    "          create_combined_preds_table.create_combined_preds_table(\n",
    "              project=vertex_project,\n",
    "              dataset=get_eval_dataset_path_uri_op.outputs['eval_bq_dataset'],\n",
    "              bq_location=location,\n",
    "              model_1_eval_table_uri=get_eval_dataset_path_uri_op.outputs['model_1_bigquery_table_uri'],\n",
    "              model_2_eval_table_uri=get_eval_dataset_path_uri_op.outputs['model_2_bigquery_table_uri'],\n",
    "              model_1_path=mape_model_op.outputs['model'],\n",
    "              model_2_path=rmse_model_op.outputs['model'],\n",
    "          )\n",
    "        )\n",
    "\n",
    "        create_final_preds_table_op = (\n",
    "          create_final_pred_table.create_final_pred_table(\n",
    "              project=vertex_project,\n",
    "              dataset=create_combined_preds_table_op.outputs['eval_bq_dataset'],\n",
    "              bq_location=location,\n",
    "              combined_preds_table_uri=create_combined_preds_table_op.outputs['combined_preds_table_uri'],\n",
    "              override=override,\n",
    "          )\n",
    "        )\n",
    "    \n",
    "    # ======================================\n",
    "    # Model Eval Workflow\n",
    "    # ======================================\n",
    "    with kfp.v2.dsl.Condition(model_evaluation_flag == \"True\", name=\"evaluate-models\"):\n",
    "        \n",
    "        from google_cloud_pipeline_components.aiplatform import ModelBatchPredictOp\n",
    "        from google_cloud_pipeline_components.experimental.evaluation import (\n",
    "            EvaluationDataSamplerOp, GetVertexModelOp,\n",
    "            ModelEvaluationForecastingOp, ModelEvaluationFeatureAttributionOp,\n",
    "            ModelImportEvaluationOp, TargetFieldDataRemoverOp)\n",
    "\n",
    "        # Run Data-sampling task\n",
    "        data_sampler_task = (\n",
    "            EvaluationDataSamplerOp(\n",
    "                project=vertex_project,\n",
    "                location=location,\n",
    "                root_dir=gcs_root_dir,\n",
    "                bigquery_source_uri=eval_bq_processed, #activities_table_uri,\n",
    "                instances_format=batch_predict_instances_format,\n",
    "                sample_size=batch_predict_explanation_data_sample_size,\n",
    "            )\n",
    "        )\n",
    "\n",
    "        # Run Target field-removal task\n",
    "        target_remover_task = (\n",
    "            TargetFieldDataRemoverOp(\n",
    "                project=vertex_project,\n",
    "                location=location,\n",
    "                root_dir=gcs_root_dir,\n",
    "                bigquery_source_uri=data_sampler_task.outputs[\"bigquery_output_table\"],\n",
    "                instances_format=batch_predict_instances_format,\n",
    "                target_field_name=target_column,\n",
    "            )\n",
    "        )\n",
    "\n",
    "        args_generator = (\n",
    "            args_generator_op_1.args_generator_op_1(\n",
    "                project=vertex_project,\n",
    "                location=location,\n",
    "                rmse_model=rmse_model_op.outputs['model'],\n",
    "                rmse_display_name=rmse_model_version,\n",
    "                mape_model=mape_model_op.outputs['model'],\n",
    "                mape_display_name=mape_model_version,\n",
    "            )\n",
    "        )\n",
    "        \n",
    "        # test_list = [\n",
    "        #     {\n",
    "        #         \"model\": rmse_model_op.outputs['model'], \n",
    "        #         \"objective\": \"rmse\", \n",
    "        #         \"display_name\": rmse_model_version,\n",
    "        #     },\n",
    "        #     {\n",
    "        #         \"model\": mape_model_op.outputs['model'],\n",
    "        #         \"objective\": \"mape\", \n",
    "        #         \"display_name\": mape_model_version,\n",
    "        #     }\n",
    "        # ]\n",
    "        # Evaluation for-loop\n",
    "        # with kfp.v2.dsl.ParallelFor(args_generator.output) as item:\n",
    "            # item.set_display_name(str(args_generator.output))\n",
    "            \n",
    "        with kfp.v2.dsl.Condition(rmse_eval_flag == \"True\", name=\"eval-rmse\"):\n",
    "            \n",
    "            # here\n",
    "            rmse_create_model_eval_ds_op = (\n",
    "                create_bq_dataset.create_bq_dataset(\n",
    "                    project=vertex_project,\n",
    "                    vertex_dataset=data_source_dataset,\n",
    "                    new_bq_dataset=f'{eval_destination_dataset}_rmse',\n",
    "                    bq_location=location\n",
    "                )\n",
    "            )\n",
    "            \n",
    "            # Run Batch Explanations\n",
    "            rmse_batch_explain_task = (\n",
    "                ModelBatchPredictOp(\n",
    "                    project=vertex_project,\n",
    "                    location=location,\n",
    "                    model=rmse_model_op.outputs['model'],\n",
    "                    job_display_name=f\"bpj-eval-rmse\",\n",
    "                    bigquery_source_input_uri=target_remover_task.outputs[\"bigquery_output_table\"],\n",
    "                    instances_format=batch_predict_instances_format,\n",
    "                    predictions_format=batch_predict_predictions_format,\n",
    "                    bigquery_destination_output_uri=f'bq://{vertex_project}', \n",
    "                    machine_type=batch_predict_machine_type,\n",
    "                    # Set the explanation parameters\n",
    "                    generate_explanation=generate_explanation,\n",
    "                    # explanation_parameters=batch_predict_explanation_parameters,\n",
    "                    # explanation_metadata=batch_predict_explanation_metadata,\n",
    "                )\n",
    "            )\n",
    "            \n",
    "            # Run evaluation based on prediction type and feature attribution component.\n",
    "            # After, import the model evaluations to the Vertex model.\n",
    "            rmse_eval_task = (\n",
    "                ModelEvaluationForecastingOp(\n",
    "                    project=vertex_project,\n",
    "                    location=location,\n",
    "                    root_dir=f\"{gcs_root_dir}/rmse-staging\",\n",
    "                    target_field_name=target_column,\n",
    "                    predictions_bigquery_source=rmse_batch_explain_task.outputs[\"bigquery_output_table\"],\n",
    "                    predictions_format=batch_predict_predictions_format,\n",
    "                    model=rmse_model_op.outputs['model'],\n",
    "                    # prediction_score_column=\"prediction.scores\",\n",
    "                    forecasting_type=\"point\",\n",
    "                    ground_truth_bigquery_source=data_sampler_task.outputs[\"bigquery_output_table\"],\n",
    "                    ground_truth_format=batch_predict_instances_format,\n",
    "                )\n",
    "            )\n",
    "            \n",
    "            # Import the evaluation results to the model resource\n",
    "            rmse_model_import_task = (\n",
    "                ModelImportEvaluationOp(\n",
    "                    problem_type=\"forecasting\",\n",
    "                    forecasting_metrics=rmse_eval_task.outputs[\"evaluation_metrics\"],\n",
    "                    # feature_attributions=feature_attribution_task.outputs[\"feature_attributions\"],\n",
    "                    model=rmse_model_op.outputs['model'],\n",
    "                )\n",
    "            )\n",
    "            \n",
    "            \n",
    "            # here\n",
    "\n",
    "        with kfp.v2.dsl.Condition(mape_eval_flag == \"True\", name=\"eval-mape\"):\n",
    "            \n",
    "            # here\n",
    "            # get_model_task = GetVertexModelOp(model_resource_name=item.model)\n",
    "\n",
    "            mape_create_model_eval_ds_op = (\n",
    "                create_bq_dataset.create_bq_dataset(\n",
    "                    project=vertex_project,\n",
    "                    vertex_dataset=data_source_dataset,\n",
    "                    new_bq_dataset=f'{eval_destination_dataset}_mape',\n",
    "                    bq_location=location\n",
    "                )\n",
    "            )\n",
    "\n",
    "            # Run Batch Explanations\n",
    "            mape_batch_explain_task = (\n",
    "                ModelBatchPredictOp(\n",
    "                    project=vertex_project,\n",
    "                    location=location,\n",
    "                    model=mape_model_op.outputs['model'],\n",
    "                    job_display_name=f\"bpj-eval-mape\",\n",
    "                    bigquery_source_input_uri=target_remover_task.outputs[\"bigquery_output_table\"],\n",
    "                    instances_format=batch_predict_instances_format,\n",
    "                    predictions_format=batch_predict_predictions_format,\n",
    "                    bigquery_destination_output_uri=f'bq://{vertex_project}', # create_model_eval_ds_op.outputs['bq_dataset_uri'], # f\"bq://{PROJECT_ID}.{table_ref.dataset_id}\", # create_model_eval_ds_op.outputs['bq_dataset_uri'],\n",
    "                    machine_type=batch_predict_machine_type,\n",
    "                    # Set the explanation parameters\n",
    "                    generate_explanation=generate_explanation,\n",
    "                    # explanation_parameters=batch_predict_explanation_parameters,\n",
    "                    # explanation_metadata=batch_predict_explanation_metadata,\n",
    "                )\n",
    "            )\n",
    "\n",
    "            # Run evaluation based on prediction type and feature attribution component.\n",
    "            # After, import the model evaluations to the Vertex model.\n",
    "            mape_eval_task = (\n",
    "                ModelEvaluationForecastingOp(\n",
    "                    project=vertex_project,\n",
    "                    location=location,\n",
    "                    root_dir=f\"{gcs_root_dir}/mape-staging\",\n",
    "                    target_field_name=target_column,\n",
    "                    predictions_bigquery_source=mape_batch_explain_task.outputs[\"bigquery_output_table\"],\n",
    "                    predictions_format='bigquery', # batch_predict_predictions_format,\n",
    "                    # predictions_gcs_source = mape_batch_explain_task.outputs['gcs_output_directory'],\n",
    "                    # predictions_format='csv',\n",
    "                    # predictions_format=batch_predict_predictions_format,\n",
    "                    model=mape_model_op.outputs['model'],\n",
    "                    # prediction_score_column=\"prediction.scores\",\n",
    "                    forecasting_type=\"point\",\n",
    "                    ground_truth_bigquery_source=data_sampler_task.outputs[\"bigquery_output_table\"],\n",
    "                    ground_truth_format=batch_predict_instances_format,\n",
    "                )\n",
    "            )\n",
    "            \n",
    "            # Import the evaluation results to the model resource\n",
    "            mape_model_import_task = (\n",
    "                ModelImportEvaluationOp(\n",
    "                    problem_type=\"forecasting\",\n",
    "                    forecasting_metrics=mape_eval_task.outputs[\"evaluation_metrics\"],\n",
    "                    # feature_attributions=feature_attribution_task.outputs[\"feature_attributions\"],\n",
    "                    model=mape_model_op.outputs['model'],\n",
    "                )\n",
    "            )\n",
    "\n",
    "        \n",
    "    # ======================================\n",
    "    # Plan Forecast Workflow\n",
    "    # ======================================\n",
    "    with kfp.v2.dsl.Condition(forecast_plan_flag == \"True\", name=\"forecast-plan\"):\n",
    "\n",
    "        create_forecast_dataset_op = (\n",
    "          create_bq_dataset.create_bq_dataset(\n",
    "              project=vertex_project,\n",
    "              vertex_dataset=data_source_dataset,\n",
    "              new_bq_dataset=preprocess_dataset_us,\n",
    "              bq_location=location\n",
    "          )\n",
    "        )\n",
    "\n",
    "        create_forecast_input_table_specs_op = (\n",
    "          create_forecast_input_table_specs.create_forecast_input_table_specs(\n",
    "              project=vertex_project,\n",
    "              forecast_products_table_uri=forecast_products_table_uri,\n",
    "              forecast_activities_table_uri=forecast_activities_table_uri,\n",
    "              forecast_locations_table_uri=forecast_locations_table_uri,\n",
    "              forecast_plan_table_uri=forecast_plan_table_uri,\n",
    "              time_granularity_unit=time_granularity_unit,\n",
    "              time_granularity_quantity=time_granularity_quantity,\n",
    "          )\n",
    "          .after(create_forecast_dataset_op)\n",
    "        )\n",
    "\n",
    "        forecast_validation_op = (\n",
    "          gcc_aip_forecasting.ForecastingValidationOp(\n",
    "              input_tables=str(create_forecast_input_table_specs_op.outputs['forecast_input_table_specs']),\n",
    "              validation_theme='FORECASTING_PREDICTION',\n",
    "          )\n",
    "        )\n",
    "\n",
    "        forecast_preprocess_op = (\n",
    "          gcc_aip_forecasting.ForecastingPreprocessingOp(\n",
    "              project=vertex_project,\n",
    "              input_tables=str(create_forecast_input_table_specs_op.outputs['forecast_input_table_specs']),\n",
    "              preprocessing_bigquery_dataset=create_forecast_dataset_op.outputs['bq_dataset_name'], # TODO: Table needs to be in 'US'\n",
    "          )\n",
    "          .after(forecast_validation_op)\n",
    "        )\n",
    "\n",
    "        get_predict_table_path_op = (\n",
    "          get_predict_table_path.get_predict_table_path(\n",
    "              predict_processed_table=str(forecast_preprocess_op.outputs['preprocess_metadata']),\n",
    "          )\n",
    "        )\n",
    "\n",
    "\n",
    "        model_1_predict_job_op = (\n",
    "          model_batch_prediction_job.model_batch_prediction_job(\n",
    "              project=vertex_project,\n",
    "              location=location,\n",
    "              eval_bq_dataset=eval_destination_dataset,\n",
    "              bigquery_source=get_predict_table_path_op.outputs['preprocess_bq_uri'],\n",
    "              model_name=mape_model_version,\n",
    "              model_1_path=mape_model_op.outputs['model'],\n",
    "          )\n",
    "        )\n",
    "\n",
    "        model_2_predict_job_op = (\n",
    "          model_batch_prediction_job.model_batch_prediction_job(\n",
    "              project=vertex_project,\n",
    "              location=location,\n",
    "              eval_bq_dataset=eval_destination_dataset,\n",
    "              bigquery_source=get_predict_table_path_op.outputs['preprocess_bq_uri'],\n",
    "              model_name=rmse_model_version,\n",
    "              model_1_path=rmse_model_op.outputs['model'],\n",
    "          )\n",
    "        )\n",
    "\n",
    "        create_combined_preds_forecast_table_op = (\n",
    "          create_combined_preds_forecast_table.create_combined_preds_forecast_table(\n",
    "              project=vertex_project,\n",
    "              dataset=eval_destination_dataset,\n",
    "              model_1_pred_table_uri=model_1_predict_job_op.outputs['batch_predict_output_bq_uri'],\n",
    "              model_2_pred_table_uri=model_2_predict_job_op.outputs['batch_predict_output_bq_uri'],\n",
    "              override=override,\n",
    "          )\n",
    "        )"
   ]
  },
  {
   "cell_type": "markdown",
   "metadata": {
    "id": "TAS-bBfhj_q9"
   },
   "source": [
    "Compile the pipeline"
   ]
  },
  {
   "cell_type": "code",
   "execution_count": 231,
   "metadata": {
    "id": "8baYwrspkB3U"
   },
   "outputs": [],
   "source": [
    "PIPELINE_JSON_SPEC_LOCAL = \"custom_pipeline_spec.json\"\n",
    "\n",
    "! rm -f $PIPELINE_JSON_SPEC_LOCAL\n",
    "\n",
    "kfp.v2.compiler.Compiler().compile(\n",
    "    pipeline_func=pipeline, \n",
    "    package_path=PIPELINE_JSON_SPEC_LOCAL,\n",
    ")"
   ]
  },
  {
   "cell_type": "code",
   "execution_count": 232,
   "metadata": {},
   "outputs": [
    {
     "name": "stdout",
     "output_type": "stream",
     "text": [
      "PIPELINES_FILEPATH: gs://vertex-forecast-22/m5-pipe-cleanup/v11/pipeline_root/pipeline_spec.json\n",
      "Copying file://custom_pipeline_spec.json [Content-Type=application/json]...\n",
      "/ [1 files][206.0 KiB/206.0 KiB]                                                \n",
      "Operation completed over 1 objects/206.0 KiB.                                    \n",
      "Copying file://src/args_generator_op_1.py [Content-Type=text/x-python]...\n",
      "Copying file://src/create_combined_preds_forecast_table.py [Content-Type=text/x-python]...\n",
      "Copying file://src/create_bq_dataset.py [Content-Type=text/x-python]...\n",
      "Copying file://src/create_combined_preds_table.py [Content-Type=text/x-python]...\n",
      "Copying file://src/create_final_pred_table.py [Content-Type=text/x-python]...   \n",
      "Copying file://src/create_forecast_input_table_specs.py [Content-Type=text/x-python]...\n",
      "Copying file://src/create_input_table_specs.py [Content-Type=text/x-python]...  \n",
      "Copying file://src/get_eval_dataset_path_uri.py [Content-Type=text/x-python]... \n",
      "Copying file://src/get_model_path.py [Content-Type=text/x-python]...            \n",
      "Copying file://src/get_predict_table_path.py [Content-Type=text/x-python]...    \n",
      "Copying file://src/model_batch_prediction_job.py [Content-Type=text/x-python]...\n",
      "/ [11/11 files][ 17.9 KiB/ 17.9 KiB] 100% Done                                  \n",
      "Operation completed over 11 objects/17.9 KiB.                                    \n"
     ]
    }
   ],
   "source": [
    "PIPELINES_FILEPATH = f'{PIPELINE_ROOT_PATH}/pipeline_spec.json'\n",
    "print(\"PIPELINES_FILEPATH:\", PIPELINES_FILEPATH)\n",
    "\n",
    "# copy pipeline spec to gcs path\n",
    "!gsutil cp $PIPELINE_JSON_SPEC_LOCAL $PIPELINES_FILEPATH\n",
    "\n",
    "# copy src code to gcs path\n",
    "! gsutil -m cp -r $REPO_DOCKER_PATH_PREFIX/*.py $PIPELINE_ROOT_PATH/pipe-src\n",
    "\n",
    "# ! gsutil ls $PIPELINE_ROOT_PATH"
   ]
  },
  {
   "cell_type": "code",
   "execution_count": 233,
   "metadata": {},
   "outputs": [
    {
     "name": "stdout",
     "output_type": "stream",
     "text": [
      "gs://vertex-forecast-22/m5-pipe-cleanup/v11/pipeline_root/pipe-src/args_generator_op.py\n",
      "gs://vertex-forecast-22/m5-pipe-cleanup/v11/pipeline_root/pipe-src/args_generator_op_1.py\n",
      "gs://vertex-forecast-22/m5-pipe-cleanup/v11/pipeline_root/pipe-src/create_bq_dataset.py\n",
      "gs://vertex-forecast-22/m5-pipe-cleanup/v11/pipeline_root/pipe-src/create_combined_preds_forecast_table.py\n",
      "gs://vertex-forecast-22/m5-pipe-cleanup/v11/pipeline_root/pipe-src/create_combined_preds_table.py\n",
      "gs://vertex-forecast-22/m5-pipe-cleanup/v11/pipeline_root/pipe-src/create_final_pred_table.py\n",
      "gs://vertex-forecast-22/m5-pipe-cleanup/v11/pipeline_root/pipe-src/create_forecast_input_table_specs.py\n",
      "gs://vertex-forecast-22/m5-pipe-cleanup/v11/pipeline_root/pipe-src/create_input_table_specs.py\n",
      "gs://vertex-forecast-22/m5-pipe-cleanup/v11/pipeline_root/pipe-src/get_eval_dataset_path_uri.py\n",
      "gs://vertex-forecast-22/m5-pipe-cleanup/v11/pipeline_root/pipe-src/get_model_path.py\n",
      "gs://vertex-forecast-22/m5-pipe-cleanup/v11/pipeline_root/pipe-src/get_predict_table_path.py\n",
      "gs://vertex-forecast-22/m5-pipe-cleanup/v11/pipeline_root/pipe-src/model_batch_prediction_job.py\n"
     ]
    }
   ],
   "source": [
    "! gsutil ls $PIPELINE_ROOT_PATH/pipe-src"
   ]
  },
  {
   "cell_type": "markdown",
   "metadata": {
    "id": "jxzuIrmmkS6S"
   },
   "source": [
    "Specify pipeline parameters"
   ]
  },
  {
   "cell_type": "code",
   "execution_count": 234,
   "metadata": {
    "colab": {
     "base_uri": "https://localhost:8080/",
     "height": 35
    },
    "id": "3kHYmxRXfUzd",
    "outputId": "1f09a735-b6f7-4193-e633-55fda0e50c9d"
   },
   "outputs": [
    {
     "data": {
      "text/plain": [
       "'v11'"
      ]
     },
     "execution_count": 234,
     "metadata": {},
     "output_type": "execute_result"
    }
   ],
   "source": [
    "VERSION"
   ]
  },
  {
   "cell_type": "code",
   "execution_count": 235,
   "metadata": {
    "id": "Ba4Ch5_FkWtr"
   },
   "outputs": [],
   "source": [
    "# ==========================\n",
    "# project vars (if not set)\n",
    "# ==========================\n",
    "# PROJECT_ID = 'hybrid-vertex'\n",
    "# LOCATION = 'us-central1'\n",
    "# SERVICE_ACCOUNT = 'XXXXXXX'\n",
    "\n",
    "assert LOCATION, 'the value for this variable must be set'\n",
    "assert PROJECT_ID, 'the value for this variable must be set'\n",
    "\n",
    "# ==========================\n",
    "# BigQuery params\n",
    "# ==========================\n",
    "OVERRIDE = 'True'                                                  # replace BQ eval tables?\n",
    "\n",
    "# BQ dataset for source data source\n",
    "DATA_SOURCE_DATASET = 'm5_us'\n",
    "\n",
    "# BQ dataset for eval tables\n",
    "EVAL_DESTINATION_DATASET = f'{VERSION}_eval'\n",
    "PREPROCESS_DATASET_US = 'm5_preprocessing_us'                      # TODO: create this in BQ region \"US\"; dont need to create for different pipeline runs\n",
    "EVAL_BQ_PROCESSED = 'bq://hybrid-vertex.m5_us.preprocess_2023_02_01T05_13_15_432Z'\n",
    "\n",
    "# training BQ tables\n",
    "PRODUCTS_TABLE = 'hybrid-vertex.m5_us.products_2'                  # TODO:\n",
    "LOCATIONS_TABLE = 'hybrid-vertex.m5_us.locations_2'                # TODO:\n",
    "# ACTIVITIES_TABLE = 'hybrid-vertex.m5_us.activity_all_jt_2'\n",
    "ACTIVITIES_TABLE = 'hybrid-vertex.m5_us.activity_small20k'         # TODO:\n",
    "# BATCH_PREDICT_TABLE = 'hybrid-vertex.m5_comp.test_split'         # TODO:\n",
    "\n",
    "assert PRODUCTS_TABLE, 'the value for this variable must be set'\n",
    "assert LOCATIONS_TABLE, 'the value for this variable must be set'\n",
    "assert ACTIVITIES_TABLE, 'the value for this variable must be set'\n",
    "# assert BATCH_PREDICT_TABLE, 'the value for this variable must be set'\n",
    "\n",
    "# forecast BQ tables\n",
    "FORECAST_PRODUCTS_TABLE = 'hybrid-vertex.m5_us.products_2'\n",
    "FORECAST_PLAN_TABLE = 'hybrid-vertex.m5_us.plan_table_all_jt_2'\n",
    "FORECAST_ACTIVITIES_TABLE = 'hybrid-vertex.m5_us.activity_all_jt_2'\n",
    "FORECAST_LOCATIONS_TABLE = 'hybrid-vertex.m5_us.locations_2'\n",
    "\n",
    "assert FORECAST_PRODUCTS_TABLE, 'the value for this variable must be set'\n",
    "assert FORECAST_PLAN_TABLE, 'the value for this variable must be set'\n",
    "assert FORECAST_ACTIVITIES_TABLE, 'the value for this variable must be set'\n",
    "assert FORECAST_LOCATIONS_TABLE, 'the value for this variable must be set'\n",
    "\n",
    "# ==========================\n",
    "# Vertex Forecast Config\n",
    "# ==========================\n",
    "HISTORY_WINDOW_n = 7                                             # TODO: {type: 'integer'} # context_window\n",
    "FORECAST_HORIZON = 7                                             # TODO: {type: 'integer'}\n",
    "BUDGET_MILLI_NODE_HOURS = 1000  # 16000\n",
    "\n",
    "# Max date in the activities/sales table\n",
    "# ACTIVITIES_EXPECTED_HISTORICAL_LAST_DATE = 'xxxx' #  {type: 'string'}\n",
    "# PREDICTED_ON_DATETIME = 'xxx' # not used for POC, but likely needed for production\n",
    "\n",
    "assert HISTORY_WINDOW_n, 'the value for this variable must be set'\n",
    "assert FORECAST_HORIZON, 'the value for this variable must be set'\n",
    "# assert ACTIVITIES_EXPECTED_HISTORICAL_LAST_DATE, 'the value for this variable must be set'"
   ]
  },
  {
   "cell_type": "markdown",
   "metadata": {},
   "source": [
    "# Submit pipeline"
   ]
  },
  {
   "cell_type": "markdown",
   "metadata": {
    "id": "dp1PeELskIkD"
   },
   "source": [
    "Submit pipeline run"
   ]
  },
  {
   "cell_type": "code",
   "execution_count": 236,
   "metadata": {
    "id": "uZj3xDoTZObz"
   },
   "outputs": [],
   "source": [
    "overwrite = True # True creates new pipeline instance for execution"
   ]
  },
  {
   "cell_type": "code",
   "execution_count": 237,
   "metadata": {
    "colab": {
     "base_uri": "https://localhost:8080/",
     "height": 34
    },
    "id": "MR0Zr-a1kFrJ",
    "outputId": "1a3646b7-fd68-4130-91c7-8b45883856ff"
   },
   "outputs": [
    {
     "name": "stdout",
     "output_type": "stream",
     "text": [
      "Creating PipelineJob\n",
      "PipelineJob created. Resource name: projects/934903580331/locations/us-central1/pipelineJobs/train-m5-pipe-cleanup-v11-20230201124116\n",
      "To use this PipelineJob in another session:\n",
      "pipeline_job = aiplatform.PipelineJob.get('projects/934903580331/locations/us-central1/pipelineJobs/train-m5-pipe-cleanup-v11-20230201124116')\n",
      "View Pipeline Job:\n",
      "https://console.cloud.google.com/vertex-ai/locations/us-central1/pipelines/runs/train-m5-pipe-cleanup-v11-20230201124116?project=934903580331\n"
     ]
    }
   ],
   "source": [
    "vpc_network_name = 'ucaip-haystack-vpc-network'\n",
    "# SERVICE_ACCOUNT = '934903580331-compute@developer.gserviceaccount.com'\n",
    "SERVICE_ACCOUNT = 'notebooksa@hybrid-vertex.iam.gserviceaccount.com'\n",
    "\n",
    "job = vertex_ai.PipelineJob(\n",
    "    display_name=PIPELINE_NAME,\n",
    "    template_path=PIPELINES_FILEPATH,\n",
    "    pipeline_root=f'{PIPELINE_ROOT_PATH}',\n",
    "    failure_policy='fast', # slow | fast\n",
    "    # enable_caching=False,\n",
    "    parameter_values={\n",
    "        'vertex_project': PROJECT_ID,\n",
    "        'location': LOCATION,\n",
    "        'version': VERSION,\n",
    "        'data_source_dataset': DATA_SOURCE_DATASET,\n",
    "        'eval_destination_dataset': EVAL_DESTINATION_DATASET,\n",
    "        'preprocess_dataset_us': PREPROCESS_DATASET_US,\n",
    "        'products_override': 'False',\n",
    "        'products_table_uri': f'bq://{PRODUCTS_TABLE}',\n",
    "        'forecast_products_table_uri': f'bq://{FORECAST_PRODUCTS_TABLE}',\n",
    "        'activities_override': 'False',\n",
    "        'activities_table_uri': f'bq://{ACTIVITIES_TABLE}',\n",
    "        'forecast_activities_table_uri': f'bq://{FORECAST_ACTIVITIES_TABLE}',\n",
    "        # 'activities_expected_historical_last_date': ACTIVITIES_EXPECTED_HISTORICAL_LAST_DATE,\n",
    "        # 'predicted_on_date': PREDICTED_ON_DATETIME,\n",
    "        'forecast_plan_table_uri': f'bq://{FORECAST_PLAN_TABLE}',\n",
    "        'locations_table_uri': f'bq://{LOCATIONS_TABLE}',\n",
    "        'forecast_locations_table_uri': f'bq://{FORECAST_LOCATIONS_TABLE}',\n",
    "        'time_granularity_unit': 'DAY',\n",
    "        'time_granularity_quantity': 1,\n",
    "        'context_window': HISTORY_WINDOW_n,\n",
    "        'forecast_horizon': FORECAST_HORIZON,\n",
    "        'override': OVERRIDE,\n",
    "        'budget_milli_node_hours': BUDGET_MILLI_NODE_HOURS,\n",
    "        'gcs_root_dir': EXPERIMENT_GCS_DIR,\n",
    "        \"batch_predict_explanation_data_sample_size\": 1000,\n",
    "        'target_column': \"gross_quantity\",\n",
    "        \"generate_explanation\": False, # bool\n",
    "        \"batch_predict_machine_type\": \"n1-standard-4\",\n",
    "        \"batch_predict_instances_format\": 'bigquery',\n",
    "        \"batch_predict_predictions_format\": 'bigquery',\n",
    "        \"combine_preds_flag\": \"True\",\n",
    "        \"model_evaluation_flag\": \"True\",\n",
    "        \"forecast_plan_flag\": \"False\",\n",
    "        \"rmse_eval_flag\": \"True\",\n",
    "        \"mape_eval_flag\": \"True\",\n",
    "        \"eval_bq_processed\": EVAL_BQ_PROCESSED,\n",
    "    },\n",
    ")\n",
    "\n",
    "job.run(\n",
    "    sync=False,\n",
    "    service_account=SERVICE_ACCOUNT,\n",
    "    # network=f'projects/{PROJECT_NUM}/global/networks/{vpc_network_name}'\n",
    ")"
   ]
  },
  {
   "cell_type": "markdown",
   "metadata": {
    "id": "k00P4rBLmR-p"
   },
   "source": [
    "# TODO\n",
    "\n",
    "> code snippets for model eval enhancements"
   ]
  },
  {
   "cell_type": "code",
   "execution_count": 238,
   "metadata": {},
   "outputs": [
    {
     "name": "stdout",
     "output_type": "stream",
     "text": [
      "PipelineJob projects/934903580331/locations/us-central1/pipelineJobs/train-m5-pipe-cleanup-v11-20230201124116 current state:\n",
      "PipelineState.PIPELINE_STATE_RUNNING\n",
      "PipelineJob projects/934903580331/locations/us-central1/pipelineJobs/train-m5-pipe-cleanup-v11-20230201124116 current state:\n",
      "PipelineState.PIPELINE_STATE_RUNNING\n",
      "PipelineJob projects/934903580331/locations/us-central1/pipelineJobs/train-m5-pipe-cleanup-v11-20230201124116 current state:\n",
      "PipelineState.PIPELINE_STATE_RUNNING\n",
      "PipelineJob projects/934903580331/locations/us-central1/pipelineJobs/train-m5-pipe-cleanup-v11-20230201124116 current state:\n",
      "PipelineState.PIPELINE_STATE_RUNNING\n",
      "PipelineJob projects/934903580331/locations/us-central1/pipelineJobs/train-m5-pipe-cleanup-v11-20230201124116 current state:\n",
      "PipelineState.PIPELINE_STATE_RUNNING\n",
      "PipelineJob projects/934903580331/locations/us-central1/pipelineJobs/train-m5-pipe-cleanup-v11-20230201124116 current state:\n",
      "PipelineState.PIPELINE_STATE_RUNNING\n",
      "PipelineJob projects/934903580331/locations/us-central1/pipelineJobs/train-m5-pipe-cleanup-v11-20230201124116 current state:\n",
      "PipelineState.PIPELINE_STATE_RUNNING\n",
      "PipelineJob projects/934903580331/locations/us-central1/pipelineJobs/train-m5-pipe-cleanup-v11-20230201124116 current state:\n",
      "PipelineState.PIPELINE_STATE_RUNNING\n",
      "PipelineJob projects/934903580331/locations/us-central1/pipelineJobs/train-m5-pipe-cleanup-v11-20230201124116 current state:\n",
      "PipelineState.PIPELINE_STATE_RUNNING\n",
      "PipelineJob projects/934903580331/locations/us-central1/pipelineJobs/train-m5-pipe-cleanup-v11-20230201124116 current state:\n",
      "PipelineState.PIPELINE_STATE_RUNNING\n",
      "PipelineJob projects/934903580331/locations/us-central1/pipelineJobs/train-m5-pipe-cleanup-v11-20230201124116 current state:\n",
      "PipelineState.PIPELINE_STATE_RUNNING\n",
      "PipelineJob projects/934903580331/locations/us-central1/pipelineJobs/train-m5-pipe-cleanup-v11-20230201124116 current state:\n",
      "PipelineState.PIPELINE_STATE_RUNNING\n",
      "PipelineJob projects/934903580331/locations/us-central1/pipelineJobs/train-m5-pipe-cleanup-v11-20230201124116 current state:\n",
      "PipelineState.PIPELINE_STATE_RUNNING\n",
      "PipelineJob run completed. Resource name: projects/934903580331/locations/us-central1/pipelineJobs/train-m5-pipe-cleanup-v11-20230201124116\n"
     ]
    }
   ],
   "source": [
    "# test_list = [\n",
    "#     {\n",
    "#         \"model\": \"model_1\", \n",
    "#         \"objective\": \"rmse\", \n",
    "#         \"display_name\": \"model_1_display_name\"\n",
    "#     },\n",
    "#     {\n",
    "#         \"model\": \"model_2\", \n",
    "#         \"objective\": \"mape\", \n",
    "#         \"display_name\": \"model_2_display_name\"\n",
    "#     }\n",
    "# ]\n",
    "# test_list[0]"
   ]
  },
  {
   "cell_type": "code",
   "execution_count": null,
   "metadata": {},
   "outputs": [],
   "source": [
    "test_list_printed = [\n",
    "    {\n",
    "        'model': 'projects/934903580331/locations/us-central1/models/5372954884150657024', \n",
    "        'objective': 'rmse', \n",
    "        'display_name': 'v11-seq2seq-rmse'\n",
    "    }, \n",
    "    {\n",
    "        'model': 'projects/934903580331/locations/us-central1/models/4143472185878511616', \n",
    "        'objective': 'mape', \n",
    "        'display_name': 'v11-seq2seq-mape'\n",
    "    }\n",
    "]"
   ]
  },
  {
   "cell_type": "markdown",
   "metadata": {},
   "source": [
    "### Model Eval XAI"
   ]
  },
  {
   "cell_type": "code",
   "execution_count": null,
   "metadata": {},
   "outputs": [],
   "source": [
    "#         # ========================================================================\n",
    "#         # Conditional: generate XAI == True\n",
    "#         # ========================================================================\n",
    "#         with kfp.v2.dsl.Condition(generate_explanation == True, name=\"generate XAI\"):\n",
    "\n",
    "#             # Get Feature Attributions\n",
    "#             feature_attribution_task = (\n",
    "#                 ModelEvaluationFeatureAttributionOp(\n",
    "#                     project=vertex_project,\n",
    "#                     location=location,\n",
    "#                     root_dir=f\"{gcs_root_dir}/{item.objective}-staging\",\n",
    "#                     predictions_format=batch_predict_predictions_format,\n",
    "#                     predictions_bigquery_source=batch_explain_task.outputs[\"bigquery_output_table\"],\n",
    "#                 )\n",
    "#             )\n",
    "\n",
    "#             # Import the evaluation results to the model resource\n",
    "#             xai_model_import_task = (\n",
    "#                 ModelImportEvaluationOp(\n",
    "#                     problem_type=\"forecasting\",\n",
    "#                     forecasting_metrics=eval_task.outputs[\"evaluation_metrics\"],\n",
    "#                     feature_attributions=feature_attribution_task.outputs[\"feature_attributions\"],\n",
    "#                     model=get_model_task.outputs[\"model\"],\n",
    "#                 )\n",
    "#             )\n",
    "\n",
    "#         # # ========================================================================\n",
    "#         # # Conditional: generate XAI == False \n",
    "#         # # ========================================================================\n",
    "#         with kfp.v2.dsl.Condition(generate_explanation == False, name=\"dont generate XAI\"):\n",
    "\n",
    "#             # Import the evaluation results to the model resource\n",
    "#             model_import_task = (\n",
    "#                 ModelImportEvaluationOp(\n",
    "#                     problem_type=\"forecasting\",\n",
    "#                     forecasting_metrics=eval_task.outputs[\"evaluation_metrics\"],\n",
    "#                     # feature_attributions=feature_attribution_task.outputs[\"feature_attributions\"],\n",
    "#                     model=get_model_task.outputs[\"model\"],\n",
    "#                 )\n",
    "#             )"
   ]
  },
  {
   "cell_type": "code",
   "execution_count": null,
   "metadata": {},
   "outputs": [],
   "source": [
    "        # # get model paths\n",
    "        # get_mape_model_path = (\n",
    "        #     get_model_path.get_model_path(\n",
    "        #         project=vertex_project,\n",
    "        #         location=location,\n",
    "        #         model=mape_model_op.outputs['model'],\n",
    "        #     )\n",
    "        # )\n",
    "        # get_rmse_model_path = (\n",
    "        #     get_model_path.get_model_path(\n",
    "        #         project=vertex_project,\n",
    "        #         location=location,\n",
    "        #         model=rmse_model_op.outputs['model'],\n",
    "        #     )\n",
    "        # )"
   ]
  }
 ],
 "metadata": {
  "colab": {
   "provenance": [],
   "toc_visible": true
  },
  "environment": {
   "kernel": "python3",
   "name": "common-cpu.m103",
   "type": "gcloud",
   "uri": "gcr.io/deeplearning-platform-release/base-cpu:m103"
  },
  "kernelspec": {
   "display_name": "Python 3",
   "language": "python",
   "name": "python3"
  },
  "language_info": {
   "codemirror_mode": {
    "name": "ipython",
    "version": 3
   },
   "file_extension": ".py",
   "mimetype": "text/x-python",
   "name": "python",
   "nbconvert_exporter": "python",
   "pygments_lexer": "ipython3",
   "version": "3.7.12"
  }
 },
 "nbformat": 4,
 "nbformat_minor": 4
}
