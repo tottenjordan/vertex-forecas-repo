{
 "cells": [
  {
   "cell_type": "markdown",
   "id": "656cb449-4f84-4e87-ab48-8d0eddcd86bd",
   "metadata": {},
   "source": [
    "## Scheduling API Notebook\n",
    "\n",
    "[Guide can be found here](https://docs.google.com/document/d/1ZIPTIQklAOKgu7H3-7WIz6DmV6kbmSB3yVs-98hbP8I/edit?resourcekey=0-7mdbvb1o-2v7gUDlx1LD5Q)"
   ]
  },
  {
   "cell_type": "markdown",
   "id": "dff0b7b0-ca84-4d2a-a1e8-4cd03d80e759",
   "metadata": {},
   "source": [
    "### Prepare a pipeline"
   ]
  },
  {
   "cell_type": "code",
   "execution_count": 1,
   "id": "0d51973a-105f-43ff-9d55-e54df8b26fb2",
   "metadata": {},
   "outputs": [],
   "source": [
    "from kfp.v2.dsl import component\n",
    "\n",
    "\n",
    "@component\n",
    "def test(name: str) -> str:\n",
    "    return f\"Hello {name}\""
   ]
  },
  {
   "cell_type": "code",
   "execution_count": 37,
   "id": "4c49a6d9-7c9b-4306-8cb5-02fb583c4778",
   "metadata": {},
   "outputs": [],
   "source": [
    "from kfp.v2.dsl import pipeline\n",
    "\n",
    "\n",
    "@pipeline(name='test')\n",
    "def pipeline():\n",
    "    test_task = test(\"Matilda\")"
   ]
  },
  {
   "cell_type": "markdown",
   "id": "6a30339f-4c75-46bc-9f84-f76cc8876d4f",
   "metadata": {},
   "source": [
    "### Compile pipeline"
   ]
  },
  {
   "cell_type": "code",
   "execution_count": 39,
   "id": "d3216856-dbf7-42fd-a922-7641768c6d61",
   "metadata": {},
   "outputs": [],
   "source": [
    "from kfp.v2 import compiler\n",
    "import warnings\n",
    "warnings.filterwarnings('ignore')\n",
    "\n",
    "\n",
    "compiler.Compiler().compile(pipeline_func=pipeline,\n",
    "                            package_path='test.json')"
   ]
  },
  {
   "cell_type": "code",
   "execution_count": 40,
   "id": "f47a6c38-5d47-4e03-b0d7-a49b40e15a00",
   "metadata": {},
   "outputs": [],
   "source": [
    "pipeline_root = 'gs://pipeline-scheduling-test-feb-23'"
   ]
  },
  {
   "cell_type": "markdown",
   "id": "0ddd52fa-3830-490e-8bc8-e480016ce02c",
   "metadata": {},
   "source": [
    "#### (OPTIONAL) Run only one time to create the pipeline root bucket"
   ]
  },
  {
   "cell_type": "code",
   "execution_count": 5,
   "id": "513b3ee1-9f91-46a9-a470-c5b3f2629ce5",
   "metadata": {},
   "outputs": [],
   "source": [
    "#!gsutil mb $pipeline_root"
   ]
  },
  {
   "cell_type": "code",
   "execution_count": 6,
   "id": "9121a03b-c604-4417-8565-f2007eaea443",
   "metadata": {},
   "outputs": [
    {
     "name": "stdout",
     "output_type": "stream",
     "text": [
      "Creating PipelineJob\n",
      "PipelineJob created. Resource name: projects/679926387543/locations/us-central1/pipelineJobs/test-20230207002658\n",
      "To use this PipelineJob in another session:\n",
      "pipeline_job = aiplatform.PipelineJob.get('projects/679926387543/locations/us-central1/pipelineJobs/test-20230207002658')\n",
      "View Pipeline Job:\n",
      "https://console.cloud.google.com/vertex-ai/locations/us-central1/pipelines/runs/test-20230207002658?project=679926387543\n"
     ]
    }
   ],
   "source": [
    "## Run the pipeline to test\n",
    "\n",
    "PROJECT_ID = 'wortz-project-352116'\n",
    "LOCATION = 'us-central1'\n",
    "PROJECT_NUM = 679926387543\n",
    "\n",
    "from google.cloud import aiplatform\n",
    "\n",
    "job = aiplatform.PipelineJob(display_name = f'test-non-scheduled',\n",
    "                             template_path = 'test.json',\n",
    "                             pipeline_root = pipeline_root,\n",
    "                             # parameter_values = PIPELINE_PARAMETERS,\n",
    "                             project = PROJECT_ID,\n",
    "                             location = LOCATION,\n",
    "                             enable_caching=False)\n",
    "job.submit()"
   ]
  },
  {
   "cell_type": "markdown",
   "id": "1eba5d90-64df-483d-ab6a-fc5e3c9c9587",
   "metadata": {},
   "source": [
    "### Create the request to schedule the pipeline\n",
    "\n",
    "Note you can inspect the contents of the compiled pipeline `json` object. It should look like this:\n",
    "\n",
    "```\n",
    "{\n",
    "  \"pipelineSpec\": {\n",
    "    \"components\": {\n",
    "      \"comp-test\": {\n",
    "        ....\n",
    "    \"deploymentSpec\": {\n",
    "           ...\n",
    "          }\n",
    "        }\n",
    "      }\n",
    "    },\n",
    "    \"pipelineInfo\": {\n",
    "      \"name\": \"test\"\n",
    "    },\n",
    "    \"root\": {\n",
    "      \"dag\": {\n",
    "        \"tasks\": {\n",
    "          \"test\": {\n",
    "            ...\n",
    "                    }\n",
    "                  }\n",
    "                }\n",
    "              }\n",
    "            },\n",
    "            \"taskInfo\": {\n",
    "              \"name\": \"test\"\n",
    "            }\n",
    "          }\n",
    "        }\n",
    "      }\n",
    "    },\n",
    "    \"schemaVersion\": \"2.0.0\",\n",
    "    \"sdkVersion\": \"kfp-1.8.18\"\n",
    "  },\n",
    "  \"runtimeConfig\": {}\n",
    "}\n",
    "```\n",
    "\n",
    "We will shape the request by taking the `PipelineSpec` object from this json and addit to the required API call like so:\n",
    "\n",
    "```\n",
    "PROJECT_ID=<Project ID for the request>\n",
    "LOCATION=<Location or region of the pipeline run, for example, us-west2>\n",
    "\n",
    "curl -i -X POST -H \"Content-Type: application/json\" -H \"Authorization: Bearer $(gcloud auth print-access-token)\" \\\n",
    "https://${LOCATION}-aiplatform.googleapis.com/v1beta1/projects/${PROJECT_ID}/locations/${LOCATION}/schedules \\\n",
    "-d '{\n",
    "  \"display_name\":\"<SCHEDULE_NAME>\",\n",
    "  \"start_time\": \"<SCHEDULE_START_TIME>\",\n",
    "  \"cron\": \"<CRON_EXPRESSION>\",\n",
    "  \"max_concurrent_run_count\": \"<MAX_CONCURRENT_RUN_COUNT>\",\n",
    "  \"create_pipeline_job_request\": <CREATEPIPELINEJOB_API_REQUEST_TEMPLATE>\n",
    "}'\n",
    "```"
   ]
  },
  {
   "cell_type": "code",
   "execution_count": 43,
   "id": "88c114c9-dd79-42a1-ae00-e5d7a8891541",
   "metadata": {},
   "outputs": [],
   "source": [
    "import json\n",
    "import requests\n",
    "\n",
    "PROJECT_ID = 'wortz-project-352116'\n",
    "LOCATION = 'us-central1'\n",
    "PROJECT_NUM = 679926387543\n",
    "\n",
    "pipeline_file = open('test.json')\n",
    "pipeline_spec = json.load(pipeline_file)\n",
    "pipeline_file.close()"
   ]
  },
  {
   "cell_type": "code",
   "execution_count": 44,
   "id": "050eb8dc-d8ae-4134-abd9-121ef4baadf3",
   "metadata": {},
   "outputs": [
    {
     "data": {
      "text/plain": [
       "{'pipelineSpec': {'components': {'comp-test': {'executorLabel': 'exec-test',\n",
       "    'inputDefinitions': {'parameters': {'name': {'type': 'STRING'}}},\n",
       "    'outputDefinitions': {'parameters': {'Output': {'type': 'STRING'}}}}},\n",
       "  'deploymentSpec': {'executors': {'exec-test': {'container': {'args': ['--executor_input',\n",
       "       '{{$}}',\n",
       "       '--function_to_execute',\n",
       "       'test'],\n",
       "      'command': ['sh',\n",
       "       '-c',\n",
       "       '\\nif ! [ -x \"$(command -v pip)\" ]; then\\n    python3 -m ensurepip || python3 -m ensurepip --user || apt-get install python3-pip\\nfi\\n\\nPIP_DISABLE_PIP_VERSION_CHECK=1 python3 -m pip install --quiet     --no-warn-script-location \\'kfp==1.8.18\\' && \"$0\" \"$@\"\\n',\n",
       "       'sh',\n",
       "       '-ec',\n",
       "       'program_path=$(mktemp -d)\\nprintf \"%s\" \"$0\" > \"$program_path/ephemeral_component.py\"\\npython3 -m kfp.v2.components.executor_main                         --component_module_path                         \"$program_path/ephemeral_component.py\"                         \"$@\"\\n',\n",
       "       '\\nimport kfp\\nfrom kfp.v2 import dsl\\nfrom kfp.v2.dsl import *\\nfrom typing import *\\n\\ndef test(name: str) -> str:\\n    return f\"Hello {name}\"\\n\\n'],\n",
       "      'image': 'python:3.7'}}}},\n",
       "  'pipelineInfo': {'name': 'test'},\n",
       "  'root': {'dag': {'tasks': {'test': {'cachingOptions': {'enableCache': True},\n",
       "      'componentRef': {'name': 'comp-test'},\n",
       "      'inputs': {'parameters': {'name': {'runtimeValue': {'constantValue': {'stringValue': 'Matilda'}}}}},\n",
       "      'taskInfo': {'name': 'test'}}}}},\n",
       "  'schemaVersion': '2.0.0',\n",
       "  'sdkVersion': 'kfp-1.8.18'},\n",
       " 'runtimeConfig': {}}"
      ]
     },
     "execution_count": 44,
     "metadata": {},
     "output_type": "execute_result"
    }
   ],
   "source": [
    "pipeline_spec"
   ]
  },
  {
   "cell_type": "code",
   "execution_count": 45,
   "id": "06f0472a-8ad2-4d0d-a0b3-cf12dac57ef2",
   "metadata": {},
   "outputs": [],
   "source": [
    "### Base request for scheduling\n",
    "\n",
    "cron_expression = \"TZ=America/New_York 0 * * * *\" #run every hour\n",
    "display_name = \"hello_world_scheduling\"\n",
    "pipeline_spec['runtimeConfig'].update({\"gcsOutputDirectory\": pipeline_root}) #add the gs bucket for artifacts\n",
    "\n",
    "\n",
    "create_job_request = {\n",
    "    \"parent\": f\"projects/{PROJECT_NUM}/locations/{LOCATION}\",\n",
    "    \"pipelineJob\" : {\n",
    "        \"displayName\": display_name,\n",
    "    }\n",
    "}\n",
    "\n",
    "create_job_request[\"pipelineJob\"].update(pipeline_spec) #add the pipeline to the job request template\n",
    "\n",
    "schedule_request = {\n",
    "    \"display_name\": display_name,\n",
    "    \"cron\": cron_expression,\n",
    "    \"max_concurrent_run_count\": \"1\",\n",
    "    \"create_pipeline_job_request\": create_job_request\n",
    "}\n"
   ]
  },
  {
   "cell_type": "code",
   "execution_count": 46,
   "id": "9201be9b-e914-4cb4-be8c-2000056c66b6",
   "metadata": {},
   "outputs": [
    {
     "data": {
      "text/plain": [
       "{'display_name': 'hello_world_scheduling',\n",
       " 'cron': 'TZ=America/New_York 0 * * * *',\n",
       " 'max_concurrent_run_count': '1',\n",
       " 'create_pipeline_job_request': {'parent': 'projects/679926387543/locations/us-central1',\n",
       "  'pipelineJob': {'displayName': 'hello_world_scheduling',\n",
       "   'pipelineSpec': {'components': {'comp-test': {'executorLabel': 'exec-test',\n",
       "      'inputDefinitions': {'parameters': {'name': {'type': 'STRING'}}},\n",
       "      'outputDefinitions': {'parameters': {'Output': {'type': 'STRING'}}}}},\n",
       "    'deploymentSpec': {'executors': {'exec-test': {'container': {'args': ['--executor_input',\n",
       "         '{{$}}',\n",
       "         '--function_to_execute',\n",
       "         'test'],\n",
       "        'command': ['sh',\n",
       "         '-c',\n",
       "         '\\nif ! [ -x \"$(command -v pip)\" ]; then\\n    python3 -m ensurepip || python3 -m ensurepip --user || apt-get install python3-pip\\nfi\\n\\nPIP_DISABLE_PIP_VERSION_CHECK=1 python3 -m pip install --quiet     --no-warn-script-location \\'kfp==1.8.18\\' && \"$0\" \"$@\"\\n',\n",
       "         'sh',\n",
       "         '-ec',\n",
       "         'program_path=$(mktemp -d)\\nprintf \"%s\" \"$0\" > \"$program_path/ephemeral_component.py\"\\npython3 -m kfp.v2.components.executor_main                         --component_module_path                         \"$program_path/ephemeral_component.py\"                         \"$@\"\\n',\n",
       "         '\\nimport kfp\\nfrom kfp.v2 import dsl\\nfrom kfp.v2.dsl import *\\nfrom typing import *\\n\\ndef test(name: str) -> str:\\n    return f\"Hello {name}\"\\n\\n'],\n",
       "        'image': 'python:3.7'}}}},\n",
       "    'pipelineInfo': {'name': 'test'},\n",
       "    'root': {'dag': {'tasks': {'test': {'cachingOptions': {'enableCache': True},\n",
       "        'componentRef': {'name': 'comp-test'},\n",
       "        'inputs': {'parameters': {'name': {'runtimeValue': {'constantValue': {'stringValue': 'Matilda'}}}}},\n",
       "        'taskInfo': {'name': 'test'}}}}},\n",
       "    'schemaVersion': '2.0.0',\n",
       "    'sdkVersion': 'kfp-1.8.18'},\n",
       "   'runtimeConfig': {'gcsOutputDirectory': 'gs://pipeline-scheduling-test-feb-23'}}}}"
      ]
     },
     "execution_count": 46,
     "metadata": {},
     "output_type": "execute_result"
    }
   ],
   "source": [
    "schedule_request"
   ]
  },
  {
   "cell_type": "markdown",
   "id": "f9fe0627-7040-47d5-a481-e88bf095601c",
   "metadata": {},
   "source": [
    "### Submit the request"
   ]
  },
  {
   "cell_type": "code",
   "execution_count": 56,
   "id": "b6dfefb4-10c4-4b6c-ac6a-16a52c06d2d1",
   "metadata": {},
   "outputs": [],
   "source": [
    "#auth\n",
    "import google.auth\n",
    "import google.auth.transport.requests\n",
    "creds, project = google.auth.default()\n",
    "\n",
    "# creds.valid is False, and creds.token is None\n",
    "# Need to refresh credentials to populate those\n",
    "\n",
    "auth_req = google.auth.transport.requests.Request()\n",
    "creds.refresh(auth_req)"
   ]
  },
  {
   "cell_type": "code",
   "execution_count": 58,
   "id": "1c1005d5-1794-40a8-a4e5-18874d52635a",
   "metadata": {},
   "outputs": [],
   "source": [
    "url = f'https://{LOCATION}-aiplatform.googleapis.com/v1beta1/projects/{PROJECT_ID}/locations/{LOCATION}/schedules'\n",
    "headers = {\"Authorization\": f\"Bearer {creds.token}\"}"
   ]
  },
  {
   "cell_type": "code",
   "execution_count": 48,
   "id": "c8348609-bd47-4c77-9404-042effc49153",
   "metadata": {},
   "outputs": [
    {
     "data": {
      "text/plain": [
       "{'name': 'projects/679926387543/locations/us-central1/schedules/4836303049842491392',\n",
       " 'displayName': 'hello_world_scheduling',\n",
       " 'startTime': '2023-02-07T01:33:49.245448Z',\n",
       " 'state': 'ACTIVE',\n",
       " 'createTime': '2023-02-07T01:33:49.245448Z',\n",
       " 'nextRunTime': '2023-02-07T02:00:00Z',\n",
       " 'cron': 'TZ=America/New_York 0 * * * *',\n",
       " 'maxConcurrentRunCount': '1',\n",
       " 'createPipelineJobRequest': {'parent': 'projects/679926387543/locations/us-central1',\n",
       "  'pipelineJob': {'displayName': 'hello_world_scheduling',\n",
       "   'pipelineSpec': {'components': {'comp-test': {'executorLabel': 'exec-test',\n",
       "      'inputDefinitions': {'parameters': {'name': {'type': 'STRING'}}},\n",
       "      'outputDefinitions': {'parameters': {'Output': {'type': 'STRING'}}}}},\n",
       "    'deploymentSpec': {'executors': {'exec-test': {'container': {'args': ['--executor_input',\n",
       "         '{{$}}',\n",
       "         '--function_to_execute',\n",
       "         'test'],\n",
       "        'command': ['sh',\n",
       "         '-c',\n",
       "         '\\nif ! [ -x \"$(command -v pip)\" ]; then\\n    python3 -m ensurepip || python3 -m ensurepip --user || apt-get install python3-pip\\nfi\\n\\nPIP_DISABLE_PIP_VERSION_CHECK=1 python3 -m pip install --quiet     --no-warn-script-location \\'kfp==1.8.18\\' && \"$0\" \"$@\"\\n',\n",
       "         'sh',\n",
       "         '-ec',\n",
       "         'program_path=$(mktemp -d)\\nprintf \"%s\" \"$0\" > \"$program_path/ephemeral_component.py\"\\npython3 -m kfp.v2.components.executor_main                         --component_module_path                         \"$program_path/ephemeral_component.py\"                         \"$@\"\\n',\n",
       "         '\\nimport kfp\\nfrom kfp.v2 import dsl\\nfrom kfp.v2.dsl import *\\nfrom typing import *\\n\\ndef test(name: str) -> str:\\n    return f\"Hello {name}\"\\n\\n'],\n",
       "        'image': 'python:3.7'}}}},\n",
       "    'pipelineInfo': {'name': 'test'},\n",
       "    'root': {'dag': {'tasks': {'test': {'cachingOptions': {'enableCache': True},\n",
       "        'componentRef': {'name': 'comp-test'},\n",
       "        'inputs': {'parameters': {'name': {'runtimeValue': {'constantValue': {'stringValue': 'Matilda'}}}}},\n",
       "        'taskInfo': {'name': 'test'}}}}},\n",
       "    'schemaVersion': '2.0.0',\n",
       "    'sdkVersion': 'kfp-1.8.18'},\n",
       "   'runtimeConfig': {'gcsOutputDirectory': 'gs://pipeline-scheduling-test-feb-23'}}}}"
      ]
     },
     "execution_count": 48,
     "metadata": {},
     "output_type": "execute_result"
    }
   ],
   "source": [
    "requests.post(url, json=schedule_request, headers=headers).json()"
   ]
  },
  {
   "cell_type": "markdown",
   "id": "485303d0-b6a4-42e6-849e-1ef27efb63eb",
   "metadata": {},
   "source": [
    "### List out the schedules"
   ]
  },
  {
   "cell_type": "code",
   "execution_count": 59,
   "id": "50babad2-804e-425b-856b-632e9405393d",
   "metadata": {},
   "outputs": [
    {
     "data": {
      "text/plain": [
       "{}"
      ]
     },
     "execution_count": 59,
     "metadata": {},
     "output_type": "execute_result"
    }
   ],
   "source": [
    "url_list = f\"https://{LOCATION}-aiplatform.googleapis.com/v1beta1/projects/{PROJECT_ID}/locations/{LOCATION}/schedules\"\n",
    "\n",
    "requests.get(url_list, headers=headers).json()"
   ]
  },
  {
   "cell_type": "markdown",
   "id": "d0d3011c-2995-49dc-a97a-ca09122813d6",
   "metadata": {},
   "source": [
    "### Deleting a schedule"
   ]
  },
  {
   "cell_type": "code",
   "execution_count": 55,
   "id": "78fcda90-3477-4740-a44b-46480af85a19",
   "metadata": {},
   "outputs": [
    {
     "data": {
      "text/plain": [
       "{'name': 'projects/679926387543/locations/us-central1/operations/8830374489091997696',\n",
       " 'metadata': {'@type': 'type.googleapis.com/google.cloud.aiplatform.v1beta1.DeleteOperationMetadata',\n",
       "  'genericMetadata': {'createTime': '2023-02-07T14:56:37.875254Z',\n",
       "   'updateTime': '2023-02-07T14:56:37.875254Z'}},\n",
       " 'done': True,\n",
       " 'response': {'@type': 'type.googleapis.com/google.protobuf.Empty'}}"
      ]
     },
     "execution_count": 55,
     "metadata": {},
     "output_type": "execute_result"
    }
   ],
   "source": [
    "\n",
    "DELETED_SCHEDULE_ID = 6035104975653175296\n",
    "\n",
    "url_delete = f\"https://{LOCATION}-aiplatform.googleapis.com/v1beta1/projects/{PROJECT_ID}/locations/{LOCATION}/schedules/{DELETED_SCHEDULE_ID}\"\n",
    "\n",
    "requests.delete(url_delete, headers=headers).json()"
   ]
  },
  {
   "cell_type": "code",
   "execution_count": null,
   "id": "94846233-0f62-4297-829e-2722c2a9b58f",
   "metadata": {},
   "outputs": [],
   "source": []
  }
 ],
 "metadata": {
  "environment": {
   "kernel": "python3",
   "name": "common-cpu.m103",
   "type": "gcloud",
   "uri": "gcr.io/deeplearning-platform-release/base-cpu:m103"
  },
  "kernelspec": {
   "display_name": "Python 3",
   "language": "python",
   "name": "python3"
  },
  "language_info": {
   "codemirror_mode": {
    "name": "ipython",
    "version": 3
   },
   "file_extension": ".py",
   "mimetype": "text/x-python",
   "name": "python",
   "nbconvert_exporter": "python",
   "pygments_lexer": "ipython3",
   "version": "3.7.12"
  }
 },
 "nbformat": 4,
 "nbformat_minor": 5
}
