{
 "cells": [
  {
   "cell_type": "markdown",
   "id": "4ec95270-aeb4-4cc7-a949-68a6ca6dae1e",
   "metadata": {},
   "source": [
    "## Data prep - M5"
   ]
  },
  {
   "cell_type": "code",
   "execution_count": 1,
   "id": "a684d6ad-d3ac-44e7-ac82-7a2f83300cef",
   "metadata": {},
   "outputs": [
    {
     "name": "stdout",
     "output_type": "stream",
     "text": [
      "PROJECT_ID: hybrid-vertex\n",
      "PROJECT_NUM: 934903580331\n",
      "LOCATION: us-central1\n",
      "REGION: us-central1\n",
      "VERTEX_SA: jt-vertex-sa@hybrid-vertex.iam.gserviceaccount.com\n"
     ]
    }
   ],
   "source": [
    "GCP_PROJECTS = !gcloud config get-value project\n",
    "PROJECT_ID = GCP_PROJECTS[0]\n",
    "PROJECT_NUM = !gcloud projects list --filter=\"$PROJECT_ID\" --format=\"value(PROJECT_NUMBER)\"\n",
    "PROJECT_NUM = PROJECT_NUM[0]\n",
    "LOCATION = 'us-central1'\n",
    "REGION = \"us-central1\"\n",
    "\n",
    "# VERTEX_SA = '934903580331-compute@developer.gserviceaccount.com'\n",
    "VERTEX_SA = 'jt-vertex-sa@hybrid-vertex.iam.gserviceaccount.com'\n",
    "\n",
    "print(f\"PROJECT_ID: {PROJECT_ID}\")\n",
    "print(f\"PROJECT_NUM: {PROJECT_NUM}\")\n",
    "print(f\"LOCATION: {LOCATION}\")\n",
    "print(f\"REGION: {REGION}\")\n",
    "print(f\"VERTEX_SA: {VERTEX_SA}\")"
   ]
  },
  {
   "cell_type": "code",
   "execution_count": 36,
   "id": "0233f70b-9e03-40c2-8a3c-23dd1cb3f2cd",
   "metadata": {},
   "outputs": [],
   "source": [
    "VERSION='v01'\n",
    "\n",
    "REGION = 'us-central1'\n",
    "EXPERIMENT = 'm5_bqarima'\n",
    "SERIES = f'applied-forecasting_{VERSION}'\n",
    "\n",
    "BQ_PROJECT = PROJECT_ID\n",
    "BQ_DATASET = SERIES.replace('-','_')\n",
    "BQ_TABLE = EXPERIMENT\n",
    "\n",
    "BQ_SOURCE = 'hybrid-vertex.m5_us.combined_full_train'\n",
    "# BQ_SOURCE = 'hybrid-vertex.m5_us.combined_small20k_train'\n",
    "viz_limit = 12"
   ]
  },
  {
   "cell_type": "markdown",
   "id": "b1bfe0b8-7ca0-4605-b1c6-34e69522cc49",
   "metadata": {},
   "source": [
    "## packages & clients"
   ]
  },
  {
   "cell_type": "code",
   "execution_count": 8,
   "id": "333eab5b-9bc4-402a-bc02-5e0bdbcc2c96",
   "metadata": {},
   "outputs": [],
   "source": [
    "from google.cloud import bigquery\n",
    "\n",
    "import matplotlib.pyplot as plt\n",
    "import pandas as pd\n",
    "from datetime import datetime, timedelta\n",
    "\n",
    "from google.cloud import aiplatform as vertex_ai"
   ]
  },
  {
   "cell_type": "code",
   "execution_count": 9,
   "id": "9ddbfd92-bc8a-4a10-b50d-85d70195c9ba",
   "metadata": {},
   "outputs": [],
   "source": [
    "bq = bigquery.Client(project=PROJECT_ID)\n",
    "\n",
    "vertex_ai.init(\n",
    "    project=PROJECT_ID, \n",
    "    location=REGION,\n",
    "    # credentials=credentials\n",
    ")"
   ]
  },
  {
   "cell_type": "markdown",
   "id": "30ffbe54-d0f7-4229-a125-7ad151dbe29f",
   "metadata": {},
   "source": [
    "## create BigQuery Dataset"
   ]
  },
  {
   "cell_type": "code",
   "execution_count": 10,
   "id": "ba2377e3-2fa5-452c-ae61-c9230fa6886c",
   "metadata": {},
   "outputs": [
    {
     "data": {
      "text/plain": [
       "'hybrid-vertex:applied_forecasting_v01'"
      ]
     },
     "execution_count": 10,
     "metadata": {},
     "output_type": "execute_result"
    }
   ],
   "source": [
    "ds = bigquery.Dataset(f\"{PROJECT_ID}.{BQ_DATASET}\")\n",
    "ds.location = 'us' #REGION\n",
    "ds.labels = {'notebook': f\"{EXPERIMENT}\"}\n",
    "ds = bq.create_dataset(dataset = ds, exists_ok = True)\n",
    "ds.full_dataset_id"
   ]
  },
  {
   "cell_type": "code",
   "execution_count": 48,
   "id": "4d0c55a3-180c-4ee5-86cd-5193b7452950",
   "metadata": {},
   "outputs": [],
   "source": [
    "# CUSTOMIZE THIS CELL\n",
    "TARGET_COLUMN = 'gross_quantity'\n",
    "TIME_COLUMN = 'date'\n",
    "SERIES_COLUMN = 'timeseries_id'\n",
    "COVARIATE_COLUMNS = [\n",
    "        'product_id',\n",
    "        'location_id',\n",
    "        'gross_quantity',\n",
    "        # 'date',\n",
    "        'weekday',\n",
    "        'wday',\n",
    "        'month',\n",
    "        'year',\n",
    "        'event_name_1',\n",
    "        'event_type_1',\n",
    "        'event_name_2',\n",
    "        'event_type_2',\n",
    "        'snap_CA',\n",
    "        'snap_TX',\n",
    "        'snap_WI',\n",
    "        'dept_id',\n",
    "        'cat_id',\n",
    "        'state_id',\n",
    "]\n",
    "\n",
    "# CUSTOMIZE\n",
    "forecast_granularity = 'WEEK'\n",
    "forecast_horizon = 14\n",
    "forecast_test_length = 14\n",
    "forecast_val_length = 14"
   ]
  },
  {
   "cell_type": "code",
   "execution_count": 38,
   "id": "077e4a50-e586-4067-a461-a569e77d2b50",
   "metadata": {},
   "outputs": [
    {
     "data": {
      "text/html": [
       "<div>\n",
       "<style scoped>\n",
       "    .dataframe tbody tr th:only-of-type {\n",
       "        vertical-align: middle;\n",
       "    }\n",
       "\n",
       "    .dataframe tbody tr th {\n",
       "        vertical-align: top;\n",
       "    }\n",
       "\n",
       "    .dataframe thead th {\n",
       "        text-align: right;\n",
       "    }\n",
       "</style>\n",
       "<table border=\"1\" class=\"dataframe\">\n",
       "  <thead>\n",
       "    <tr style=\"text-align: right;\">\n",
       "      <th></th>\n",
       "      <th>start_date</th>\n",
       "      <th>val_start</th>\n",
       "      <th>test_start</th>\n",
       "      <th>end_date</th>\n",
       "    </tr>\n",
       "  </thead>\n",
       "  <tbody>\n",
       "    <tr>\n",
       "      <th>0</th>\n",
       "      <td>2011-01-29</td>\n",
       "      <td>2015-11-15</td>\n",
       "      <td>2016-02-21</td>\n",
       "      <td>2016-05-22</td>\n",
       "    </tr>\n",
       "  </tbody>\n",
       "</table>\n",
       "</div>"
      ],
      "text/plain": [
       "   start_date   val_start  test_start    end_date\n",
       "0  2011-01-29  2015-11-15  2016-02-21  2016-05-22"
      ]
     },
     "execution_count": 38,
     "metadata": {},
     "output_type": "execute_result"
    }
   ],
   "source": [
    "query = f\"\"\"\n",
    "    SELECT \n",
    "        MIN({TIME_COLUMN}) as start_date,\n",
    "        DATE_SUB(MAX({TIME_COLUMN}), INTERVAL {forecast_test_length+forecast_val_length}-1 {forecast_granularity}) as val_start,\n",
    "        DATE_SUB(MAX({TIME_COLUMN}), INTERVAL {forecast_test_length}-1 {forecast_granularity}) as test_start,\n",
    "        MAX({TIME_COLUMN}) as end_date\n",
    "    FROM `{BQ_SOURCE}`  \n",
    "\"\"\"\n",
    "keyDates = bq.query(query).to_dataframe()\n",
    "keyDates"
   ]
  },
  {
   "cell_type": "code",
   "execution_count": 39,
   "id": "e5a1978b-e8ec-4e98-8931-6b27596e5eab",
   "metadata": {},
   "outputs": [],
   "source": [
    "train_start = keyDates['start_date']\n",
    "test_start = keyDates['test_start']\n",
    "val_start = keyDates['val_start']\n",
    "train_start = keyDates['start_date']"
   ]
  },
  {
   "cell_type": "code",
   "execution_count": 40,
   "id": "54d89eac-4b13-467e-bebe-d0c9522a380a",
   "metadata": {},
   "outputs": [
    {
     "data": {
      "text/plain": [
       "8.444"
      ]
     },
     "execution_count": 40,
     "metadata": {},
     "output_type": "execute_result"
    }
   ],
   "source": [
    "query = f\"\"\"\n",
    "    CREATE OR REPLACE TABLE `{BQ_PROJECT}.{BQ_DATASET}.{BQ_TABLE}_prepped` AS\n",
    "    SELECT *,\n",
    "       CASE\n",
    "           WHEN {TIME_COLUMN} > DATE_SUB((SELECT MAX({TIME_COLUMN}) FROM `{BQ_SOURCE}`), INTERVAL {forecast_test_length} {forecast_granularity}) THEN \"TEST\"\n",
    "           WHEN {TIME_COLUMN} > DATE_SUB((SELECT MAX({TIME_COLUMN}) FROM `{BQ_SOURCE}`), INTERVAL {forecast_test_length}+{forecast_val_length} {forecast_granularity}) THEN \"VALIDATE\"\n",
    "           ELSE \"TRAIN\"\n",
    "       END AS splits\n",
    "    FROM `{BQ_SOURCE}`\n",
    "\"\"\"\n",
    "job = bq.query(query)\n",
    "job.result()\n",
    "(job.ended-job.started).total_seconds()"
   ]
  },
  {
   "cell_type": "markdown",
   "id": "7373933c-c642-45f9-9728-9234e25e418f",
   "metadata": {},
   "source": [
    "### reveiw forecast data"
   ]
  },
  {
   "cell_type": "code",
   "execution_count": 41,
   "id": "540ed4eb-1ae9-48d9-8432-9d597175bfa9",
   "metadata": {},
   "outputs": [
    {
     "data": {
      "text/html": [
       "<div>\n",
       "<style scoped>\n",
       "    .dataframe tbody tr th:only-of-type {\n",
       "        vertical-align: middle;\n",
       "    }\n",
       "\n",
       "    .dataframe tbody tr th {\n",
       "        vertical-align: top;\n",
       "    }\n",
       "\n",
       "    .dataframe thead th {\n",
       "        text-align: right;\n",
       "    }\n",
       "</style>\n",
       "<table border=\"1\" class=\"dataframe\">\n",
       "  <thead>\n",
       "    <tr style=\"text-align: right;\">\n",
       "      <th></th>\n",
       "      <th>timeseries_id</th>\n",
       "      <th>TRAIN</th>\n",
       "      <th>VALIDATE</th>\n",
       "      <th>TEST</th>\n",
       "      <th>gross_quantity</th>\n",
       "    </tr>\n",
       "  </thead>\n",
       "  <tbody>\n",
       "    <tr>\n",
       "      <th>0</th>\n",
       "      <td>FOODS_1_001_CA_1</td>\n",
       "      <td>1745</td>\n",
       "      <td>98</td>\n",
       "      <td>98</td>\n",
       "      <td>1526</td>\n",
       "    </tr>\n",
       "    <tr>\n",
       "      <th>1</th>\n",
       "      <td>FOODS_1_001_CA_2</td>\n",
       "      <td>1745</td>\n",
       "      <td>98</td>\n",
       "      <td>98</td>\n",
       "      <td>2232</td>\n",
       "    </tr>\n",
       "    <tr>\n",
       "      <th>2</th>\n",
       "      <td>FOODS_1_001_CA_3</td>\n",
       "      <td>1745</td>\n",
       "      <td>98</td>\n",
       "      <td>98</td>\n",
       "      <td>2329</td>\n",
       "    </tr>\n",
       "    <tr>\n",
       "      <th>3</th>\n",
       "      <td>FOODS_1_001_CA_4</td>\n",
       "      <td>1745</td>\n",
       "      <td>98</td>\n",
       "      <td>98</td>\n",
       "      <td>694</td>\n",
       "    </tr>\n",
       "    <tr>\n",
       "      <th>4</th>\n",
       "      <td>FOODS_1_001_TX_1</td>\n",
       "      <td>1745</td>\n",
       "      <td>98</td>\n",
       "      <td>98</td>\n",
       "      <td>1145</td>\n",
       "    </tr>\n",
       "    <tr>\n",
       "      <th>5</th>\n",
       "      <td>FOODS_1_001_TX_2</td>\n",
       "      <td>1745</td>\n",
       "      <td>98</td>\n",
       "      <td>98</td>\n",
       "      <td>1120</td>\n",
       "    </tr>\n",
       "    <tr>\n",
       "      <th>6</th>\n",
       "      <td>FOODS_1_001_TX_3</td>\n",
       "      <td>1738</td>\n",
       "      <td>98</td>\n",
       "      <td>98</td>\n",
       "      <td>797</td>\n",
       "    </tr>\n",
       "    <tr>\n",
       "      <th>7</th>\n",
       "      <td>FOODS_1_001_WI_1</td>\n",
       "      <td>1745</td>\n",
       "      <td>98</td>\n",
       "      <td>98</td>\n",
       "      <td>1095</td>\n",
       "    </tr>\n",
       "    <tr>\n",
       "      <th>8</th>\n",
       "      <td>FOODS_1_001_WI_2</td>\n",
       "      <td>1745</td>\n",
       "      <td>98</td>\n",
       "      <td>98</td>\n",
       "      <td>897</td>\n",
       "    </tr>\n",
       "    <tr>\n",
       "      <th>9</th>\n",
       "      <td>FOODS_1_001_WI_3</td>\n",
       "      <td>1745</td>\n",
       "      <td>98</td>\n",
       "      <td>98</td>\n",
       "      <td>569</td>\n",
       "    </tr>\n",
       "    <tr>\n",
       "      <th>10</th>\n",
       "      <td>FOODS_1_002_CA_1</td>\n",
       "      <td>1745</td>\n",
       "      <td>98</td>\n",
       "      <td>98</td>\n",
       "      <td>934</td>\n",
       "    </tr>\n",
       "    <tr>\n",
       "      <th>11</th>\n",
       "      <td>FOODS_1_002_CA_2</td>\n",
       "      <td>1745</td>\n",
       "      <td>98</td>\n",
       "      <td>98</td>\n",
       "      <td>1176</td>\n",
       "    </tr>\n",
       "  </tbody>\n",
       "</table>\n",
       "</div>"
      ],
      "text/plain": [
       "       timeseries_id  TRAIN  VALIDATE  TEST  gross_quantity\n",
       "0   FOODS_1_001_CA_1   1745        98    98            1526\n",
       "1   FOODS_1_001_CA_2   1745        98    98            2232\n",
       "2   FOODS_1_001_CA_3   1745        98    98            2329\n",
       "3   FOODS_1_001_CA_4   1745        98    98             694\n",
       "4   FOODS_1_001_TX_1   1745        98    98            1145\n",
       "5   FOODS_1_001_TX_2   1745        98    98            1120\n",
       "6   FOODS_1_001_TX_3   1738        98    98             797\n",
       "7   FOODS_1_001_WI_1   1745        98    98            1095\n",
       "8   FOODS_1_001_WI_2   1745        98    98             897\n",
       "9   FOODS_1_001_WI_3   1745        98    98             569\n",
       "10  FOODS_1_002_CA_1   1745        98    98             934\n",
       "11  FOODS_1_002_CA_2   1745        98    98            1176"
      ]
     },
     "execution_count": 41,
     "metadata": {},
     "output_type": "execute_result"
    }
   ],
   "source": [
    "query = f\"\"\"\n",
    "    SELECT \n",
    "        {SERIES_COLUMN},\n",
    "        COUNTIF(splits='TRAIN') as TRAIN,\n",
    "        COUNTIF(splits='VALIDATE') as VALIDATE,\n",
    "        COUNTIF(splits='TEST') as TEST,\n",
    "        sum({TARGET_COLUMN}) as {TARGET_COLUMN}\n",
    "    FROM `{BQ_PROJECT}.{BQ_DATASET}.{BQ_TABLE}_prepped`\n",
    "    GROUP BY {SERIES_COLUMN}\n",
    "    ORDER BY {SERIES_COLUMN}\n",
    "\"\"\"\n",
    "splitCounts = bq.query(query).to_dataframe()\n",
    "splitCounts.head(viz_limit)"
   ]
  },
  {
   "cell_type": "code",
   "execution_count": 42,
   "id": "04a73b1b-e93c-4490-a46e-aeb91d79aa92",
   "metadata": {},
   "outputs": [
    {
     "data": {
      "text/plain": [
       "TRAIN       40907476\n",
       "VALIDATE     2986181\n",
       "TEST         2988020\n",
       "dtype: int64"
      ]
     },
     "execution_count": 42,
     "metadata": {},
     "output_type": "execute_result"
    }
   ],
   "source": [
    "splitCounts[['TRAIN','VALIDATE','TEST']].sum()"
   ]
  },
  {
   "cell_type": "code",
   "execution_count": 43,
   "id": "a9a098a4-b01d-4fe7-8951-6edb86473662",
   "metadata": {},
   "outputs": [
    {
     "data": {
      "text/plain": [
       "46881677"
      ]
     },
     "execution_count": 43,
     "metadata": {},
     "output_type": "execute_result"
    }
   ],
   "source": [
    "splitCounts[['TRAIN','VALIDATE','TEST']].sum().sum()"
   ]
  },
  {
   "cell_type": "code",
   "execution_count": 44,
   "id": "36d7ccd9-8ff5-4bd9-80bd-667f97c2d967",
   "metadata": {},
   "outputs": [
    {
     "data": {
      "text/html": [
       "<div>\n",
       "<style scoped>\n",
       "    .dataframe tbody tr th:only-of-type {\n",
       "        vertical-align: middle;\n",
       "    }\n",
       "\n",
       "    .dataframe tbody tr th {\n",
       "        vertical-align: top;\n",
       "    }\n",
       "\n",
       "    .dataframe thead th {\n",
       "        text-align: right;\n",
       "    }\n",
       "</style>\n",
       "<table border=\"1\" class=\"dataframe\">\n",
       "  <thead>\n",
       "    <tr style=\"text-align: right;\">\n",
       "      <th></th>\n",
       "      <th>start_date</th>\n",
       "      <th>val_start</th>\n",
       "      <th>test_start</th>\n",
       "      <th>end_date</th>\n",
       "    </tr>\n",
       "  </thead>\n",
       "  <tbody>\n",
       "    <tr>\n",
       "      <th>0</th>\n",
       "      <td>2011-01-29</td>\n",
       "      <td>2015-11-09</td>\n",
       "      <td>2016-02-15</td>\n",
       "      <td>2016-05-22</td>\n",
       "    </tr>\n",
       "  </tbody>\n",
       "</table>\n",
       "</div>"
      ],
      "text/plain": [
       "   start_date   val_start  test_start    end_date\n",
       "0  2011-01-29  2015-11-09  2016-02-15  2016-05-22"
      ]
     },
     "execution_count": 44,
     "metadata": {},
     "output_type": "execute_result"
    }
   ],
   "source": [
    "query = f\"\"\"\n",
    "    WITH\n",
    "        SPLIT AS (\n",
    "            SELECT splits, min({TIME_COLUMN}) as mindate, max({TIME_COLUMN}) as maxdate\n",
    "            FROM `{BQ_PROJECT}.{BQ_DATASET}.{BQ_TABLE}_prepped`\n",
    "            GROUP BY splits\n",
    "        ),\n",
    "        TRAIN AS (\n",
    "            SELECT mindate as start_date\n",
    "            FROM SPLIT\n",
    "            WHERE splits ='TRAIN'\n",
    "        ),\n",
    "        VAL AS (\n",
    "            SELECT mindate as val_start\n",
    "            FROM SPLIT\n",
    "            WHERE splits = 'VALIDATE'\n",
    "        ),\n",
    "        TEST AS (\n",
    "            SELECT mindate as test_start, maxdate as end_date\n",
    "            FROM SPLIT\n",
    "            WHERE splits = 'TEST'\n",
    "        )\n",
    "    SELECT * EXCEPT(pos) FROM\n",
    "    (SELECT *, ROW_NUMBER() OVER() pos FROM TRAIN)\n",
    "    JOIN (SELECT *, ROW_NUMBER() OVER() pos FROM VAL)\n",
    "    USING (pos)\n",
    "    JOIN (SELECT *, ROW_NUMBER() OVER() pos FROM TEST)\n",
    "    USING (pos)\n",
    "\"\"\"\n",
    "keyDates = bq.query(query).to_dataframe()\n",
    "keyDates"
   ]
  },
  {
   "cell_type": "code",
   "execution_count": null,
   "id": "a1e5f30c-fe20-43cf-a022-a8550e890624",
   "metadata": {},
   "outputs": [],
   "source": [
    "query = f\"\"\"\n",
    "    SELECT \n",
    "        {SERIES_COLUMN}, {TIME_COLUMN}, {TARGET_COLUMN}, splits,\n",
    "        {', '.join(COVARIATE_COLUMNS)}\n",
    "    FROM `{BQ_PROJECT}.{BQ_DATASET}.{BQ_TABLE}_prepped`\n",
    "    ORDER by {SERIES_COLUMN}, {TIME_COLUMN}\n",
    "\"\"\"\n",
    "rawSeries = bq.query(query).to_dataframe()"
   ]
  },
  {
   "cell_type": "code",
   "execution_count": null,
   "id": "a00ff790-da9f-4f76-8b95-17dddefd4549",
   "metadata": {},
   "outputs": [],
   "source": []
  }
 ],
 "metadata": {
  "environment": {
   "kernel": "python3",
   "name": "common-cpu.m103",
   "type": "gcloud",
   "uri": "gcr.io/deeplearning-platform-release/base-cpu:m103"
  },
  "kernelspec": {
   "display_name": "Python 3",
   "language": "python",
   "name": "python3"
  },
  "language_info": {
   "codemirror_mode": {
    "name": "ipython",
    "version": 3
   },
   "file_extension": ".py",
   "mimetype": "text/x-python",
   "name": "python",
   "nbconvert_exporter": "python",
   "pygments_lexer": "ipython3",
   "version": "3.7.12"
  }
 },
 "nbformat": 4,
 "nbformat_minor": 5
}
