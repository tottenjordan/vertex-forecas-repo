{
 "cells": [
  {
   "cell_type": "markdown",
   "id": "5b1d6172-65a8-4978-a77d-100f5b1534cb",
   "metadata": {},
   "source": [
    "# Multi-step Boosted Tree Regression + Lags + Leads"
   ]
  },
  {
   "cell_type": "markdown",
   "id": "f9a28b68-234c-4afd-a7f9-1e4a9df659f6",
   "metadata": {},
   "source": [
    "Multi-step Prediction - What is demand today (Example 2) based on\n",
    "* Covariates\n",
    "* Using Time Features: Week, Month, Year, Day, ...\n",
    "* Using Lags for 1 day, 1 week (7), 1 month (28), 1 quarter (90), 1 year\n",
    "* Using Leads for each horizon day as targets for Multi-step models"
   ]
  },
  {
   "cell_type": "code",
   "execution_count": null,
   "id": "4361c866-3be5-41e9-bc4b-0954c3c7c652",
   "metadata": {},
   "outputs": [],
   "source": []
  }
 ],
 "metadata": {
  "environment": {
   "kernel": "python3",
   "name": "common-cpu.m103",
   "type": "gcloud",
   "uri": "gcr.io/deeplearning-platform-release/base-cpu:m103"
  },
  "kernelspec": {
   "display_name": "Python 3",
   "language": "python",
   "name": "python3"
  },
  "language_info": {
   "codemirror_mode": {
    "name": "ipython",
    "version": 3
   },
   "file_extension": ".py",
   "mimetype": "text/x-python",
   "name": "python",
   "nbconvert_exporter": "python",
   "pygments_lexer": "ipython3",
   "version": "3.7.12"
  }
 },
 "nbformat": 4,
 "nbformat_minor": 5
}
