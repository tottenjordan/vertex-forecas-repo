{
 "cells": [
  {
   "cell_type": "code",
   "execution_count": 1,
   "id": "6f369751-8b86-4a39-9103-06f7eca39ea2",
   "metadata": {},
   "outputs": [
    {
     "name": "stdout",
     "output_type": "stream",
     "text": [
      "PROJECT_ID: hybrid-vertex\n",
      "PROJECT_NUM: 934903580331\n",
      "LOCATION: us-central1\n",
      "REGION: us-central1\n",
      "VERTEX_SA: jt-vertex-sa@hybrid-vertex.iam.gserviceaccount.com\n"
     ]
    }
   ],
   "source": [
    "GCP_PROJECTS = !gcloud config get-value project\n",
    "PROJECT_ID = GCP_PROJECTS[0]\n",
    "PROJECT_NUM = !gcloud projects list --filter=\"$PROJECT_ID\" --format=\"value(PROJECT_NUMBER)\"\n",
    "PROJECT_NUM = PROJECT_NUM[0]\n",
    "LOCATION = 'us-central1'\n",
    "REGION = \"us-central1\"\n",
    "\n",
    "# VERTEX_SA = '934903580331-compute@developer.gserviceaccount.com'\n",
    "VERTEX_SA = 'jt-vertex-sa@hybrid-vertex.iam.gserviceaccount.com'\n",
    "\n",
    "print(f\"PROJECT_ID: {PROJECT_ID}\")\n",
    "print(f\"PROJECT_NUM: {PROJECT_NUM}\")\n",
    "print(f\"LOCATION: {LOCATION}\")\n",
    "print(f\"REGION: {REGION}\")\n",
    "print(f\"VERTEX_SA: {VERTEX_SA}\")"
   ]
  },
  {
   "cell_type": "code",
   "execution_count": 15,
   "id": "d87131ed-b9c8-49fc-9461-8568a4cc1ecd",
   "metadata": {},
   "outputs": [],
   "source": [
    "REGION = 'us-central1'\n",
    "EXPERIMENT = 'control_group1'\n",
    "SERIES = 'causal_impact_4'\n",
    "\n",
    "BQ_PROJECT = PROJECT_ID\n",
    "BQ_DATASET = SERIES.replace('-','_')\n",
    "BQ_TABLE = EXPERIMENT\n",
    "\n",
    "BQ_SOURCE1 = 'bigquery-public-data.new_york.citibike_trips'\n",
    "BQ_SOURCE2 = 'bigquery-public-data.new_york.citibike_stations'\n",
    "\n",
    "viz_limit = 12"
   ]
  },
  {
   "cell_type": "code",
   "execution_count": 16,
   "id": "4e529600-c141-47d3-8a01-2d1b4d2a324e",
   "metadata": {},
   "outputs": [],
   "source": [
    "from google.cloud import bigquery\n",
    "\n",
    "import matplotlib.pyplot as plt\n",
    "import pandas as pd\n",
    "from datetime import datetime, timedelta\n",
    "\n",
    "from google.cloud import aiplatform as vertex_ai\n",
    "\n",
    "bq = bigquery.Client(project=PROJECT_ID)\n",
    "\n",
    "vertex_ai.init(\n",
    "    project=PROJECT_ID, \n",
    "    location=REGION,\n",
    "    # credentials=credentials\n",
    ")"
   ]
  },
  {
   "cell_type": "code",
   "execution_count": 18,
   "id": "6cb7b5ce-5541-4ecd-b99b-54a77b2e92e4",
   "metadata": {},
   "outputs": [],
   "source": [
    "# CUSTOMIZE\n",
    "TARGET_COLUMN = 'num_trips'\n",
    "TIME_COLUMN = 'starttime'\n",
    "SERIES_COLUMN = 'start_station_name'\n",
    "COVARIATE_COLUMNS = [\n",
    "    'avg_tripduration', \n",
    "    'pct_subscriber', \n",
    "    'ratio_gender', \n",
    "    'capacity'\n",
    "] # could be empty\n",
    "\n",
    "BQ_TABLE_GROUP_A=\"control_group1_grp_a\"\n",
    "# BQ_TABLE_GROUP_B=\"control_group1_grp_b\""
   ]
  },
  {
   "cell_type": "code",
   "execution_count": 19,
   "id": "b6b7191a-e4c1-44a8-883a-5d5b4bef0f3d",
   "metadata": {},
   "outputs": [
    {
     "data": {
      "text/html": [
       "<div>\n",
       "<style scoped>\n",
       "    .dataframe tbody tr th:only-of-type {\n",
       "        vertical-align: middle;\n",
       "    }\n",
       "\n",
       "    .dataframe tbody tr th {\n",
       "        vertical-align: top;\n",
       "    }\n",
       "\n",
       "    .dataframe thead th {\n",
       "        text-align: right;\n",
       "    }\n",
       "</style>\n",
       "<table border=\"1\" class=\"dataframe\">\n",
       "  <thead>\n",
       "    <tr style=\"text-align: right;\">\n",
       "      <th></th>\n",
       "      <th>start_date</th>\n",
       "      <th>val_start</th>\n",
       "      <th>test_start</th>\n",
       "      <th>end_date</th>\n",
       "    </tr>\n",
       "  </thead>\n",
       "  <tbody>\n",
       "    <tr>\n",
       "      <th>0</th>\n",
       "      <td>2013-07-01</td>\n",
       "      <td>2016-05-14</td>\n",
       "      <td>2016-07-23</td>\n",
       "      <td>2016-09-30</td>\n",
       "    </tr>\n",
       "  </tbody>\n",
       "</table>\n",
       "</div>"
      ],
      "text/plain": [
       "   start_date   val_start  test_start    end_date\n",
       "0  2013-07-01  2016-05-14  2016-07-23  2016-09-30"
      ]
     },
     "execution_count": 19,
     "metadata": {},
     "output_type": "execute_result"
    }
   ],
   "source": [
    "query = f\"\"\"\n",
    "    WITH\n",
    "        SPLIT AS (\n",
    "            SELECT splits, min({TIME_COLUMN}) as mindate, max({TIME_COLUMN}) as maxdate\n",
    "            FROM `{BQ_PROJECT}.{BQ_DATASET}.{BQ_TABLE_GROUP_A}`\n",
    "            GROUP BY splits\n",
    "        ),\n",
    "        TRAIN AS (\n",
    "            SELECT mindate as start_date\n",
    "            FROM SPLIT\n",
    "            WHERE splits ='TRAIN'\n",
    "        ),\n",
    "        VAL AS (\n",
    "            SELECT mindate as val_start\n",
    "            FROM SPLIT\n",
    "            WHERE splits = 'VALIDATE'\n",
    "        ),\n",
    "        TEST AS (\n",
    "            SELECT mindate as test_start, maxdate as end_date\n",
    "            FROM SPLIT\n",
    "            WHERE splits = 'TEST'\n",
    "        )\n",
    "    SELECT * EXCEPT(pos) FROM\n",
    "    (SELECT *, ROW_NUMBER() OVER() pos FROM TRAIN)\n",
    "    JOIN (SELECT *, ROW_NUMBER() OVER() pos FROM VAL)\n",
    "    USING (pos)\n",
    "    JOIN (SELECT *, ROW_NUMBER() OVER() pos FROM TEST)\n",
    "    USING (pos)\n",
    "\"\"\"\n",
    "keyDates = bq.query(query).to_dataframe()\n",
    "keyDates"
   ]
  },
  {
   "cell_type": "code",
   "execution_count": 20,
   "id": "cf47d2fd-ba2a-4479-8018-a5033cb9ec39",
   "metadata": {},
   "outputs": [],
   "source": [
    "query = f\"\"\"\n",
    "    SELECT {SERIES_COLUMN}, {TIME_COLUMN}, {TARGET_COLUMN}, splits,\n",
    "        {', '.join(COVARIATE_COLUMNS)}\n",
    "    FROM `{BQ_PROJECT}.{BQ_DATASET}.{BQ_TABLE_GROUP_A}`\n",
    "    ORDER by {SERIES_COLUMN}, {TIME_COLUMN}\n",
    "\"\"\"\n",
    "rawSeries = bq.query(query).to_dataframe()"
   ]
  },
  {
   "cell_type": "markdown",
   "id": "1820275f-04b7-4d98-abfc-b562af1bab73",
   "metadata": {},
   "source": [
    "## Train MLR - Group A"
   ]
  },
  {
   "cell_type": "code",
   "execution_count": 21,
   "id": "df908a63-b736-4255-ab47-16e756b5340a",
   "metadata": {},
   "outputs": [],
   "source": [
    "# CUSTOMIZE\n",
    "forecast_granularity = 'DAY'\n",
    "forecast_horizon = 7 #14\n",
    "forecast_test_length = 14\n",
    "#forecast_val_length = 14"
   ]
  },
  {
   "cell_type": "code",
   "execution_count": 22,
   "id": "709285c2-3519-4447-965a-1e6c479d5931",
   "metadata": {},
   "outputs": [
    {
     "name": "stdout",
     "output_type": "stream",
     "text": [
      "\n",
      "    CREATE OR REPLACE MODEL `hybrid-vertex.causal_impact_4.control_group1_grp_a_mlr`\n",
      "    OPTIONS\n",
      "      (model_type = 'linear_reg',\n",
      "       input_label_cols = ['num_trips']\n",
      "      ) AS\n",
      "    SELECT starttime, num_trips,\n",
      "        avg_tripduration, pct_subscriber, ratio_gender, capacity\n",
      "    FROM `hybrid-vertex.causal_impact_4.control_group1_grp_a`\n",
      "    WHERE splits in ('TRAIN','VALIDATE')\n",
      "\n"
     ]
    }
   ],
   "source": [
    "query = f\"\"\"\n",
    "    CREATE OR REPLACE MODEL `{BQ_PROJECT}.{BQ_DATASET}.{BQ_TABLE_GROUP_A}_mlr`\n",
    "    OPTIONS\n",
    "      (model_type = 'linear_reg',\n",
    "       input_label_cols = ['{TARGET_COLUMN}']\n",
    "      ) AS\n",
    "    SELECT {TIME_COLUMN}, {TARGET_COLUMN},\n",
    "        {', '.join(COVARIATE_COLUMNS)}\n",
    "    FROM `{BQ_PROJECT}.{BQ_DATASET}.{BQ_TABLE_GROUP_A}`\n",
    "    WHERE splits in ('TRAIN','VALIDATE')\n",
    "\"\"\"\n",
    "print(query)"
   ]
  },
  {
   "cell_type": "code",
   "execution_count": 23,
   "id": "78d70fa7-b636-441e-a0f3-8225cbe20be1",
   "metadata": {},
   "outputs": [
    {
     "name": "stdout",
     "output_type": "stream",
     "text": [
      "DONE 33.08\n"
     ]
    }
   ],
   "source": [
    "job = bq.query(query)\n",
    "job.result()\n",
    "print(job.state, (job.ended-job.started).total_seconds())"
   ]
  },
  {
   "cell_type": "markdown",
   "id": "ffb3ef9e-7b3a-4aa8-8f48-7d81c7ad53f6",
   "metadata": {},
   "source": [
    "### Review Input Features"
   ]
  },
  {
   "cell_type": "code",
   "execution_count": null,
   "id": "4e6f7c99-af11-4f86-be2c-390eb741c5b1",
   "metadata": {},
   "outputs": [],
   "source": [
    "query = f\"\"\"\n",
    "    SELECT *\n",
    "    FROM ML.FEATURE_INFO(MODEL `{BQ_PROJECT}.{BQ_DATASET}.{BQ_TABLE_GROUP_A}_mlr`)\n",
    "\"\"\"\n",
    "featureInfo = bq.query(query).to_dataframe()\n",
    "featureInfo.head()"
   ]
  },
  {
   "cell_type": "code",
   "execution_count": null,
   "id": "2e310d24-7226-4d4a-ad01-a533195a5067",
   "metadata": {},
   "outputs": [],
   "source": [
    "query = f\"\"\"\n",
    "    SELECT *\n",
    "    FROM ML.TRAINING_INFO(MODEL `{BQ_PROJECT}.{BQ_DATASET}.{BQ_TABLE_GROUP_A}_mlr`)\n",
    "\"\"\"\n",
    "trainingInfo = bq.query(query).to_dataframe()\n",
    "trainingInfo.head()"
   ]
  },
  {
   "cell_type": "markdown",
   "id": "7ffeef28-53d7-4798-aac1-a417c60282ad",
   "metadata": {},
   "source": [
    "## Forecast Evaluation"
   ]
  },
  {
   "cell_type": "code",
   "execution_count": null,
   "id": "d150bb24-ab3b-47c7-8b54-622a4da7ef7d",
   "metadata": {},
   "outputs": [],
   "source": [
    "query = f\"\"\"\n",
    "    SELECT *\n",
    "    FROM ML.EVALUATE(\n",
    "        MODEL `{BQ_PROJECT}.{BQ_DATASET}.{BQ_TABLE_GROUP_A}_mlr`,\n",
    "        (\n",
    "            SELECT {TIME_COLUMN}, {TARGET_COLUMN},\n",
    "                {', '.join(COVARIATE_COLUMNS)}\n",
    "            FROM `{BQ_PROJECT}.{BQ_DATASET}.{BQ_TABLE_GROUP_A}`\n",
    "            WHERE splits = 'TEST'\n",
    "        )\n",
    "    )\n",
    "\"\"\"\n",
    "metrics = bq.query(query).to_dataframe()\n",
    "metrics"
   ]
  },
  {
   "cell_type": "markdown",
   "id": "53897cde-90b1-406a-a10f-84c5411fb07c",
   "metadata": {},
   "source": [
    "## Forecast Test Set"
   ]
  },
  {
   "cell_type": "code",
   "execution_count": null,
   "id": "99f0cfaa-810d-43bf-ab04-bf76e816e46a",
   "metadata": {},
   "outputs": [],
   "source": [
    "query = f\"\"\"\n",
    "    SELECT *\n",
    "    FROM ML.PREDICT(\n",
    "        MODEL `{BQ_PROJECT}.{BQ_DATASET}.{BQ_TABLE_GROUP_A}_mlr`,\n",
    "        (\n",
    "            SELECT \n",
    "                {TIME_COLUMN}, \n",
    "                {TARGET_COLUMN},\n",
    "                {', '.join(COVARIATE_COLUMNS)},\n",
    "                {SERIES_COLUMN}\n",
    "            FROM `{BQ_PROJECT}.{BQ_DATASET}.{BQ_TABLE_GROUP_A}`\n",
    "        )\n",
    "        )\n",
    "\"\"\"\n",
    "forecast = bq.query(query).to_dataframe()\n",
    "forecast\n",
    "# print(query)"
   ]
  },
  {
   "cell_type": "code",
   "execution_count": null,
   "id": "932a7d81-9725-4f21-ba74-832818bfcce2",
   "metadata": {},
   "outputs": [],
   "source": [
    "# CUSTOMIZE\n",
    "query = f\"\"\"\n",
    "CREATE OR REPLACE TABLE `{BQ_PROJECT}.{BQ_DATASET}.{BQ_TABLE_GROUP_A}_pred_Test` AS (\n",
    "    SELECT * FROM ML.PREDICT(\n",
    "            MODEL `{BQ_PROJECT}.{BQ_DATASET}.{BQ_TABLE_GROUP_A}_mlr`,\n",
    "            (\n",
    "                SELECT\n",
    "                {TIME_COLUMN}, \n",
    "                {TARGET_COLUMN},\n",
    "                {', '.join(COVARIATE_COLUMNS)},\n",
    "                {SERIES_COLUMN}\n",
    "            FROM `{BQ_PROJECT}.{BQ_DATASET}.{BQ_TABLE_GROUP_A}`\n",
    "                WHERE splits = 'TEST'\n",
    "            )\n",
    "            )\n",
    ")\n",
    "\"\"\"\n",
    "job = bq.query(query = query)\n",
    "job.result()\n",
    "(job.ended-job.started).total_seconds()"
   ]
  },
  {
   "cell_type": "code",
   "execution_count": null,
   "id": "655885b3-ee08-4767-8fb0-62bec365931e",
   "metadata": {},
   "outputs": [],
   "source": []
  }
 ],
 "metadata": {
  "environment": {
   "kernel": "python3",
   "name": "common-cpu.m103",
   "type": "gcloud",
   "uri": "gcr.io/deeplearning-platform-release/base-cpu:m103"
  },
  "kernelspec": {
   "display_name": "Python 3",
   "language": "python",
   "name": "python3"
  },
  "language_info": {
   "codemirror_mode": {
    "name": "ipython",
    "version": 3
   },
   "file_extension": ".py",
   "mimetype": "text/x-python",
   "name": "python",
   "nbconvert_exporter": "python",
   "pygments_lexer": "ipython3",
   "version": "3.7.12"
  }
 },
 "nbformat": 4,
 "nbformat_minor": 5
}
