{
 "cells": [
  {
   "cell_type": "markdown",
   "id": "35dc312e-aa9e-4d09-944f-100eb7ee6509",
   "metadata": {},
   "source": [
    "# Forecasting with Vertex Tabular Workflows\n",
    "\n",
    "[Tabular Workflows for Forecasting](https://cloud.google.com/vertex-ai/docs/tabular-data/tabular-workflows/overview#f) is the complete pipeline for forecasting tasks. It is similar to the AutoML API, but allows you to choose what to control and what to automate. Instead of having controls for the whole pipeline, you have controls for every step in the pipeline. These pipeline controls include:\n",
    "\n",
    "* Data splitting\n",
    "* Feature engineering\n",
    "* Architecture search\n",
    "* Model training\n",
    "* Model ensembling\n",
    "\n",
    "**Objectives of this notebook**\n",
    "* train with and forecast *Iowa liquor BigQuery public dataset*\n",
    "* Use Tabular Workflows to orchestrate Vertex Forecast pipeline\n",
    "* Track experiments\n",
    "* Run model evalutaions for trained forecast models\n",
    "\n",
    "**TODOs**\n",
    "* `skip architecture search` in a retraining pipeline\n",
    "* upload v2 of a model and its evals"
   ]
  },
  {
   "cell_type": "code",
   "execution_count": 1,
   "id": "44fd63e1-a2e6-44d8-a956-ee602430fbb7",
   "metadata": {
    "tags": []
   },
   "outputs": [],
   "source": [
    "# !pip3 install {USER_FLAG} google-cloud-aiplatform kfp google-cloud-pipeline-components --upgrade\n",
    "# !pip3 install --no-cache-dir {USER_FLAG} PyYAML==5.3.1 "
   ]
  },
  {
   "cell_type": "code",
   "execution_count": 2,
   "id": "d7f338bf-70d6-4464-89dd-f87a45d99cce",
   "metadata": {
    "tags": []
   },
   "outputs": [
    {
     "name": "stdout",
     "output_type": "stream",
     "text": [
      "KFP SDK version: 2.4.0\n",
      "google_cloud_pipeline_components version: 2.3.0\n"
     ]
    }
   ],
   "source": [
    "!python3 -c \"import kfp; print('KFP SDK version: {}'.format(kfp.__version__))\"\n",
    "!python3 -c \"import google_cloud_pipeline_components; print('google_cloud_pipeline_components version: {}'.format(google_cloud_pipeline_components.__version__))\""
   ]
  },
  {
   "cell_type": "markdown",
   "id": "aa145e15-4650-4e2e-a5a8-ea9f71816ef1",
   "metadata": {},
   "source": [
    "## Load notebook config\n",
    "\n",
    "> use the prefix defined in 00-env-setup"
   ]
  },
  {
   "cell_type": "code",
   "execution_count": 3,
   "id": "eb269c2c-5697-4f9e-ab5b-2bd9f0868ee8",
   "metadata": {},
   "outputs": [],
   "source": [
    "CREATE_NEW_ASSETS = True"
   ]
  },
  {
   "cell_type": "code",
   "execution_count": 4,
   "id": "e8ae3b82-a0f7-41ed-9e2c-3a0552974d3c",
   "metadata": {
    "tags": []
   },
   "outputs": [
    {
     "name": "stdout",
     "output_type": "stream",
     "text": [
      "PREFIX = forecast-refresh-v1\n"
     ]
    }
   ],
   "source": [
    "# naming convention for all cloud resources\n",
    "VERSION        = \"v1\"              # TODO\n",
    "PREFIX         = f'forecast-refresh-{VERSION}'   # TODO\n",
    "\n",
    "print(f\"PREFIX = {PREFIX}\")"
   ]
  },
  {
   "cell_type": "code",
   "execution_count": 5,
   "id": "c1368cb3-2cdf-4571-9281-c847cead0318",
   "metadata": {
    "tags": []
   },
   "outputs": [
    {
     "name": "stdout",
     "output_type": "stream",
     "text": [
      "\n",
      "PROJECT_ID               = \"hybrid-vertex\"\n",
      "PROJECT_NUM              = \"934903580331\"\n",
      "LOCATION                 = \"us-central1\"\n",
      "\n",
      "REGION                   = \"us-central1\"\n",
      "BQ_LOCATION              = \"US\"\n",
      "VPC_NETWORK_NAME         = \"ucaip-haystack-vpc-network\"\n",
      "\n",
      "VERTEX_SA                = \"934903580331-compute@developer.gserviceaccount.com\"\n",
      "\n",
      "PREFIX                   = \"forecast-refresh-v1\"\n",
      "VERSION                  = \"v1\"\n",
      "\n",
      "BUCKET_NAME              = \"forecast-refresh-v1-hybrid-vertex-gcs\"\n",
      "BUCKET_URI               = \"gs://forecast-refresh-v1-hybrid-vertex-gcs\"\n",
      "\n",
      "DATA_GCS_PREFIX          = \"data\"\n",
      "DATA_PATH                = \"gs://forecast-refresh-v1-hybrid-vertex-gcs/data\"\n",
      "\n",
      "\n",
      "VPC_NETWORK_FULL         = \"projects/934903580331/global/networks/ucaip-haystack-vpc-network\"\n",
      "\n"
     ]
    }
   ],
   "source": [
    "# staging GCS\n",
    "GCP_PROJECTS             = !gcloud config get-value project\n",
    "PROJECT_ID               = GCP_PROJECTS[0]\n",
    "\n",
    "# ! gcloud config set project $PROJECT_ID\n",
    "\n",
    "# GCS bucket and paths\n",
    "BUCKET_NAME              = f'{PREFIX}-{PROJECT_ID}-gcs'\n",
    "BUCKET_URI               = f'gs://{BUCKET_NAME}'\n",
    "\n",
    "config = !gsutil cat {BUCKET_URI}/config/notebook_env.py\n",
    "print(config.n)\n",
    "exec(config.n)"
   ]
  },
  {
   "cell_type": "code",
   "execution_count": 6,
   "id": "30fd1173-e7ec-45d2-ac4f-ef6f35f1e18e",
   "metadata": {
    "tags": []
   },
   "outputs": [
    {
     "name": "stdout",
     "output_type": "stream",
     "text": [
      "gs://forecast-refresh-v1-hybrid-vertex-gcs/automl_forecasting_pipeline/\n",
      "gs://forecast-refresh-v1-hybrid-vertex-gcs/config/\n"
     ]
    }
   ],
   "source": [
    "# For a list of available model metrics, go here:\n",
    "!gsutil ls $BUCKET_URI"
   ]
  },
  {
   "cell_type": "markdown",
   "id": "fea17aab-4aa5-4e8c-9ef4-06231621e4c9",
   "metadata": {},
   "source": [
    "### Define Vertex Experiment"
   ]
  },
  {
   "cell_type": "code",
   "execution_count": 7,
   "id": "adde7be5-33b5-4ea0-befe-96c895a42225",
   "metadata": {
    "tags": []
   },
   "outputs": [
    {
     "name": "stdout",
     "output_type": "stream",
     "text": [
      "tide-twrkflow-eval-v1\n"
     ]
    }
   ],
   "source": [
    "EXPERIMENT_TAG     = \"tide-twrkflow-eval\"\n",
    "EXPERIMENT_VERSION = \"v1\"\n",
    "\n",
    "EXPERIMENT_NAME = f\"{EXPERIMENT_TAG}-{EXPERIMENT_VERSION}\"\n",
    "\n",
    "print(EXPERIMENT_NAME)"
   ]
  },
  {
   "cell_type": "markdown",
   "id": "d6d40790-c76b-4473-8b94-836131bd8cb4",
   "metadata": {},
   "source": [
    "## Imports"
   ]
  },
  {
   "cell_type": "code",
   "execution_count": 8,
   "id": "4986ccbd-7a47-4a01-a673-3fc0c706192d",
   "metadata": {
    "tags": []
   },
   "outputs": [],
   "source": [
    "# Import required modules\n",
    "import json\n",
    "import datetime\n",
    "from pprint import pprint\n",
    "from typing import Any, Dict, List, Optional\n",
    "\n",
    "from google.cloud import aiplatform, storage, bigquery\n",
    "\n",
    "# from google_cloud_pipeline_components.types.artifact_types import VertexDataset\n",
    "from google_cloud_pipeline_components.preview.automl.forecasting import \\\n",
    "    utils as automl_forecasting_utils\n",
    "\n",
    "\n",
    "# Construct a BigQuery client object.\n",
    "bq_client = bigquery.Client(project=PROJECT_ID)\n",
    "\n",
    "aiplatform.init(\n",
    "    experiment=EXPERIMENT_NAME, \n",
    "    project=PROJECT_ID, \n",
    "    location=REGION\n",
    ")\n",
    "\n",
    "import sys\n",
    "sys.path.append(\"..\")\n",
    "from src import helpers"
   ]
  },
  {
   "cell_type": "markdown",
   "id": "decaf69b-37d9-4319-a1a1-fef32de88954",
   "metadata": {},
   "source": [
    "## Create BigQuery Dataset"
   ]
  },
  {
   "cell_type": "code",
   "execution_count": 10,
   "id": "ca65b389-d25a-4724-b2ea-c8c7cb3b88c0",
   "metadata": {
    "tags": []
   },
   "outputs": [
    {
     "data": {
      "text/plain": [
       "Dataset(DatasetReference('hybrid-vertex', 'tide_twrkflow_eval_v1'))"
      ]
     },
     "execution_count": 10,
     "metadata": {},
     "output_type": "execute_result"
    }
   ],
   "source": [
    "BIGQUERY_DATASET_NAME = EXPERIMENT_NAME.replace(\"-\",\"_\")\n",
    "\n",
    "if CREATE_NEW_ASSETS:\n",
    "    ds = bigquery.Dataset(f\"{PROJECT_ID}.{BIGQUERY_DATASET_NAME}\")\n",
    "    ds.location = BQ_LOCATION\n",
    "    ds = bq_client.create_dataset(dataset = ds, exists_ok = True)\n",
    "    # print(ds.full_dataset_id)\n",
    "else:\n",
    "    ds = bigquery.Dataset(f\"{PROJECT_ID}.{BIGQUERY_DATASET_NAME}\")\n",
    "    \n",
    "ds \n",
    "# ds.dataset_id\n",
    "# ds.full_dataset_id"
   ]
  },
  {
   "cell_type": "markdown",
   "id": "eb45f81e-9371-469e-97a7-6f747454df2e",
   "metadata": {},
   "source": [
    "## prepare train job"
   ]
  },
  {
   "cell_type": "code",
   "execution_count": 11,
   "id": "cbe6f627-9f46-42c8-8699-1c7b8472e1fe",
   "metadata": {
    "tags": []
   },
   "outputs": [
    {
     "name": "stdout",
     "output_type": "stream",
     "text": [
      "ROOT_DIR = gs://forecast-refresh-v1-hybrid-vertex-gcs/automl_forecasting_pipeline/tide-twrkflow-eval-v1/run-0216_31_00_023491\n"
     ]
    }
   ],
   "source": [
    "# Dataflow's fully qualified subnetwork name, when empty the default subnetwork will be used.\n",
    "dataflow_subnetwork           = None \n",
    "\n",
    "# Specifies whether Dataflow workers use public IP addresses.\n",
    "dataflow_use_public_ips       = True\n",
    "\n",
    "NOW                           = datetime.datetime.now().strftime(\"%d %H:%M:%S.%f\").replace(\" \",\"\").replace(\":\",\"_\").replace(\".\",\"_\")\n",
    "ROOT_DIR                      = f\"{BUCKET_URI}/automl_forecasting_pipeline/{EXPERIMENT_NAME}/run-{NOW}\"\n",
    "time_column                   = \"date\"\n",
    "time_series_identifier_column = \"store_name\"\n",
    "target_column                 = \"sale_dollars\"\n",
    "data_source_csv_filenames     = None\n",
    "\n",
    "print(f\"ROOT_DIR = {ROOT_DIR}\")"
   ]
  },
  {
   "cell_type": "code",
   "execution_count": 12,
   "id": "8aed5e93-24b2-4161-8666-da43fa78a872",
   "metadata": {
    "tags": []
   },
   "outputs": [
    {
     "name": "stdout",
     "output_type": "stream",
     "text": [
      "available_at_forecast_columns    = ['date']\n",
      "unavailable_at_forecast_columns  = ['sale_dollars']\n",
      "time_series_attribute_columns    = ['city', 'zip_code', 'county']\n"
     ]
    }
   ],
   "source": [
    "data_source_bigquery_table_path = (\n",
    "    \"bq://bigquery-public-data.iowa_liquor_sales_forecasting.2020_sales_train\"\n",
    ")\n",
    "\n",
    "training_fraction = 0.8\n",
    "validation_fraction = 0.1\n",
    "test_fraction = 0.1\n",
    "\n",
    "predefined_split_key = None\n",
    "if predefined_split_key:\n",
    "    training_fraction = None\n",
    "    validation_fraction = None\n",
    "    test_fraction = None\n",
    "\n",
    "weight_column = None\n",
    "\n",
    "features = [\n",
    "    time_column,\n",
    "    target_column,\n",
    "    \"city\",\n",
    "    \"zip_code\",\n",
    "    \"county\",\n",
    "]\n",
    "\n",
    "available_at_forecast_columns = [time_column]\n",
    "unavailable_at_forecast_columns = [target_column]\n",
    "time_series_attribute_columns = [\"city\", \"zip_code\", \"county\"]\n",
    "\n",
    "forecast_horizon = 150\n",
    "context_window = 150\n",
    "\n",
    "print(f\"available_at_forecast_columns    = {available_at_forecast_columns}\")\n",
    "print(f\"unavailable_at_forecast_columns  = {unavailable_at_forecast_columns}\")\n",
    "print(f\"time_series_attribute_columns    = {time_series_attribute_columns}\")"
   ]
  },
  {
   "cell_type": "code",
   "execution_count": 13,
   "id": "dff50d5c-1bef-4f95-92ba-a5877d360460",
   "metadata": {
    "tags": []
   },
   "outputs": [
    {
     "name": "stdout",
     "output_type": "stream",
     "text": [
      "transformations       = {'auto': ['date', 'sale_dollars', 'city', 'zip_code', 'county'], 'numeric': [], 'categorical': [], 'text': [], 'timestamp': []}\n",
      "\n"
     ]
    }
   ],
   "source": [
    "transformations = helpers.generate_transformation(auto_column_names=features)\n",
    "\n",
    "print(f\"transformations       = {transformations}\\n\")"
   ]
  },
  {
   "cell_type": "code",
   "execution_count": 14,
   "id": "44ae7f8b-da1e-419c-b50a-17a69db9436e",
   "metadata": {
    "tags": []
   },
   "outputs": [
    {
     "name": "stdout",
     "output_type": "stream",
     "text": [
      "gs://forecast-refresh-v1-hybrid-vertex-gcs/automl_forecasting_pipeline/\n",
      "gs://forecast-refresh-v1-hybrid-vertex-gcs/config/\n"
     ]
    }
   ],
   "source": [
    "# For a list of available model metrics, go here:\n",
    "!gsutil ls $BUCKET_URI/"
   ]
  },
  {
   "cell_type": "markdown",
   "id": "88ca7d3f-7120-4f9c-9a69-eecd0aa3a307",
   "metadata": {},
   "source": [
    "# Vertex Forecast Training\n",
    "\n",
    "**Optimization Objectives** ([docs](https://cloud.google.com/vertex-ai/docs/tabular-data/forecasting-parameters#optimization-objectives))\n",
    "\n",
    "| Objective  | API                      | Use case |\n",
    "| :--------: | :------------:           | :------------------------------------- |\n",
    "| RMSE       | `minimize-rmse`          | Minimize root-mean-squared error (RMSE). Captures more extreme values accurately and is less biased when aggregating predictions.Default value. |\n",
    "| MAE        | `minimize-mae`           | Minimize mean-absolute error (MAE). Views extreme values as outliers with less impact on model. |\n",
    "| RMSLE      | `minimize-rmsle`         | Minimize root-mean-squared log error (RMSLE). Penalizes error on relative size rather than absolute value. Useful when both predicted and actual values can be large. |\n",
    "| RMSPE      | `minimize-rmspe`         | Minimize root-mean-squared percentage error (RMSPE). Captures a large range of values accurately. Similar to RMSE, but relative to target magnitude. Useful when the range of values is large. |\n",
    "| WAPE       | `minimize-wape-mae`      | Minimize the combination of weighted absolute percentage error (WAPE) and mean-absolute-error (MAE). Useful when the actual values are low. |\n",
    "| QUANTILE   | `minimize-quantile-loss` | Minimize the scaled pinball loss of the defined quantiles to quantify uncertainty in estimates. Quantile predictions quantify the uncertainty of predictions. They measure the likelihood of a prediction being within a range. |\n",
    "\n",
    "\n",
    "**TiDE on Vertex Tabluar Workflows**\n",
    "* [src](https://github.com/kubeflow/pipelines/blob/master/components/google-cloud/google_cloud_pipeline_components/preview/automl/forecasting/utils.py#L413)"
   ]
  },
  {
   "cell_type": "markdown",
   "id": "fd20af59-98bf-4f7d-855e-d7316aa0e512",
   "metadata": {},
   "source": [
    "#### TODO\n",
    "\n",
    "* add `with dsl.ParallelFor(LIST) as cw:` for parallel jobs with diff params (e.g., statmike [example](https://github.com/statmike/vertex-ai-mlops/blob/main/Applied%20Forecasting/Vertex%20AI%20Pipelines%20-%20Forecasting%20Tournament%20with%20Kubeflow%20Pipelines%20(KFP).ipynb)"
   ]
  },
  {
   "cell_type": "code",
   "execution_count": 19,
   "id": "8d5c8289-e747-4905-aa05-f2fd0db54eb8",
   "metadata": {
    "tags": []
   },
   "outputs": [
    {
     "name": "stdout",
     "output_type": "stream",
     "text": [
      "JOB_ID = tide-twrkflow-eval-v1-0216-31-00-023491\n"
     ]
    }
   ],
   "source": [
    "# Number of weak models in the final ensemble model.\n",
    "num_selected_trials           = 5\n",
    "train_budget_milli_node_hours = 250  # 30 minutes\n",
    "\n",
    "optimization_objective        = \"minimize-rmspe\" \n",
    "\n",
    "RUN_EVALUATION                = True\n",
    "\n",
    "PROBABILISTIC_INFER           = False\n",
    "# QUANTILES                     = [0.25, 0.5, 0.9] # [0.05, 0.25, 0.50, 0.75, 0.95]\n",
    "\n",
    "JOB_ID                        = f\"{EXPERIMENT_NAME}-{NOW}\".replace(\"_\",\"-\")\n",
    "\n",
    "print(f\"JOB_ID = {JOB_ID}\")"
   ]
  },
  {
   "cell_type": "markdown",
   "id": "8c45834c-a982-4ef2-941e-080ee0c358b8",
   "metadata": {},
   "source": [
    "## (1) TiDE - full AutoML train & eval\n",
    "\n",
    "TiDE stands for \"Time series Dense Encoder\", which is a new model type in Vertex Forecasting and has the best training and inference performance while not sacrificing any model quality.\n",
    "\n",
    "For more details, please see https://ai.googleblog.com/2023/04/recent-advances-in-deep-long-horizon.html\n",
    "\n",
    "You will create a skip evaluation AutoML Forecasting pipeline with the following customizations:\n",
    "- Limit the hyperparameter search space\n",
    "- Change machine type and tuning / training parallelism"
   ]
  },
  {
   "cell_type": "code",
   "execution_count": 20,
   "id": "fa5a824e-8e1a-40c3-8473-967e8264a398",
   "metadata": {
    "tags": []
   },
   "outputs": [
    {
     "name": "stdout",
     "output_type": "stream",
     "text": [
      "Creating PipelineJob\n",
      "PipelineJob created. Resource name: projects/934903580331/locations/us-central1/pipelineJobs/tide-twrkflow-eval-v1-0216-31-00-023491\n",
      "To use this PipelineJob in another session:\n",
      "pipeline_job = aiplatform.PipelineJob.get('projects/934903580331/locations/us-central1/pipelineJobs/tide-twrkflow-eval-v1-0216-31-00-023491')\n",
      "View Pipeline Job:\n",
      "https://console.cloud.google.com/vertex-ai/locations/us-central1/pipelines/runs/tide-twrkflow-eval-v1-0216-31-00-023491?project=934903580331\n",
      "Associating projects/934903580331/locations/us-central1/pipelineJobs/tide-twrkflow-eval-v1-0216-31-00-023491 to Experiment: tide-twrkflow-eval-v1\n"
     ]
    }
   ],
   "source": [
    "(\n",
    "    template_path,\n",
    "    parameter_values,\n",
    ") = automl_forecasting_utils.get_time_series_dense_encoder_forecasting_pipeline_and_parameters(\n",
    "    project=PROJECT_ID,\n",
    "    location=REGION,\n",
    "    root_dir=ROOT_DIR,\n",
    "    target_column=target_column,\n",
    "    optimization_objective=optimization_objective,\n",
    "    transformations=transformations,\n",
    "    train_budget_milli_node_hours=train_budget_milli_node_hours,\n",
    "    data_source_csv_filenames=data_source_csv_filenames,\n",
    "    data_source_bigquery_table_path=data_source_bigquery_table_path,\n",
    "    weight_column=weight_column,\n",
    "    predefined_split_key=predefined_split_key,\n",
    "    training_fraction=training_fraction,\n",
    "    validation_fraction=validation_fraction,\n",
    "    test_fraction=test_fraction,\n",
    "    num_selected_trials=num_selected_trials,\n",
    "    time_column=time_column,\n",
    "    time_series_identifier_columns=[time_series_identifier_column],\n",
    "    time_series_attribute_columns=time_series_attribute_columns,\n",
    "    available_at_forecast_columns=available_at_forecast_columns,\n",
    "    unavailable_at_forecast_columns=unavailable_at_forecast_columns,\n",
    "    forecast_horizon=forecast_horizon,\n",
    "    context_window=context_window,\n",
    "    dataflow_subnetwork=dataflow_subnetwork,\n",
    "    dataflow_use_public_ips=dataflow_use_public_ips,\n",
    "    run_evaluation=RUN_EVALUATION,                          # set True to eval on test/valid set\n",
    "    evaluated_examples_bigquery_path=f'bq://{PROJECT_ID}.{BIGQUERY_DATASET_NAME}',\n",
    "    enable_probabilistic_inference=PROBABILISTIC_INFER,\n",
    "    # holiday_regions=['US','AE'],\n",
    "    \n",
    "    ### quantile forecast\n",
    "    # quantiles=QUANTILES,\n",
    "    \n",
    "    ### hierarchical forecast\n",
    "    # group_columns=XXXX,\n",
    "    # group_total_weight=XXXX,\n",
    "    # temporal_total_weight=XXXX,\n",
    "    # group_temporal_total_weight=XXXX,\n",
    ")\n",
    "\n",
    "\n",
    "job = aiplatform.PipelineJob(\n",
    "    display_name=JOB_ID,\n",
    "    location=REGION,  # launches the pipeline job in the specified region\n",
    "    template_path=template_path,\n",
    "    job_id=JOB_ID,\n",
    "    pipeline_root=ROOT_DIR,\n",
    "    parameter_values=parameter_values,\n",
    "    enable_caching=True,\n",
    "    # Uncomment the following line if you want to use Vertex managed dataset.\n",
    "    # input_artifacts={'vertex_dataset': vertex_dataset_artifact_id},\n",
    ")\n",
    "\n",
    "# job.run(sync=False,experiment=EXPERIMENT_NAME)\n",
    "job.submit(\n",
    "    experiment=EXPERIMENT_NAME,\n",
    "    # sync=False,\n",
    "    service_account=VERTEX_SA,\n",
    ")"
   ]
  },
  {
   "cell_type": "code",
   "execution_count": 42,
   "id": "784e3465-49ba-4191-a635-2c4dc5d2847d",
   "metadata": {
    "tags": []
   },
   "outputs": [
    {
     "data": {
      "text/plain": [
       "'/home/jupyter/.local/lib/python3.10/site-packages/google_cloud_pipeline_components/preview/automl/forecasting/time_series_dense_encoder_forecasting_pipeline.yaml'"
      ]
     },
     "execution_count": 42,
     "metadata": {},
     "output_type": "execute_result"
    }
   ],
   "source": [
    "template_path"
   ]
  },
  {
   "cell_type": "code",
   "execution_count": 47,
   "id": "c3c74e3e-354f-42e6-8eb1-41920d3c9f6a",
   "metadata": {
    "tags": []
   },
   "outputs": [
    {
     "data": {
      "text/plain": [
       "{'project': 'hybrid-vertex',\n",
       " 'location': 'us-central1',\n",
       " 'root_dir': 'gs://forecast-refresh-v1-hybrid-vertex-gcs/automl_forecasting_pipeline/tide-twrkflow-eval-v1/run-0218_06_46_910402',\n",
       " 'evaluated_examples_bigquery_path': 'bq://hybrid-vertex.tide_twrkflow_eval_v1',\n",
       " 'target_column': 'sale_dollars',\n",
       " 'optimization_objective': 'minimize-rmspe',\n",
       " 'transformations': {'auto': ['date',\n",
       "   'sale_dollars',\n",
       "   'city',\n",
       "   'zip_code',\n",
       "   'county'],\n",
       "  'numeric': [],\n",
       "  'categorical': [],\n",
       "  'text': [],\n",
       "  'timestamp': []},\n",
       " 'train_budget_milli_node_hours': 250.0,\n",
       " 'time_column': 'date',\n",
       " 'time_series_identifier_columns': ['store_name'],\n",
       " 'time_series_attribute_columns': ['city', 'zip_code', 'county'],\n",
       " 'available_at_forecast_columns': ['date'],\n",
       " 'unavailable_at_forecast_columns': ['sale_dollars'],\n",
       " 'forecast_horizon': 150,\n",
       " 'context_window': 150,\n",
       " 'stage_1_tuning_result_artifact_uri': 'gs://forecast-refresh-v1-hybrid-vertex-gcs/automl_forecasting_pipeline/tide-twrkflow-eval-v1/run-0216_31_00_023491/934903580331/tide-twrkflow-eval-v1-0216-31-00-023491/automl-forecasting-stage-1-tuner_7922991591873052672/tuning_result_output',\n",
       " 'num_selected_trials': 5,\n",
       " 'data_source_bigquery_table_path': 'bq://bigquery-public-data.iowa_liquor_sales_forecasting.2020_sales_train',\n",
       " 'training_fraction': 0.8,\n",
       " 'validation_fraction': 0.1,\n",
       " 'test_fraction': 0.1,\n",
       " 'feature_transform_engine_dataflow_machine_type': 'n1-standard-16',\n",
       " 'feature_transform_engine_dataflow_max_num_workers': 10,\n",
       " 'feature_transform_engine_dataflow_disk_size_gb': 40,\n",
       " 'dataflow_use_public_ips': True,\n",
       " 'feature_transform_engine_bigquery_staging_full_dataset_id': '',\n",
       " 'evaluation_batch_predict_machine_type': 'n1-standard-16',\n",
       " 'evaluation_batch_predict_starting_replica_count': 25,\n",
       " 'evaluation_batch_predict_max_replica_count': 25,\n",
       " 'evaluation_dataflow_machine_type': 'n1-standard-16',\n",
       " 'evaluation_dataflow_max_num_workers': 25,\n",
       " 'evaluation_dataflow_disk_size_gb': 50,\n",
       " 'study_spec_parameters_override': [],\n",
       " 'stage_1_tuner_worker_pool_specs_override': [],\n",
       " 'stage_2_trainer_worker_pool_specs_override': [],\n",
       " 'enable_probabilistic_inference': False,\n",
       " 'run_evaluation': True,\n",
       " 'group_total_weight': 0.0,\n",
       " 'temporal_total_weight': 0.0,\n",
       " 'group_temporal_total_weight': 0.0}"
      ]
     },
     "execution_count": 47,
     "metadata": {},
     "output_type": "execute_result"
    }
   ],
   "source": [
    "parameter_values #['context_window']"
   ]
  },
  {
   "cell_type": "code",
   "execution_count": 21,
   "id": "daa5ff12-cec7-48ef-a76e-d040d2188093",
   "metadata": {},
   "outputs": [
    {
     "name": "stdout",
     "output_type": "stream",
     "text": [
      "model-evaluation-forecasting-2\n",
      "string-not-empty\n",
      "get-or-create-model-description-2\n",
      "condition-2\n",
      "automl-forecasting-ensemble-2\n",
      "finalize-eval-quantile-parameters-2\n",
      "table-to-uri-2\n",
      "model-upload-2\n",
      "exit-handler-1\n",
      "feature-transform-engine\n",
      "calculate-training-parameters-2\n",
      "model-batch-explanation-2\n",
      "model-batch-predict-2\n",
      "set-optional-inputs\n",
      "split-materialized-data\n",
      "condition-5\n",
      "tide-twrkflow-eval-v1-0216-31-00-023491\n",
      "feature-attribution-2\n",
      "model-evaluation-import-2\n",
      "training-configurator-and-validator\n",
      "get-prediction-image-uri-2\n",
      "automl-tabular-finalizer\n",
      "condition-4\n",
      "automl-forecasting-stage-1-tuner\n",
      "get-predictions-column-2\n"
     ]
    }
   ],
   "source": [
    "pipeline_task_details = job.task_details\n",
    "\n",
    "for task_deets in pipeline_task_details:\n",
    "    print(task_deets.task_name)"
   ]
  },
  {
   "cell_type": "markdown",
   "id": "0816dcdf-89e3-450c-9fa8-3e2b49539126",
   "metadata": {},
   "source": [
    "### Get trained model"
   ]
  },
  {
   "cell_type": "code",
   "execution_count": 61,
   "id": "5f96ebb7-9971-407c-bc4e-d133df9fdfa9",
   "metadata": {
    "tags": []
   },
   "outputs": [
    {
     "name": "stdout",
     "output_type": "stream",
     "text": [
      "evaluation_metrics\n"
     ]
    }
   ],
   "source": [
    "for put in pipeline_task_details[0].outputs:\n",
    "    print(put)\n",
    "    #['outputs']"
   ]
  },
  {
   "cell_type": "code",
   "execution_count": 63,
   "id": "0036d50a-5d01-439b-85dc-a0e760a5ca6e",
   "metadata": {
    "tags": []
   },
   "outputs": [
    {
     "data": {
      "text/plain": [
       "False"
      ]
     },
     "execution_count": 63,
     "metadata": {},
     "output_type": "execute_result"
    }
   ],
   "source": [
    "pipeline_task_details[0].outputs == \"evaluation_metrics\""
   ]
  },
  {
   "cell_type": "code",
   "execution_count": 22,
   "id": "2f808277-2f71-4cd2-8d81-3a25a33c3a5d",
   "metadata": {},
   "outputs": [
    {
     "name": "stdout",
     "output_type": "stream",
     "text": [
      "stage_1_tuning_result_artifact_uri: gs://forecast-refresh-v1-hybrid-vertex-gcs/automl_forecasting_pipeline/tide-twrkflow-eval-v1/run-0216_31_00_023491/934903580331/tide-twrkflow-eval-v1-0216-31-00-023491/automl-forecasting-stage-1-tuner_7922991591873052672/tuning_result_output\n",
      "forecasting_mp_model: <google.cloud.aiplatform.models.Model object at 0x7fe368435c90> \n",
      "resource name: projects/934903580331/locations/us-central1/models/6045359021093814272\n"
     ]
    }
   ],
   "source": [
    "stage_1_tuner_task = helpers.get_task_detail(\n",
    "    pipeline_task_details, \"automl-forecasting-stage-1-tuner\"\n",
    ")\n",
    "stage_1_tuning_result_artifact_uri = (\n",
    "    stage_1_tuner_task.outputs[\"tuning_result_output\"].artifacts[0].uri\n",
    ")\n",
    "print(f\"stage_1_tuning_result_artifact_uri: {stage_1_tuning_result_artifact_uri}\")\n",
    "\n",
    "# get uploaded model\n",
    "upload_model_task = helpers.get_task_detail(\n",
    "    pipeline_task_details, \"model-upload-2\"\n",
    ")\n",
    "\n",
    "forecasting_mp_model_artifact = (\n",
    "    upload_model_task.outputs[\"model\"].artifacts[0]\n",
    ")\n",
    "\n",
    "forecasting_mp_model = aiplatform.Model(forecasting_mp_model_artifact.metadata['resourceName'])\n",
    "print(f\"forecasting_mp_model: {forecasting_mp_model}\")"
   ]
  },
  {
   "cell_type": "code",
   "execution_count": 64,
   "id": "de881e8c-c578-4b44-8aeb-8e6d903f90c7",
   "metadata": {
    "tags": []
   },
   "outputs": [
    {
     "data": {
      "text/plain": [
       "<google.cloud.aiplatform.models.Model object at 0x7fe368435c90> \n",
       "resource name: projects/934903580331/locations/us-central1/models/6045359021093814272"
      ]
     },
     "execution_count": 64,
     "metadata": {},
     "output_type": "execute_result"
    }
   ],
   "source": [
    "forecasting_mp_model"
   ]
  },
  {
   "cell_type": "markdown",
   "id": "f4d93595-a1cb-4d14-9c8e-749de2eeed07",
   "metadata": {},
   "source": [
    "### Model Evaluations"
   ]
  },
  {
   "cell_type": "code",
   "execution_count": 23,
   "id": "81e85a50-7c05-44f2-a6e4-650d9c74edf2",
   "metadata": {
    "tags": []
   },
   "outputs": [
    {
     "name": "stdout",
     "output_type": "stream",
     "text": [
      "{'createTime': '2024-01-02T18:02:35.473399Z',\n",
      " 'displayName': 'Vertex Forecasting pipeline',\n",
      " 'metadata': {'evaluation_dataset_path': ['bq://hybrid-vertex.vertex_feature_transform_engine_staging_us.vertex_ai_fte_split_output_test_staging_ida7e27b170ff745988461a32b7dbde998'],\n",
      "              'evaluation_dataset_type': 'bigquery',\n",
      "              'pipeline_job_id': '2379523757292126208',\n",
      "              'pipeline_job_resource_name': 'projects/934903580331/locations/us-central1/pipelineJobs/tide-twrkflow-eval-v1-0216-31-00-023491'},\n",
      " 'metrics': {'meanAbsoluteError': 8433.899,\n",
      "             'meanAbsolutePercentageError': 98.310875,\n",
      "             'rSquared': 0.019479696,\n",
      "             'rootMeanSquaredError': 15775.902,\n",
      "             'rootMeanSquaredLogError': 5.336631,\n",
      "             'rootMeanSquaredPercentageError': 98.75063,\n",
      "             'weightedAbsolutePercentageError': 99.72643},\n",
      " 'metricsSchemaUri': 'gs://google-cloud-aiplatform/schema/modelevaluation/forecasting_metrics_1.0.0.yaml',\n",
      " 'modelExplanation': {'meanAttributions': [{'featureAttributions': {'city': 3.9578097206281386,\n",
      "                                                                    'county': 2.0883281926448847,\n",
      "                                                                    'date': 6.093555211050386,\n",
      "                                                                    'sale_dollars': 3.6720201551833362,\n",
      "                                                                    'zip_code': 0.9859963317415619}}]},\n",
      " 'name': 'projects/934903580331/locations/us-central1/models/6045359021093814272@1/evaluations/6335500697156225635'}\n"
     ]
    }
   ],
   "source": [
    "if RUN_EVALUATION:\n",
    "    forecast_EVALS = forecasting_mp_model.list_model_evaluations()\n",
    "\n",
    "    for model_evaluation in forecast_EVALS:\n",
    "        pprint(model_evaluation.to_dict())\n",
    "        \n",
    "else:\n",
    "    print(f\"Model evaluations were set to: {RUN_EVALUATION}\")"
   ]
  },
  {
   "cell_type": "code",
   "execution_count": 24,
   "id": "bbea4232-0aa8-4056-8671-0911e9bec5bd",
   "metadata": {},
   "outputs": [
    {
     "name": "stdout",
     "output_type": "stream",
     "text": [
      "Model's evaluation metrics from training:\n",
      "\n",
      "metric: meanAbsolutePercentageError, value: 98.310875\n",
      "\n",
      "metric: rSquared, value: 0.019479696\n",
      "\n",
      "metric: weightedAbsolutePercentageError, value: 99.72643\n",
      "\n",
      "metric: rootMeanSquaredError, value: 15775.902\n",
      "\n",
      "metric: rootMeanSquaredPercentageError, value: 98.75063\n",
      "\n",
      "metric: meanAbsoluteError, value: 8433.899\n",
      "\n",
      "metric: rootMeanSquaredLogError, value: 5.336631\n",
      "\n"
     ]
    }
   ],
   "source": [
    "if RUN_EVALUATION:\n",
    "    # Get evaluations\n",
    "    model_evaluations = forecasting_mp_model.list_model_evaluations()\n",
    "\n",
    "    # Print the evaluation metrics\n",
    "    for evaluation in model_evaluations:\n",
    "        evaluation = evaluation.to_dict()\n",
    "        print(\"Model's evaluation metrics from training:\\n\")\n",
    "        metrics = evaluation[\"metrics\"]\n",
    "        for metric in metrics.keys():\n",
    "            print(f\"metric: {metric}, value: {metrics[metric]}\\n\")"
   ]
  },
  {
   "cell_type": "code",
   "execution_count": 40,
   "id": "b2aa8dfd-f082-4ba6-97f2-e704134a443d",
   "metadata": {
    "tags": []
   },
   "outputs": [
    {
     "data": {
      "text/plain": [
       "{'weightedAbsolutePercentageError': 99.77842,\n",
       " 'rSquared': 0.0033285806,\n",
       " 'rootMeanSquaredPercentageError': 98.67152,\n",
       " 'rootMeanSquaredError': 15777.557,\n",
       " 'meanAbsolutePercentageError': 98.48151,\n",
       " 'rootMeanSquaredLogError': 5.496845,\n",
       " 'meanAbsoluteError': 8438.295}"
      ]
     },
     "execution_count": 40,
     "metadata": {},
     "output_type": "execute_result"
    }
   ],
   "source": [
    "metrics"
   ]
  },
  {
   "cell_type": "markdown",
   "id": "2ba1b3b3-bfb8-472a-96d9-f071640280f5",
   "metadata": {},
   "source": [
    "## (2) TiDE - skip architecture search\n",
    "\n",
    "Instead of doing architecture search everytime, we can reuse the existing architecture search result. This could help:\n",
    "1. reducing the variation of the output model\n",
    "2. reducing training cost\n",
    "\n",
    "The existing architecture search result is stored in the `tuning_result_output` output of the `automl-forecasting-stage-1-tuner` component. You can manually input it or get it programmatically.\n",
    "\n",
    "**(Optional)  Parameter(s)**\n",
    "* `stage_1_tuning_result_artifact_uri` (str): URI of the hyperparameter tuning result from a previous pipeline run.\n",
    "* `stage_1_tuner_worker_pool_specs_override` (str): Configures number and type of machines for training"
   ]
  },
  {
   "cell_type": "code",
   "execution_count": 26,
   "id": "a39f117e-ae1f-4a0d-b9cf-bef34759b70c",
   "metadata": {
    "tags": []
   },
   "outputs": [
    {
     "name": "stdout",
     "output_type": "stream",
     "text": [
      "JOB_ID: skip-arch-tide-twrkflow-eval-v1-0218-06-46-910402\n",
      "ROOT_DIR: gs://forecast-refresh-v1-hybrid-vertex-gcs/automl_forecasting_pipeline/tide-twrkflow-eval-v1/run-0218_06_46_910402\n",
      "<google.cloud.aiplatform.models.Model object at 0x7fe368435c90> \n",
      "resource name: projects/934903580331/locations/us-central1/models/6045359021093814272\n",
      "gs://forecast-refresh-v1-hybrid-vertex-gcs/automl_forecasting_pipeline/tide-twrkflow-eval-v1/run-0216_31_00_023491/934903580331/tide-twrkflow-eval-v1-0216-31-00-023491/automl-forecasting-stage-1-tuner_7922991591873052672/tuning_result_output\n"
     ]
    }
   ],
   "source": [
    "NOW      = datetime.datetime.now().strftime(\"%d %H:%M:%S.%f\").replace(\" \",\"\").replace(\":\",\"_\").replace(\".\",\"_\")\n",
    "ROOT_DIR = f\"{BUCKET_URI}/automl_forecasting_pipeline/{EXPERIMENT_NAME}/run-{NOW}\"\n",
    "\n",
    "JOB_ID   = f\"skip-arch-{EXPERIMENT_NAME}-{NOW}\".replace(\"_\",\"-\")\n",
    "\n",
    "print(f\"JOB_ID: {JOB_ID}\")\n",
    "print(f\"ROOT_DIR: {ROOT_DIR}\")\n",
    "\n",
    "print(forecasting_mp_model)\n",
    "print(stage_1_tuning_result_artifact_uri)"
   ]
  },
  {
   "cell_type": "code",
   "execution_count": 36,
   "id": "d33650ae-2d57-4e52-8f5f-1bcdf0fc2593",
   "metadata": {
    "tags": []
   },
   "outputs": [],
   "source": [
    "worker_pool_specs_override = [\n",
    "  {\n",
    "      \"machine_spec\": {\n",
    "          \"machine_type\": \"n1-standard-8\"\n",
    "      }\n",
    "  }, # override for TF chief node\n",
    "  {},  # override for TF worker node, since it's not used, leave it empty\n",
    "  {},  # override for TF ps node, since it's not used, leave it empty\n",
    "  {\n",
    "    \"machine_spec\": {\n",
    "        \"machine_type\": \"n1-standard-4\" # override for TF evaluator node\n",
    "    }\n",
    "  }\n",
    "]"
   ]
  },
  {
   "cell_type": "code",
   "execution_count": 27,
   "id": "fa79df78-efbd-4e4c-b412-35e246ee6b7b",
   "metadata": {
    "tags": []
   },
   "outputs": [
    {
     "name": "stdout",
     "output_type": "stream",
     "text": [
      "Creating PipelineJob\n",
      "PipelineJob created. Resource name: projects/934903580331/locations/us-central1/pipelineJobs/skip-arch-tide-twrkflow-eval-v1-0218-06-46-910402\n",
      "To use this PipelineJob in another session:\n",
      "pipeline_job = aiplatform.PipelineJob.get('projects/934903580331/locations/us-central1/pipelineJobs/skip-arch-tide-twrkflow-eval-v1-0218-06-46-910402')\n",
      "View Pipeline Job:\n",
      "https://console.cloud.google.com/vertex-ai/locations/us-central1/pipelines/runs/skip-arch-tide-twrkflow-eval-v1-0218-06-46-910402?project=934903580331\n",
      "Associating projects/934903580331/locations/us-central1/pipelineJobs/skip-arch-tide-twrkflow-eval-v1-0218-06-46-910402 to Experiment: tide-twrkflow-eval-v1\n"
     ]
    }
   ],
   "source": [
    "# Number of weak models in the final ensemble model.\n",
    "num_selected_trials = 5\n",
    "\n",
    "train_budget_milli_node_hours = 250  # 15 minutes\n",
    "\n",
    "(\n",
    "    template_path,\n",
    "    parameter_values,\n",
    ") = automl_forecasting_utils.get_time_series_dense_encoder_forecasting_pipeline_and_parameters(\n",
    "    project=PROJECT_ID,\n",
    "    location=REGION,\n",
    "    root_dir=ROOT_DIR,\n",
    "    target_column=target_column,\n",
    "    optimization_objective=optimization_objective,\n",
    "    transformations=transformations,\n",
    "    train_budget_milli_node_hours=train_budget_milli_node_hours,\n",
    "    data_source_csv_filenames=data_source_csv_filenames,\n",
    "    data_source_bigquery_table_path=data_source_bigquery_table_path,\n",
    "    weight_column=weight_column,\n",
    "    predefined_split_key=predefined_split_key,\n",
    "    training_fraction=training_fraction,\n",
    "    validation_fraction=validation_fraction,\n",
    "    test_fraction=test_fraction,\n",
    "    num_selected_trials=num_selected_trials,\n",
    "    time_column=time_column,\n",
    "    time_series_identifier_columns=[time_series_identifier_column],\n",
    "    time_series_attribute_columns=time_series_attribute_columns,\n",
    "    available_at_forecast_columns=available_at_forecast_columns,\n",
    "    unavailable_at_forecast_columns=unavailable_at_forecast_columns,\n",
    "    forecast_horizon=forecast_horizon,\n",
    "    context_window=context_window,\n",
    "    dataflow_subnetwork=dataflow_subnetwork,\n",
    "    dataflow_use_public_ips=dataflow_use_public_ips,\n",
    "    stage_1_tuning_result_artifact_uri=stage_1_tuning_result_artifact_uri,\n",
    "    # stage_1_tuner_worker_pool_specs_override=worker_pool_specs_override,\n",
    "    # stage_2_trainer_worker_pool_specs_override=worker_pool_specs_override,\n",
    "    run_evaluation=RUN_EVALUATION,\n",
    "    evaluated_examples_bigquery_path=f'bq://{PROJECT_ID}.{BIGQUERY_DATASET_NAME}',\n",
    "    enable_probabilistic_inference=PROBABILISTIC_INFER,\n",
    "    # holiday_regions=['US','AE'],\n",
    ")\n",
    "\n",
    "# job_id = \"tide-forecasting-skip-architecture-search-{}\".format(uuid.uuid4())\n",
    "job = aiplatform.PipelineJob(\n",
    "    display_name=JOB_ID,\n",
    "    location=REGION,  # launches the pipeline job in the specified region\n",
    "    template_path=template_path,\n",
    "    job_id=JOB_ID,\n",
    "    pipeline_root=ROOT_DIR,\n",
    "    parameter_values=parameter_values,\n",
    "    enable_caching=False,\n",
    "    # Uncomment the following line if you want to use Vertex managed dataset.\n",
    "    # input_artifacts={'vertex_dataset': vertex_dataset_artifact_id},\n",
    ")\n",
    "\n",
    "job.submit(\n",
    "    experiment=EXPERIMENT_NAME,\n",
    "    # sync=False,\n",
    "    service_account=VERTEX_SA,\n",
    ")"
   ]
  },
  {
   "cell_type": "code",
   "execution_count": 29,
   "id": "8fff9ed2-1ea5-433c-a20f-d3c5b0bdd7ab",
   "metadata": {
    "tags": []
   },
   "outputs": [
    {
     "name": "stdout",
     "output_type": "stream",
     "text": [
      "string-not-empty\n",
      "model-evaluation-forecasting\n",
      "importer\n",
      "calculate-training-parameters\n",
      "condition-2\n",
      "finalize-eval-quantile-parameters\n",
      "automl-forecasting-ensemble\n",
      "table-to-uri\n",
      "exit-handler-1\n",
      "get-or-create-model-description\n",
      "feature-transform-engine\n",
      "skip-arch-tide-twrkflow-eval-v1-0218-06-46-910402\n",
      "model-batch-explanation\n",
      "split-materialized-data\n",
      "model-batch-predict\n",
      "get-prediction-image-uri\n",
      "automl-forecasting-stage-2-tuner\n",
      "feature-attribution\n",
      "set-optional-inputs\n",
      "training-configurator-and-validator\n",
      "model-evaluation-import\n",
      "automl-tabular-finalizer\n",
      "model-upload\n",
      "condition-3\n",
      "condition-4\n",
      "get-predictions-column\n"
     ]
    }
   ],
   "source": [
    "skip_arch_search_pipeline_task_details = job.task_details\n",
    "\n",
    "for task_deets in skip_arch_search_pipeline_task_details:\n",
    "    print(task_deets.task_name)"
   ]
  },
  {
   "cell_type": "markdown",
   "id": "84540b6f-a2fd-4589-b409-10e93f63fc8a",
   "metadata": {},
   "source": [
    "### Get trained model"
   ]
  },
  {
   "cell_type": "code",
   "execution_count": 31,
   "id": "b5210e0f-a5eb-40f1-8d46-bc018c99dd5b",
   "metadata": {},
   "outputs": [
    {
     "name": "stdout",
     "output_type": "stream",
     "text": [
      "stage-2 result URI     : \n",
      "gs://forecast-refresh-v1-hybrid-vertex-gcs/automl_forecasting_pipeline/tide-twrkflow-eval-v1/run-0218_06_46_910402/934903580331/skip-arch-tide-twrkflow-eval-v1-0218-06-46-910402/automl-forecasting-stage-2-tuner_3380548417716486144/tuning_result_output\n",
      "\n"
     ]
    }
   ],
   "source": [
    "# get tuning stage task\n",
    "stage_2_tuner_task = helpers.get_task_detail(\n",
    "    skip_arch_search_pipeline_task_details, \"automl-forecasting-stage-2-tuner\"\n",
    ")\n",
    "stage_2_tuning_result_artifact_uri = stage_2_tuner_task.outputs[\"tuning_result_output\"].artifacts[0].uri\n",
    "print(f\"stage-2 result URI     : \\n{stage_2_tuning_result_artifact_uri}\\n\")"
   ]
  },
  {
   "cell_type": "code",
   "execution_count": 32,
   "id": "13470121-cd4a-4fe3-ae56-5b5002d1b5b3",
   "metadata": {
    "tags": []
   },
   "outputs": [
    {
     "name": "stdout",
     "output_type": "stream",
     "text": [
      "forecasting_mp_model_v2 : \n",
      "<google.cloud.aiplatform.models.Model object at 0x7fe368423730> \n",
      "resource name: projects/934903580331/locations/us-central1/models/8995216777021489152\n"
     ]
    }
   ],
   "source": [
    "# get uploaded model\n",
    "upload_model_task_v2 = helpers.get_task_detail(\n",
    "    skip_arch_search_pipeline_task_details, \"model-upload\"\n",
    ")\n",
    "forecasting_mp_model_v2_artifact = upload_model_task_v2.outputs[\"model\"].artifacts[0]\n",
    "\n",
    "forecasting_mp_model_v2 = aiplatform.Model(forecasting_mp_model_v2_artifact.metadata['resourceName'])\n",
    "\n",
    "print(f\"forecasting_mp_model_v2 : \\n{forecasting_mp_model_v2}\")"
   ]
  },
  {
   "cell_type": "code",
   "execution_count": 33,
   "id": "91eb65ae-00d3-4253-a1a6-e64c8b0e43cb",
   "metadata": {
    "tags": []
   },
   "outputs": [
    {
     "name": "stdout",
     "output_type": "stream",
     "text": [
      "stage_2_parallel_trials  : 35.0\n",
      "stage_2_worker_pool_spec : []\n"
     ]
    }
   ],
   "source": [
    "# get values for stage-2 trials\n",
    "for task_deets in skip_arch_search_pipeline_task_details:\n",
    "    if task_deets.task_name == f\"{JOB_ID}\":\n",
    "        # break\n",
    "        stage_2_parallel_trials = task_deets.execution.metadata.get(key=\"input:stage_2_num_parallel_trials\")\n",
    "        stage_2_worker_pool_spec = task_deets.execution.metadata.get(key=\"input:stage_2_trainer_worker_pool_specs_override\")\n",
    "    \n",
    "print(f\"stage_2_parallel_trials  : {stage_2_parallel_trials}\")\n",
    "print(f\"stage_2_worker_pool_spec : {stage_2_worker_pool_spec}\")"
   ]
  },
  {
   "cell_type": "markdown",
   "id": "ebf3b980-d104-4117-b762-f5a8ba77a88a",
   "metadata": {},
   "source": [
    "### Model Evaluations"
   ]
  },
  {
   "cell_type": "code",
   "execution_count": 34,
   "id": "4c5b49fd-7a9b-4294-965d-1b2c30c2ead6",
   "metadata": {
    "tags": []
   },
   "outputs": [
    {
     "name": "stdout",
     "output_type": "stream",
     "text": [
      "{'createTime': '2024-01-02T19:22:27.042018Z',\n",
      " 'displayName': 'Vertex Forecasting pipeline',\n",
      " 'metadata': {'evaluation_dataset_path': ['bq://hybrid-vertex.vertex_feature_transform_engine_staging_us.vertex_ai_fte_split_output_test_staging_id60fc0696a7344a6f8ccc674c5611627f'],\n",
      "              'evaluation_dataset_type': 'bigquery',\n",
      "              'pipeline_job_id': '8371844536485281792',\n",
      "              'pipeline_job_resource_name': 'projects/934903580331/locations/us-central1/pipelineJobs/skip-arch-tide-twrkflow-eval-v1-0218-06-46-910402'},\n",
      " 'metrics': {'meanAbsoluteError': 8438.295,\n",
      "             'meanAbsolutePercentageError': 98.48151,\n",
      "             'rSquared': 0.0033285806,\n",
      "             'rootMeanSquaredError': 15777.557,\n",
      "             'rootMeanSquaredLogError': 5.496845,\n",
      "             'rootMeanSquaredPercentageError': 98.67152,\n",
      "             'weightedAbsolutePercentageError': 99.77842},\n",
      " 'metricsSchemaUri': 'gs://google-cloud-aiplatform/schema/modelevaluation/forecasting_metrics_1.0.0.yaml',\n",
      " 'modelExplanation': {'meanAttributions': [{'featureAttributions': {'city': 1.4913445502896856,\n",
      "                                                                    'county': 0.5130815457694142,\n",
      "                                                                    'date': 1.7321908015239096,\n",
      "                                                                    'sale_dollars': 3.1215130371383504,\n",
      "                                                                    'zip_code': 0.9994560483135759}}]},\n",
      " 'name': 'projects/934903580331/locations/us-central1/models/8995216777021489152@1/evaluations/6781132595644262446'}\n"
     ]
    }
   ],
   "source": [
    "if RUN_EVALUATION:\n",
    "    forecast_EVALS = forecasting_mp_model_v2.list_model_evaluations()\n",
    "\n",
    "    for model_evaluation in forecast_EVALS:\n",
    "        pprint(model_evaluation.to_dict())\n",
    "        \n",
    "else:\n",
    "    print(f\"Model evaluations were set to: {RUN_EVALUATION}\")"
   ]
  },
  {
   "cell_type": "code",
   "execution_count": 35,
   "id": "99ee6208-8f50-4bed-b6ea-7df9996637ee",
   "metadata": {
    "tags": []
   },
   "outputs": [
    {
     "name": "stdout",
     "output_type": "stream",
     "text": [
      "Model's evaluation metrics from training:\n",
      "\n",
      "metric: weightedAbsolutePercentageError, value: 99.77842\n",
      "\n",
      "metric: rSquared, value: 0.0033285806\n",
      "\n",
      "metric: rootMeanSquaredPercentageError, value: 98.67152\n",
      "\n",
      "metric: rootMeanSquaredError, value: 15777.557\n",
      "\n",
      "metric: meanAbsolutePercentageError, value: 98.48151\n",
      "\n",
      "metric: rootMeanSquaredLogError, value: 5.496845\n",
      "\n",
      "metric: meanAbsoluteError, value: 8438.295\n",
      "\n"
     ]
    }
   ],
   "source": [
    "if RUN_EVALUATION:\n",
    "    # Get evaluations\n",
    "    model_evaluations = forecasting_mp_model_v2.list_model_evaluations()\n",
    "\n",
    "    # Print the evaluation metrics\n",
    "    for evaluation in model_evaluations:\n",
    "        evaluation = evaluation.to_dict()\n",
    "        print(\"Model's evaluation metrics from training:\\n\")\n",
    "        metrics = evaluation[\"metrics\"]\n",
    "        for metric in metrics.keys():\n",
    "            print(f\"metric: {metric}, value: {metrics[metric]}\\n\")"
   ]
  },
  {
   "cell_type": "markdown",
   "id": "0221c0e7-a2a7-4e57-a76e-261fdd627443",
   "metadata": {},
   "source": [
    "**Finished**"
   ]
  }
 ],
 "metadata": {
  "environment": {
   "kernel": "python3",
   "name": "tf2-cpu.2-11.m114",
   "type": "gcloud",
   "uri": "gcr.io/deeplearning-platform-release/tf2-cpu.2-11:m114"
  },
  "kernelspec": {
   "display_name": "Python 3",
   "language": "python",
   "name": "python3"
  },
  "language_info": {
   "codemirror_mode": {
    "name": "ipython",
    "version": 3
   },
   "file_extension": ".py",
   "mimetype": "text/x-python",
   "name": "python",
   "nbconvert_exporter": "python",
   "pygments_lexer": "ipython3",
   "version": "3.10.13"
  }
 },
 "nbformat": 4,
 "nbformat_minor": 5
}
