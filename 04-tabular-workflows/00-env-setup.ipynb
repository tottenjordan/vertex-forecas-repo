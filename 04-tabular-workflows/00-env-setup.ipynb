{
 "cells": [
  {
   "cell_type": "markdown",
   "id": "24cc29f7-429f-4bfd-b44a-646cbc564adc",
   "metadata": {},
   "source": [
    "# Environment Setup for Forecasting examples"
   ]
  },
  {
   "cell_type": "markdown",
   "id": "7089ca30-a48a-44e3-8795-b85b70bb15e5",
   "metadata": {},
   "source": [
    "**TODO**\n",
    "* finish creating/naming variables from Probailistic Inference notebook (starting from BQ_PRED_TABLE_NAME)"
   ]
  },
  {
   "cell_type": "code",
   "execution_count": null,
   "id": "254e1b9f-ed5d-479b-812b-91e367aaf7bb",
   "metadata": {},
   "outputs": [],
   "source": [
    "# create new BQ datasets and GCS locations?\n",
    "CREATE_NEW_ASSETS = True "
   ]
  },
  {
   "cell_type": "code",
   "execution_count": 2,
   "id": "8e659684-7623-4161-99ac-268d51884d54",
   "metadata": {},
   "outputs": [
    {
     "name": "stdout",
     "output_type": "stream",
     "text": [
      "PREFIX = gcp-forecast-v1\n"
     ]
    }
   ],
   "source": [
    "# naming convention for all cloud resources\n",
    "VERSION        = \"v1\"              # TODO\n",
    "PREFIX         = f'forecast-refresh-{VERSION}'   # TODO\n",
    "\n",
    "print(f\"PREFIX = {PREFIX}\")"
   ]
  },
  {
   "cell_type": "code",
   "execution_count": 3,
   "id": "b01df98f-42bc-4d1d-a6a7-80c86bec618b",
   "metadata": {},
   "outputs": [
    {
     "name": "stdout",
     "output_type": "stream",
     "text": [
      "PROJECT_ID       = hybrid-vertex\n",
      "PROJECT_NUM      = 934903580331\n",
      "VPC_NETWORK_NAME = ucaip-haystack-vpc-network\n",
      "LOCATION         = us-central1\n",
      "REGION           = us-central1\n",
      "BQ_LOCATION      = US\n"
     ]
    }
   ],
   "source": [
    "# creds, PROJECT_ID = google.auth.default()\n",
    "GCP_PROJECTS             = !gcloud config get-value project\n",
    "PROJECT_ID               = GCP_PROJECTS[0]\n",
    "\n",
    "PROJECT_NUM              = !gcloud projects describe $PROJECT_ID --format=\"value(projectNumber)\"\n",
    "PROJECT_NUM              = PROJECT_NUM[0]\n",
    "\n",
    "VERTEX_SA                = f'{PROJECT_NUM}-compute@developer.gserviceaccount.com'\n",
    "\n",
    "VPC_NETWORK_NAME         = \"ucaip-haystack-vpc-network\"\n",
    "\n",
    "# locations / regions for cloud resources\n",
    "LOCATION                 = 'us-central1'        \n",
    "REGION                   = LOCATION\n",
    "BQ_LOCATION              = 'US'\n",
    "\n",
    "print(f\"PROJECT_ID       = {PROJECT_ID}\")\n",
    "print(f\"PROJECT_NUM      = {PROJECT_NUM}\")\n",
    "print(f\"VPC_NETWORK_NAME = {VPC_NETWORK_NAME}\")\n",
    "print(f\"LOCATION         = {LOCATION}\")\n",
    "print(f\"REGION           = {REGION}\")\n",
    "print(f\"BQ_LOCATION      = {BQ_LOCATION}\")"
   ]
  },
  {
   "cell_type": "code",
   "execution_count": 6,
   "id": "55ee0baa-fe60-4100-b6f6-0c8734a6dbe0",
   "metadata": {},
   "outputs": [
    {
     "name": "stdout",
     "output_type": "stream",
     "text": [
      "BUCKET_NAME          : gcp-forecast-v1-hybrid-vertex-bucket\n",
      "BUCKET_URI           : gs://gcp-forecast-v1-hybrid-vertex-bucket\n",
      "DATA_GCS_PREFIX      : data\n",
      "DATA_PATH            : gs://gcp-forecast-v1-hybrid-vertex-bucket/data\n",
      "VPC_NETWORK_FULL     : projects/934903580331/global/networks/ucaip-haystack-vpc-network\n"
     ]
    }
   ],
   "source": [
    "# GCS bucket and paths\n",
    "BUCKET_NAME              = f'{PREFIX}-{PROJECT_ID}-gcs'\n",
    "BUCKET_URI               = f'gs://{BUCKET_NAME}'\n",
    "\n",
    "# Location to write TF-Records for MovieLens 100K dataset\n",
    "DATA_GCS_PREFIX          = \"data\"\n",
    "DATA_PATH                = f\"{BUCKET_URI}/{DATA_GCS_PREFIX}\"\n",
    "\n",
    "VPC_NETWORK_FULL         = f\"projects/{PROJECT_NUM}/global/networks/{VPC_NETWORK_NAME}\"\n",
    "\n",
    "print(f\"BUCKET_NAME              : {BUCKET_NAME}\")\n",
    "print(f\"BUCKET_URI               : {BUCKET_URI}\")\n",
    "\n",
    "print(f\"DATA_GCS_PREFIX          : {DATA_GCS_PREFIX}\")\n",
    "print(f\"DATA_PATH                : {DATA_PATH}\")\n",
    "\n",
    "print(f\"VPC_NETWORK_FULL         : {VPC_NETWORK_FULL}\")"
   ]
  },
  {
   "cell_type": "markdown",
   "id": "38bf07a7-ac63-4485-9f54-fd2b5c31f15c",
   "metadata": {},
   "source": [
    "### Create Google Cloud storage bucket"
   ]
  },
  {
   "cell_type": "code",
   "execution_count": 7,
   "id": "7c6430ec-93b2-4478-aae9-4e84d215a580",
   "metadata": {},
   "outputs": [
    {
     "name": "stdout",
     "output_type": "stream",
     "text": [
      "Creating gs://gcp-forecast-v1-hybrid-vertex-bucket/...\n"
     ]
    }
   ],
   "source": [
    "if CREATE_NEW_ASSETS:\n",
    "    # create bucket\n",
    "    ! gsutil mb -l $REGION $BUCKET_URI"
   ]
  },
  {
   "cell_type": "code",
   "execution_count": 12,
   "id": "08e09573-cc9d-4afa-b13c-653b78b0cbb9",
   "metadata": {},
   "outputs": [],
   "source": [
    "if CREATE_NEW_ASSETS:\n",
    "    ! gsutil iam ch serviceAccount:{$VERTEX_SA}:roles/storage.objects.get $BUCKET_NAME\n",
    "    ! gsutil iam ch serviceAccount:{$VERTEX_SA}:roles/storage.objects.get $BUCKET_NAME"
   ]
  },
  {
   "cell_type": "code",
   "execution_count": 13,
   "id": "26d0ae72-9e4c-4e2e-aeb6-272d54bdb1b9",
   "metadata": {},
   "outputs": [],
   "source": [
    "! gsutil ls $BUCKET_URI"
   ]
  },
  {
   "cell_type": "markdown",
   "id": "e628d66b-4614-44c5-8cf4-21060b826f10",
   "metadata": {},
   "source": [
    "## Save Notebook Configuration Data\n",
    "\n",
    "> Avoids having to re-enter these across notebooks..."
   ]
  },
  {
   "cell_type": "code",
   "execution_count": 14,
   "id": "9a99513d-9cab-410d-afc8-8b7e1f91f7c5",
   "metadata": {},
   "outputs": [
    {
     "name": "stdout",
     "output_type": "stream",
     "text": [
      "\n",
      "PROJECT_ID               = \"hybrid-vertex\"\n",
      "PROJECT_NUM              = \"934903580331\"\n",
      "LOCATION                 = \"us-central1\"\n",
      "\n",
      "REGION                   = \"us-central1\"\n",
      "BQ_LOCATION              = \"US\"\n",
      "VPC_NETWORK_NAME         = \"ucaip-haystack-vpc-network\"\n",
      "\n",
      "VERTEX_SA                = \"934903580331-compute@developer.gserviceaccount.com\"\n",
      "\n",
      "PREFIX                   = \"gcp-forecast-v1\"\n",
      "VERSION                  = \"v1\"\n",
      "\n",
      "BUCKET_NAME              = \"gcp-forecast-v1-hybrid-vertex-bucket\"\n",
      "BUCKET_URI               = \"gs://gcp-forecast-v1-hybrid-vertex-bucket\"\n",
      "\n",
      "DATA_GCS_PREFIX          = \"data\"\n",
      "DATA_PATH                = \"gs://gcp-forecast-v1-hybrid-vertex-bucket/data\"\n",
      "\n",
      "\n",
      "VPC_NETWORK_FULL         = \"projects/934903580331/global/networks/ucaip-haystack-vpc-network\"\n",
      "\n"
     ]
    }
   ],
   "source": [
    "config = f\"\"\"\n",
    "PROJECT_ID               = \\\"{PROJECT_ID}\\\"\n",
    "PROJECT_NUM              = \\\"{PROJECT_NUM}\\\"\n",
    "LOCATION                 = \\\"{LOCATION}\\\"\n",
    "\n",
    "REGION                   = \\\"{REGION}\\\"\n",
    "BQ_LOCATION              = \\\"{BQ_LOCATION}\\\"\n",
    "VPC_NETWORK_NAME         = \\\"{VPC_NETWORK_NAME}\\\"\n",
    "\n",
    "VERTEX_SA                = \\\"{VERTEX_SA}\\\"\n",
    "\n",
    "PREFIX                   = \\\"{PREFIX}\\\"\n",
    "VERSION                  = \\\"{VERSION}\\\"\n",
    "\n",
    "BUCKET_NAME              = \\\"{BUCKET_NAME}\\\"\n",
    "BUCKET_URI               = \\\"{BUCKET_URI}\\\"\n",
    "\n",
    "DATA_GCS_PREFIX          = \\\"{DATA_GCS_PREFIX}\\\"\n",
    "DATA_PATH                = \\\"{DATA_PATH}\\\"\n",
    "\n",
    "VPC_NETWORK_FULL         = \\\"{VPC_NETWORK_FULL}\\\"\n",
    "\"\"\"\n",
    "print(config)"
   ]
  },
  {
   "cell_type": "code",
   "execution_count": 15,
   "id": "cb1943a9-e5f0-4dcf-89f4-a14f7b1862a2",
   "metadata": {},
   "outputs": [
    {
     "name": "stdout",
     "output_type": "stream",
     "text": [
      "Copying from <STDIN>...\n",
      "/ [1 files][    0.0 B/    0.0 B]                                                \n",
      "Operation completed over 1 objects.                                              \n"
     ]
    }
   ],
   "source": [
    "!echo '{config}' | gsutil cp - {BUCKET_URI}/config/notebook_env.py"
   ]
  },
  {
   "cell_type": "code",
   "execution_count": 16,
   "id": "10f5d9e6-65ab-4539-aa34-7d52bbb0a9da",
   "metadata": {},
   "outputs": [
    {
     "name": "stdout",
     "output_type": "stream",
     "text": [
      "gs://gcp-forecast-v1-hybrid-vertex-bucket/config/\n"
     ]
    }
   ],
   "source": [
    "!gsutil ls $BUCKET_URI"
   ]
  },
  {
   "cell_type": "markdown",
   "id": "97be3101-20f1-4af0-b8ce-85e34e90a18e",
   "metadata": {},
   "source": [
    "### Create BigQuery Dataset"
   ]
  },
  {
   "cell_type": "markdown",
   "id": "21ff79bb-a553-44af-929d-e65f1c85dd84",
   "metadata": {},
   "source": [
    "## gitignore"
   ]
  },
  {
   "cell_type": "code",
   "execution_count": 1,
   "id": "5e9b9fd0-874e-4dbb-91e9-1d0af0cd0fe1",
   "metadata": {},
   "outputs": [
    {
     "name": "stdout",
     "output_type": "stream",
     "text": [
      "Writing .gitignore\n"
     ]
    }
   ],
   "source": [
    "%%writefile .gitignore\n",
    "*.cpython-310.pyc\n",
    "*checkpoint*\n",
    "*.ipynb_checkpoints/*\n",
    "*wip*\n",
    "*archive/*\n",
    "# .gcloudignore\n",
    "# .git\n",
    "# .github\n",
    "# *__pycache__\n",
    "# *cpython-37.pyc\n",
    "# .gitignore\n",
    "# .DS_Store"
   ]
  },
  {
   "cell_type": "markdown",
   "id": "11f4ee7a-bab4-4d10-a4d2-30c6e9d9036a",
   "metadata": {},
   "source": [
    "## gcloudignore"
   ]
  },
  {
   "cell_type": "code",
   "execution_count": null,
   "id": "fe6f32a6-992b-4b73-8ca6-93b7339e0710",
   "metadata": {},
   "outputs": [],
   "source": [
    "# ! gcloud config set gcloudignore/enabled true"
   ]
  },
  {
   "cell_type": "code",
   "execution_count": null,
   "id": "c1bb0757-48b3-4ee6-9ef3-8a2d9ed9bd55",
   "metadata": {},
   "outputs": [],
   "source": [
    "# %%writefile .gcloudignore\n",
    "# .gcloudignore\n",
    "# /WIP/\n",
    "# # /img/\n",
    "# *.pkl\n",
    "# *.png\n",
    "# *.ipynb\n",
    "# .git\n",
    "# .github\n",
    "# .ipynb_checkpoints/*\n",
    "# *__pycache__\n",
    "# *cpython-37.pyc\n",
    "# /hptuning/*\n",
    "# /imgs/*\n",
    "# /00-archived/*\n",
    "# README.md\n",
    "# .gitignore\n",
    "# .DS_Store"
   ]
  },
  {
   "cell_type": "code",
   "execution_count": null,
   "id": "661092ef-6b35-418a-a4cb-5ce6bec5a4ca",
   "metadata": {},
   "outputs": [],
   "source": [
    "# # check eligble files\n",
    "# !gcloud meta list-files-for-upload"
   ]
  },
  {
   "cell_type": "markdown",
   "id": "a86de809-b628-4e23-bc79-c3ffc1833488",
   "metadata": {},
   "source": [
    "**Finished**"
   ]
  },
  {
   "cell_type": "code",
   "execution_count": null,
   "id": "e91e947b-5465-4b53-af9a-3e876d5cbd43",
   "metadata": {},
   "outputs": [],
   "source": []
  }
 ],
 "metadata": {
  "environment": {
   "kernel": "python3",
   "name": "tf2-cpu.2-11.m114",
   "type": "gcloud",
   "uri": "gcr.io/deeplearning-platform-release/tf2-cpu.2-11:m114"
  },
  "kernelspec": {
   "display_name": "Python 3",
   "language": "python",
   "name": "python3"
  },
  "language_info": {
   "codemirror_mode": {
    "name": "ipython",
    "version": 3
   },
   "file_extension": ".py",
   "mimetype": "text/x-python",
   "name": "python",
   "nbconvert_exporter": "python",
   "pygments_lexer": "ipython3",
   "version": "3.10.13"
  }
 },
 "nbformat": 4,
 "nbformat_minor": 5
}
