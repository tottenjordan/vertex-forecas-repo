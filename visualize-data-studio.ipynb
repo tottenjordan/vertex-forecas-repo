{
 "cells": [
  {
   "cell_type": "code",
   "execution_count": null,
   "id": "d3a68f0c-16da-403e-9157-66b688c899e5",
   "metadata": {},
   "outputs": [],
   "source": []
  },
  {
   "cell_type": "code",
   "execution_count": null,
   "id": "bb2a10a9-f1d5-4843-a0a9-48697b5e92ab",
   "metadata": {},
   "outputs": [],
   "source": [
    "import urllib"
   ]
  },
  {
   "cell_type": "code",
   "execution_count": null,
   "id": "8be1dfe1-4cfc-44b1-991f-eae4765f3a5f",
   "metadata": {},
   "outputs": [],
   "source": [
    "def _sanitize_bq_uri(bq_uri):\n",
    "    if bq_uri.startswith(\"bq://\"):\n",
    "        bq_uri = bq_uri[5:]\n",
    "    return bq_uri.replace(\":\", \".\")"
   ]
  },
  {
   "cell_type": "code",
   "execution_count": null,
   "id": "83f7c504-1c63-45aa-99c1-fc7e9a695a5b",
   "metadata": {},
   "outputs": [],
   "source": [
    "def get_data_studio_link(\n",
    "    batch_prediction_bq_input_uri,\n",
    "    batch_prediction_bq_output_uri, \n",
    "    time_column,\n",
    "    time_series_identifier_column, \n",
    "    target_column\n",
    "):\n",
    "    batch_prediction_bq_input_uri = _sanitize_bq_uri(\n",
    "        batch_prediction_bq_input_uri\n",
    "    )\n",
    "    \n",
    "    batch_prediction_bq_output_uri = _sanitize_bq_uri(\n",
    "      batch_prediction_bq_output_uri\n",
    "    )\n",
    "    \n",
    "    base_url = \"https://datastudio.google.com/c/u/0/reporting\"\n",
    "    \n",
    "    query = \"SELECT \\\\n\" \\\n",
    "    \" CAST(input.{} as DATETIME) timestamp_col,\\\\n\" \\\n",
    "    \" CAST(input.{} as STRING) time_series_identifier_col,\\\\n\" \\\n",
    "    \" CAST(input.{} as NUMERIC) historical_values,\\\\n\" \\\n",
    "    \" CAST(predicted_{}.value as NUMERIC) predicted_values,\\\\n\" \\\n",
    "    \" * \\\\n\" \\\n",
    "    \"FROM `{}` input\\\\n\" \\\n",
    "    \"LEFT JOIN `{}` output\\\\n\" \\\n",
    "    \"ON\\\\n\" \\\n",
    "    \"CAST(input.{} as DATETIME) = CAST(output.{} as DATETIME)\\\\n\" \\\n",
    "    \"AND CAST(input.{} as STRING) = CAST(output.{} as STRING)\"\n",
    "    \n",
    "    query = query.format(\n",
    "        time_column, time_series_identifier_column,\n",
    "        target_column, target_column,\n",
    "        batch_prediction_bq_input_uri,\n",
    "        batch_prediction_bq_output_uri, time_column, time_column,\n",
    "        time_series_identifier_column,\n",
    "        time_series_identifier_column\n",
    "    )\n",
    "    \n",
    "    params = {\n",
    "      \"templateId\": \"067f70d2-8cd6-4a4c-a099-292acd1053e8\",\n",
    "      \"ds0.connector\": \"BIG_QUERY\",\n",
    "      \"ds0.projectId\": PROJECT_ID,\n",
    "      \"ds0.billingProjectId\": PROJECT_ID,\n",
    "      \"ds0.type\": \"CUSTOM_QUERY\",\n",
    "      \"ds0.sql\": query\n",
    "    }\n",
    "    \n",
    "    params_str_parts = []\n",
    "    for k, v in params.items():\n",
    "        params_str_parts.append(\"\\\"{}\\\":\\\"{}\\\"\".format(k, v))\n",
    "    params_str = \"\".join([\"{\", \",\".join(params_str_parts), \"}\"])\n",
    "    \n",
    "    return \"{}?{}\".format(\n",
    "        base_url,\n",
    "        urllib.parse.urlencode(\n",
    "            {\"params\": params_str}\n",
    "        )\n",
    "    )\n",
    "\n",
    "\n",
    "print(\n",
    "    get_data_studio_link(\n",
    "        batch_predict_bq_input_uri,\n",
    "        batch_predict_bq_output_uri, time_column,\n",
    "        time_series_identifier_column, target_column\n",
    "    )\n",
    ")"
   ]
  },
  {
   "cell_type": "code",
   "execution_count": null,
   "id": "48c04e91-8312-4a9e-93b2-aafdd85c617c",
   "metadata": {},
   "outputs": [],
   "source": []
  }
 ],
 "metadata": {
  "environment": {
   "kernel": "python3",
   "name": "common-cpu.m103",
   "type": "gcloud",
   "uri": "gcr.io/deeplearning-platform-release/base-cpu:m103"
  },
  "kernelspec": {
   "display_name": "Python 3",
   "language": "python",
   "name": "python3"
  },
  "language_info": {
   "codemirror_mode": {
    "name": "ipython",
    "version": 3
   },
   "file_extension": ".py",
   "mimetype": "text/x-python",
   "name": "python",
   "nbconvert_exporter": "python",
   "pygments_lexer": "ipython3",
   "version": "3.7.12"
  }
 },
 "nbformat": 4,
 "nbformat_minor": 5
}
